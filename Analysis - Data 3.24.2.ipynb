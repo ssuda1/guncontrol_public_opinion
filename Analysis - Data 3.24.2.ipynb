{
 "cells": [
  {
   "cell_type": "code",
   "execution_count": 1,
   "metadata": {},
   "outputs": [],
   "source": [
    "import re\n",
    "import json\n",
    "import pandas as pd\n",
    "import matplotlib.pyplot as plt\n",
    "%matplotlib notebook\n",
    "import numpy as np\n",
    "\n",
    "#create the list of dictinary formatted strings by extracting data item\n",
    "#from twitter API scrape\n",
    "#files = ['twtgun3.24.1.txt', 'twtgun3.24.2.txt','twtgun3.24.3.txt', 'twtgun3.24.4.txt']\n",
    "\n",
    "group = []\n",
    "for i in range(1,11):\n",
    "   \n",
    "    with open('twtgun3.24.' + str(i) + '.txt') as fhand:\n",
    "        for item in fhand:\n",
    "            dic = {}\n",
    "            x = re.findall(\"^{'created_at': \\'(.*?)\\'\", item)\n",
    "            if len(x) > 0:\n",
    "                dic[\"created_at\"] = str(x[0])\n",
    "            else:\n",
    "                dic[\"created_at\"] = None\n",
    "            y = re.findall(\"{'full_text': \\'(.*?)\\'\", item)\n",
    "            if len(y) > 0:\n",
    "                dic[\"full_text\"] = str(y[0])\n",
    "            else:\n",
    "                dic[\"full_text\"] = None\n",
    "            z = re.findall(\" 'text': \\'(.*?)\\'\", item)\n",
    "            if len(z) > 0:\n",
    "                dic[\"text\"] = str(z[0])\n",
    "            else:\n",
    "                dic[\"text\"] = None\n",
    "            a = re.findall(\"\\'location\\': \\'(.*?)\\'\", item)\n",
    "            if len(a) > 0:\n",
    "                dic[\"location\"] = str(a[0])\n",
    "            else:\n",
    "                dic[\"location\"] = None\n",
    "            b = re.findall(\"\\'time_zone\\': \\'(.*?)\\'\", item)\n",
    "            if len(b) > 0:\n",
    "                dic[\"time_zone\"] = str(b[0])\n",
    "            else:\n",
    "                dic[\"time_zone\"] = None\n",
    "            group.append(dic)\n",
    "\n",
    "    fhand.close()\n",
    "\n",
    "#convert the list into json object\n",
    "\n",
    "with open('data.json', 'w') as fp:\n",
    "    json.dump(group, fp)\n",
    "\n",
    "# convert json file into pandas DataFrame\n",
    "df = pd.read_json('data.json')"
   ]
  },
  {
   "cell_type": "code",
   "execution_count": 2,
   "metadata": {},
   "outputs": [],
   "source": [
    "df.sample(5)  # To check the data\n",
    "#df.to_csv('df.csv')"
   ]
  },
  {
   "cell_type": "code",
   "execution_count": 3,
   "metadata": {},
   "outputs": [],
   "source": [
    "df2 = df.reindex(columns = ['created_at','location','time_zone','text','full_text'])\n",
    "pd.options.display.max_rows=10"
   ]
  },
  {
   "cell_type": "code",
   "execution_count": 4,
   "metadata": {},
   "outputs": [],
   "source": [
    "df2['text'] = df2['text'].replace(r'\\\\n', '', regex=True).str.lower()\n",
    "df2['text'] = df2['text'].str.strip()\n",
    "df2['full_text'] = df2['full_text'].replace(r'\\\\n', '', regex=True).str.lower()\n",
    "df2['full_text'] = df2['full_text'].str.strip()"
   ]
  },
  {
   "cell_type": "code",
   "execution_count": 5,
   "metadata": {},
   "outputs": [
    {
     "name": "stdout",
     "output_type": "stream",
     "text": [
      "           created_at                location                   time_zone  \\\n",
      "0                 NaT                     CNY                        None   \n",
      "1 2018-03-24 17:23:06  Bearvana, #OpFuckBaba   Pacific Time (US & Canada)   \n",
      "2 2018-03-24 17:23:06     South West, England                        None   \n",
      "3 2018-03-24 17:23:07                    None                        None   \n",
      "4 2018-03-24 17:23:08            Arizona, USA  Pacific Time (US & Canada)   \n",
      "\n",
      "                                                text  \\\n",
      "0                #guncontrol https://t.co/oc8a0uwgco   \n",
      "1       rt @redpainter1: hey @dloeschhear that? that   \n",
      "2                                                      \n",
      "3  rt @we_patriot: here it is in black and white-...   \n",
      "4  rt @madriannorman: #marchforourlives #2ndamend...   \n",
      "\n",
      "                                           full_text  \n",
      "0                                               None  \n",
      "1                        hey @dloeschhear that? that  \n",
      "2                                               None  \n",
      "3  here it is in black and white-the truth! @potu...  \n",
      "4                                               None  \n"
     ]
    }
   ],
   "source": [
    "print(df2.head())    # To check the data"
   ]
  },
  {
   "cell_type": "code",
   "execution_count": 6,
   "metadata": {},
   "outputs": [],
   "source": [
    "#df2['full_text'].str.findall('\\\\n') just to make sure no data will be found"
   ]
  },
  {
   "cell_type": "code",
   "execution_count": 7,
   "metadata": {},
   "outputs": [],
   "source": [
    "#make copy of df2 and name it df3\n",
    "df3 = df2"
   ]
  },
  {
   "cell_type": "code",
   "execution_count": 8,
   "metadata": {},
   "outputs": [],
   "source": [
    "#Take 'full_text' when available, otherwise take 'text'\n",
    "df3['tweet'] = df3['full_text'].where(pd.notna(df3['full_text']), other = df3['text'])"
   ]
  },
  {
   "cell_type": "code",
   "execution_count": 9,
   "metadata": {},
   "outputs": [
    {
     "data": {
      "text/plain": [
       "3546"
      ]
     },
     "execution_count": 9,
     "metadata": {},
     "output_type": "execute_result"
    }
   ],
   "source": [
    "pd.isna(df3['tweet']).sum()  # Check how many 'tweet' observations are missing"
   ]
  },
  {
   "cell_type": "code",
   "execution_count": 10,
   "metadata": {},
   "outputs": [
    {
     "data": {
      "text/html": [
       "<div>\n",
       "<style scoped>\n",
       "    .dataframe tbody tr th:only-of-type {\n",
       "        vertical-align: middle;\n",
       "    }\n",
       "\n",
       "    .dataframe tbody tr th {\n",
       "        vertical-align: top;\n",
       "    }\n",
       "\n",
       "    .dataframe thead th {\n",
       "        text-align: right;\n",
       "    }\n",
       "</style>\n",
       "<table border=\"1\" class=\"dataframe\">\n",
       "  <thead>\n",
       "    <tr style=\"text-align: right;\">\n",
       "      <th></th>\n",
       "      <th>created_at</th>\n",
       "      <th>location</th>\n",
       "      <th>time_zone</th>\n",
       "      <th>tweet</th>\n",
       "      <th>hashtag</th>\n",
       "    </tr>\n",
       "  </thead>\n",
       "  <tbody>\n",
       "    <tr>\n",
       "      <th>0</th>\n",
       "      <td>NaT</td>\n",
       "      <td>CNY</td>\n",
       "      <td>None</td>\n",
       "      <td>#guncontrol https://t.co/oc8a0uwgco</td>\n",
       "      <td>[#guncontrol ]</td>\n",
       "    </tr>\n",
       "    <tr>\n",
       "      <th>1</th>\n",
       "      <td>2018-03-24 17:23:06</td>\n",
       "      <td>Bearvana, #OpFuckBaba</td>\n",
       "      <td>Pacific Time (US &amp; Canada)</td>\n",
       "      <td>hey @dloeschhear that? that</td>\n",
       "      <td>[]</td>\n",
       "    </tr>\n",
       "    <tr>\n",
       "      <th>2</th>\n",
       "      <td>2018-03-24 17:23:06</td>\n",
       "      <td>South West, England</td>\n",
       "      <td>None</td>\n",
       "      <td></td>\n",
       "      <td>[]</td>\n",
       "    </tr>\n",
       "    <tr>\n",
       "      <th>3</th>\n",
       "      <td>2018-03-24 17:23:07</td>\n",
       "      <td>None</td>\n",
       "      <td>None</td>\n",
       "      <td>here it is in black and white-the truth! @potu...</td>\n",
       "      <td>[#qanon , #internetbillofrights , #guncontrol ...</td>\n",
       "    </tr>\n",
       "    <tr>\n",
       "      <th>4</th>\n",
       "      <td>2018-03-24 17:23:08</td>\n",
       "      <td>Arizona, USA</td>\n",
       "      <td>Pacific Time (US &amp; Canada)</td>\n",
       "      <td>rt @madriannorman: #marchforourlives #2ndamend...</td>\n",
       "      <td>[#marchforourlives , #2ndamendment , #nra , #n...</td>\n",
       "    </tr>\n",
       "    <tr>\n",
       "      <th>...</th>\n",
       "      <td>...</td>\n",
       "      <td>...</td>\n",
       "      <td>...</td>\n",
       "      <td>...</td>\n",
       "      <td>...</td>\n",
       "    </tr>\n",
       "    <tr>\n",
       "      <th>42774</th>\n",
       "      <td>2018-03-25 00:55:06</td>\n",
       "      <td>District 13</td>\n",
       "      <td>Eastern Time (US &amp; Canada)</td>\n",
       "      <td>rt @the____south: we won’t forget you tamir.#t...</td>\n",
       "      <td>[#tamirrice , #marchforourlives , #blacklivesm...</td>\n",
       "    </tr>\n",
       "    <tr>\n",
       "      <th>42775</th>\n",
       "      <td>2018-03-25 00:55:07</td>\n",
       "      <td>Australia</td>\n",
       "      <td>None</td>\n",
       "      <td>dear @davidhogg111, you’re clearly talking to ...</td>\n",
       "      <td>[#guncontrol. ]</td>\n",
       "    </tr>\n",
       "    <tr>\n",
       "      <th>42776</th>\n",
       "      <td>2018-03-25 00:55:07</td>\n",
       "      <td>Oakland, CA</td>\n",
       "      <td>Pacific Time (US &amp; Canada)</td>\n",
       "      <td>@tomilahren hey tomi - we did march for someth...</td>\n",
       "      <td>[#march4ourlives , #gunreform , #enough ]</td>\n",
       "    </tr>\n",
       "    <tr>\n",
       "      <th>42777</th>\n",
       "      <td>2018-03-25 00:55:08</td>\n",
       "      <td>🇺🇸 USA 🇺🇸  🦅🦅🦅🦅</td>\n",
       "      <td>Eastern Time (US &amp; Canada)</td>\n",
       "      <td>keep your friends &amp;amp; family close.keep your...</td>\n",
       "      <td>[#nra#guncontrolpennsylvania , #marchforourliv...</td>\n",
       "    </tr>\n",
       "    <tr>\n",
       "      <th>42778</th>\n",
       "      <td>2018-03-25 00:55:08</td>\n",
       "      <td>Largo Florida</td>\n",
       "      <td>Eastern Time (US &amp; Canada)</td>\n",
       "      <td>https://t.co/io4vgjda3d#enough #walkoutandwalk...</td>\n",
       "      <td>[#enough , #walkoutandwalkup , #marchforourliv...</td>\n",
       "    </tr>\n",
       "  </tbody>\n",
       "</table>\n",
       "<p>42779 rows × 5 columns</p>\n",
       "</div>"
      ],
      "text/plain": [
       "               created_at                location                   time_zone  \\\n",
       "0                     NaT                     CNY                        None   \n",
       "1     2018-03-24 17:23:06  Bearvana, #OpFuckBaba   Pacific Time (US & Canada)   \n",
       "2     2018-03-24 17:23:06     South West, England                        None   \n",
       "3     2018-03-24 17:23:07                    None                        None   \n",
       "4     2018-03-24 17:23:08            Arizona, USA  Pacific Time (US & Canada)   \n",
       "...                   ...                     ...                         ...   \n",
       "42774 2018-03-25 00:55:06             District 13  Eastern Time (US & Canada)   \n",
       "42775 2018-03-25 00:55:07               Australia                        None   \n",
       "42776 2018-03-25 00:55:07             Oakland, CA  Pacific Time (US & Canada)   \n",
       "42777 2018-03-25 00:55:08         🇺🇸 USA 🇺🇸  🦅🦅🦅🦅  Eastern Time (US & Canada)   \n",
       "42778 2018-03-25 00:55:08           Largo Florida  Eastern Time (US & Canada)   \n",
       "\n",
       "                                                   tweet  \\\n",
       "0                    #guncontrol https://t.co/oc8a0uwgco   \n",
       "1                            hey @dloeschhear that? that   \n",
       "2                                                          \n",
       "3      here it is in black and white-the truth! @potu...   \n",
       "4      rt @madriannorman: #marchforourlives #2ndamend...   \n",
       "...                                                  ...   \n",
       "42774  rt @the____south: we won’t forget you tamir.#t...   \n",
       "42775  dear @davidhogg111, you’re clearly talking to ...   \n",
       "42776  @tomilahren hey tomi - we did march for someth...   \n",
       "42777  keep your friends &amp; family close.keep your...   \n",
       "42778  https://t.co/io4vgjda3d#enough #walkoutandwalk...   \n",
       "\n",
       "                                                 hashtag  \n",
       "0                                         [#guncontrol ]  \n",
       "1                                                     []  \n",
       "2                                                     []  \n",
       "3      [#qanon , #internetbillofrights , #guncontrol ...  \n",
       "4      [#marchforourlives , #2ndamendment , #nra , #n...  \n",
       "...                                                  ...  \n",
       "42774  [#tamirrice , #marchforourlives , #blacklivesm...  \n",
       "42775                                    [#guncontrol. ]  \n",
       "42776          [#march4ourlives , #gunreform , #enough ]  \n",
       "42777  [#nra#guncontrolpennsylvania , #marchforourliv...  \n",
       "42778  [#enough , #walkoutandwalkup , #marchforourliv...  \n",
       "\n",
       "[42779 rows x 5 columns]"
      ]
     },
     "execution_count": 10,
     "metadata": {},
     "output_type": "execute_result"
    }
   ],
   "source": [
    "#drop columns 'text' & 'full_text'\n",
    "df3 = df3.drop(['text', 'full_text'], axis=1)\n",
    "#Extract hashtag from 'tweet' and create a new cloumn 'hashtag'\n",
    "df3['hashtag'] = df3['tweet'].str.findall(r'#.*?\\s')  # .findall returns list which causes issues later\n",
    "df3.reindex(columns = ['created_at','location','time_zone','tweet', 'hashtag'])"
   ]
  },
  {
   "cell_type": "code",
   "execution_count": 11,
   "metadata": {},
   "outputs": [
    {
     "name": "stdout",
     "output_type": "stream",
     "text": [
      "               created_at       location                   time_zone  \\\n",
      "31489 2018-03-24 23:13:22           None  Central Time (US & Canada)   \n",
      "11980 2018-03-24 20:55:17  Virginia, USA  Eastern Time (US & Canada)   \n",
      "31117 2018-03-24 23:10:51    New England  Eastern Time (US & Canada)   \n",
      "7122  2018-03-24 20:34:35   Chicago,  Il  Central Time (US & Canada)   \n",
      "17140 2018-03-24 21:25:54           None                        None   \n",
      "\n",
      "                                                   tweet  \\\n",
      "31489                                               None   \n",
      "11980  hey @marcorubio look at what a group of kids d...   \n",
      "31117                                               None   \n",
      "7122   today and every day, listen to young people. #...   \n",
      "17140  so inspired today #marchforourlives     #enoug...   \n",
      "\n",
      "                                                 hashtag  \n",
      "31489                                               None  \n",
      "11980  [#enough , #marchforourlives , #bluewave2018 ,...  \n",
      "31117                                               None  \n",
      "7122                 [#marchforourlives , #guncontrol. ]  \n",
      "17140                     [#marchforourlives , #enough ]  \n"
     ]
    }
   ],
   "source": [
    "#drop rows where all columns are NaN\n",
    "df3 = df3.dropna(how='all')\n",
    "print(df3.sample(5))"
   ]
  },
  {
   "cell_type": "code",
   "execution_count": 12,
   "metadata": {},
   "outputs": [],
   "source": [
    "# Convert'created_at' time data rounding to nearest minute \n",
    "df3['created_at'] = df3['created_at'].apply(lambda x: x.round('min'))"
   ]
  },
  {
   "cell_type": "code",
   "execution_count": 13,
   "metadata": {},
   "outputs": [
    {
     "data": {
      "text/plain": [
       "created_at\n",
       "2018-03-24 17:23:00     32\n",
       "2018-03-24 17:24:00     59\n",
       "2018-03-24 17:25:00     65\n",
       "2018-03-24 17:26:00     82\n",
       "2018-03-24 17:27:00     56\n",
       "                      ... \n",
       "2018-03-25 00:51:00    113\n",
       "2018-03-25 00:52:00    143\n",
       "2018-03-25 00:53:00    117\n",
       "2018-03-25 00:54:00    142\n",
       "2018-03-25 00:55:00     74\n",
       "Name: tweet, Length: 303, dtype: int64"
      ]
     },
     "execution_count": 13,
     "metadata": {},
     "output_type": "execute_result"
    }
   ],
   "source": [
    "# Check how many tweets creatd every minute during the data collection period\n",
    "# At this point I just want to check the time trend of the tweets which can be done without time-zone conversion.\n",
    "df3.groupby('created_at').count()['tweet']"
   ]
  },
  {
   "cell_type": "code",
   "execution_count": 14,
   "metadata": {},
   "outputs": [
    {
     "data": {
      "text/plain": [
       "<matplotlib.axes._subplots.AxesSubplot at 0x11cc404a8>"
      ]
     },
     "execution_count": 14,
     "metadata": {},
     "output_type": "execute_result"
    },
    {
     "data": {
      "image/png": "[encoded data removed]",
      "text/plain": [
       "<Figure size 432x288 with 1 Axes>"
      ]
     },
     "metadata": {},
     "output_type": "display_data"
    }
   ],
   "source": [
    "#UTC is 5 hours earlier than EST. So in the graph below, tweets were peaked around 15:30pm\n",
    "df3.groupby('created_at').count()['tweet'].plot()"
   ]
  },
  {
   "cell_type": "code",
   "execution_count": 15,
   "metadata": {},
   "outputs": [],
   "source": [
    "# As the next step, use regular expression to tokenize tweets\n",
    "emoticons_str = r\"\"\"\n",
    "    (?:\n",
    "        [:=;] # Eyes\n",
    "        [oO\\-]? # Nose (optional)\n",
    "        [D\\)\\]\\(\\]/\\\\OpP] # Mouth\n",
    "    )\"\"\"\n",
    " \n",
    "regex_str = [\n",
    "    emoticons_str,\n",
    "    r'<[^>]+>', # HTML tags\n",
    "    r'(?:@[\\w_]+)', # @-mentions\n",
    "    r\"(?:\\#+[\\w_]+[\\w\\'_\\-]*[\\w_]+)\", # hash-tags\n",
    "    r'http[s]?://(?:[a-z]|[0-9]|[$-_@.&amp;+]|[!*\\(\\),]|(?:%[0-9a-f][0-9a-f]))+', # URLs\n",
    "    r'(?:(?:\\d+,?)+(?:\\.?\\d+)?)', # numbers\n",
    "    r\"(?:[a-z][a-z'\\-_]+[a-z])\", # words with - and '\n",
    "    r'(?:[\\w_]+)', # other words\n",
    "    r'(?:\\S)' # anything else\n",
    "]"
   ]
  },
  {
   "cell_type": "code",
   "execution_count": 16,
   "metadata": {},
   "outputs": [],
   "source": [
    "tokens_re = re.compile(r'('+'|'.join(regex_str)+')', re.VERBOSE | re.IGNORECASE)\n",
    "emoticon_re = re.compile(r'^'+emoticons_str+'$', re.VERBOSE | re.IGNORECASE)\n",
    " \n",
    "def tokenize(s):\n",
    "    return tokens_re.findall(s)\n",
    " \n",
    "def preprocess(s, lowercase=False):\n",
    "    tokens = tokenize(s)\n",
    "    if lowercase:\n",
    "        tokens = [token if emoticon_re.search(token) else token.lower() for token in tokens]\n",
    "    return tokens"
   ]
  },
  {
   "cell_type": "code",
   "execution_count": 17,
   "metadata": {},
   "outputs": [
    {
     "name": "stdout",
     "output_type": "stream",
     "text": [
      "['rt', '@alessiacara', ':', 'https://t.co/sofihs4oru', 'please', 'click', 'and', 'read', 'up', 'on', 'why', 'this', 'is', 'so', 'important', '.', 'i', 'hope', 'you', 'sign', '.', '#marchforourlives', '#guncontr', '…']\n"
     ]
    }
   ],
   "source": [
    "# Test run using only one tweet\n",
    "tweet = df3['tweet'][10]\n",
    "print(preprocess(tweet))   #success!"
   ]
  },
  {
   "cell_type": "code",
   "execution_count": 18,
   "metadata": {},
   "outputs": [
    {
     "data": {
      "text/html": [
       "<div>\n",
       "<style scoped>\n",
       "    .dataframe tbody tr th:only-of-type {\n",
       "        vertical-align: middle;\n",
       "    }\n",
       "\n",
       "    .dataframe tbody tr th {\n",
       "        vertical-align: top;\n",
       "    }\n",
       "\n",
       "    .dataframe thead th {\n",
       "        text-align: right;\n",
       "    }\n",
       "</style>\n",
       "<table border=\"1\" class=\"dataframe\">\n",
       "  <thead>\n",
       "    <tr style=\"text-align: right;\">\n",
       "      <th></th>\n",
       "      <th>created_at</th>\n",
       "      <th>location</th>\n",
       "      <th>time_zone</th>\n",
       "      <th>tweet</th>\n",
       "      <th>hashtag</th>\n",
       "    </tr>\n",
       "  </thead>\n",
       "  <tbody>\n",
       "    <tr>\n",
       "      <th>1</th>\n",
       "      <td>2018-03-24 17:23:00</td>\n",
       "      <td>Bearvana, #OpFuckBaba</td>\n",
       "      <td>Pacific Time (US &amp; Canada)</td>\n",
       "      <td>hey @dloeschhear that? that</td>\n",
       "      <td>[]</td>\n",
       "    </tr>\n",
       "    <tr>\n",
       "      <th>4</th>\n",
       "      <td>2018-03-24 17:23:00</td>\n",
       "      <td>Arizona, USA</td>\n",
       "      <td>Pacific Time (US &amp; Canada)</td>\n",
       "      <td>rt @madriannorman: #marchforourlives #2ndamend...</td>\n",
       "      <td>[#marchforourlives , #2ndamendment , #nra , #n...</td>\n",
       "    </tr>\n",
       "    <tr>\n",
       "      <th>5</th>\n",
       "      <td>2018-03-24 17:23:00</td>\n",
       "      <td>Arizona, USA</td>\n",
       "      <td>Pacific Time (US &amp; Canada)</td>\n",
       "      <td>rt @madriannorman: #marchforourlives #2ndamend...</td>\n",
       "      <td>[#marchforourlives , #2ndamendment , #nra , #n...</td>\n",
       "    </tr>\n",
       "    <tr>\n",
       "      <th>6</th>\n",
       "      <td>2018-03-24 17:23:00</td>\n",
       "      <td>985✈️DMV</td>\n",
       "      <td>Eastern Time (US &amp; Canada)</td>\n",
       "      <td>meddling globalist george soros named as the p...</td>\n",
       "      <td>[#georgesoros , #guncontrol ]</td>\n",
       "    </tr>\n",
       "    <tr>\n",
       "      <th>7</th>\n",
       "      <td>2018-03-24 17:23:00</td>\n",
       "      <td>Hell | her/she/dude</td>\n",
       "      <td>Eastern Time (US &amp; Canada)</td>\n",
       "      <td>#guncontrol includes #gunsafety. you</td>\n",
       "      <td>[#guncontrol , #gunsafety. ]</td>\n",
       "    </tr>\n",
       "  </tbody>\n",
       "</table>\n",
       "</div>"
      ],
      "text/plain": [
       "           created_at                location                   time_zone  \\\n",
       "1 2018-03-24 17:23:00  Bearvana, #OpFuckBaba   Pacific Time (US & Canada)   \n",
       "4 2018-03-24 17:23:00            Arizona, USA  Pacific Time (US & Canada)   \n",
       "5 2018-03-24 17:23:00            Arizona, USA  Pacific Time (US & Canada)   \n",
       "6 2018-03-24 17:23:00               985✈️DMV   Eastern Time (US & Canada)   \n",
       "7 2018-03-24 17:23:00     Hell | her/she/dude  Eastern Time (US & Canada)   \n",
       "\n",
       "                                               tweet  \\\n",
       "1                        hey @dloeschhear that? that   \n",
       "4  rt @madriannorman: #marchforourlives #2ndamend...   \n",
       "5  rt @madriannorman: #marchforourlives #2ndamend...   \n",
       "6  meddling globalist george soros named as the p...   \n",
       "7               #guncontrol includes #gunsafety. you   \n",
       "\n",
       "                                             hashtag  \n",
       "1                                                 []  \n",
       "4  [#marchforourlives , #2ndamendment , #nra , #n...  \n",
       "5  [#marchforourlives , #2ndamendment , #nra , #n...  \n",
       "6                      [#georgesoros , #guncontrol ]  \n",
       "7                       [#guncontrol , #gunsafety. ]  "
      ]
     },
     "execution_count": 18,
     "metadata": {},
     "output_type": "execute_result"
    }
   ],
   "source": [
    "# Create a new dataframe by dropping rows with NA data\n",
    "df4 = df3.dropna(axis=0, inplace=False)\n",
    "df4.head()"
   ]
  },
  {
   "cell_type": "code",
   "execution_count": 19,
   "metadata": {
    "scrolled": true
   },
   "outputs": [
    {
     "name": "stderr",
     "output_type": "stream",
     "text": [
      "/Users/satokosuda/anaconda3/envs/twitter/lib/python3.6/site-packages/pandas/core/indexing.py:357: SettingWithCopyWarning: \n",
      "A value is trying to be set on a copy of a slice from a DataFrame.\n",
      "Try using .loc[row_indexer,col_indexer] = value instead\n",
      "\n",
      "See the caveats in the documentation: http://pandas.pydata.org/pandas-docs/stable/indexing.html#indexing-view-versus-copy\n",
      "  self.obj[key] = _infer_fill_value(value)\n",
      "/Users/satokosuda/anaconda3/envs/twitter/lib/python3.6/site-packages/pandas/core/indexing.py:537: SettingWithCopyWarning: \n",
      "A value is trying to be set on a copy of a slice from a DataFrame.\n",
      "Try using .loc[row_indexer,col_indexer] = value instead\n",
      "\n",
      "See the caveats in the documentation: http://pandas.pydata.org/pandas-docs/stable/indexing.html#indexing-view-versus-copy\n",
      "  self.obj[item] = s\n"
     ]
    },
    {
     "data": {
      "text/html": [
       "<div>\n",
       "<style scoped>\n",
       "    .dataframe tbody tr th:only-of-type {\n",
       "        vertical-align: middle;\n",
       "    }\n",
       "\n",
       "    .dataframe tbody tr th {\n",
       "        vertical-align: top;\n",
       "    }\n",
       "\n",
       "    .dataframe thead th {\n",
       "        text-align: right;\n",
       "    }\n",
       "</style>\n",
       "<table border=\"1\" class=\"dataframe\">\n",
       "  <thead>\n",
       "    <tr style=\"text-align: right;\">\n",
       "      <th></th>\n",
       "      <th>created_at</th>\n",
       "      <th>location</th>\n",
       "      <th>time_zone</th>\n",
       "      <th>tweet</th>\n",
       "      <th>hashtag</th>\n",
       "      <th>preprocess_tweet</th>\n",
       "    </tr>\n",
       "  </thead>\n",
       "  <tbody>\n",
       "    <tr>\n",
       "      <th>1</th>\n",
       "      <td>2018-03-24 17:23:00</td>\n",
       "      <td>Bearvana, #OpFuckBaba</td>\n",
       "      <td>Pacific Time (US &amp; Canada)</td>\n",
       "      <td>hey @dloeschhear that? that</td>\n",
       "      <td>[]</td>\n",
       "      <td>[hey, @dloeschhear, that, ?, that]</td>\n",
       "    </tr>\n",
       "    <tr>\n",
       "      <th>4</th>\n",
       "      <td>2018-03-24 17:23:00</td>\n",
       "      <td>Arizona, USA</td>\n",
       "      <td>Pacific Time (US &amp; Canada)</td>\n",
       "      <td>rt @madriannorman: #marchforourlives #2ndamend...</td>\n",
       "      <td>[#marchforourlives , #2ndamendment , #nra , #n...</td>\n",
       "      <td>[rt, @madriannorman, :, #marchforourlives, #2n...</td>\n",
       "    </tr>\n",
       "    <tr>\n",
       "      <th>5</th>\n",
       "      <td>2018-03-24 17:23:00</td>\n",
       "      <td>Arizona, USA</td>\n",
       "      <td>Pacific Time (US &amp; Canada)</td>\n",
       "      <td>rt @madriannorman: #marchforourlives #2ndamend...</td>\n",
       "      <td>[#marchforourlives , #2ndamendment , #nra , #n...</td>\n",
       "      <td>[rt, @madriannorman, :, #marchforourlives, #2n...</td>\n",
       "    </tr>\n",
       "    <tr>\n",
       "      <th>6</th>\n",
       "      <td>2018-03-24 17:23:00</td>\n",
       "      <td>985✈️DMV</td>\n",
       "      <td>Eastern Time (US &amp; Canada)</td>\n",
       "      <td>meddling globalist george soros named as the p...</td>\n",
       "      <td>[#georgesoros , #guncontrol ]</td>\n",
       "      <td>[meddling, globalist, george, soros, named, as...</td>\n",
       "    </tr>\n",
       "    <tr>\n",
       "      <th>7</th>\n",
       "      <td>2018-03-24 17:23:00</td>\n",
       "      <td>Hell | her/she/dude</td>\n",
       "      <td>Eastern Time (US &amp; Canada)</td>\n",
       "      <td>#guncontrol includes #gunsafety. you</td>\n",
       "      <td>[#guncontrol , #gunsafety. ]</td>\n",
       "      <td>[#guncontrol, includes, #gunsafety, ., you]</td>\n",
       "    </tr>\n",
       "  </tbody>\n",
       "</table>\n",
       "</div>"
      ],
      "text/plain": [
       "           created_at                location                   time_zone  \\\n",
       "1 2018-03-24 17:23:00  Bearvana, #OpFuckBaba   Pacific Time (US & Canada)   \n",
       "4 2018-03-24 17:23:00            Arizona, USA  Pacific Time (US & Canada)   \n",
       "5 2018-03-24 17:23:00            Arizona, USA  Pacific Time (US & Canada)   \n",
       "6 2018-03-24 17:23:00               985✈️DMV   Eastern Time (US & Canada)   \n",
       "7 2018-03-24 17:23:00     Hell | her/she/dude  Eastern Time (US & Canada)   \n",
       "\n",
       "                                               tweet  \\\n",
       "1                        hey @dloeschhear that? that   \n",
       "4  rt @madriannorman: #marchforourlives #2ndamend...   \n",
       "5  rt @madriannorman: #marchforourlives #2ndamend...   \n",
       "6  meddling globalist george soros named as the p...   \n",
       "7               #guncontrol includes #gunsafety. you   \n",
       "\n",
       "                                             hashtag  \\\n",
       "1                                                 []   \n",
       "4  [#marchforourlives , #2ndamendment , #nra , #n...   \n",
       "5  [#marchforourlives , #2ndamendment , #nra , #n...   \n",
       "6                      [#georgesoros , #guncontrol ]   \n",
       "7                       [#guncontrol , #gunsafety. ]   \n",
       "\n",
       "                                    preprocess_tweet  \n",
       "1                 [hey, @dloeschhear, that, ?, that]  \n",
       "4  [rt, @madriannorman, :, #marchforourlives, #2n...  \n",
       "5  [rt, @madriannorman, :, #marchforourlives, #2n...  \n",
       "6  [meddling, globalist, george, soros, named, as...  \n",
       "7        [#guncontrol, includes, #gunsafety, ., you]  "
      ]
     },
     "execution_count": 19,
     "metadata": {},
     "output_type": "execute_result"
    }
   ],
   "source": [
    "# Tokenize tweet data in the dataframe\n",
    "df4.loc[:,'preprocess_tweet'] = df4.loc[:,'tweet'].apply(lambda x : preprocess(x))\n",
    "df4.head()"
   ]
  },
  {
   "cell_type": "code",
   "execution_count": 20,
   "metadata": {},
   "outputs": [],
   "source": [
    "#from nltk download premade stopwords list\n",
    "from nltk.corpus import stopwords\n",
    "import string\n",
    "\n",
    "punc = list(string.punctuation)\n",
    "stop = stopwords.words('english') + punc + ['rt', 'via', '’', 'amp']"
   ]
  },
  {
   "cell_type": "code",
   "execution_count": 21,
   "metadata": {},
   "outputs": [],
   "source": [
    "#Test run using only one tweet\n",
    "terms_nostop = [term for term in preprocess(tweet) if term not in stop]  #success!"
   ]
  },
  {
   "cell_type": "code",
   "execution_count": 22,
   "metadata": {},
   "outputs": [
    {
     "name": "stdout",
     "output_type": "stream",
     "text": [
      "['hey', 'https://t.co/tqe7k0yvgj', 'https://t.co/tqe7k0yvgj', 'meddling', 'globalist', 'george', 'soros', 'named', 'puppet', 'master']\n"
     ]
    }
   ],
   "source": [
    "# There are 37487 rows in df4. for each item (list) in the 'preprocess_tweet' column, check if it's non-empty, then \n",
    "# remove stop words from the item and append it to the longer 'items' list. Since the data is large, \n",
    "# increase data rate by jupyter notebook --NotebookApp.iopub_data_rate_limit=1.0e10\n",
    "\n",
    "items = []\n",
    "for item in df4['preprocess_tweet']:\n",
    "    if len(item) !=0:\n",
    "        for i in item:\n",
    "            if i not in stop and not i.startswith(('#', '@')):\n",
    "                items.append(i.strip())\n",
    "            else:\n",
    "                continue  \n",
    "    else:\n",
    "        continue\n",
    "        \n",
    "print(items[:10])"
   ]
  },
  {
   "cell_type": "code",
   "execution_count": 23,
   "metadata": {},
   "outputs": [
    {
     "name": "stdout",
     "output_type": "stream",
     "text": [
      "[('today', 6673), ('pier', 5412), ('march', 3872), ('gun', 3824), ('people', 3498), ('thousands', 3375), ('common', 3333), ('speaking', 3235), ('sense', 3232), ('demand', 3135), ('day', 3035), ('americans', 2877), ('every', 2843), ('legislation', 2828), ('prevention', 2726), ('south', 2725), ('view', 2716), ('overflowed', 2711), ('bay', 2709), ('https://t.co/aeo98ltgzf', 2704), ('young', 2491), ('guns', 2295), ('lives', 2191), ('…', 2074), ('students', 2028), ('school', 1943), ('youth', 1832), ('stories', 1596), ('kids', 1588), ('️', 1550)]\n"
     ]
    }
   ],
   "source": [
    "# Listing top 30 most common words in tweets during the data collection period\n",
    "import operator\n",
    "from collections import Counter\n",
    "\n",
    "count_all = Counter()\n",
    "count_all.update(items)\n",
    "print(count_all.most_common(30))    "
   ]
  },
  {
   "cell_type": "code",
   "execution_count": 24,
   "metadata": {},
   "outputs": [
    {
     "name": "stdout",
     "output_type": "stream",
     "text": [
      "['#marchforourlives', '#2ndamendment', '#nra', '#nraboycott', '#2a', '#gunreformnow', '#gunviolence', '#marchforourlives', '#2ndamendment', '#nra']\n"
     ]
    }
   ],
   "source": [
    "# Creating the list of hashtags tweeted during the data colletion period\n",
    "hashlist = []\n",
    "for item in df4['hashtag']:\n",
    "    if len(item) !=0:\n",
    "        for i in item:\n",
    "            if i.startswith('#'):\n",
    "                hashlist.append(i.strip())\n",
    "            else:\n",
    "                continue  \n",
    "    else:\n",
    "        continue\n",
    "        \n",
    "print(hashlist[:10])"
   ]
  },
  {
   "cell_type": "code",
   "execution_count": 25,
   "metadata": {},
   "outputs": [],
   "source": [
    "#control_pattern = re.compile(r'#guncontrol[\\.]|#guncont[r]?ol[\\w!]+|#gunreform[.\\w]*')\n",
    "control_pattern = re.compile(r'#guncont[r]?ol[\\w!]+|#gunreform[.\\w]*')                                \n",
    "clean_hashlist =[]\n",
    "for item in hashlist:\n",
    "    i = control_pattern.sub(r'#guncontrol', item)\n",
    "    clean_hashlist.append(i)\n",
    "    \n",
    "march_pattern = re.compile(r'#march4ourlives|#marchforourlives!|#marchforourlives[\\w.]+')\n",
    "\n",
    "clean_hashlist2 =[]\n",
    "for item in clean_hashlist:\n",
    "    i = march_pattern.sub(r'#marchforourlives', item)\n",
    "    clean_hashlist2.append(i)\n",
    "    \n",
    "enough_pattern = re.compile(r'#enough[.\\w]+')\n",
    "\n",
    "clean_hashlist3 =[]\n",
    "for item in clean_hashlist2:\n",
    "    i = enough_pattern.sub(r'#enough', item)\n",
    "    clean_hashlist3.append(i)"
   ]
  },
  {
   "cell_type": "code",
   "execution_count": 26,
   "metadata": {
    "scrolled": true
   },
   "outputs": [
    {
     "name": "stdout",
     "output_type": "stream",
     "text": [
      "[('#marchforourlives', 20593), ('#enough', 12930), ('#guncontrol', 8707), ('#gunviolence', 4960), ('#neveragain', 4959), ('#hermosabeach', 2706), ('#guncontrol.', 1568), ('#2a', 1068), ('#parkland', 962), ('#nra', 726), ('#notonemore', 609), ('#gunsense', 556), ('#resist', 545), ('#trump', 479), ('#momsdemandaction', 477), ('#endgunviolence', 452), ('#blacklivesmatter', 432), ('#maga', 429), ('#mlk50forward', 428), ('#wecallbs', 424), ('#votethemout', 385), ('#gunsensenow', 374), ('#theresistance', 369), ('#msdstrong', 367), ('#nrakillskids', 363), ('#impeachtrump', 351), ('#schoolsafety', 342), ('#gunfreezoneskill', 339), ('#emmagonzalez', 320), ('#freespeech?pro-trump', 319)]\n"
     ]
    }
   ],
   "source": [
    "# Listing top 30 most popular hash tags during the data collection period\n",
    "\n",
    "count_hash = Counter()\n",
    "count_hash.update(clean_hashlist3)\n",
    "print(count_hash.most_common(30))\n",
    "\n",
    "# \"#guncontrol', '#guncontrol.', and '#guncontrolnow' should be count toghether. So should '#marchforourlives' and '#march4ourlives' etc"
   ]
  },
  {
   "cell_type": "code",
   "execution_count": null,
   "metadata": {},
   "outputs": [],
   "source": []
  },
  {
   "cell_type": "code",
   "execution_count": 27,
   "metadata": {},
   "outputs": [],
   "source": [
    "# to remove emojis from tokens, compile emoji patterns to be removed- Unicode some emoji code -shorter ones- cannot\n",
    "# be compiled. Why?\n",
    "\n",
    "emoji_pattern = re.compile(\"[\"\n",
    "        u\"\\U0001F600-\\U0001F64F\"  # emoticons\n",
    "        u\"\\U0001F300-\\U0001F500\"  # symbols & pictographs\n",
    "        u\"\\U0001F520-\\U0001F52F\"\n",
    "        u\"\\U0001F680-\\U0001F6FF\"  # transport & map symbols\n",
    "        u\"\\U0001F1E0-\\U0001F1FF\"  # flags (iOS)                          \n",
    "        u\"\\U0001F910-\\U0001F96B\" \n",
    "        u\"\\U0001F52B\"\n",
    "        u\"\\U0001F5E3\"             # speech\n",
    "        u\"\\U0001F5F3\"             # vote \n",
    "        u\"\\U0001F91B-\\U0001F939\"                   \n",
    "        u\"\\U0001F191-\\U0001F19A\"\n",
    "        u\"\\U0001F595\"\n",
    "                             \"]+\", flags = re.UNICODE)"
   ]
  },
  {
   "cell_type": "code",
   "execution_count": 28,
   "metadata": {},
   "outputs": [
    {
     "name": "stdout",
     "output_type": "stream",
     "text": [
      "['hey', 'https://t.co/tqe7k0yvgj', 'https://t.co/tqe7k0yvgj', 'meddling', 'globalist', 'george', 'soros', 'named', 'puppet', 'master']\n"
     ]
    }
   ],
   "source": [
    "# Remove emojis from the list of tokenized words\n",
    "items_noemoji = []\n",
    "for item in items:\n",
    "    i = emoji_pattern.sub(r'', item)\n",
    "    items_noemoji.append(i)\n",
    "    \n",
    "print(items_noemoji[:10])"
   ]
  },
  {
   "cell_type": "code",
   "execution_count": 29,
   "metadata": {},
   "outputs": [
    {
     "name": "stdout",
     "output_type": "stream",
     "text": [
      "[(('common', 'sense'), 3217), (('', ''), 2951), (('prevention', 'legislation'), 2712), (('thousands', 'americans'), 2711), (('demand', 'common'), 2709), (('south', 'bay'), 2708), (('sense', 'prevention'), 2707), (('view', 'speaking'), 2706), (('speaking', 'south'), 2706), (('bay', 'pier'), 2706), (('pier', 'thousands'), 2706), (('americans', 'overflowed'), 2706), (('overflowed', 'pier'), 2706), (('pier', 'demand'), 2706), (('legislation', 'https://t.co/aeo98ltgzf'), 2704), (('every', 'day'), 2496), (('young', 'people'), 1949), (('march', 'today'), 1328), (('today', 'every'), 1221), (('today', 'youth'), 1218), (('listen', 'young'), 1215), (('day', 'listen'), 1213), (('people', 'follow'), 1213), (('reports', 'march'), 1212), (('youth', 'stories'), 1212), (('stories', 'every'), 1212), (('follow', 'reports'), 1209), (('day', 'https://t.co/udfkgp5xs3'), 1207), (('gun', 'violence'), 1155), (('✊', ''), 949)]\n"
     ]
    }
   ],
   "source": [
    "# Listing top 30 word-pairs tweeted together during the data collection periods\n",
    "from nltk import bigrams\n",
    "\n",
    "terms_bigram = list(bigrams(items_noemoji))\n",
    "count_bigram = Counter()\n",
    "count_bigram.update(terms_bigram)\n",
    "print(count_bigram.most_common(30))"
   ]
  },
  {
   "cell_type": "code",
   "execution_count": 30,
   "metadata": {},
   "outputs": [
    {
     "data": {
      "text/html": [
       "\n",
       "           <script>\n",
       "               \n",
       "                function vct_load_lib(url, callback){\n",
       "                      if(typeof d3 !== 'undefined' &&\n",
       "                         url === 'http://d3js.org/d3.v3.min.js'){\n",
       "                        callback()\n",
       "                      }\n",
       "                      var s = document.createElement('script');\n",
       "                      s.src = url;\n",
       "                      s.async = true;\n",
       "                      s.onreadystatechange = s.onload = callback;\n",
       "                      s.onerror = function(){\n",
       "                        console.warn(\"failed to load library \" + url);\n",
       "                        };\n",
       "                      document.getElementsByTagName(\"head\")[0].appendChild(s);\n",
       "                };\n",
       "                var vincent_event = new CustomEvent(\n",
       "                  \"vincent_libs_loaded\",\n",
       "                  {bubbles: true, cancelable: true}\n",
       "                );\n",
       "                \n",
       "               function load_all_libs(){\n",
       "                  console.log('Loading Vincent libs...')\n",
       "                  vct_load_lib('http://d3js.org/d3.v3.min.js', function(){\n",
       "                  vct_load_lib('http://d3js.org/d3.geo.projection.v0.min.js', function(){\n",
       "                  vct_load_lib('http://wrobstory.github.io/d3-cloud/d3.layout.cloud.js', function(){\n",
       "                  vct_load_lib('http://wrobstory.github.io/vega/vega.v1.3.3.js', function(){\n",
       "                  window.dispatchEvent(vincent_event);\n",
       "                  });\n",
       "                  });\n",
       "                  });\n",
       "                  });\n",
       "               };\n",
       "               if(typeof define === \"function\" && define.amd){\n",
       "                    if (window['d3'] === undefined ||\n",
       "                        window['topojson'] === undefined){\n",
       "                        require.config(\n",
       "                            {paths: {\n",
       "                              d3: 'http://d3js.org/d3.v3.min',\n",
       "                              topojson: 'http://d3js.org/topojson.v1.min'\n",
       "                              }\n",
       "                            }\n",
       "                          );\n",
       "                        require([\"d3\"], function(d3){\n",
       "                            console.log('Loading Vincent from require.js...')\n",
       "                            window.d3 = d3;\n",
       "                            require([\"topojson\"], function(topojson){\n",
       "                                window.topojson = topojson;\n",
       "                                load_all_libs();\n",
       "                            });\n",
       "                        });\n",
       "                    } else {\n",
       "                        load_all_libs();\n",
       "                    };\n",
       "               }else{\n",
       "                    console.log('Require.js not found, loading manually...')\n",
       "                    load_all_libs();\n",
       "               };\n",
       "\n",
       "           </script>"
      ],
      "text/plain": [
       "<IPython.core.display.HTML object>"
      ]
     },
     "metadata": {},
     "output_type": "display_data"
    },
    {
     "data": {
      "text/html": [
       "<div id=\"vis268359f0b5b64c80a236b7aee08bcfa7\"></div>\n",
       "<script>\n",
       "   ( function() {\n",
       "     var _do_plot = function() {\n",
       "       if (typeof vg === 'undefined') {\n",
       "         window.addEventListener('vincent_libs_loaded', _do_plot)\n",
       "         return;\n",
       "       }\n",
       "       vg.parse.spec({\"axes\": [{\"scale\": \"x\", \"type\": \"x\"}, {\"scale\": \"y\", \"type\": \"y\"}], \"data\": [{\"name\": \"table\", \"values\": [{\"col\": \"data\", \"idx\": \"#marchforourlives\", \"val\": 20593}, {\"col\": \"data\", \"idx\": \"#enough\", \"val\": 12930}, {\"col\": \"data\", \"idx\": \"#guncontrol\", \"val\": 8707}, {\"col\": \"data\", \"idx\": \"#gunviolence\", \"val\": 4960}, {\"col\": \"data\", \"idx\": \"#neveragain\", \"val\": 4959}, {\"col\": \"data\", \"idx\": \"#hermosabeach\", \"val\": 2706}, {\"col\": \"data\", \"idx\": \"#guncontrol.\", \"val\": 1568}, {\"col\": \"data\", \"idx\": \"#2a\", \"val\": 1068}, {\"col\": \"data\", \"idx\": \"#parkland\", \"val\": 962}, {\"col\": \"data\", \"idx\": \"#nra\", \"val\": 726}, {\"col\": \"data\", \"idx\": \"#notonemore\", \"val\": 609}, {\"col\": \"data\", \"idx\": \"#gunsense\", \"val\": 556}, {\"col\": \"data\", \"idx\": \"#resist\", \"val\": 545}, {\"col\": \"data\", \"idx\": \"#trump\", \"val\": 479}, {\"col\": \"data\", \"idx\": \"#momsdemandaction\", \"val\": 477}, {\"col\": \"data\", \"idx\": \"#endgunviolence\", \"val\": 452}, {\"col\": \"data\", \"idx\": \"#blacklivesmatter\", \"val\": 432}, {\"col\": \"data\", \"idx\": \"#maga\", \"val\": 429}, {\"col\": \"data\", \"idx\": \"#mlk50forward\", \"val\": 428}, {\"col\": \"data\", \"idx\": \"#wecallbs\", \"val\": 424}, {\"col\": \"data\", \"idx\": \"#votethemout\", \"val\": 385}, {\"col\": \"data\", \"idx\": \"#gunsensenow\", \"val\": 374}, {\"col\": \"data\", \"idx\": \"#theresistance\", \"val\": 369}, {\"col\": \"data\", \"idx\": \"#msdstrong\", \"val\": 367}, {\"col\": \"data\", \"idx\": \"#nrakillskids\", \"val\": 363}, {\"col\": \"data\", \"idx\": \"#impeachtrump\", \"val\": 351}, {\"col\": \"data\", \"idx\": \"#schoolsafety\", \"val\": 342}, {\"col\": \"data\", \"idx\": \"#gunfreezoneskill\", \"val\": 339}, {\"col\": \"data\", \"idx\": \"#emmagonzalez\", \"val\": 320}, {\"col\": \"data\", \"idx\": \"#freespeech?pro-trump\", \"val\": 319}]}, {\"name\": \"stats\", \"source\": \"table\", \"transform\": [{\"keys\": [\"data.idx\"], \"type\": \"facet\"}, {\"type\": \"stats\", \"value\": \"data.val\"}]}], \"height\": 500, \"legends\": [], \"marks\": [{\"from\": {\"data\": \"table\", \"transform\": [{\"keys\": [\"data.col\"], \"type\": \"facet\"}, {\"height\": \"data.val\", \"point\": \"data.idx\", \"type\": \"stack\"}]}, \"marks\": [{\"properties\": {\"enter\": {\"fill\": {\"field\": \"data.col\", \"scale\": \"color\"}, \"width\": {\"band\": true, \"offset\": -1, \"scale\": \"x\"}, \"x\": {\"field\": \"data.idx\", \"scale\": \"x\"}, \"y\": {\"field\": \"y\", \"scale\": \"y\"}, \"y2\": {\"field\": \"y2\", \"scale\": \"y\"}}}, \"type\": \"rect\"}], \"type\": \"group\"}], \"padding\": \"auto\", \"scales\": [{\"domain\": {\"data\": \"table\", \"field\": \"data.idx\"}, \"name\": \"x\", \"range\": \"width\", \"type\": \"ordinal\", \"zero\": false}, {\"domain\": {\"data\": \"stats\", \"field\": \"sum\"}, \"name\": \"y\", \"nice\": true, \"range\": \"height\"}, {\"domain\": {\"data\": \"table\", \"field\": \"data.col\"}, \"name\": \"color\", \"range\": \"category20\", \"type\": \"ordinal\"}], \"width\": 960}, function(chart) {\n",
       "         chart({el: \"#vis268359f0b5b64c80a236b7aee08bcfa7\"}).update();\n",
       "       });\n",
       "     };\n",
       "     _do_plot();\n",
       "   })();\n",
       "</script>\n",
       "<style>.vega canvas {width: 100%;}</style>\n",
       "        "
      ],
      "text/plain": [
       "<IPython.core.display.HTML object>"
      ]
     },
     "metadata": {},
     "output_type": "display_data"
    }
   ],
   "source": [
    "#Visualize top 30 popular hashtags\n",
    "\n",
    "import vincent\n",
    "vincent.core.initialize_notebook()\n",
    "\n",
    "hash_freq = count_hash.most_common(30)  #create list of tuples\n",
    "labels, freq = zip(*hash_freq)  #seperate the above into 1. tuple of labels & 2. tuple of counts\n",
    "data = {'data': freq, 'x': labels} #create dictionary of tuples\n",
    "bar = vincent.Bar(data, iter_idx='x')\n",
    "bar.display()"
   ]
  },
  {
   "cell_type": "code",
   "execution_count": 31,
   "metadata": {
    "scrolled": true
   },
   "outputs": [
    {
     "name": "stdout",
     "output_type": "stream",
     "text": [
      "[Timestamp('2018-03-24 20:16:00'), Timestamp('2018-03-24 20:16:00'), Timestamp('2018-03-24 20:17:00'), Timestamp('2018-03-24 20:17:00'), Timestamp('2018-03-24 20:17:00'), Timestamp('2018-03-24 20:17:00'), Timestamp('2018-03-24 20:17:00'), Timestamp('2018-03-24 20:17:00'), Timestamp('2018-03-24 20:17:00'), Timestamp('2018-03-24 20:17:00')]\n"
     ]
    }
   ],
   "source": [
    "# Create the list of time stamps when #hermosabeach was tweeted\n",
    "beach_hash_time =[]\n",
    "\n",
    "for i in range(len(df4['tweet'])):\n",
    "    if '#hermosabeach' in df4['tweet'].iloc[i]:\n",
    "        beach_hash_time.append(df4['created_at'].iloc[i])\n",
    "        \n",
    "print(beach_hash_time[:10])"
   ]
  },
  {
   "cell_type": "code",
   "execution_count": 32,
   "metadata": {
    "scrolled": true
   },
   "outputs": [],
   "source": [
    "# Creating datetimeindex for time series data for pandas. Twitter streaming data is based on UTC time.\n",
    "# From US & Canada ETS time, it's 4 hours earlier. Adjust for daytime savings.\n",
    "\n",
    "from pandas.tseries.offsets import Hour\n",
    "one_hour = Hour(1)\n",
    "\n",
    "idx = pd.DatetimeIndex(beach_hash_time)\n",
    "idx_local = idx.tz_localize(tz='UTC')\n",
    "idx_est = idx_local.tz_convert(tz='US/Eastern')\n",
    "idx_est_ds = idx_est - one_hour    #daytime savings adjustment\n",
    "ones = [1]*len(beach_hash_time)\n",
    "#ones\n",
    "beach_hash = pd.Series(ones, index=idx_est_ds)\n",
    "per_minute = beach_hash.resample('1min').sum().fillna(0)"
   ]
  },
  {
   "cell_type": "code",
   "execution_count": 33,
   "metadata": {},
   "outputs": [
    {
     "data": {
      "text/html": [
       "<div id=\"vis989b20e6db0b44f588f89f7c07aa473d\"></div>\n",
       "<script>\n",
       "   ( function() {\n",
       "     var _do_plot = function() {\n",
       "       if (typeof vg === 'undefined') {\n",
       "         window.addEventListener('vincent_libs_loaded', _do_plot)\n",
       "         return;\n",
       "       }\n",
       "       vg.parse.spec({\"axes\": [{\"scale\": \"x\", \"title\": \"Time\", \"type\": \"x\"}, {\"scale\": \"y\", \"title\": \"Hashtag frequencies\", \"type\": \"y\"}], \"data\": [{\"name\": \"table\", \"values\": [{\"col\": \"data\", \"idx\": 1521918960000, \"val\": 2}, {\"col\": \"data\", \"idx\": 1521919020000, \"val\": 39}, {\"col\": \"data\", \"idx\": 1521919080000, \"val\": 40}, {\"col\": \"data\", \"idx\": 1521919140000, \"val\": 33}, {\"col\": \"data\", \"idx\": 1521919200000, \"val\": 27}, {\"col\": \"data\", \"idx\": 1521919260000, \"val\": 46}, {\"col\": \"data\", \"idx\": 1521919320000, \"val\": 81}, {\"col\": \"data\", \"idx\": 1521919380000, \"val\": 70}, {\"col\": \"data\", \"idx\": 1521919440000, \"val\": 64}, {\"col\": \"data\", \"idx\": 1521919500000, \"val\": 72}, {\"col\": \"data\", \"idx\": 1521919560000, \"val\": 67}, {\"col\": \"data\", \"idx\": 1521919620000, \"val\": 36}, {\"col\": \"data\", \"idx\": 1521919680000, \"val\": 45}, {\"col\": \"data\", \"idx\": 1521919740000, \"val\": 43}, {\"col\": \"data\", \"idx\": 1521919800000, \"val\": 50}, {\"col\": \"data\", \"idx\": 1521919860000, \"val\": 49}, {\"col\": \"data\", \"idx\": 1521919920000, \"val\": 40}, {\"col\": \"data\", \"idx\": 1521919980000, \"val\": 2}, {\"col\": \"data\", \"idx\": 1521920040000, \"val\": 6}, {\"col\": \"data\", \"idx\": 1521920100000, \"val\": 33}, {\"col\": \"data\", \"idx\": 1521920160000, \"val\": 32}, {\"col\": \"data\", \"idx\": 1521920220000, \"val\": 23}, {\"col\": \"data\", \"idx\": 1521920280000, \"val\": 28}, {\"col\": \"data\", \"idx\": 1521920340000, \"val\": 24}, {\"col\": \"data\", \"idx\": 1521920400000, \"val\": 20}, {\"col\": \"data\", \"idx\": 1521920460000, \"val\": 21}, {\"col\": \"data\", \"idx\": 1521920520000, \"val\": 24}, {\"col\": \"data\", \"idx\": 1521920580000, \"val\": 15}, {\"col\": \"data\", \"idx\": 1521920640000, \"val\": 30}, {\"col\": \"data\", \"idx\": 1521920700000, \"val\": 19}, {\"col\": \"data\", \"idx\": 1521920760000, \"val\": 23}, {\"col\": \"data\", \"idx\": 1521920820000, \"val\": 12}, {\"col\": \"data\", \"idx\": 1521920880000, \"val\": 31}, {\"col\": \"data\", \"idx\": 1521920940000, \"val\": 19}, {\"col\": \"data\", \"idx\": 1521921000000, \"val\": 30}, {\"col\": \"data\", \"idx\": 1521921060000, \"val\": 16}, {\"col\": \"data\", \"idx\": 1521921120000, \"val\": 20}, {\"col\": \"data\", \"idx\": 1521921180000, \"val\": 25}, {\"col\": \"data\", \"idx\": 1521921240000, \"val\": 23}, {\"col\": \"data\", \"idx\": 1521921300000, \"val\": 12}, {\"col\": \"data\", \"idx\": 1521921360000, \"val\": 9}, {\"col\": \"data\", \"idx\": 1521921420000, \"val\": 15}, {\"col\": \"data\", \"idx\": 1521921480000, \"val\": 15}, {\"col\": \"data\", \"idx\": 1521921540000, \"val\": 18}, {\"col\": \"data\", \"idx\": 1521921600000, \"val\": 16}, {\"col\": \"data\", \"idx\": 1521921660000, \"val\": 12}, {\"col\": \"data\", \"idx\": 1521921720000, \"val\": 9}, {\"col\": \"data\", \"idx\": 1521921780000, \"val\": 6}, {\"col\": \"data\", \"idx\": 1521921840000, \"val\": 11}, {\"col\": \"data\", \"idx\": 1521921900000, \"val\": 20}, {\"col\": \"data\", \"idx\": 1521921960000, \"val\": 14}, {\"col\": \"data\", \"idx\": 1521922020000, \"val\": 11}, {\"col\": \"data\", \"idx\": 1521922080000, \"val\": 6}, {\"col\": \"data\", \"idx\": 1521922140000, \"val\": 12}, {\"col\": \"data\", \"idx\": 1521922200000, \"val\": 14}, {\"col\": \"data\", \"idx\": 1521922260000, \"val\": 9}, {\"col\": \"data\", \"idx\": 1521922320000, \"val\": 10}, {\"col\": \"data\", \"idx\": 1521922380000, \"val\": 8}, {\"col\": \"data\", \"idx\": 1521922440000, \"val\": 11}, {\"col\": \"data\", \"idx\": 1521922500000, \"val\": 12}, {\"col\": \"data\", \"idx\": 1521922560000, \"val\": 15}, {\"col\": \"data\", \"idx\": 1521922620000, \"val\": 9}, {\"col\": \"data\", \"idx\": 1521922680000, \"val\": 11}, {\"col\": \"data\", \"idx\": 1521922740000, \"val\": 13}, {\"col\": \"data\", \"idx\": 1521922800000, \"val\": 8}, {\"col\": \"data\", \"idx\": 1521922860000, \"val\": 11}, {\"col\": \"data\", \"idx\": 1521922920000, \"val\": 8}, {\"col\": \"data\", \"idx\": 1521922980000, \"val\": 12}, {\"col\": \"data\", \"idx\": 1521923040000, \"val\": 9}, {\"col\": \"data\", \"idx\": 1521923100000, \"val\": 6}, {\"col\": \"data\", \"idx\": 1521923160000, \"val\": 12}, {\"col\": \"data\", \"idx\": 1521923220000, \"val\": 8}, {\"col\": \"data\", \"idx\": 1521923280000, \"val\": 13}, {\"col\": \"data\", \"idx\": 1521923340000, \"val\": 15}, {\"col\": \"data\", \"idx\": 1521923400000, \"val\": 11}, {\"col\": \"data\", \"idx\": 1521923460000, \"val\": 6}, {\"col\": \"data\", \"idx\": 1521923520000, \"val\": 13}, {\"col\": \"data\", \"idx\": 1521923580000, \"val\": 7}, {\"col\": \"data\", \"idx\": 1521923640000, \"val\": 16}, {\"col\": \"data\", \"idx\": 1521923700000, \"val\": 6}, {\"col\": \"data\", \"idx\": 1521923760000, \"val\": 13}, {\"col\": \"data\", \"idx\": 1521923820000, \"val\": 7}, {\"col\": \"data\", \"idx\": 1521923880000, \"val\": 9}, {\"col\": \"data\", \"idx\": 1521923940000, \"val\": 5}, {\"col\": \"data\", \"idx\": 1521924000000, \"val\": 5}, {\"col\": \"data\", \"idx\": 1521924060000, \"val\": 12}, {\"col\": \"data\", \"idx\": 1521924120000, \"val\": 0}, {\"col\": \"data\", \"idx\": 1521924180000, \"val\": 0}, {\"col\": \"data\", \"idx\": 1521924240000, \"val\": 9}, {\"col\": \"data\", \"idx\": 1521924300000, \"val\": 10}, {\"col\": \"data\", \"idx\": 1521924360000, \"val\": 7}, {\"col\": \"data\", \"idx\": 1521924420000, \"val\": 12}, {\"col\": \"data\", \"idx\": 1521924480000, \"val\": 10}, {\"col\": \"data\", \"idx\": 1521924540000, \"val\": 11}, {\"col\": \"data\", \"idx\": 1521924600000, \"val\": 5}, {\"col\": \"data\", \"idx\": 1521924660000, \"val\": 7}, {\"col\": \"data\", \"idx\": 1521924720000, \"val\": 17}, {\"col\": \"data\", \"idx\": 1521924780000, \"val\": 15}, {\"col\": \"data\", \"idx\": 1521924840000, \"val\": 12}, {\"col\": \"data\", \"idx\": 1521924900000, \"val\": 12}, {\"col\": \"data\", \"idx\": 1521924960000, \"val\": 4}, {\"col\": \"data\", \"idx\": 1521925020000, \"val\": 4}, {\"col\": \"data\", \"idx\": 1521925080000, \"val\": 9}, {\"col\": \"data\", \"idx\": 1521925140000, \"val\": 10}, {\"col\": \"data\", \"idx\": 1521925200000, \"val\": 8}, {\"col\": \"data\", \"idx\": 1521925260000, \"val\": 11}, {\"col\": \"data\", \"idx\": 1521925320000, \"val\": 6}, {\"col\": \"data\", \"idx\": 1521925380000, \"val\": 7}, {\"col\": \"data\", \"idx\": 1521925440000, \"val\": 9}, {\"col\": \"data\", \"idx\": 1521925500000, \"val\": 11}, {\"col\": \"data\", \"idx\": 1521925560000, \"val\": 13}, {\"col\": \"data\", \"idx\": 1521925620000, \"val\": 4}, {\"col\": \"data\", \"idx\": 1521925680000, \"val\": 10}, {\"col\": \"data\", \"idx\": 1521925740000, \"val\": 7}, {\"col\": \"data\", \"idx\": 1521925800000, \"val\": 5}, {\"col\": \"data\", \"idx\": 1521925860000, \"val\": 9}, {\"col\": \"data\", \"idx\": 1521925920000, \"val\": 8}, {\"col\": \"data\", \"idx\": 1521925980000, \"val\": 9}, {\"col\": \"data\", \"idx\": 1521926040000, \"val\": 3}, {\"col\": \"data\", \"idx\": 1521926100000, \"val\": 3}, {\"col\": \"data\", \"idx\": 1521926160000, \"val\": 9}, {\"col\": \"data\", \"idx\": 1521926220000, \"val\": 3}, {\"col\": \"data\", \"idx\": 1521926280000, \"val\": 8}, {\"col\": \"data\", \"idx\": 1521926340000, \"val\": 9}, {\"col\": \"data\", \"idx\": 1521926400000, \"val\": 8}, {\"col\": \"data\", \"idx\": 1521926460000, \"val\": 4}, {\"col\": \"data\", \"idx\": 1521926520000, \"val\": 7}, {\"col\": \"data\", \"idx\": 1521926580000, \"val\": 1}, {\"col\": \"data\", \"idx\": 1521926640000, \"val\": 8}, {\"col\": \"data\", \"idx\": 1521926700000, \"val\": 5}, {\"col\": \"data\", \"idx\": 1521926760000, \"val\": 9}, {\"col\": \"data\", \"idx\": 1521926820000, \"val\": 3}, {\"col\": \"data\", \"idx\": 1521926880000, \"val\": 10}, {\"col\": \"data\", \"idx\": 1521926940000, \"val\": 10}, {\"col\": \"data\", \"idx\": 1521927000000, \"val\": 6}, {\"col\": \"data\", \"idx\": 1521927060000, \"val\": 5}, {\"col\": \"data\", \"idx\": 1521927120000, \"val\": 3}, {\"col\": \"data\", \"idx\": 1521927180000, \"val\": 0}, {\"col\": \"data\", \"idx\": 1521927240000, \"val\": 0}, {\"col\": \"data\", \"idx\": 1521927300000, \"val\": 0}, {\"col\": \"data\", \"idx\": 1521927360000, \"val\": 0}, {\"col\": \"data\", \"idx\": 1521927420000, \"val\": 0}, {\"col\": \"data\", \"idx\": 1521927480000, \"val\": 0}, {\"col\": \"data\", \"idx\": 1521927540000, \"val\": 0}, {\"col\": \"data\", \"idx\": 1521927600000, \"val\": 0}, {\"col\": \"data\", \"idx\": 1521927660000, \"val\": 0}, {\"col\": \"data\", \"idx\": 1521927720000, \"val\": 6}, {\"col\": \"data\", \"idx\": 1521927780000, \"val\": 5}, {\"col\": \"data\", \"idx\": 1521927840000, \"val\": 7}, {\"col\": \"data\", \"idx\": 1521927900000, \"val\": 7}, {\"col\": \"data\", \"idx\": 1521927960000, \"val\": 2}, {\"col\": \"data\", \"idx\": 1521928020000, \"val\": 8}, {\"col\": \"data\", \"idx\": 1521928080000, \"val\": 7}, {\"col\": \"data\", \"idx\": 1521928140000, \"val\": 6}, {\"col\": \"data\", \"idx\": 1521928200000, \"val\": 5}, {\"col\": \"data\", \"idx\": 1521928260000, \"val\": 9}, {\"col\": \"data\", \"idx\": 1521928320000, \"val\": 4}, {\"col\": \"data\", \"idx\": 1521928380000, \"val\": 8}, {\"col\": \"data\", \"idx\": 1521928440000, \"val\": 9}, {\"col\": \"data\", \"idx\": 1521928500000, \"val\": 6}, {\"col\": \"data\", \"idx\": 1521928560000, \"val\": 7}, {\"col\": \"data\", \"idx\": 1521928620000, \"val\": 3}, {\"col\": \"data\", \"idx\": 1521928680000, \"val\": 3}, {\"col\": \"data\", \"idx\": 1521928740000, \"val\": 6}, {\"col\": \"data\", \"idx\": 1521928800000, \"val\": 6}, {\"col\": \"data\", \"idx\": 1521928860000, \"val\": 5}, {\"col\": \"data\", \"idx\": 1521928920000, \"val\": 5}, {\"col\": \"data\", \"idx\": 1521928980000, \"val\": 6}, {\"col\": \"data\", \"idx\": 1521929040000, \"val\": 4}, {\"col\": \"data\", \"idx\": 1521929100000, \"val\": 10}, {\"col\": \"data\", \"idx\": 1521929160000, \"val\": 8}, {\"col\": \"data\", \"idx\": 1521929220000, \"val\": 6}, {\"col\": \"data\", \"idx\": 1521929280000, \"val\": 6}, {\"col\": \"data\", \"idx\": 1521929340000, \"val\": 5}, {\"col\": \"data\", \"idx\": 1521929400000, \"val\": 6}, {\"col\": \"data\", \"idx\": 1521929460000, \"val\": 6}, {\"col\": \"data\", \"idx\": 1521929520000, \"val\": 4}, {\"col\": \"data\", \"idx\": 1521929580000, \"val\": 9}, {\"col\": \"data\", \"idx\": 1521929640000, \"val\": 6}, {\"col\": \"data\", \"idx\": 1521929700000, \"val\": 5}, {\"col\": \"data\", \"idx\": 1521929760000, \"val\": 5}, {\"col\": \"data\", \"idx\": 1521929820000, \"val\": 3}, {\"col\": \"data\", \"idx\": 1521929880000, \"val\": 3}, {\"col\": \"data\", \"idx\": 1521929940000, \"val\": 10}, {\"col\": \"data\", \"idx\": 1521930000000, \"val\": 8}, {\"col\": \"data\", \"idx\": 1521930060000, \"val\": 6}, {\"col\": \"data\", \"idx\": 1521930120000, \"val\": 7}, {\"col\": \"data\", \"idx\": 1521930180000, \"val\": 6}, {\"col\": \"data\", \"idx\": 1521930240000, \"val\": 2}, {\"col\": \"data\", \"idx\": 1521930300000, \"val\": 8}, {\"col\": \"data\", \"idx\": 1521930360000, \"val\": 6}, {\"col\": \"data\", \"idx\": 1521930420000, \"val\": 2}, {\"col\": \"data\", \"idx\": 1521930480000, \"val\": 5}, {\"col\": \"data\", \"idx\": 1521930540000, \"val\": 8}, {\"col\": \"data\", \"idx\": 1521930600000, \"val\": 5}, {\"col\": \"data\", \"idx\": 1521930660000, \"val\": 6}, {\"col\": \"data\", \"idx\": 1521930720000, \"val\": 7}, {\"col\": \"data\", \"idx\": 1521930780000, \"val\": 3}, {\"col\": \"data\", \"idx\": 1521930840000, \"val\": 5}, {\"col\": \"data\", \"idx\": 1521930900000, \"val\": 2}, {\"col\": \"data\", \"idx\": 1521930960000, \"val\": 0}, {\"col\": \"data\", \"idx\": 1521931020000, \"val\": 5}, {\"col\": \"data\", \"idx\": 1521931080000, \"val\": 5}, {\"col\": \"data\", \"idx\": 1521931140000, \"val\": 8}, {\"col\": \"data\", \"idx\": 1521931200000, \"val\": 5}, {\"col\": \"data\", \"idx\": 1521931260000, \"val\": 3}, {\"col\": \"data\", \"idx\": 1521931320000, \"val\": 5}, {\"col\": \"data\", \"idx\": 1521931380000, \"val\": 4}, {\"col\": \"data\", \"idx\": 1521931440000, \"val\": 6}, {\"col\": \"data\", \"idx\": 1521931500000, \"val\": 2}, {\"col\": \"data\", \"idx\": 1521931560000, \"val\": 2}, {\"col\": \"data\", \"idx\": 1521931620000, \"val\": 5}, {\"col\": \"data\", \"idx\": 1521931680000, \"val\": 3}, {\"col\": \"data\", \"idx\": 1521931740000, \"val\": 2}, {\"col\": \"data\", \"idx\": 1521931800000, \"val\": 4}, {\"col\": \"data\", \"idx\": 1521931860000, \"val\": 3}, {\"col\": \"data\", \"idx\": 1521931920000, \"val\": 6}, {\"col\": \"data\", \"idx\": 1521931980000, \"val\": 5}, {\"col\": \"data\", \"idx\": 1521932040000, \"val\": 0}, {\"col\": \"data\", \"idx\": 1521932100000, \"val\": 0}, {\"col\": \"data\", \"idx\": 1521932160000, \"val\": 0}, {\"col\": \"data\", \"idx\": 1521932220000, \"val\": 0}, {\"col\": \"data\", \"idx\": 1521932280000, \"val\": 0}, {\"col\": \"data\", \"idx\": 1521932340000, \"val\": 0}, {\"col\": \"data\", \"idx\": 1521932400000, \"val\": 0}, {\"col\": \"data\", \"idx\": 1521932460000, \"val\": 0}, {\"col\": \"data\", \"idx\": 1521932520000, \"val\": 0}, {\"col\": \"data\", \"idx\": 1521932580000, \"val\": 0}, {\"col\": \"data\", \"idx\": 1521932640000, \"val\": 0}, {\"col\": \"data\", \"idx\": 1521932700000, \"val\": 0}, {\"col\": \"data\", \"idx\": 1521932760000, \"val\": 0}, {\"col\": \"data\", \"idx\": 1521932820000, \"val\": 0}, {\"col\": \"data\", \"idx\": 1521932880000, \"val\": 0}, {\"col\": \"data\", \"idx\": 1521932940000, \"val\": 0}, {\"col\": \"data\", \"idx\": 1521933000000, \"val\": 0}, {\"col\": \"data\", \"idx\": 1521933060000, \"val\": 0}, {\"col\": \"data\", \"idx\": 1521933120000, \"val\": 0}, {\"col\": \"data\", \"idx\": 1521933180000, \"val\": 0}, {\"col\": \"data\", \"idx\": 1521933240000, \"val\": 0}, {\"col\": \"data\", \"idx\": 1521933300000, \"val\": 0}, {\"col\": \"data\", \"idx\": 1521933360000, \"val\": 0}, {\"col\": \"data\", \"idx\": 1521933420000, \"val\": 0}, {\"col\": \"data\", \"idx\": 1521933480000, \"val\": 0}, {\"col\": \"data\", \"idx\": 1521933540000, \"val\": 0}, {\"col\": \"data\", \"idx\": 1521933600000, \"val\": 4}, {\"col\": \"data\", \"idx\": 1521933660000, \"val\": 13}, {\"col\": \"data\", \"idx\": 1521933720000, \"val\": 1}, {\"col\": \"data\", \"idx\": 1521933780000, \"val\": 0}, {\"col\": \"data\", \"idx\": 1521933840000, \"val\": 5}, {\"col\": \"data\", \"idx\": 1521933900000, \"val\": 3}, {\"col\": \"data\", \"idx\": 1521933960000, \"val\": 8}, {\"col\": \"data\", \"idx\": 1521934020000, \"val\": 2}, {\"col\": \"data\", \"idx\": 1521934080000, \"val\": 9}, {\"col\": \"data\", \"idx\": 1521934140000, \"val\": 3}, {\"col\": \"data\", \"idx\": 1521934200000, \"val\": 3}, {\"col\": \"data\", \"idx\": 1521934260000, \"val\": 2}, {\"col\": \"data\", \"idx\": 1521934320000, \"val\": 3}, {\"col\": \"data\", \"idx\": 1521934380000, \"val\": 4}, {\"col\": \"data\", \"idx\": 1521934440000, \"val\": 3}, {\"col\": \"data\", \"idx\": 1521934500000, \"val\": 3}, {\"col\": \"data\", \"idx\": 1521934560000, \"val\": 5}, {\"col\": \"data\", \"idx\": 1521934620000, \"val\": 6}, {\"col\": \"data\", \"idx\": 1521934680000, \"val\": 3}, {\"col\": \"data\", \"idx\": 1521934740000, \"val\": 2}, {\"col\": \"data\", \"idx\": 1521934800000, \"val\": 4}, {\"col\": \"data\", \"idx\": 1521934860000, \"val\": 7}, {\"col\": \"data\", \"idx\": 1521934920000, \"val\": 4}, {\"col\": \"data\", \"idx\": 1521934980000, \"val\": 4}, {\"col\": \"data\", \"idx\": 1521935040000, \"val\": 3}, {\"col\": \"data\", \"idx\": 1521935100000, \"val\": 6}, {\"col\": \"data\", \"idx\": 1521935160000, \"val\": 3}, {\"col\": \"data\", \"idx\": 1521935220000, \"val\": 4}, {\"col\": \"data\", \"idx\": 1521935280000, \"val\": 0}, {\"col\": \"data\", \"idx\": 1521935340000, \"val\": 0}, {\"col\": \"data\", \"idx\": 1521935400000, \"val\": 3}, {\"col\": \"data\", \"idx\": 1521935460000, \"val\": 2}, {\"col\": \"data\", \"idx\": 1521935520000, \"val\": 6}, {\"col\": \"data\", \"idx\": 1521935580000, \"val\": 5}, {\"col\": \"data\", \"idx\": 1521935640000, \"val\": 8}, {\"col\": \"data\", \"idx\": 1521935700000, \"val\": 5}]}], \"height\": 500, \"legends\": [], \"marks\": [{\"from\": {\"data\": \"table\", \"transform\": [{\"keys\": [\"data.col\"], \"type\": \"facet\"}]}, \"marks\": [{\"properties\": {\"enter\": {\"stroke\": {\"field\": \"data.col\", \"scale\": \"color\"}, \"strokeWidth\": {\"value\": 2}, \"x\": {\"field\": \"data.idx\", \"scale\": \"x\"}, \"y\": {\"field\": \"data.val\", \"scale\": \"y\"}}}, \"type\": \"line\"}], \"type\": \"group\"}], \"padding\": \"auto\", \"scales\": [{\"domain\": {\"data\": \"table\", \"field\": \"data.idx\"}, \"name\": \"x\", \"range\": \"width\", \"type\": \"time\"}, {\"domain\": {\"data\": \"table\", \"field\": \"data.val\"}, \"name\": \"y\", \"nice\": true, \"range\": \"height\"}, {\"domain\": {\"data\": \"table\", \"field\": \"data.col\"}, \"name\": \"color\", \"range\": \"category20\", \"type\": \"ordinal\"}], \"width\": 960}, function(chart) {\n",
       "         chart({el: \"#vis989b20e6db0b44f588f89f7c07aa473d\"}).update();\n",
       "       });\n",
       "     };\n",
       "     _do_plot();\n",
       "   })();\n",
       "</script>\n",
       "<style>.vega canvas {width: 100%;}</style>\n",
       "        "
      ],
      "text/plain": [
       "<IPython.core.display.HTML object>"
      ]
     },
     "metadata": {},
     "output_type": "display_data"
    }
   ],
   "source": [
    "#Visualize the frequency of #hermosabeach was tweeted during the data collection period\n",
    "time_chart = vincent.Line(per_minute)\n",
    "time_chart.axis_titles(x='Time', y='Hashtag frequencies')\n",
    "time_chart.display()"
   ]
  },
  {
   "cell_type": "code",
   "execution_count": 34,
   "metadata": {},
   "outputs": [],
   "source": [
    "# Prepar hashtag #marchforourlives for the same analysis\n",
    "march_hash_time =[]\n",
    "\n",
    "for i in range(len(df4['tweet'])):\n",
    "    if '#marchforourlives' in df4['tweet'].iloc[i]:\n",
    "        march_hash_time.append(df4['created_at'].iloc[i])\n",
    "        \n",
    "idx = pd.DatetimeIndex(march_hash_time)\n",
    "idx_local = idx.tz_localize(tz='UTC')\n",
    "idx_est = idx_local.tz_convert(tz='US/Eastern')\n",
    "idx_est_ds = idx_est - one_hour    #daytime savings adjustment\n",
    "ones = [1]*len(march_hash_time)\n",
    "#ones\n",
    "march_hash = pd.Series(ones, index=idx_est_ds)\n",
    "march_per_minute = march_hash.resample('1min').sum().fillna(0)"
   ]
  },
  {
   "cell_type": "code",
   "execution_count": 35,
   "metadata": {},
   "outputs": [],
   "source": [
    "# Prepar hashtag #enough for the same analysis\n",
    "enough_hash_time =[]\n",
    "\n",
    "for i in range(len(df4['tweet'])):\n",
    "    if '#enough' in df4['tweet'].iloc[i]:\n",
    "        enough_hash_time.append(df4['created_at'].iloc[i])\n",
    "        \n",
    "idx = pd.DatetimeIndex(enough_hash_time)\n",
    "idx_local = idx.tz_localize(tz='UTC')\n",
    "idx_est = idx_local.tz_convert(tz='US/Eastern')\n",
    "idx_est_ds = idx_est - one_hour    #daytime savings adjustment\n",
    "ones = [1]*len(enough_hash_time)\n",
    "#ones\n",
    "enough_hash = pd.Series(ones, index=idx_est_ds)\n",
    "enough_per_minute = enough_hash.resample('1min').sum().fillna(0)"
   ]
  },
  {
   "cell_type": "code",
   "execution_count": 36,
   "metadata": {},
   "outputs": [],
   "source": [
    "# Prepar hashtag #neveragain for the same analysis\n",
    "again_hash_time =[]\n",
    "\n",
    "for i in range(len(df4['tweet'])):\n",
    "    if '#neveragain' in df4['tweet'].iloc[i]:\n",
    "        again_hash_time.append(df4['created_at'].iloc[i])\n",
    "        \n",
    "idx = pd.DatetimeIndex(again_hash_time)\n",
    "idx_local = idx.tz_localize(tz='UTC')\n",
    "idx_est = idx_local.tz_convert(tz='US/Eastern')\n",
    "idx_est_ds = idx_est - one_hour    #daytime savings adjustment\n",
    "ones = [1]*len(again_hash_time)\n",
    "#ones\n",
    "again_hash = pd.Series(ones, index=idx_est_ds)\n",
    "again_per_minute = again_hash.resample('1min').sum().fillna(0)"
   ]
  },
  {
   "cell_type": "code",
   "execution_count": 37,
   "metadata": {},
   "outputs": [],
   "source": [
    "# Prepar hashtag #guncontrol for the same analysis\n",
    "control_hash_time =[]\n",
    "\n",
    "for i in range(len(df4['tweet'])):\n",
    "    if '#guncontrol' in df4['tweet'].iloc[i]:\n",
    "        control_hash_time.append(df4['created_at'].iloc[i])\n",
    "        \n",
    "idx = pd.DatetimeIndex(control_hash_time)\n",
    "idx_local = idx.tz_localize(tz='UTC')\n",
    "idx_est = idx_local.tz_convert(tz='US/Eastern')\n",
    "idx_est_ds = idx_est - one_hour    #daytime savings adjustment\n",
    "ones = [1]*len(control_hash_time)\n",
    "#ones\n",
    "control_hash = pd.Series(ones, index=idx_est_ds)\n",
    "control_per_minute = control_hash.resample('1min').sum().fillna(0)"
   ]
  },
  {
   "cell_type": "code",
   "execution_count": 38,
   "metadata": {},
   "outputs": [],
   "source": [
    "# Prepar hashtag #gunviolence for the same analysis\n",
    "violence_hash_time =[]\n",
    "\n",
    "for i in range(len(df4['tweet'])):\n",
    "    if '#gunviolence' in df4['tweet'].iloc[i]:\n",
    "        violence_hash_time.append(df4['created_at'].iloc[i])\n",
    "        \n",
    "idx = pd.DatetimeIndex(violence_hash_time)\n",
    "idx_local = idx.tz_localize(tz='UTC')\n",
    "idx_est = idx_local.tz_convert(tz='US/Eastern')\n",
    "idx_est_ds = idx_est - one_hour    #daytime savings adjustment\n",
    "ones = [1]*len(violence_hash_time)\n",
    "\n",
    "violence_hash = pd.Series(ones, index=idx_est_ds)\n",
    "violence_per_minute = violence_hash.resample('1min').sum().fillna(0)"
   ]
  },
  {
   "cell_type": "code",
   "execution_count": 39,
   "metadata": {},
   "outputs": [],
   "source": [
    "# Prepar hashtag #schoolshooting for the same analysis\n",
    "school_hash_time =[]\n",
    "\n",
    "for i in range(len(df4['tweet'])):\n",
    "    if '#schoolshooting' in df4['tweet'].iloc[i]:\n",
    "        school_hash_time.append(df4['created_at'].iloc[i])\n",
    "        \n",
    "idx = pd.DatetimeIndex(school_hash_time)\n",
    "idx_local = idx.tz_localize(tz='UTC')\n",
    "idx_est = idx_local.tz_convert(tz='US/Eastern')\n",
    "idx_est_ds = idx_est - one_hour    #daytime savings adjustment\n",
    "ones = [1]*len(school_hash_time)\n",
    "#ones\n",
    "school_hash = pd.Series(ones, index=idx_est_ds)\n",
    "school_per_minute = school_hash.resample('1min').sum().fillna(0)"
   ]
  },
  {
   "cell_type": "code",
   "execution_count": 40,
   "metadata": {
    "scrolled": true
   },
   "outputs": [
    {
     "data": {
      "text/html": [
       "<div id=\"visf8f687cc385b49b5b6bee181011bee2c\"></div>\n",
       "<script>\n",
       "   ( function() {\n",
       "     var _do_plot = function() {\n",
       "       if (typeof vg === 'undefined') {\n",
       "         window.addEventListener('vincent_libs_loaded', _do_plot)\n",
       "         return;\n",
       "       }\n",
       "       vg.parse.spec({\"axes\": [{\"scale\": \"x\", \"title\": \"Time\", \"type\": \"x\"}, {\"scale\": \"y\", \"title\": \"Hashtag frequencies\", \"type\": \"y\"}], \"data\": [{\"name\": \"table\", \"values\": [{\"col\": \"data\", \"idx\": 1521908580000, \"val\": 1}, {\"col\": \"data\", \"idx\": 1521908640000, \"val\": 1}, {\"col\": \"data\", \"idx\": 1521908700000, \"val\": 0}, {\"col\": \"data\", \"idx\": 1521908760000, \"val\": 2}, {\"col\": \"data\", \"idx\": 1521908820000, \"val\": 0}, {\"col\": \"data\", \"idx\": 1521908880000, \"val\": 0}, {\"col\": \"data\", \"idx\": 1521908940000, \"val\": 1}, {\"col\": \"data\", \"idx\": 1521909000000, \"val\": 1}, {\"col\": \"data\", \"idx\": 1521909060000, \"val\": 1}, {\"col\": \"data\", \"idx\": 1521909120000, \"val\": 0}, {\"col\": \"data\", \"idx\": 1521909180000, \"val\": 0}, {\"col\": \"data\", \"idx\": 1521909240000, \"val\": 1}, {\"col\": \"data\", \"idx\": 1521909300000, \"val\": 1}, {\"col\": \"data\", \"idx\": 1521909360000, \"val\": 0}, {\"col\": \"data\", \"idx\": 1521909420000, \"val\": 2}, {\"col\": \"data\", \"idx\": 1521909480000, \"val\": 1}, {\"col\": \"data\", \"idx\": 1521909540000, \"val\": 1}, {\"col\": \"data\", \"idx\": 1521909600000, \"val\": 0}, {\"col\": \"data\", \"idx\": 1521909660000, \"val\": 0}, {\"col\": \"data\", \"idx\": 1521909720000, \"val\": 1}, {\"col\": \"data\", \"idx\": 1521909780000, \"val\": 0}, {\"col\": \"data\", \"idx\": 1521909840000, \"val\": 1}, {\"col\": \"data\", \"idx\": 1521909900000, \"val\": 1}, {\"col\": \"data\", \"idx\": 1521909960000, \"val\": 1}, {\"col\": \"data\", \"idx\": 1521910020000, \"val\": 0}, {\"col\": \"data\", \"idx\": 1521910080000, \"val\": 2}, {\"col\": \"data\", \"idx\": 1521910140000, \"val\": 0}, {\"col\": \"data\", \"idx\": 1521910200000, \"val\": 2}, {\"col\": \"data\", \"idx\": 1521910260000, \"val\": 0}, {\"col\": \"data\", \"idx\": 1521910320000, \"val\": 0}, {\"col\": \"data\", \"idx\": 1521910380000, \"val\": 1}, {\"col\": \"data\", \"idx\": 1521910440000, \"val\": 0}, {\"col\": \"data\", \"idx\": 1521910500000, \"val\": 1}, {\"col\": \"data\", \"idx\": 1521910560000, \"val\": 2}, {\"col\": \"data\", \"idx\": 1521910620000, \"val\": 1}, {\"col\": \"data\", \"idx\": 1521910680000, \"val\": 3}, {\"col\": \"data\", \"idx\": 1521910740000, \"val\": 4}, {\"col\": \"data\", \"idx\": 1521910800000, \"val\": 0}, {\"col\": \"data\", \"idx\": 1521910860000, \"val\": 0}, {\"col\": \"data\", \"idx\": 1521910920000, \"val\": 1}, {\"col\": \"data\", \"idx\": 1521910980000, \"val\": 0}, {\"col\": \"data\", \"idx\": 1521911040000, \"val\": 2}, {\"col\": \"data\", \"idx\": 1521911100000, \"val\": 3}, {\"col\": \"data\", \"idx\": 1521911160000, \"val\": 0}, {\"col\": \"data\", \"idx\": 1521911220000, \"val\": 0}, {\"col\": \"data\", \"idx\": 1521911280000, \"val\": 0}, {\"col\": \"data\", \"idx\": 1521911340000, \"val\": 0}, {\"col\": \"data\", \"idx\": 1521911400000, \"val\": 0}, {\"col\": \"data\", \"idx\": 1521911460000, \"val\": 0}, {\"col\": \"data\", \"idx\": 1521911520000, \"val\": 0}, {\"col\": \"data\", \"idx\": 1521911580000, \"val\": 0}, {\"col\": \"data\", \"idx\": 1521911640000, \"val\": 0}, {\"col\": \"data\", \"idx\": 1521911700000, \"val\": 0}, {\"col\": \"data\", \"idx\": 1521911760000, \"val\": 0}, {\"col\": \"data\", \"idx\": 1521911820000, \"val\": 0}, {\"col\": \"data\", \"idx\": 1521911880000, \"val\": 0}, {\"col\": \"data\", \"idx\": 1521911940000, \"val\": 0}, {\"col\": \"data\", \"idx\": 1521912000000, \"val\": 0}, {\"col\": \"data\", \"idx\": 1521912060000, \"val\": 0}, {\"col\": \"data\", \"idx\": 1521912120000, \"val\": 0}, {\"col\": \"data\", \"idx\": 1521912180000, \"val\": 0}, {\"col\": \"data\", \"idx\": 1521912240000, \"val\": 0}, {\"col\": \"data\", \"idx\": 1521912300000, \"val\": 0}, {\"col\": \"data\", \"idx\": 1521912360000, \"val\": 0}, {\"col\": \"data\", \"idx\": 1521912420000, \"val\": 0}, {\"col\": \"data\", \"idx\": 1521912480000, \"val\": 0}, {\"col\": \"data\", \"idx\": 1521912540000, \"val\": 0}, {\"col\": \"data\", \"idx\": 1521912600000, \"val\": 0}, {\"col\": \"data\", \"idx\": 1521912660000, \"val\": 0}, {\"col\": \"data\", \"idx\": 1521912720000, \"val\": 0}, {\"col\": \"data\", \"idx\": 1521912780000, \"val\": 0}, {\"col\": \"data\", \"idx\": 1521912840000, \"val\": 0}, {\"col\": \"data\", \"idx\": 1521912900000, \"val\": 0}, {\"col\": \"data\", \"idx\": 1521912960000, \"val\": 0}, {\"col\": \"data\", \"idx\": 1521913020000, \"val\": 0}, {\"col\": \"data\", \"idx\": 1521913080000, \"val\": 0}, {\"col\": \"data\", \"idx\": 1521913140000, \"val\": 0}, {\"col\": \"data\", \"idx\": 1521913200000, \"val\": 0}, {\"col\": \"data\", \"idx\": 1521913260000, \"val\": 0}, {\"col\": \"data\", \"idx\": 1521913320000, \"val\": 0}, {\"col\": \"data\", \"idx\": 1521913380000, \"val\": 0}, {\"col\": \"data\", \"idx\": 1521913440000, \"val\": 0}, {\"col\": \"data\", \"idx\": 1521913500000, \"val\": 0}, {\"col\": \"data\", \"idx\": 1521913560000, \"val\": 0}, {\"col\": \"data\", \"idx\": 1521913620000, \"val\": 0}, {\"col\": \"data\", \"idx\": 1521913680000, \"val\": 0}, {\"col\": \"data\", \"idx\": 1521913740000, \"val\": 0}, {\"col\": \"data\", \"idx\": 1521913800000, \"val\": 0}, {\"col\": \"data\", \"idx\": 1521913860000, \"val\": 0}, {\"col\": \"data\", \"idx\": 1521913920000, \"val\": 0}, {\"col\": \"data\", \"idx\": 1521913980000, \"val\": 0}, {\"col\": \"data\", \"idx\": 1521914040000, \"val\": 0}, {\"col\": \"data\", \"idx\": 1521914100000, \"val\": 0}, {\"col\": \"data\", \"idx\": 1521914160000, \"val\": 0}, {\"col\": \"data\", \"idx\": 1521914220000, \"val\": 0}, {\"col\": \"data\", \"idx\": 1521914280000, \"val\": 0}, {\"col\": \"data\", \"idx\": 1521914340000, \"val\": 0}, {\"col\": \"data\", \"idx\": 1521914400000, \"val\": 0}, {\"col\": \"data\", \"idx\": 1521914460000, \"val\": 0}, {\"col\": \"data\", \"idx\": 1521914520000, \"val\": 0}, {\"col\": \"data\", \"idx\": 1521914580000, \"val\": 0}, {\"col\": \"data\", \"idx\": 1521914640000, \"val\": 0}, {\"col\": \"data\", \"idx\": 1521914700000, \"val\": 0}, {\"col\": \"data\", \"idx\": 1521914760000, \"val\": 0}, {\"col\": \"data\", \"idx\": 1521914820000, \"val\": 0}, {\"col\": \"data\", \"idx\": 1521914880000, \"val\": 0}, {\"col\": \"data\", \"idx\": 1521914940000, \"val\": 0}, {\"col\": \"data\", \"idx\": 1521915000000, \"val\": 0}, {\"col\": \"data\", \"idx\": 1521915060000, \"val\": 0}, {\"col\": \"data\", \"idx\": 1521915120000, \"val\": 0}, {\"col\": \"data\", \"idx\": 1521915180000, \"val\": 0}, {\"col\": \"data\", \"idx\": 1521915240000, \"val\": 0}, {\"col\": \"data\", \"idx\": 1521915300000, \"val\": 0}, {\"col\": \"data\", \"idx\": 1521915360000, \"val\": 0}, {\"col\": \"data\", \"idx\": 1521915420000, \"val\": 0}, {\"col\": \"data\", \"idx\": 1521915480000, \"val\": 0}, {\"col\": \"data\", \"idx\": 1521915540000, \"val\": 0}, {\"col\": \"data\", \"idx\": 1521915600000, \"val\": 0}, {\"col\": \"data\", \"idx\": 1521915660000, \"val\": 0}, {\"col\": \"data\", \"idx\": 1521915720000, \"val\": 0}, {\"col\": \"data\", \"idx\": 1521915780000, \"val\": 0}, {\"col\": \"data\", \"idx\": 1521915840000, \"val\": 0}, {\"col\": \"data\", \"idx\": 1521915900000, \"val\": 0}, {\"col\": \"data\", \"idx\": 1521915960000, \"val\": 0}, {\"col\": \"data\", \"idx\": 1521916020000, \"val\": 0}, {\"col\": \"data\", \"idx\": 1521916080000, \"val\": 0}, {\"col\": \"data\", \"idx\": 1521916140000, \"val\": 0}, {\"col\": \"data\", \"idx\": 1521916200000, \"val\": 0}, {\"col\": \"data\", \"idx\": 1521916260000, \"val\": 0}, {\"col\": \"data\", \"idx\": 1521916320000, \"val\": 0}, {\"col\": \"data\", \"idx\": 1521916380000, \"val\": 0}, {\"col\": \"data\", \"idx\": 1521916440000, \"val\": 0}, {\"col\": \"data\", \"idx\": 1521916500000, \"val\": 0}, {\"col\": \"data\", \"idx\": 1521916560000, \"val\": 0}, {\"col\": \"data\", \"idx\": 1521916620000, \"val\": 0}, {\"col\": \"data\", \"idx\": 1521916680000, \"val\": 0}, {\"col\": \"data\", \"idx\": 1521916740000, \"val\": 0}, {\"col\": \"data\", \"idx\": 1521916800000, \"val\": 0}, {\"col\": \"data\", \"idx\": 1521916860000, \"val\": 0}, {\"col\": \"data\", \"idx\": 1521916920000, \"val\": 0}, {\"col\": \"data\", \"idx\": 1521916980000, \"val\": 0}, {\"col\": \"data\", \"idx\": 1521917040000, \"val\": 0}, {\"col\": \"data\", \"idx\": 1521917100000, \"val\": 0}, {\"col\": \"data\", \"idx\": 1521917160000, \"val\": 0}, {\"col\": \"data\", \"idx\": 1521917220000, \"val\": 0}, {\"col\": \"data\", \"idx\": 1521917280000, \"val\": 0}, {\"col\": \"data\", \"idx\": 1521917340000, \"val\": 0}, {\"col\": \"data\", \"idx\": 1521917400000, \"val\": 0}, {\"col\": \"data\", \"idx\": 1521917460000, \"val\": 0}, {\"col\": \"data\", \"idx\": 1521917520000, \"val\": 0}, {\"col\": \"data\", \"idx\": 1521917580000, \"val\": 0}, {\"col\": \"data\", \"idx\": 1521917640000, \"val\": 0}, {\"col\": \"data\", \"idx\": 1521917700000, \"val\": 0}, {\"col\": \"data\", \"idx\": 1521917760000, \"val\": 0}, {\"col\": \"data\", \"idx\": 1521917820000, \"val\": 0}, {\"col\": \"data\", \"idx\": 1521917880000, \"val\": 0}, {\"col\": \"data\", \"idx\": 1521917940000, \"val\": 0}, {\"col\": \"data\", \"idx\": 1521918000000, \"val\": 1}, {\"col\": \"data\", \"idx\": 1521918060000, \"val\": 1}, {\"col\": \"data\", \"idx\": 1521918120000, \"val\": 1}, {\"col\": \"data\", \"idx\": 1521918180000, \"val\": 0}, {\"col\": \"data\", \"idx\": 1521918240000, \"val\": 2}, {\"col\": \"data\", \"idx\": 1521918300000, \"val\": 5}, {\"col\": \"data\", \"idx\": 1521918360000, \"val\": 2}, {\"col\": \"data\", \"idx\": 1521918420000, \"val\": 1}, {\"col\": \"data\", \"idx\": 1521918480000, \"val\": 2}, {\"col\": \"data\", \"idx\": 1521918540000, \"val\": 1}, {\"col\": \"data\", \"idx\": 1521918600000, \"val\": 1}, {\"col\": \"data\", \"idx\": 1521918660000, \"val\": 1}, {\"col\": \"data\", \"idx\": 1521918720000, \"val\": 1}, {\"col\": \"data\", \"idx\": 1521918780000, \"val\": 0}, {\"col\": \"data\", \"idx\": 1521918840000, \"val\": 0}, {\"col\": \"data\", \"idx\": 1521918900000, \"val\": 0}, {\"col\": \"data\", \"idx\": 1521918960000, \"val\": 2}, {\"col\": \"data\", \"idx\": 1521919020000, \"val\": 1}, {\"col\": \"data\", \"idx\": 1521919080000, \"val\": 2}, {\"col\": \"data\", \"idx\": 1521919140000, \"val\": 0}, {\"col\": \"data\", \"idx\": 1521919200000, \"val\": 0}, {\"col\": \"data\", \"idx\": 1521919260000, \"val\": 0}, {\"col\": \"data\", \"idx\": 1521919320000, \"val\": 0}, {\"col\": \"data\", \"idx\": 1521919380000, \"val\": 0}, {\"col\": \"data\", \"idx\": 1521919440000, \"val\": 0}, {\"col\": \"data\", \"idx\": 1521919500000, \"val\": 0}, {\"col\": \"data\", \"idx\": 1521919560000, \"val\": 0}, {\"col\": \"data\", \"idx\": 1521919620000, \"val\": 0}, {\"col\": \"data\", \"idx\": 1521919680000, \"val\": 0}, {\"col\": \"data\", \"idx\": 1521919740000, \"val\": 0}, {\"col\": \"data\", \"idx\": 1521919800000, \"val\": 1}, {\"col\": \"data\", \"idx\": 1521919860000, \"val\": 0}, {\"col\": \"data\", \"idx\": 1521919920000, \"val\": 0}, {\"col\": \"data\", \"idx\": 1521919980000, \"val\": 0}, {\"col\": \"data\", \"idx\": 1521920040000, \"val\": 0}, {\"col\": \"data\", \"idx\": 1521920100000, \"val\": 2}, {\"col\": \"data\", \"idx\": 1521920160000, \"val\": 1}, {\"col\": \"data\", \"idx\": 1521920220000, \"val\": 0}, {\"col\": \"data\", \"idx\": 1521920280000, \"val\": 1}, {\"col\": \"data\", \"idx\": 1521920340000, \"val\": 0}, {\"col\": \"data\", \"idx\": 1521920400000, \"val\": 1}, {\"col\": \"data\", \"idx\": 1521920460000, \"val\": 0}, {\"col\": \"data\", \"idx\": 1521920520000, \"val\": 0}, {\"col\": \"data\", \"idx\": 1521920580000, \"val\": 0}, {\"col\": \"data\", \"idx\": 1521920640000, \"val\": 0}, {\"col\": \"data\", \"idx\": 1521920700000, \"val\": 0}, {\"col\": \"data\", \"idx\": 1521920760000, \"val\": 1}, {\"col\": \"data\", \"idx\": 1521920820000, \"val\": 1}, {\"col\": \"data\", \"idx\": 1521920880000, \"val\": 1}, {\"col\": \"data\", \"idx\": 1521920940000, \"val\": 0}, {\"col\": \"data\", \"idx\": 1521921000000, \"val\": 0}, {\"col\": \"data\", \"idx\": 1521921060000, \"val\": 1}, {\"col\": \"data\", \"idx\": 1521921120000, \"val\": 2}, {\"col\": \"data\", \"idx\": 1521921180000, \"val\": 0}, {\"col\": \"data\", \"idx\": 1521921240000, \"val\": 3}, {\"col\": \"data\", \"idx\": 1521921300000, \"val\": 0}, {\"col\": \"data\", \"idx\": 1521921360000, \"val\": 0}, {\"col\": \"data\", \"idx\": 1521921420000, \"val\": 0}, {\"col\": \"data\", \"idx\": 1521921480000, \"val\": 0}, {\"col\": \"data\", \"idx\": 1521921540000, \"val\": 2}, {\"col\": \"data\", \"idx\": 1521921600000, \"val\": 0}, {\"col\": \"data\", \"idx\": 1521921660000, \"val\": 1}, {\"col\": \"data\", \"idx\": 1521921720000, \"val\": 0}, {\"col\": \"data\", \"idx\": 1521921780000, \"val\": 0}, {\"col\": \"data\", \"idx\": 1521921840000, \"val\": 2}, {\"col\": \"data\", \"idx\": 1521921900000, \"val\": 1}, {\"col\": \"data\", \"idx\": 1521921960000, \"val\": 2}, {\"col\": \"data\", \"idx\": 1521922020000, \"val\": 0}, {\"col\": \"data\", \"idx\": 1521922080000, \"val\": 1}, {\"col\": \"data\", \"idx\": 1521922140000, \"val\": 3}, {\"col\": \"data\", \"idx\": 1521922200000, \"val\": 1}, {\"col\": \"data\", \"idx\": 1521922260000, \"val\": 1}, {\"col\": \"data\", \"idx\": 1521922320000, \"val\": 2}, {\"col\": \"data\", \"idx\": 1521922380000, \"val\": 1}, {\"col\": \"data\", \"idx\": 1521922440000, \"val\": 1}, {\"col\": \"data\", \"idx\": 1521922500000, \"val\": 2}, {\"col\": \"data\", \"idx\": 1521922560000, \"val\": 0}, {\"col\": \"data\", \"idx\": 1521922620000, \"val\": 0}, {\"col\": \"data\", \"idx\": 1521922680000, \"val\": 0}, {\"col\": \"data\", \"idx\": 1521922740000, \"val\": 2}, {\"col\": \"data\", \"idx\": 1521922800000, \"val\": 0}, {\"col\": \"data\", \"idx\": 1521922860000, \"val\": 2}, {\"col\": \"data\", \"idx\": 1521922920000, \"val\": 3}, {\"col\": \"data\", \"idx\": 1521922980000, \"val\": 1}, {\"col\": \"data\", \"idx\": 1521923040000, \"val\": 0}, {\"col\": \"data\", \"idx\": 1521923100000, \"val\": 0}, {\"col\": \"data\", \"idx\": 1521923160000, \"val\": 0}, {\"col\": \"data\", \"idx\": 1521923220000, \"val\": 0}, {\"col\": \"data\", \"idx\": 1521923280000, \"val\": 0}, {\"col\": \"data\", \"idx\": 1521923340000, \"val\": 1}, {\"col\": \"data\", \"idx\": 1521923400000, \"val\": 0}, {\"col\": \"data\", \"idx\": 1521923460000, \"val\": 1}, {\"col\": \"data\", \"idx\": 1521923520000, \"val\": 1}, {\"col\": \"data\", \"idx\": 1521923580000, \"val\": 2}, {\"col\": \"data\", \"idx\": 1521923640000, \"val\": 0}, {\"col\": \"data\", \"idx\": 1521923700000, \"val\": 0}, {\"col\": \"data\", \"idx\": 1521923760000, \"val\": 0}, {\"col\": \"data\", \"idx\": 1521923820000, \"val\": 2}, {\"col\": \"data\", \"idx\": 1521923880000, \"val\": 1}, {\"col\": \"data\", \"idx\": 1521923940000, \"val\": 0}, {\"col\": \"data\", \"idx\": 1521924000000, \"val\": 0}, {\"col\": \"data\", \"idx\": 1521924060000, \"val\": 0}, {\"col\": \"data\", \"idx\": 1521924120000, \"val\": 0}, {\"col\": \"data\", \"idx\": 1521924180000, \"val\": 0}, {\"col\": \"data\", \"idx\": 1521924240000, \"val\": 1}, {\"col\": \"data\", \"idx\": 1521924300000, \"val\": 0}, {\"col\": \"data\", \"idx\": 1521924360000, \"val\": 1}, {\"col\": \"data\", \"idx\": 1521924420000, \"val\": 3}, {\"col\": \"data\", \"idx\": 1521924480000, \"val\": 0}, {\"col\": \"data\", \"idx\": 1521924540000, \"val\": 0}, {\"col\": \"data\", \"idx\": 1521924600000, \"val\": 2}, {\"col\": \"data\", \"idx\": 1521924660000, \"val\": 1}, {\"col\": \"data\", \"idx\": 1521924720000, \"val\": 0}, {\"col\": \"data\", \"idx\": 1521924780000, \"val\": 2}, {\"col\": \"data\", \"idx\": 1521924840000, \"val\": 0}, {\"col\": \"data\", \"idx\": 1521924900000, \"val\": 0}, {\"col\": \"data\", \"idx\": 1521924960000, \"val\": 0}, {\"col\": \"data\", \"idx\": 1521925020000, \"val\": 2}, {\"col\": \"data\", \"idx\": 1521925080000, \"val\": 2}, {\"col\": \"data\", \"idx\": 1521925140000, \"val\": 0}, {\"col\": \"data\", \"idx\": 1521925200000, \"val\": 1}, {\"col\": \"data\", \"idx\": 1521925260000, \"val\": 0}, {\"col\": \"data\", \"idx\": 1521925320000, \"val\": 0}, {\"col\": \"data\", \"idx\": 1521925380000, \"val\": 0}, {\"col\": \"data\", \"idx\": 1521925440000, \"val\": 0}, {\"col\": \"data\", \"idx\": 1521925500000, \"val\": 0}, {\"col\": \"data\", \"idx\": 1521925560000, \"val\": 1}, {\"col\": \"data\", \"idx\": 1521925620000, \"val\": 0}, {\"col\": \"data\", \"idx\": 1521925680000, \"val\": 1}, {\"col\": \"data\", \"idx\": 1521925740000, \"val\": 2}, {\"col\": \"data\", \"idx\": 1521925800000, \"val\": 0}, {\"col\": \"data\", \"idx\": 1521925860000, \"val\": 1}, {\"col\": \"data\", \"idx\": 1521925920000, \"val\": 1}, {\"col\": \"data\", \"idx\": 1521925980000, \"val\": 0}, {\"col\": \"data\", \"idx\": 1521926040000, \"val\": 0}, {\"col\": \"data\", \"idx\": 1521926100000, \"val\": 0}, {\"col\": \"data\", \"idx\": 1521926160000, \"val\": 1}, {\"col\": \"data\", \"idx\": 1521926220000, \"val\": 1}, {\"col\": \"data\", \"idx\": 1521926280000, \"val\": 0}, {\"col\": \"data\", \"idx\": 1521926340000, \"val\": 0}, {\"col\": \"data\", \"idx\": 1521926400000, \"val\": 1}, {\"col\": \"data\", \"idx\": 1521926460000, \"val\": 0}, {\"col\": \"data\", \"idx\": 1521926520000, \"val\": 0}, {\"col\": \"data\", \"idx\": 1521926580000, \"val\": 0}, {\"col\": \"data\", \"idx\": 1521926640000, \"val\": 0}, {\"col\": \"data\", \"idx\": 1521926700000, \"val\": 2}, {\"col\": \"data\", \"idx\": 1521926760000, \"val\": 0}, {\"col\": \"data\", \"idx\": 1521926820000, \"val\": 0}, {\"col\": \"data\", \"idx\": 1521926880000, \"val\": 2}, {\"col\": \"data\", \"idx\": 1521926940000, \"val\": 0}, {\"col\": \"data\", \"idx\": 1521927000000, \"val\": 2}, {\"col\": \"data\", \"idx\": 1521927060000, \"val\": 1}, {\"col\": \"data\", \"idx\": 1521927120000, \"val\": 0}, {\"col\": \"data\", \"idx\": 1521927180000, \"val\": 0}, {\"col\": \"data\", \"idx\": 1521927240000, \"val\": 0}, {\"col\": \"data\", \"idx\": 1521927300000, \"val\": 0}, {\"col\": \"data\", \"idx\": 1521927360000, \"val\": 0}, {\"col\": \"data\", \"idx\": 1521927420000, \"val\": 0}, {\"col\": \"data\", \"idx\": 1521927480000, \"val\": 0}, {\"col\": \"data\", \"idx\": 1521927540000, \"val\": 0}, {\"col\": \"data\", \"idx\": 1521927600000, \"val\": 0}, {\"col\": \"data\", \"idx\": 1521927660000, \"val\": 0}, {\"col\": \"data\", \"idx\": 1521927720000, \"val\": 1}, {\"col\": \"data\", \"idx\": 1521927780000, \"val\": 0}, {\"col\": \"data\", \"idx\": 1521927840000, \"val\": 2}, {\"col\": \"data\", \"idx\": 1521927900000, \"val\": 0}, {\"col\": \"data\", \"idx\": 1521927960000, \"val\": 0}, {\"col\": \"data\", \"idx\": 1521928020000, \"val\": 0}, {\"col\": \"data\", \"idx\": 1521928080000, \"val\": 0}, {\"col\": \"data\", \"idx\": 1521928140000, \"val\": 4}, {\"col\": \"data\", \"idx\": 1521928200000, \"val\": 1}, {\"col\": \"data\", \"idx\": 1521928260000, \"val\": 1}, {\"col\": \"data\", \"idx\": 1521928320000, \"val\": 1}, {\"col\": \"data\", \"idx\": 1521928380000, \"val\": 1}, {\"col\": \"data\", \"idx\": 1521928440000, \"val\": 1}, {\"col\": \"data\", \"idx\": 1521928500000, \"val\": 0}, {\"col\": \"data\", \"idx\": 1521928560000, \"val\": 3}, {\"col\": \"data\", \"idx\": 1521928620000, \"val\": 0}, {\"col\": \"data\", \"idx\": 1521928680000, \"val\": 1}, {\"col\": \"data\", \"idx\": 1521928740000, \"val\": 1}, {\"col\": \"data\", \"idx\": 1521928800000, \"val\": 1}, {\"col\": \"data\", \"idx\": 1521928860000, \"val\": 2}, {\"col\": \"data\", \"idx\": 1521928920000, \"val\": 1}, {\"col\": \"data\", \"idx\": 1521928980000, \"val\": 1}, {\"col\": \"data\", \"idx\": 1521929040000, \"val\": 1}, {\"col\": \"data\", \"idx\": 1521929100000, \"val\": 2}, {\"col\": \"data\", \"idx\": 1521929160000, \"val\": 3}, {\"col\": \"data\", \"idx\": 1521929220000, \"val\": 0}, {\"col\": \"data\", \"idx\": 1521929280000, \"val\": 0}, {\"col\": \"data\", \"idx\": 1521929340000, \"val\": 1}, {\"col\": \"data\", \"idx\": 1521929400000, \"val\": 0}, {\"col\": \"data\", \"idx\": 1521929460000, \"val\": 0}, {\"col\": \"data\", \"idx\": 1521929520000, \"val\": 0}, {\"col\": \"data\", \"idx\": 1521929580000, \"val\": 1}, {\"col\": \"data\", \"idx\": 1521929640000, \"val\": 0}, {\"col\": \"data\", \"idx\": 1521929700000, \"val\": 0}, {\"col\": \"data\", \"idx\": 1521929760000, \"val\": 0}, {\"col\": \"data\", \"idx\": 1521929820000, \"val\": 0}, {\"col\": \"data\", \"idx\": 1521929880000, \"val\": 0}, {\"col\": \"data\", \"idx\": 1521929940000, \"val\": 0}, {\"col\": \"data\", \"idx\": 1521930000000, \"val\": 0}, {\"col\": \"data\", \"idx\": 1521930060000, \"val\": 0}, {\"col\": \"data\", \"idx\": 1521930120000, \"val\": 1}, {\"col\": \"data\", \"idx\": 1521930180000, \"val\": 0}, {\"col\": \"data\", \"idx\": 1521930240000, \"val\": 1}, {\"col\": \"data\", \"idx\": 1521930300000, \"val\": 0}, {\"col\": \"data\", \"idx\": 1521930360000, \"val\": 1}, {\"col\": \"data\", \"idx\": 1521930420000, \"val\": 0}, {\"col\": \"data\", \"idx\": 1521930480000, \"val\": 2}, {\"col\": \"data\", \"idx\": 1521930540000, \"val\": 1}, {\"col\": \"data\", \"idx\": 1521930600000, \"val\": 0}, {\"col\": \"data\", \"idx\": 1521930660000, \"val\": 2}, {\"col\": \"data\", \"idx\": 1521930720000, \"val\": 1}, {\"col\": \"data\", \"idx\": 1521930780000, \"val\": 2}, {\"col\": \"data\", \"idx\": 1521930840000, \"val\": 1}, {\"col\": \"data\", \"idx\": 1521930900000, \"val\": 0}, {\"col\": \"data\", \"idx\": 1521930960000, \"val\": 0}, {\"col\": \"data\", \"idx\": 1521931020000, \"val\": 1}, {\"col\": \"data\", \"idx\": 1521931080000, \"val\": 1}, {\"col\": \"data\", \"idx\": 1521931140000, \"val\": 4}, {\"col\": \"data\", \"idx\": 1521931200000, \"val\": 0}, {\"col\": \"data\", \"idx\": 1521931260000, \"val\": 1}, {\"col\": \"data\", \"idx\": 1521931320000, \"val\": 0}, {\"col\": \"data\", \"idx\": 1521931380000, \"val\": 2}, {\"col\": \"data\", \"idx\": 1521931440000, \"val\": 0}, {\"col\": \"data\", \"idx\": 1521931500000, \"val\": 0}, {\"col\": \"data\", \"idx\": 1521931560000, \"val\": 1}, {\"col\": \"data\", \"idx\": 1521931620000, \"val\": 0}, {\"col\": \"data\", \"idx\": 1521931680000, \"val\": 0}, {\"col\": \"data\", \"idx\": 1521931740000, \"val\": 0}, {\"col\": \"data\", \"idx\": 1521931800000, \"val\": 0}, {\"col\": \"data\", \"idx\": 1521931860000, \"val\": 0}, {\"col\": \"data\", \"idx\": 1521931920000, \"val\": 1}, {\"col\": \"data\", \"idx\": 1521931980000, \"val\": 0}, {\"col\": \"data\", \"idx\": 1521932040000, \"val\": 0}, {\"col\": \"data\", \"idx\": 1521932100000, \"val\": 0}, {\"col\": \"data\", \"idx\": 1521932160000, \"val\": 0}, {\"col\": \"data\", \"idx\": 1521932220000, \"val\": 0}, {\"col\": \"data\", \"idx\": 1521932280000, \"val\": 0}, {\"col\": \"data\", \"idx\": 1521932340000, \"val\": 0}, {\"col\": \"data\", \"idx\": 1521932400000, \"val\": 0}, {\"col\": \"data\", \"idx\": 1521932460000, \"val\": 0}, {\"col\": \"data\", \"idx\": 1521932520000, \"val\": 0}, {\"col\": \"data\", \"idx\": 1521932580000, \"val\": 0}, {\"col\": \"data\", \"idx\": 1521932640000, \"val\": 0}, {\"col\": \"data\", \"idx\": 1521932700000, \"val\": 0}, {\"col\": \"data\", \"idx\": 1521932760000, \"val\": 0}, {\"col\": \"data\", \"idx\": 1521932820000, \"val\": 0}, {\"col\": \"data\", \"idx\": 1521932880000, \"val\": 0}, {\"col\": \"data\", \"idx\": 1521932940000, \"val\": 0}, {\"col\": \"data\", \"idx\": 1521933000000, \"val\": 0}, {\"col\": \"data\", \"idx\": 1521933060000, \"val\": 0}, {\"col\": \"data\", \"idx\": 1521933120000, \"val\": 0}, {\"col\": \"data\", \"idx\": 1521933180000, \"val\": 0}, {\"col\": \"data\", \"idx\": 1521933240000, \"val\": 0}, {\"col\": \"data\", \"idx\": 1521933300000, \"val\": 0}, {\"col\": \"data\", \"idx\": 1521933360000, \"val\": 0}, {\"col\": \"data\", \"idx\": 1521933420000, \"val\": 0}, {\"col\": \"data\", \"idx\": 1521933480000, \"val\": 0}, {\"col\": \"data\", \"idx\": 1521933540000, \"val\": 0}, {\"col\": \"data\", \"idx\": 1521933600000, \"val\": 0}, {\"col\": \"data\", \"idx\": 1521933660000, \"val\": 2}, {\"col\": \"data\", \"idx\": 1521933720000, \"val\": 1}, {\"col\": \"data\", \"idx\": 1521933780000, \"val\": 2}, {\"col\": \"data\", \"idx\": 1521933840000, \"val\": 0}, {\"col\": \"data\", \"idx\": 1521933900000, \"val\": 2}, {\"col\": \"data\", \"idx\": 1521933960000, \"val\": 1}, {\"col\": \"data\", \"idx\": 1521934020000, \"val\": 4}, {\"col\": \"data\", \"idx\": 1521934080000, \"val\": 5}, {\"col\": \"data\", \"idx\": 1521934140000, \"val\": 2}, {\"col\": \"data\", \"idx\": 1521934200000, \"val\": 3}, {\"col\": \"data\", \"idx\": 1521934260000, \"val\": 2}, {\"col\": \"data\", \"idx\": 1521934320000, \"val\": 2}, {\"col\": \"data\", \"idx\": 1521934380000, \"val\": 2}, {\"col\": \"data\", \"idx\": 1521934440000, \"val\": 1}, {\"col\": \"data\", \"idx\": 1521934500000, \"val\": 0}, {\"col\": \"data\", \"idx\": 1521934560000, \"val\": 0}, {\"col\": \"data\", \"idx\": 1521934620000, \"val\": 1}, {\"col\": \"data\", \"idx\": 1521934680000, \"val\": 0}, {\"col\": \"data\", \"idx\": 1521934740000, \"val\": 0}, {\"col\": \"data\", \"idx\": 1521934800000, \"val\": 0}, {\"col\": \"data\", \"idx\": 1521934860000, \"val\": 0}, {\"col\": \"data\", \"idx\": 1521934920000, \"val\": 0}, {\"col\": \"data\", \"idx\": 1521934980000, \"val\": 0}, {\"col\": \"data\", \"idx\": 1521935040000, \"val\": 0}, {\"col\": \"data\", \"idx\": 1521935100000, \"val\": 0}, {\"col\": \"data\", \"idx\": 1521935160000, \"val\": 1}, {\"col\": \"data\", \"idx\": 1521935220000, \"val\": 0}, {\"col\": \"data\", \"idx\": 1521935280000, \"val\": 0}, {\"col\": \"data\", \"idx\": 1521935340000, \"val\": 0}, {\"col\": \"data\", \"idx\": 1521935400000, \"val\": 2}, {\"col\": \"data\", \"idx\": 1521935460000, \"val\": 3}, {\"col\": \"data\", \"idx\": 1521935520000, \"val\": 0}, {\"col\": \"data\", \"idx\": 1521935580000, \"val\": 1}, {\"col\": \"data\", \"idx\": 1521935640000, \"val\": 1}]}], \"height\": 500, \"legends\": [], \"marks\": [{\"from\": {\"data\": \"table\", \"transform\": [{\"keys\": [\"data.col\"], \"type\": \"facet\"}]}, \"marks\": [{\"properties\": {\"enter\": {\"stroke\": {\"field\": \"data.col\", \"scale\": \"color\"}, \"strokeWidth\": {\"value\": 2}, \"x\": {\"field\": \"data.idx\", \"scale\": \"x\"}, \"y\": {\"field\": \"data.val\", \"scale\": \"y\"}}}, \"type\": \"line\"}], \"type\": \"group\"}], \"padding\": \"auto\", \"scales\": [{\"domain\": {\"data\": \"table\", \"field\": \"data.idx\"}, \"name\": \"x\", \"range\": \"width\", \"type\": \"time\"}, {\"domain\": {\"data\": \"table\", \"field\": \"data.val\"}, \"name\": \"y\", \"nice\": true, \"range\": \"height\"}, {\"domain\": {\"data\": \"table\", \"field\": \"data.col\"}, \"name\": \"color\", \"range\": \"category20\", \"type\": \"ordinal\"}], \"width\": 960}, function(chart) {\n",
       "         chart({el: \"#visf8f687cc385b49b5b6bee181011bee2c\"}).update();\n",
       "       });\n",
       "     };\n",
       "     _do_plot();\n",
       "   })();\n",
       "</script>\n",
       "<style>.vega canvas {width: 100%;}</style>\n",
       "        "
      ],
      "text/plain": [
       "<IPython.core.display.HTML object>"
      ]
     },
     "metadata": {},
     "output_type": "display_data"
    }
   ],
   "source": [
    "#Visualize the frequency of #shoolshooting was tweeted\n",
    "time_chart = vincent.Line(school_per_minute)\n",
    "time_chart.axis_titles(x='Time', y='Hashtag frequencies')\n",
    "time_chart.display()"
   ]
  },
  {
   "cell_type": "code",
   "execution_count": 41,
   "metadata": {},
   "outputs": [
    {
     "data": {
      "text/html": [
       "<div>\n",
       "<style scoped>\n",
       "    .dataframe tbody tr th:only-of-type {\n",
       "        vertical-align: middle;\n",
       "    }\n",
       "\n",
       "    .dataframe tbody tr th {\n",
       "        vertical-align: top;\n",
       "    }\n",
       "\n",
       "    .dataframe thead th {\n",
       "        text-align: right;\n",
       "    }\n",
       "</style>\n",
       "<table border=\"1\" class=\"dataframe\">\n",
       "  <thead>\n",
       "    <tr style=\"text-align: right;\">\n",
       "      <th></th>\n",
       "      <th>Again</th>\n",
       "      <th>Beach</th>\n",
       "      <th>Control</th>\n",
       "      <th>Enough</th>\n",
       "      <th>March</th>\n",
       "      <th>Violence</th>\n",
       "    </tr>\n",
       "  </thead>\n",
       "  <tbody>\n",
       "    <tr>\n",
       "      <th>2018-03-24 12:23:00-04:00</th>\n",
       "      <td>2</td>\n",
       "      <td>NaN</td>\n",
       "      <td>9</td>\n",
       "      <td>2</td>\n",
       "      <td>13</td>\n",
       "      <td>7</td>\n",
       "    </tr>\n",
       "    <tr>\n",
       "      <th>2018-03-24 12:24:00-04:00</th>\n",
       "      <td>2</td>\n",
       "      <td>NaN</td>\n",
       "      <td>13</td>\n",
       "      <td>2</td>\n",
       "      <td>26</td>\n",
       "      <td>11</td>\n",
       "    </tr>\n",
       "    <tr>\n",
       "      <th>2018-03-24 12:25:00-04:00</th>\n",
       "      <td>3</td>\n",
       "      <td>NaN</td>\n",
       "      <td>19</td>\n",
       "      <td>4</td>\n",
       "      <td>30</td>\n",
       "      <td>11</td>\n",
       "    </tr>\n",
       "    <tr>\n",
       "      <th>2018-03-24 12:26:00-04:00</th>\n",
       "      <td>7</td>\n",
       "      <td>NaN</td>\n",
       "      <td>29</td>\n",
       "      <td>8</td>\n",
       "      <td>38</td>\n",
       "      <td>16</td>\n",
       "    </tr>\n",
       "    <tr>\n",
       "      <th>2018-03-24 12:27:00-04:00</th>\n",
       "      <td>3</td>\n",
       "      <td>NaN</td>\n",
       "      <td>22</td>\n",
       "      <td>3</td>\n",
       "      <td>25</td>\n",
       "      <td>10</td>\n",
       "    </tr>\n",
       "    <tr>\n",
       "      <th>...</th>\n",
       "      <td>...</td>\n",
       "      <td>...</td>\n",
       "      <td>...</td>\n",
       "      <td>...</td>\n",
       "      <td>...</td>\n",
       "      <td>...</td>\n",
       "    </tr>\n",
       "    <tr>\n",
       "      <th>2018-03-24 19:51:00-04:00</th>\n",
       "      <td>18</td>\n",
       "      <td>2.0</td>\n",
       "      <td>34</td>\n",
       "      <td>43</td>\n",
       "      <td>54</td>\n",
       "      <td>9</td>\n",
       "    </tr>\n",
       "    <tr>\n",
       "      <th>2018-03-24 19:52:00-04:00</th>\n",
       "      <td>16</td>\n",
       "      <td>6.0</td>\n",
       "      <td>25</td>\n",
       "      <td>56</td>\n",
       "      <td>58</td>\n",
       "      <td>12</td>\n",
       "    </tr>\n",
       "    <tr>\n",
       "      <th>2018-03-24 19:53:00-04:00</th>\n",
       "      <td>14</td>\n",
       "      <td>5.0</td>\n",
       "      <td>27</td>\n",
       "      <td>38</td>\n",
       "      <td>51</td>\n",
       "      <td>11</td>\n",
       "    </tr>\n",
       "    <tr>\n",
       "      <th>2018-03-24 19:54:00-04:00</th>\n",
       "      <td>15</td>\n",
       "      <td>8.0</td>\n",
       "      <td>31</td>\n",
       "      <td>45</td>\n",
       "      <td>72</td>\n",
       "      <td>21</td>\n",
       "    </tr>\n",
       "    <tr>\n",
       "      <th>2018-03-24 19:55:00-04:00</th>\n",
       "      <td>10</td>\n",
       "      <td>5.0</td>\n",
       "      <td>15</td>\n",
       "      <td>22</td>\n",
       "      <td>28</td>\n",
       "      <td>11</td>\n",
       "    </tr>\n",
       "  </tbody>\n",
       "</table>\n",
       "<p>453 rows × 6 columns</p>\n",
       "</div>"
      ],
      "text/plain": [
       "                           Again  Beach  Control  Enough  March  Violence\n",
       "2018-03-24 12:23:00-04:00      2    NaN        9       2     13         7\n",
       "2018-03-24 12:24:00-04:00      2    NaN       13       2     26        11\n",
       "2018-03-24 12:25:00-04:00      3    NaN       19       4     30        11\n",
       "2018-03-24 12:26:00-04:00      7    NaN       29       8     38        16\n",
       "2018-03-24 12:27:00-04:00      3    NaN       22       3     25        10\n",
       "...                          ...    ...      ...     ...    ...       ...\n",
       "2018-03-24 19:51:00-04:00     18    2.0       34      43     54         9\n",
       "2018-03-24 19:52:00-04:00     16    6.0       25      56     58        12\n",
       "2018-03-24 19:53:00-04:00     14    5.0       27      38     51        11\n",
       "2018-03-24 19:54:00-04:00     15    8.0       31      45     72        21\n",
       "2018-03-24 19:55:00-04:00     10    5.0       15      22     28        11\n",
       "\n",
       "[453 rows x 6 columns]"
      ]
     },
     "execution_count": 41,
     "metadata": {},
     "output_type": "execute_result"
    }
   ],
   "source": [
    "match_data = dict(Beach=per_minute, March=march_per_minute, Enough=enough_per_minute, Again=again_per_minute, Control=control_per_minute, Violence=violence_per_minute)\n",
    "all_matches = pd.DataFrame(data = match_data,index=march_per_minute.index)\n",
    "all_matches"
   ]
  },
  {
   "cell_type": "code",
   "execution_count": 42,
   "metadata": {},
   "outputs": [
    {
     "data": {
      "text/html": [
       "<div id=\"vis9a04fa35c24e4309b95da2e607b0ccd2\"></div>\n",
       "<script>\n",
       "   ( function() {\n",
       "     var _do_plot = function() {\n",
       "       if (typeof vg === 'undefined') {\n",
       "         window.addEventListener('vincent_libs_loaded', _do_plot)\n",
       "         return;\n",
       "       }\n",
       "       vg.parse.spec({\"axes\": [{\"scale\": \"x\", \"title\": \"Time\", \"type\": \"x\"}, {\"scale\": \"y\", \"title\": \"Freq\", \"type\": \"y\"}], \"data\": [{\"name\": \"table\", \"values\": [{\"col\": \"March\", \"idx\": 1521908580000, \"val\": 13}, {\"col\": \"Enough\", \"idx\": 1521908580000, \"val\": 2}, {\"col\": \"Control\", \"idx\": 1521908580000, \"val\": 9}, {\"col\": \"March\", \"idx\": 1521908640000, \"val\": 26}, {\"col\": \"Enough\", \"idx\": 1521908640000, \"val\": 2}, {\"col\": \"Control\", \"idx\": 1521908640000, \"val\": 13}, {\"col\": \"March\", \"idx\": 1521908700000, \"val\": 30}, {\"col\": \"Enough\", \"idx\": 1521908700000, \"val\": 4}, {\"col\": \"Control\", \"idx\": 1521908700000, \"val\": 19}, {\"col\": \"March\", \"idx\": 1521908760000, \"val\": 38}, {\"col\": \"Enough\", \"idx\": 1521908760000, \"val\": 8}, {\"col\": \"Control\", \"idx\": 1521908760000, \"val\": 29}, {\"col\": \"March\", \"idx\": 1521908820000, \"val\": 25}, {\"col\": \"Enough\", \"idx\": 1521908820000, \"val\": 3}, {\"col\": \"Control\", \"idx\": 1521908820000, \"val\": 22}, {\"col\": \"March\", \"idx\": 1521908880000, \"val\": 17}, {\"col\": \"Enough\", \"idx\": 1521908880000, \"val\": 2}, {\"col\": \"Control\", \"idx\": 1521908880000, \"val\": 12}, {\"col\": \"March\", \"idx\": 1521908940000, \"val\": 24}, {\"col\": \"Enough\", \"idx\": 1521908940000, \"val\": 5}, {\"col\": \"Control\", \"idx\": 1521908940000, \"val\": 20}, {\"col\": \"March\", \"idx\": 1521909000000, \"val\": 24}, {\"col\": \"Enough\", \"idx\": 1521909000000, \"val\": 3}, {\"col\": \"Control\", \"idx\": 1521909000000, \"val\": 21}, {\"col\": \"March\", \"idx\": 1521909060000, \"val\": 24}, {\"col\": \"Enough\", \"idx\": 1521909060000, \"val\": 4}, {\"col\": \"Control\", \"idx\": 1521909060000, \"val\": 9}, {\"col\": \"March\", \"idx\": 1521909120000, \"val\": 6}, {\"col\": \"Enough\", \"idx\": 1521909120000, \"val\": 2}, {\"col\": \"Control\", \"idx\": 1521909120000, \"val\": 8}, {\"col\": \"March\", \"idx\": 1521909180000, \"val\": 0}, {\"col\": \"Enough\", \"idx\": 1521909180000, \"val\": 0}, {\"col\": \"Control\", \"idx\": 1521909180000, \"val\": 0}, {\"col\": \"March\", \"idx\": 1521909240000, \"val\": 29}, {\"col\": \"Enough\", \"idx\": 1521909240000, \"val\": 6}, {\"col\": \"Control\", \"idx\": 1521909240000, \"val\": 22}, {\"col\": \"March\", \"idx\": 1521909300000, \"val\": 17}, {\"col\": \"Enough\", \"idx\": 1521909300000, \"val\": 1}, {\"col\": \"Control\", \"idx\": 1521909300000, \"val\": 14}, {\"col\": \"March\", \"idx\": 1521909360000, \"val\": 24}, {\"col\": \"Enough\", \"idx\": 1521909360000, \"val\": 3}, {\"col\": \"Control\", \"idx\": 1521909360000, \"val\": 16}, {\"col\": \"March\", \"idx\": 1521909420000, \"val\": 21}, {\"col\": \"Enough\", \"idx\": 1521909420000, \"val\": 3}, {\"col\": \"Control\", \"idx\": 1521909420000, \"val\": 14}, {\"col\": \"March\", \"idx\": 1521909480000, \"val\": 20}, {\"col\": \"Enough\", \"idx\": 1521909480000, \"val\": 6}, {\"col\": \"Control\", \"idx\": 1521909480000, \"val\": 17}, {\"col\": \"March\", \"idx\": 1521909540000, \"val\": 23}, {\"col\": \"Enough\", \"idx\": 1521909540000, \"val\": 3}, {\"col\": \"Control\", \"idx\": 1521909540000, \"val\": 15}, {\"col\": \"March\", \"idx\": 1521909600000, \"val\": 19}, {\"col\": \"Enough\", \"idx\": 1521909600000, \"val\": 4}, {\"col\": \"Control\", \"idx\": 1521909600000, \"val\": 22}, {\"col\": \"March\", \"idx\": 1521909660000, \"val\": 15}, {\"col\": \"Enough\", \"idx\": 1521909660000, \"val\": 0}, {\"col\": \"Control\", \"idx\": 1521909660000, \"val\": 19}, {\"col\": \"March\", \"idx\": 1521909720000, \"val\": 22}, {\"col\": \"Enough\", \"idx\": 1521909720000, \"val\": 2}, {\"col\": \"Control\", \"idx\": 1521909720000, \"val\": 20}, {\"col\": \"March\", \"idx\": 1521909780000, \"val\": 26}, {\"col\": \"Enough\", \"idx\": 1521909780000, \"val\": 3}, {\"col\": \"Control\", \"idx\": 1521909780000, \"val\": 22}, {\"col\": \"March\", \"idx\": 1521909840000, \"val\": 17}, {\"col\": \"Enough\", \"idx\": 1521909840000, \"val\": 4}, {\"col\": \"Control\", \"idx\": 1521909840000, \"val\": 18}, {\"col\": \"March\", \"idx\": 1521909900000, \"val\": 23}, {\"col\": \"Enough\", \"idx\": 1521909900000, \"val\": 2}, {\"col\": \"Control\", \"idx\": 1521909900000, \"val\": 18}, {\"col\": \"March\", \"idx\": 1521909960000, \"val\": 23}, {\"col\": \"Enough\", \"idx\": 1521909960000, \"val\": 4}, {\"col\": \"Control\", \"idx\": 1521909960000, \"val\": 26}, {\"col\": \"March\", \"idx\": 1521910020000, \"val\": 19}, {\"col\": \"Enough\", \"idx\": 1521910020000, \"val\": 2}, {\"col\": \"Control\", \"idx\": 1521910020000, \"val\": 30}, {\"col\": \"March\", \"idx\": 1521910080000, \"val\": 17}, {\"col\": \"Enough\", \"idx\": 1521910080000, \"val\": 2}, {\"col\": \"Control\", \"idx\": 1521910080000, \"val\": 17}, {\"col\": \"March\", \"idx\": 1521910140000, \"val\": 22}, {\"col\": \"Enough\", \"idx\": 1521910140000, \"val\": 1}, {\"col\": \"Control\", \"idx\": 1521910140000, \"val\": 23}, {\"col\": \"March\", \"idx\": 1521910200000, \"val\": 21}, {\"col\": \"Enough\", \"idx\": 1521910200000, \"val\": 3}, {\"col\": \"Control\", \"idx\": 1521910200000, \"val\": 19}, {\"col\": \"March\", \"idx\": 1521910260000, \"val\": 25}, {\"col\": \"Enough\", \"idx\": 1521910260000, \"val\": 1}, {\"col\": \"Control\", \"idx\": 1521910260000, \"val\": 21}, {\"col\": \"March\", \"idx\": 1521910320000, \"val\": 27}, {\"col\": \"Enough\", \"idx\": 1521910320000, \"val\": 4}, {\"col\": \"Control\", \"idx\": 1521910320000, \"val\": 24}, {\"col\": \"March\", \"idx\": 1521910380000, \"val\": 23}, {\"col\": \"Enough\", \"idx\": 1521910380000, \"val\": 4}, {\"col\": \"Control\", \"idx\": 1521910380000, \"val\": 24}, {\"col\": \"March\", \"idx\": 1521910440000, \"val\": 18}, {\"col\": \"Enough\", \"idx\": 1521910440000, \"val\": 1}, {\"col\": \"Control\", \"idx\": 1521910440000, \"val\": 22}, {\"col\": \"March\", \"idx\": 1521910500000, \"val\": 15}, {\"col\": \"Enough\", \"idx\": 1521910500000, \"val\": 3}, {\"col\": \"Control\", \"idx\": 1521910500000, \"val\": 17}, {\"col\": \"March\", \"idx\": 1521910560000, \"val\": 22}, {\"col\": \"Enough\", \"idx\": 1521910560000, \"val\": 1}, {\"col\": \"Control\", \"idx\": 1521910560000, \"val\": 32}, {\"col\": \"March\", \"idx\": 1521910620000, \"val\": 14}, {\"col\": \"Enough\", \"idx\": 1521910620000, \"val\": 1}, {\"col\": \"Control\", \"idx\": 1521910620000, \"val\": 22}, {\"col\": \"March\", \"idx\": 1521910680000, \"val\": 24}, {\"col\": \"Enough\", \"idx\": 1521910680000, \"val\": 6}, {\"col\": \"Control\", \"idx\": 1521910680000, \"val\": 26}, {\"col\": \"March\", \"idx\": 1521910740000, \"val\": 15}, {\"col\": \"Enough\", \"idx\": 1521910740000, \"val\": 2}, {\"col\": \"Control\", \"idx\": 1521910740000, \"val\": 17}, {\"col\": \"March\", \"idx\": 1521910800000, \"val\": 23}, {\"col\": \"Enough\", \"idx\": 1521910800000, \"val\": 4}, {\"col\": \"Control\", \"idx\": 1521910800000, \"val\": 25}, {\"col\": \"March\", \"idx\": 1521910860000, \"val\": 21}, {\"col\": \"Enough\", \"idx\": 1521910860000, \"val\": 2}, {\"col\": \"Control\", \"idx\": 1521910860000, \"val\": 19}, {\"col\": \"March\", \"idx\": 1521910920000, \"val\": 9}, {\"col\": \"Enough\", \"idx\": 1521910920000, \"val\": 3}, {\"col\": \"Control\", \"idx\": 1521910920000, \"val\": 18}, {\"col\": \"March\", \"idx\": 1521910980000, \"val\": 17}, {\"col\": \"Enough\", \"idx\": 1521910980000, \"val\": 4}, {\"col\": \"Control\", \"idx\": 1521910980000, \"val\": 19}, {\"col\": \"March\", \"idx\": 1521911040000, \"val\": 25}, {\"col\": \"Enough\", \"idx\": 1521911040000, \"val\": 3}, {\"col\": \"Control\", \"idx\": 1521911040000, \"val\": 31}, {\"col\": \"March\", \"idx\": 1521911100000, \"val\": 14}, {\"col\": \"Enough\", \"idx\": 1521911100000, \"val\": 0}, {\"col\": \"Control\", \"idx\": 1521911100000, \"val\": 23}, {\"col\": \"March\", \"idx\": 1521911160000, \"val\": 6}, {\"col\": \"Enough\", \"idx\": 1521911160000, \"val\": 0}, {\"col\": \"Control\", \"idx\": 1521911160000, \"val\": 6}, {\"col\": \"March\", \"idx\": 1521911220000, \"val\": 0}, {\"col\": \"Enough\", \"idx\": 1521911220000, \"val\": 0}, {\"col\": \"Control\", \"idx\": 1521911220000, \"val\": 0}, {\"col\": \"March\", \"idx\": 1521911280000, \"val\": 0}, {\"col\": \"Enough\", \"idx\": 1521911280000, \"val\": 0}, {\"col\": \"Control\", \"idx\": 1521911280000, \"val\": 0}, {\"col\": \"March\", \"idx\": 1521911340000, \"val\": 0}, {\"col\": \"Enough\", \"idx\": 1521911340000, \"val\": 0}, {\"col\": \"Control\", \"idx\": 1521911340000, \"val\": 0}, {\"col\": \"March\", \"idx\": 1521911400000, \"val\": 0}, {\"col\": \"Enough\", \"idx\": 1521911400000, \"val\": 0}, {\"col\": \"Control\", \"idx\": 1521911400000, \"val\": 0}, {\"col\": \"March\", \"idx\": 1521911460000, \"val\": 0}, {\"col\": \"Enough\", \"idx\": 1521911460000, \"val\": 0}, {\"col\": \"Control\", \"idx\": 1521911460000, \"val\": 0}, {\"col\": \"March\", \"idx\": 1521911520000, \"val\": 0}, {\"col\": \"Enough\", \"idx\": 1521911520000, \"val\": 0}, {\"col\": \"Control\", \"idx\": 1521911520000, \"val\": 0}, {\"col\": \"March\", \"idx\": 1521911580000, \"val\": 0}, {\"col\": \"Enough\", \"idx\": 1521911580000, \"val\": 0}, {\"col\": \"Control\", \"idx\": 1521911580000, \"val\": 0}, {\"col\": \"March\", \"idx\": 1521911640000, \"val\": 0}, {\"col\": \"Enough\", \"idx\": 1521911640000, \"val\": 0}, {\"col\": \"Control\", \"idx\": 1521911640000, \"val\": 0}, {\"col\": \"March\", \"idx\": 1521911700000, \"val\": 0}, {\"col\": \"Enough\", \"idx\": 1521911700000, \"val\": 0}, {\"col\": \"Control\", \"idx\": 1521911700000, \"val\": 0}, {\"col\": \"March\", \"idx\": 1521911760000, \"val\": 0}, {\"col\": \"Enough\", \"idx\": 1521911760000, \"val\": 0}, {\"col\": \"Control\", \"idx\": 1521911760000, \"val\": 0}, {\"col\": \"March\", \"idx\": 1521911820000, \"val\": 0}, {\"col\": \"Enough\", \"idx\": 1521911820000, \"val\": 0}, {\"col\": \"Control\", \"idx\": 1521911820000, \"val\": 0}, {\"col\": \"March\", \"idx\": 1521911880000, \"val\": 0}, {\"col\": \"Enough\", \"idx\": 1521911880000, \"val\": 0}, {\"col\": \"Control\", \"idx\": 1521911880000, \"val\": 0}, {\"col\": \"March\", \"idx\": 1521911940000, \"val\": 0}, {\"col\": \"Enough\", \"idx\": 1521911940000, \"val\": 0}, {\"col\": \"Control\", \"idx\": 1521911940000, \"val\": 0}, {\"col\": \"March\", \"idx\": 1521912000000, \"val\": 0}, {\"col\": \"Enough\", \"idx\": 1521912000000, \"val\": 0}, {\"col\": \"Control\", \"idx\": 1521912000000, \"val\": 0}, {\"col\": \"March\", \"idx\": 1521912060000, \"val\": 0}, {\"col\": \"Enough\", \"idx\": 1521912060000, \"val\": 0}, {\"col\": \"Control\", \"idx\": 1521912060000, \"val\": 0}, {\"col\": \"March\", \"idx\": 1521912120000, \"val\": 0}, {\"col\": \"Enough\", \"idx\": 1521912120000, \"val\": 0}, {\"col\": \"Control\", \"idx\": 1521912120000, \"val\": 0}, {\"col\": \"March\", \"idx\": 1521912180000, \"val\": 0}, {\"col\": \"Enough\", \"idx\": 1521912180000, \"val\": 0}, {\"col\": \"Control\", \"idx\": 1521912180000, \"val\": 0}, {\"col\": \"March\", \"idx\": 1521912240000, \"val\": 0}, {\"col\": \"Enough\", \"idx\": 1521912240000, \"val\": 0}, {\"col\": \"Control\", \"idx\": 1521912240000, \"val\": 0}, {\"col\": \"March\", \"idx\": 1521912300000, \"val\": 0}, {\"col\": \"Enough\", \"idx\": 1521912300000, \"val\": 0}, {\"col\": \"Control\", \"idx\": 1521912300000, \"val\": 0}, {\"col\": \"March\", \"idx\": 1521912360000, \"val\": 0}, {\"col\": \"Enough\", \"idx\": 1521912360000, \"val\": 0}, {\"col\": \"Control\", \"idx\": 1521912360000, \"val\": 0}, {\"col\": \"March\", \"idx\": 1521912420000, \"val\": 0}, {\"col\": \"Enough\", \"idx\": 1521912420000, \"val\": 0}, {\"col\": \"Control\", \"idx\": 1521912420000, \"val\": 0}, {\"col\": \"March\", \"idx\": 1521912480000, \"val\": 0}, {\"col\": \"Enough\", \"idx\": 1521912480000, \"val\": 0}, {\"col\": \"Control\", \"idx\": 1521912480000, \"val\": 0}, {\"col\": \"March\", \"idx\": 1521912540000, \"val\": 0}, {\"col\": \"Enough\", \"idx\": 1521912540000, \"val\": 0}, {\"col\": \"Control\", \"idx\": 1521912540000, \"val\": 0}, {\"col\": \"March\", \"idx\": 1521912600000, \"val\": 0}, {\"col\": \"Enough\", \"idx\": 1521912600000, \"val\": 0}, {\"col\": \"Control\", \"idx\": 1521912600000, \"val\": 0}, {\"col\": \"March\", \"idx\": 1521912660000, \"val\": 0}, {\"col\": \"Enough\", \"idx\": 1521912660000, \"val\": 0}, {\"col\": \"Control\", \"idx\": 1521912660000, \"val\": 0}, {\"col\": \"March\", \"idx\": 1521912720000, \"val\": 0}, {\"col\": \"Enough\", \"idx\": 1521912720000, \"val\": 0}, {\"col\": \"Control\", \"idx\": 1521912720000, \"val\": 0}, {\"col\": \"March\", \"idx\": 1521912780000, \"val\": 0}, {\"col\": \"Enough\", \"idx\": 1521912780000, \"val\": 0}, {\"col\": \"Control\", \"idx\": 1521912780000, \"val\": 0}, {\"col\": \"March\", \"idx\": 1521912840000, \"val\": 0}, {\"col\": \"Enough\", \"idx\": 1521912840000, \"val\": 0}, {\"col\": \"Control\", \"idx\": 1521912840000, \"val\": 0}, {\"col\": \"March\", \"idx\": 1521912900000, \"val\": 0}, {\"col\": \"Enough\", \"idx\": 1521912900000, \"val\": 0}, {\"col\": \"Control\", \"idx\": 1521912900000, \"val\": 0}, {\"col\": \"March\", \"idx\": 1521912960000, \"val\": 0}, {\"col\": \"Enough\", \"idx\": 1521912960000, \"val\": 0}, {\"col\": \"Control\", \"idx\": 1521912960000, \"val\": 0}, {\"col\": \"March\", \"idx\": 1521913020000, \"val\": 0}, {\"col\": \"Enough\", \"idx\": 1521913020000, \"val\": 0}, {\"col\": \"Control\", \"idx\": 1521913020000, \"val\": 0}, {\"col\": \"March\", \"idx\": 1521913080000, \"val\": 0}, {\"col\": \"Enough\", \"idx\": 1521913080000, \"val\": 0}, {\"col\": \"Control\", \"idx\": 1521913080000, \"val\": 0}, {\"col\": \"March\", \"idx\": 1521913140000, \"val\": 0}, {\"col\": \"Enough\", \"idx\": 1521913140000, \"val\": 0}, {\"col\": \"Control\", \"idx\": 1521913140000, \"val\": 0}, {\"col\": \"March\", \"idx\": 1521913200000, \"val\": 0}, {\"col\": \"Enough\", \"idx\": 1521913200000, \"val\": 0}, {\"col\": \"Control\", \"idx\": 1521913200000, \"val\": 0}, {\"col\": \"March\", \"idx\": 1521913260000, \"val\": 0}, {\"col\": \"Enough\", \"idx\": 1521913260000, \"val\": 0}, {\"col\": \"Control\", \"idx\": 1521913260000, \"val\": 0}, {\"col\": \"March\", \"idx\": 1521913320000, \"val\": 0}, {\"col\": \"Enough\", \"idx\": 1521913320000, \"val\": 0}, {\"col\": \"Control\", \"idx\": 1521913320000, \"val\": 0}, {\"col\": \"March\", \"idx\": 1521913380000, \"val\": 0}, {\"col\": \"Enough\", \"idx\": 1521913380000, \"val\": 0}, {\"col\": \"Control\", \"idx\": 1521913380000, \"val\": 0}, {\"col\": \"March\", \"idx\": 1521913440000, \"val\": 0}, {\"col\": \"Enough\", \"idx\": 1521913440000, \"val\": 0}, {\"col\": \"Control\", \"idx\": 1521913440000, \"val\": 0}, {\"col\": \"March\", \"idx\": 1521913500000, \"val\": 0}, {\"col\": \"Enough\", \"idx\": 1521913500000, \"val\": 0}, {\"col\": \"Control\", \"idx\": 1521913500000, \"val\": 0}, {\"col\": \"March\", \"idx\": 1521913560000, \"val\": 0}, {\"col\": \"Enough\", \"idx\": 1521913560000, \"val\": 0}, {\"col\": \"Control\", \"idx\": 1521913560000, \"val\": 0}, {\"col\": \"March\", \"idx\": 1521913620000, \"val\": 0}, {\"col\": \"Enough\", \"idx\": 1521913620000, \"val\": 0}, {\"col\": \"Control\", \"idx\": 1521913620000, \"val\": 0}, {\"col\": \"March\", \"idx\": 1521913680000, \"val\": 0}, {\"col\": \"Enough\", \"idx\": 1521913680000, \"val\": 0}, {\"col\": \"Control\", \"idx\": 1521913680000, \"val\": 0}, {\"col\": \"March\", \"idx\": 1521913740000, \"val\": 0}, {\"col\": \"Enough\", \"idx\": 1521913740000, \"val\": 0}, {\"col\": \"Control\", \"idx\": 1521913740000, \"val\": 0}, {\"col\": \"March\", \"idx\": 1521913800000, \"val\": 0}, {\"col\": \"Enough\", \"idx\": 1521913800000, \"val\": 0}, {\"col\": \"Control\", \"idx\": 1521913800000, \"val\": 0}, {\"col\": \"March\", \"idx\": 1521913860000, \"val\": 0}, {\"col\": \"Enough\", \"idx\": 1521913860000, \"val\": 0}, {\"col\": \"Control\", \"idx\": 1521913860000, \"val\": 0}, {\"col\": \"March\", \"idx\": 1521913920000, \"val\": 0}, {\"col\": \"Enough\", \"idx\": 1521913920000, \"val\": 0}, {\"col\": \"Control\", \"idx\": 1521913920000, \"val\": 0}, {\"col\": \"March\", \"idx\": 1521913980000, \"val\": 0}, {\"col\": \"Enough\", \"idx\": 1521913980000, \"val\": 0}, {\"col\": \"Control\", \"idx\": 1521913980000, \"val\": 0}, {\"col\": \"March\", \"idx\": 1521914040000, \"val\": 0}, {\"col\": \"Enough\", \"idx\": 1521914040000, \"val\": 0}, {\"col\": \"Control\", \"idx\": 1521914040000, \"val\": 0}, {\"col\": \"March\", \"idx\": 1521914100000, \"val\": 0}, {\"col\": \"Enough\", \"idx\": 1521914100000, \"val\": 0}, {\"col\": \"Control\", \"idx\": 1521914100000, \"val\": 0}, {\"col\": \"March\", \"idx\": 1521914160000, \"val\": 0}, {\"col\": \"Enough\", \"idx\": 1521914160000, \"val\": 0}, {\"col\": \"Control\", \"idx\": 1521914160000, \"val\": 0}, {\"col\": \"March\", \"idx\": 1521914220000, \"val\": 0}, {\"col\": \"Enough\", \"idx\": 1521914220000, \"val\": 0}, {\"col\": \"Control\", \"idx\": 1521914220000, \"val\": 0}, {\"col\": \"March\", \"idx\": 1521914280000, \"val\": 0}, {\"col\": \"Enough\", \"idx\": 1521914280000, \"val\": 0}, {\"col\": \"Control\", \"idx\": 1521914280000, \"val\": 0}, {\"col\": \"March\", \"idx\": 1521914340000, \"val\": 0}, {\"col\": \"Enough\", \"idx\": 1521914340000, \"val\": 0}, {\"col\": \"Control\", \"idx\": 1521914340000, \"val\": 0}, {\"col\": \"March\", \"idx\": 1521914400000, \"val\": 0}, {\"col\": \"Enough\", \"idx\": 1521914400000, \"val\": 0}, {\"col\": \"Control\", \"idx\": 1521914400000, \"val\": 0}, {\"col\": \"March\", \"idx\": 1521914460000, \"val\": 0}, {\"col\": \"Enough\", \"idx\": 1521914460000, \"val\": 0}, {\"col\": \"Control\", \"idx\": 1521914460000, \"val\": 0}, {\"col\": \"March\", \"idx\": 1521914520000, \"val\": 0}, {\"col\": \"Enough\", \"idx\": 1521914520000, \"val\": 0}, {\"col\": \"Control\", \"idx\": 1521914520000, \"val\": 0}, {\"col\": \"March\", \"idx\": 1521914580000, \"val\": 0}, {\"col\": \"Enough\", \"idx\": 1521914580000, \"val\": 0}, {\"col\": \"Control\", \"idx\": 1521914580000, \"val\": 0}, {\"col\": \"March\", \"idx\": 1521914640000, \"val\": 0}, {\"col\": \"Enough\", \"idx\": 1521914640000, \"val\": 0}, {\"col\": \"Control\", \"idx\": 1521914640000, \"val\": 0}, {\"col\": \"March\", \"idx\": 1521914700000, \"val\": 0}, {\"col\": \"Enough\", \"idx\": 1521914700000, \"val\": 0}, {\"col\": \"Control\", \"idx\": 1521914700000, \"val\": 0}, {\"col\": \"March\", \"idx\": 1521914760000, \"val\": 0}, {\"col\": \"Enough\", \"idx\": 1521914760000, \"val\": 0}, {\"col\": \"Control\", \"idx\": 1521914760000, \"val\": 0}, {\"col\": \"March\", \"idx\": 1521914820000, \"val\": 0}, {\"col\": \"Enough\", \"idx\": 1521914820000, \"val\": 0}, {\"col\": \"Control\", \"idx\": 1521914820000, \"val\": 0}, {\"col\": \"March\", \"idx\": 1521914880000, \"val\": 0}, {\"col\": \"Enough\", \"idx\": 1521914880000, \"val\": 0}, {\"col\": \"Control\", \"idx\": 1521914880000, \"val\": 0}, {\"col\": \"March\", \"idx\": 1521914940000, \"val\": 0}, {\"col\": \"Enough\", \"idx\": 1521914940000, \"val\": 0}, {\"col\": \"Control\", \"idx\": 1521914940000, \"val\": 0}, {\"col\": \"March\", \"idx\": 1521915000000, \"val\": 0}, {\"col\": \"Enough\", \"idx\": 1521915000000, \"val\": 0}, {\"col\": \"Control\", \"idx\": 1521915000000, \"val\": 0}, {\"col\": \"March\", \"idx\": 1521915060000, \"val\": 0}, {\"col\": \"Enough\", \"idx\": 1521915060000, \"val\": 0}, {\"col\": \"Control\", \"idx\": 1521915060000, \"val\": 0}, {\"col\": \"March\", \"idx\": 1521915120000, \"val\": 0}, {\"col\": \"Enough\", \"idx\": 1521915120000, \"val\": 0}, {\"col\": \"Control\", \"idx\": 1521915120000, \"val\": 0}, {\"col\": \"March\", \"idx\": 1521915180000, \"val\": 0}, {\"col\": \"Enough\", \"idx\": 1521915180000, \"val\": 0}, {\"col\": \"Control\", \"idx\": 1521915180000, \"val\": 0}, {\"col\": \"March\", \"idx\": 1521915240000, \"val\": 0}, {\"col\": \"Enough\", \"idx\": 1521915240000, \"val\": 0}, {\"col\": \"Control\", \"idx\": 1521915240000, \"val\": 0}, {\"col\": \"March\", \"idx\": 1521915300000, \"val\": 0}, {\"col\": \"Enough\", \"idx\": 1521915300000, \"val\": 0}, {\"col\": \"Control\", \"idx\": 1521915300000, \"val\": 0}, {\"col\": \"March\", \"idx\": 1521915360000, \"val\": 0}, {\"col\": \"Enough\", \"idx\": 1521915360000, \"val\": 0}, {\"col\": \"Control\", \"idx\": 1521915360000, \"val\": 0}, {\"col\": \"March\", \"idx\": 1521915420000, \"val\": 0}, {\"col\": \"Enough\", \"idx\": 1521915420000, \"val\": 0}, {\"col\": \"Control\", \"idx\": 1521915420000, \"val\": 0}, {\"col\": \"March\", \"idx\": 1521915480000, \"val\": 0}, {\"col\": \"Enough\", \"idx\": 1521915480000, \"val\": 0}, {\"col\": \"Control\", \"idx\": 1521915480000, \"val\": 0}, {\"col\": \"March\", \"idx\": 1521915540000, \"val\": 0}, {\"col\": \"Enough\", \"idx\": 1521915540000, \"val\": 0}, {\"col\": \"Control\", \"idx\": 1521915540000, \"val\": 0}, {\"col\": \"March\", \"idx\": 1521915600000, \"val\": 0}, {\"col\": \"Enough\", \"idx\": 1521915600000, \"val\": 0}, {\"col\": \"Control\", \"idx\": 1521915600000, \"val\": 0}, {\"col\": \"March\", \"idx\": 1521915660000, \"val\": 0}, {\"col\": \"Enough\", \"idx\": 1521915660000, \"val\": 0}, {\"col\": \"Control\", \"idx\": 1521915660000, \"val\": 0}, {\"col\": \"March\", \"idx\": 1521915720000, \"val\": 0}, {\"col\": \"Enough\", \"idx\": 1521915720000, \"val\": 0}, {\"col\": \"Control\", \"idx\": 1521915720000, \"val\": 0}, {\"col\": \"March\", \"idx\": 1521915780000, \"val\": 0}, {\"col\": \"Enough\", \"idx\": 1521915780000, \"val\": 0}, {\"col\": \"Control\", \"idx\": 1521915780000, \"val\": 0}, {\"col\": \"March\", \"idx\": 1521915840000, \"val\": 0}, {\"col\": \"Enough\", \"idx\": 1521915840000, \"val\": 0}, {\"col\": \"Control\", \"idx\": 1521915840000, \"val\": 0}, {\"col\": \"March\", \"idx\": 1521915900000, \"val\": 0}, {\"col\": \"Enough\", \"idx\": 1521915900000, \"val\": 0}, {\"col\": \"Control\", \"idx\": 1521915900000, \"val\": 0}, {\"col\": \"March\", \"idx\": 1521915960000, \"val\": 0}, {\"col\": \"Enough\", \"idx\": 1521915960000, \"val\": 0}, {\"col\": \"Control\", \"idx\": 1521915960000, \"val\": 0}, {\"col\": \"March\", \"idx\": 1521916020000, \"val\": 0}, {\"col\": \"Enough\", \"idx\": 1521916020000, \"val\": 0}, {\"col\": \"Control\", \"idx\": 1521916020000, \"val\": 0}, {\"col\": \"March\", \"idx\": 1521916080000, \"val\": 0}, {\"col\": \"Enough\", \"idx\": 1521916080000, \"val\": 0}, {\"col\": \"Control\", \"idx\": 1521916080000, \"val\": 0}, {\"col\": \"March\", \"idx\": 1521916140000, \"val\": 0}, {\"col\": \"Enough\", \"idx\": 1521916140000, \"val\": 0}, {\"col\": \"Control\", \"idx\": 1521916140000, \"val\": 0}, {\"col\": \"March\", \"idx\": 1521916200000, \"val\": 0}, {\"col\": \"Enough\", \"idx\": 1521916200000, \"val\": 0}, {\"col\": \"Control\", \"idx\": 1521916200000, \"val\": 0}, {\"col\": \"March\", \"idx\": 1521916260000, \"val\": 0}, {\"col\": \"Enough\", \"idx\": 1521916260000, \"val\": 0}, {\"col\": \"Control\", \"idx\": 1521916260000, \"val\": 0}, {\"col\": \"March\", \"idx\": 1521916320000, \"val\": 0}, {\"col\": \"Enough\", \"idx\": 1521916320000, \"val\": 0}, {\"col\": \"Control\", \"idx\": 1521916320000, \"val\": 0}, {\"col\": \"March\", \"idx\": 1521916380000, \"val\": 0}, {\"col\": \"Enough\", \"idx\": 1521916380000, \"val\": 0}, {\"col\": \"Control\", \"idx\": 1521916380000, \"val\": 0}, {\"col\": \"March\", \"idx\": 1521916440000, \"val\": 0}, {\"col\": \"Enough\", \"idx\": 1521916440000, \"val\": 0}, {\"col\": \"Control\", \"idx\": 1521916440000, \"val\": 0}, {\"col\": \"March\", \"idx\": 1521916500000, \"val\": 0}, {\"col\": \"Enough\", \"idx\": 1521916500000, \"val\": 0}, {\"col\": \"Control\", \"idx\": 1521916500000, \"val\": 0}, {\"col\": \"March\", \"idx\": 1521916560000, \"val\": 0}, {\"col\": \"Enough\", \"idx\": 1521916560000, \"val\": 0}, {\"col\": \"Control\", \"idx\": 1521916560000, \"val\": 0}, {\"col\": \"March\", \"idx\": 1521916620000, \"val\": 0}, {\"col\": \"Enough\", \"idx\": 1521916620000, \"val\": 0}, {\"col\": \"Control\", \"idx\": 1521916620000, \"val\": 0}, {\"col\": \"March\", \"idx\": 1521916680000, \"val\": 0}, {\"col\": \"Enough\", \"idx\": 1521916680000, \"val\": 0}, {\"col\": \"Control\", \"idx\": 1521916680000, \"val\": 0}, {\"col\": \"March\", \"idx\": 1521916740000, \"val\": 0}, {\"col\": \"Enough\", \"idx\": 1521916740000, \"val\": 0}, {\"col\": \"Control\", \"idx\": 1521916740000, \"val\": 0}, {\"col\": \"March\", \"idx\": 1521916800000, \"val\": 0}, {\"col\": \"Enough\", \"idx\": 1521916800000, \"val\": 0}, {\"col\": \"Control\", \"idx\": 1521916800000, \"val\": 0}, {\"col\": \"March\", \"idx\": 1521916860000, \"val\": 0}, {\"col\": \"Enough\", \"idx\": 1521916860000, \"val\": 0}, {\"col\": \"Control\", \"idx\": 1521916860000, \"val\": 0}, {\"col\": \"March\", \"idx\": 1521916920000, \"val\": 0}, {\"col\": \"Enough\", \"idx\": 1521916920000, \"val\": 0}, {\"col\": \"Control\", \"idx\": 1521916920000, \"val\": 0}, {\"col\": \"March\", \"idx\": 1521916980000, \"val\": 0}, {\"col\": \"Enough\", \"idx\": 1521916980000, \"val\": 0}, {\"col\": \"Control\", \"idx\": 1521916980000, \"val\": 0}, {\"col\": \"March\", \"idx\": 1521917040000, \"val\": 0}, {\"col\": \"Enough\", \"idx\": 1521917040000, \"val\": 0}, {\"col\": \"Control\", \"idx\": 1521917040000, \"val\": 0}, {\"col\": \"March\", \"idx\": 1521917100000, \"val\": 0}, {\"col\": \"Enough\", \"idx\": 1521917100000, \"val\": 0}, {\"col\": \"Control\", \"idx\": 1521917100000, \"val\": 0}, {\"col\": \"March\", \"idx\": 1521917160000, \"val\": 0}, {\"col\": \"Enough\", \"idx\": 1521917160000, \"val\": 0}, {\"col\": \"Control\", \"idx\": 1521917160000, \"val\": 0}, {\"col\": \"March\", \"idx\": 1521917220000, \"val\": 0}, {\"col\": \"Enough\", \"idx\": 1521917220000, \"val\": 0}, {\"col\": \"Control\", \"idx\": 1521917220000, \"val\": 0}, {\"col\": \"March\", \"idx\": 1521917280000, \"val\": 0}, {\"col\": \"Enough\", \"idx\": 1521917280000, \"val\": 0}, {\"col\": \"Control\", \"idx\": 1521917280000, \"val\": 0}, {\"col\": \"March\", \"idx\": 1521917340000, \"val\": 0}, {\"col\": \"Enough\", \"idx\": 1521917340000, \"val\": 0}, {\"col\": \"Control\", \"idx\": 1521917340000, \"val\": 0}, {\"col\": \"March\", \"idx\": 1521917400000, \"val\": 0}, {\"col\": \"Enough\", \"idx\": 1521917400000, \"val\": 0}, {\"col\": \"Control\", \"idx\": 1521917400000, \"val\": 0}, {\"col\": \"March\", \"idx\": 1521917460000, \"val\": 0}, {\"col\": \"Enough\", \"idx\": 1521917460000, \"val\": 0}, {\"col\": \"Control\", \"idx\": 1521917460000, \"val\": 0}, {\"col\": \"March\", \"idx\": 1521917520000, \"val\": 0}, {\"col\": \"Enough\", \"idx\": 1521917520000, \"val\": 0}, {\"col\": \"Control\", \"idx\": 1521917520000, \"val\": 0}, {\"col\": \"March\", \"idx\": 1521917580000, \"val\": 0}, {\"col\": \"Enough\", \"idx\": 1521917580000, \"val\": 0}, {\"col\": \"Control\", \"idx\": 1521917580000, \"val\": 0}, {\"col\": \"March\", \"idx\": 1521917640000, \"val\": 0}, {\"col\": \"Enough\", \"idx\": 1521917640000, \"val\": 0}, {\"col\": \"Control\", \"idx\": 1521917640000, \"val\": 0}, {\"col\": \"March\", \"idx\": 1521917700000, \"val\": 0}, {\"col\": \"Enough\", \"idx\": 1521917700000, \"val\": 0}, {\"col\": \"Control\", \"idx\": 1521917700000, \"val\": 0}, {\"col\": \"March\", \"idx\": 1521917760000, \"val\": 0}, {\"col\": \"Enough\", \"idx\": 1521917760000, \"val\": 0}, {\"col\": \"Control\", \"idx\": 1521917760000, \"val\": 0}, {\"col\": \"March\", \"idx\": 1521917820000, \"val\": 0}, {\"col\": \"Enough\", \"idx\": 1521917820000, \"val\": 0}, {\"col\": \"Control\", \"idx\": 1521917820000, \"val\": 0}, {\"col\": \"March\", \"idx\": 1521917880000, \"val\": 0}, {\"col\": \"Enough\", \"idx\": 1521917880000, \"val\": 0}, {\"col\": \"Control\", \"idx\": 1521917880000, \"val\": 0}, {\"col\": \"March\", \"idx\": 1521917940000, \"val\": 0}, {\"col\": \"Enough\", \"idx\": 1521917940000, \"val\": 0}, {\"col\": \"Control\", \"idx\": 1521917940000, \"val\": 0}, {\"col\": \"March\", \"idx\": 1521918000000, \"val\": 9}, {\"col\": \"Enough\", \"idx\": 1521918000000, \"val\": 2}, {\"col\": \"Control\", \"idx\": 1521918000000, \"val\": 9}, {\"col\": \"March\", \"idx\": 1521918060000, \"val\": 21}, {\"col\": \"Enough\", \"idx\": 1521918060000, \"val\": 3}, {\"col\": \"Control\", \"idx\": 1521918060000, \"val\": 21}, {\"col\": \"March\", \"idx\": 1521918120000, \"val\": 20}, {\"col\": \"Enough\", \"idx\": 1521918120000, \"val\": 4}, {\"col\": \"Control\", \"idx\": 1521918120000, \"val\": 22}, {\"col\": \"March\", \"idx\": 1521918180000, \"val\": 19}, {\"col\": \"Enough\", \"idx\": 1521918180000, \"val\": 4}, {\"col\": \"Control\", \"idx\": 1521918180000, \"val\": 27}, {\"col\": \"March\", \"idx\": 1521918240000, \"val\": 13}, {\"col\": \"Enough\", \"idx\": 1521918240000, \"val\": 2}, {\"col\": \"Control\", \"idx\": 1521918240000, \"val\": 17}, {\"col\": \"March\", \"idx\": 1521918300000, \"val\": 23}, {\"col\": \"Enough\", \"idx\": 1521918300000, \"val\": 3}, {\"col\": \"Control\", \"idx\": 1521918300000, \"val\": 19}, {\"col\": \"March\", \"idx\": 1521918360000, \"val\": 18}, {\"col\": \"Enough\", \"idx\": 1521918360000, \"val\": 2}, {\"col\": \"Control\", \"idx\": 1521918360000, \"val\": 20}, {\"col\": \"March\", \"idx\": 1521918420000, \"val\": 23}, {\"col\": \"Enough\", \"idx\": 1521918420000, \"val\": 3}, {\"col\": \"Control\", \"idx\": 1521918420000, \"val\": 34}, {\"col\": \"March\", \"idx\": 1521918480000, \"val\": 15}, {\"col\": \"Enough\", \"idx\": 1521918480000, \"val\": 6}, {\"col\": \"Control\", \"idx\": 1521918480000, \"val\": 28}, {\"col\": \"March\", \"idx\": 1521918540000, \"val\": 18}, {\"col\": \"Enough\", \"idx\": 1521918540000, \"val\": 2}, {\"col\": \"Control\", \"idx\": 1521918540000, \"val\": 23}, {\"col\": \"March\", \"idx\": 1521918600000, \"val\": 21}, {\"col\": \"Enough\", \"idx\": 1521918600000, \"val\": 3}, {\"col\": \"Control\", \"idx\": 1521918600000, \"val\": 27}, {\"col\": \"March\", \"idx\": 1521918660000, \"val\": 12}, {\"col\": \"Enough\", \"idx\": 1521918660000, \"val\": 0}, {\"col\": \"Control\", \"idx\": 1521918660000, \"val\": 22}, {\"col\": \"March\", \"idx\": 1521918720000, \"val\": 13}, {\"col\": \"Enough\", \"idx\": 1521918720000, \"val\": 4}, {\"col\": \"Control\", \"idx\": 1521918720000, \"val\": 16}, {\"col\": \"March\", \"idx\": 1521918780000, \"val\": 10}, {\"col\": \"Enough\", \"idx\": 1521918780000, \"val\": 1}, {\"col\": \"Control\", \"idx\": 1521918780000, \"val\": 24}, {\"col\": \"March\", \"idx\": 1521918840000, \"val\": 6}, {\"col\": \"Enough\", \"idx\": 1521918840000, \"val\": 3}, {\"col\": \"Control\", \"idx\": 1521918840000, \"val\": 5}, {\"col\": \"March\", \"idx\": 1521918900000, \"val\": 62}, {\"col\": \"Enough\", \"idx\": 1521918900000, \"val\": 54}, {\"col\": \"Control\", \"idx\": 1521918900000, \"val\": 18}, {\"col\": \"March\", \"idx\": 1521918960000, \"val\": 75}, {\"col\": \"Enough\", \"idx\": 1521918960000, \"val\": 83}, {\"col\": \"Control\", \"idx\": 1521918960000, \"val\": 21}, {\"col\": \"March\", \"idx\": 1521919020000, \"val\": 100}, {\"col\": \"Enough\", \"idx\": 1521919020000, \"val\": 54}, {\"col\": \"Control\", \"idx\": 1521919020000, \"val\": 27}, {\"col\": \"March\", \"idx\": 1521919080000, \"val\": 113}, {\"col\": \"Enough\", \"idx\": 1521919080000, \"val\": 73}, {\"col\": \"Control\", \"idx\": 1521919080000, \"val\": 27}, {\"col\": \"March\", \"idx\": 1521919140000, \"val\": 101}, {\"col\": \"Enough\", \"idx\": 1521919140000, \"val\": 68}, {\"col\": \"Control\", \"idx\": 1521919140000, \"val\": 26}, {\"col\": \"March\", \"idx\": 1521919200000, \"val\": 100}, {\"col\": \"Enough\", \"idx\": 1521919200000, \"val\": 74}, {\"col\": \"Control\", \"idx\": 1521919200000, \"val\": 30}, {\"col\": \"March\", \"idx\": 1521919260000, \"val\": 111}, {\"col\": \"Enough\", \"idx\": 1521919260000, \"val\": 69}, {\"col\": \"Control\", \"idx\": 1521919260000, \"val\": 23}, {\"col\": \"March\", \"idx\": 1521919320000, \"val\": 167}, {\"col\": \"Enough\", \"idx\": 1521919320000, \"val\": 95}, {\"col\": \"Control\", \"idx\": 1521919320000, \"val\": 27}, {\"col\": \"March\", \"idx\": 1521919380000, \"val\": 150}, {\"col\": \"Enough\", \"idx\": 1521919380000, \"val\": 75}, {\"col\": \"Control\", \"idx\": 1521919380000, \"val\": 25}, {\"col\": \"March\", \"idx\": 1521919440000, \"val\": 123}, {\"col\": \"Enough\", \"idx\": 1521919440000, \"val\": 60}, {\"col\": \"Control\", \"idx\": 1521919440000, \"val\": 20}, {\"col\": \"March\", \"idx\": 1521919500000, \"val\": 133}, {\"col\": \"Enough\", \"idx\": 1521919500000, \"val\": 65}, {\"col\": \"Control\", \"idx\": 1521919500000, \"val\": 20}, {\"col\": \"March\", \"idx\": 1521919560000, \"val\": 122}, {\"col\": \"Enough\", \"idx\": 1521919560000, \"val\": 53}, {\"col\": \"Control\", \"idx\": 1521919560000, \"val\": 18}, {\"col\": \"March\", \"idx\": 1521919620000, \"val\": 103}, {\"col\": \"Enough\", \"idx\": 1521919620000, \"val\": 74}, {\"col\": \"Control\", \"idx\": 1521919620000, \"val\": 9}, {\"col\": \"March\", \"idx\": 1521919680000, \"val\": 114}, {\"col\": \"Enough\", \"idx\": 1521919680000, \"val\": 66}, {\"col\": \"Control\", \"idx\": 1521919680000, \"val\": 26}, {\"col\": \"March\", \"idx\": 1521919740000, \"val\": 113}, {\"col\": \"Enough\", \"idx\": 1521919740000, \"val\": 67}, {\"col\": \"Control\", \"idx\": 1521919740000, \"val\": 28}, {\"col\": \"March\", \"idx\": 1521919800000, \"val\": 102}, {\"col\": \"Enough\", \"idx\": 1521919800000, \"val\": 70}, {\"col\": \"Control\", \"idx\": 1521919800000, \"val\": 22}, {\"col\": \"March\", \"idx\": 1521919860000, \"val\": 120}, {\"col\": \"Enough\", \"idx\": 1521919860000, \"val\": 78}, {\"col\": \"Control\", \"idx\": 1521919860000, \"val\": 24}, {\"col\": \"March\", \"idx\": 1521919920000, \"val\": 101}, {\"col\": \"Enough\", \"idx\": 1521919920000, \"val\": 78}, {\"col\": \"Control\", \"idx\": 1521919920000, \"val\": 28}, {\"col\": \"March\", \"idx\": 1521919980000, \"val\": 8}, {\"col\": \"Enough\", \"idx\": 1521919980000, \"val\": 9}, {\"col\": \"Control\", \"idx\": 1521919980000, \"val\": 0}, {\"col\": \"March\", \"idx\": 1521920040000, \"val\": 21}, {\"col\": \"Enough\", \"idx\": 1521920040000, \"val\": 18}, {\"col\": \"Control\", \"idx\": 1521920040000, \"val\": 2}, {\"col\": \"March\", \"idx\": 1521920100000, \"val\": 328}, {\"col\": \"Enough\", \"idx\": 1521920100000, \"val\": 66}, {\"col\": \"Control\", \"idx\": 1521920100000, \"val\": 256}, {\"col\": \"March\", \"idx\": 1521920160000, \"val\": 153}, {\"col\": \"Enough\", \"idx\": 1521920160000, \"val\": 74}, {\"col\": \"Control\", \"idx\": 1521920160000, \"val\": 79}, {\"col\": \"March\", \"idx\": 1521920220000, \"val\": 142}, {\"col\": \"Enough\", \"idx\": 1521920220000, \"val\": 79}, {\"col\": \"Control\", \"idx\": 1521920220000, \"val\": 72}, {\"col\": \"March\", \"idx\": 1521920280000, \"val\": 139}, {\"col\": \"Enough\", \"idx\": 1521920280000, \"val\": 69}, {\"col\": \"Control\", \"idx\": 1521920280000, \"val\": 60}, {\"col\": \"March\", \"idx\": 1521920340000, \"val\": 117}, {\"col\": \"Enough\", \"idx\": 1521920340000, \"val\": 73}, {\"col\": \"Control\", \"idx\": 1521920340000, \"val\": 45}, {\"col\": \"March\", \"idx\": 1521920400000, \"val\": 131}, {\"col\": \"Enough\", \"idx\": 1521920400000, \"val\": 80}, {\"col\": \"Control\", \"idx\": 1521920400000, \"val\": 53}, {\"col\": \"March\", \"idx\": 1521920460000, \"val\": 138}, {\"col\": \"Enough\", \"idx\": 1521920460000, \"val\": 81}, {\"col\": \"Control\", \"idx\": 1521920460000, \"val\": 60}, {\"col\": \"March\", \"idx\": 1521920520000, \"val\": 126}, {\"col\": \"Enough\", \"idx\": 1521920520000, \"val\": 89}, {\"col\": \"Control\", \"idx\": 1521920520000, \"val\": 53}, {\"col\": \"March\", \"idx\": 1521920580000, \"val\": 90}, {\"col\": \"Enough\", \"idx\": 1521920580000, \"val\": 57}, {\"col\": \"Control\", \"idx\": 1521920580000, \"val\": 37}, {\"col\": \"March\", \"idx\": 1521920640000, \"val\": 125}, {\"col\": \"Enough\", \"idx\": 1521920640000, \"val\": 76}, {\"col\": \"Control\", \"idx\": 1521920640000, \"val\": 46}, {\"col\": \"March\", \"idx\": 1521920700000, \"val\": 115}, {\"col\": \"Enough\", \"idx\": 1521920700000, \"val\": 71}, {\"col\": \"Control\", \"idx\": 1521920700000, \"val\": 43}, {\"col\": \"March\", \"idx\": 1521920760000, \"val\": 111}, {\"col\": \"Enough\", \"idx\": 1521920760000, \"val\": 73}, {\"col\": \"Control\", \"idx\": 1521920760000, \"val\": 39}, {\"col\": \"March\", \"idx\": 1521920820000, \"val\": 86}, {\"col\": \"Enough\", \"idx\": 1521920820000, \"val\": 80}, {\"col\": \"Control\", \"idx\": 1521920820000, \"val\": 33}, {\"col\": \"March\", \"idx\": 1521920880000, \"val\": 123}, {\"col\": \"Enough\", \"idx\": 1521920880000, \"val\": 74}, {\"col\": \"Control\", \"idx\": 1521920880000, \"val\": 41}, {\"col\": \"March\", \"idx\": 1521920940000, \"val\": 79}, {\"col\": \"Enough\", \"idx\": 1521920940000, \"val\": 64}, {\"col\": \"Control\", \"idx\": 1521920940000, \"val\": 30}, {\"col\": \"March\", \"idx\": 1521921000000, \"val\": 104}, {\"col\": \"Enough\", \"idx\": 1521921000000, \"val\": 59}, {\"col\": \"Control\", \"idx\": 1521921000000, \"val\": 35}, {\"col\": \"March\", \"idx\": 1521921060000, \"val\": 83}, {\"col\": \"Enough\", \"idx\": 1521921060000, \"val\": 63}, {\"col\": \"Control\", \"idx\": 1521921060000, \"val\": 30}, {\"col\": \"March\", \"idx\": 1521921120000, \"val\": 86}, {\"col\": \"Enough\", \"idx\": 1521921120000, \"val\": 51}, {\"col\": \"Control\", \"idx\": 1521921120000, \"val\": 31}, {\"col\": \"March\", \"idx\": 1521921180000, \"val\": 107}, {\"col\": \"Enough\", \"idx\": 1521921180000, \"val\": 67}, {\"col\": \"Control\", \"idx\": 1521921180000, \"val\": 45}, {\"col\": \"March\", \"idx\": 1521921240000, \"val\": 92}, {\"col\": \"Enough\", \"idx\": 1521921240000, \"val\": 64}, {\"col\": \"Control\", \"idx\": 1521921240000, \"val\": 32}, {\"col\": \"March\", \"idx\": 1521921300000, \"val\": 94}, {\"col\": \"Enough\", \"idx\": 1521921300000, \"val\": 65}, {\"col\": \"Control\", \"idx\": 1521921300000, \"val\": 32}, {\"col\": \"March\", \"idx\": 1521921360000, \"val\": 63}, {\"col\": \"Enough\", \"idx\": 1521921360000, \"val\": 53}, {\"col\": \"Control\", \"idx\": 1521921360000, \"val\": 26}, {\"col\": \"March\", \"idx\": 1521921420000, \"val\": 86}, {\"col\": \"Enough\", \"idx\": 1521921420000, \"val\": 63}, {\"col\": \"Control\", \"idx\": 1521921420000, \"val\": 27}, {\"col\": \"March\", \"idx\": 1521921480000, \"val\": 95}, {\"col\": \"Enough\", \"idx\": 1521921480000, \"val\": 67}, {\"col\": \"Control\", \"idx\": 1521921480000, \"val\": 35}, {\"col\": \"March\", \"idx\": 1521921540000, \"val\": 96}, {\"col\": \"Enough\", \"idx\": 1521921540000, \"val\": 66}, {\"col\": \"Control\", \"idx\": 1521921540000, \"val\": 32}, {\"col\": \"March\", \"idx\": 1521921600000, \"val\": 95}, {\"col\": \"Enough\", \"idx\": 1521921600000, \"val\": 84}, {\"col\": \"Control\", \"idx\": 1521921600000, \"val\": 33}, {\"col\": \"March\", \"idx\": 1521921660000, \"val\": 76}, {\"col\": \"Enough\", \"idx\": 1521921660000, \"val\": 60}, {\"col\": \"Control\", \"idx\": 1521921660000, \"val\": 27}, {\"col\": \"March\", \"idx\": 1521921720000, \"val\": 81}, {\"col\": \"Enough\", \"idx\": 1521921720000, \"val\": 63}, {\"col\": \"Control\", \"idx\": 1521921720000, \"val\": 36}, {\"col\": \"March\", \"idx\": 1521921780000, \"val\": 48}, {\"col\": \"Enough\", \"idx\": 1521921780000, \"val\": 25}, {\"col\": \"Control\", \"idx\": 1521921780000, \"val\": 24}, {\"col\": \"March\", \"idx\": 1521921840000, \"val\": 74}, {\"col\": \"Enough\", \"idx\": 1521921840000, \"val\": 58}, {\"col\": \"Control\", \"idx\": 1521921840000, \"val\": 18}, {\"col\": \"March\", \"idx\": 1521921900000, \"val\": 76}, {\"col\": \"Enough\", \"idx\": 1521921900000, \"val\": 54}, {\"col\": \"Control\", \"idx\": 1521921900000, \"val\": 28}, {\"col\": \"March\", \"idx\": 1521921960000, \"val\": 83}, {\"col\": \"Enough\", \"idx\": 1521921960000, \"val\": 65}, {\"col\": \"Control\", \"idx\": 1521921960000, \"val\": 31}, {\"col\": \"March\", \"idx\": 1521922020000, \"val\": 53}, {\"col\": \"Enough\", \"idx\": 1521922020000, \"val\": 34}, {\"col\": \"Control\", \"idx\": 1521922020000, \"val\": 19}, {\"col\": \"March\", \"idx\": 1521922080000, \"val\": 68}, {\"col\": \"Enough\", \"idx\": 1521922080000, \"val\": 49}, {\"col\": \"Control\", \"idx\": 1521922080000, \"val\": 22}, {\"col\": \"March\", \"idx\": 1521922140000, \"val\": 82}, {\"col\": \"Enough\", \"idx\": 1521922140000, \"val\": 53}, {\"col\": \"Control\", \"idx\": 1521922140000, \"val\": 44}, {\"col\": \"March\", \"idx\": 1521922200000, \"val\": 81}, {\"col\": \"Enough\", \"idx\": 1521922200000, \"val\": 61}, {\"col\": \"Control\", \"idx\": 1521922200000, \"val\": 31}, {\"col\": \"March\", \"idx\": 1521922260000, \"val\": 80}, {\"col\": \"Enough\", \"idx\": 1521922260000, \"val\": 63}, {\"col\": \"Control\", \"idx\": 1521922260000, \"val\": 29}, {\"col\": \"March\", \"idx\": 1521922320000, \"val\": 89}, {\"col\": \"Enough\", \"idx\": 1521922320000, \"val\": 62}, {\"col\": \"Control\", \"idx\": 1521922320000, \"val\": 35}, {\"col\": \"March\", \"idx\": 1521922380000, \"val\": 69}, {\"col\": \"Enough\", \"idx\": 1521922380000, \"val\": 49}, {\"col\": \"Control\", \"idx\": 1521922380000, \"val\": 32}, {\"col\": \"March\", \"idx\": 1521922440000, \"val\": 80}, {\"col\": \"Enough\", \"idx\": 1521922440000, \"val\": 65}, {\"col\": \"Control\", \"idx\": 1521922440000, \"val\": 25}, {\"col\": \"March\", \"idx\": 1521922500000, \"val\": 78}, {\"col\": \"Enough\", \"idx\": 1521922500000, \"val\": 56}, {\"col\": \"Control\", \"idx\": 1521922500000, \"val\": 30}, {\"col\": \"March\", \"idx\": 1521922560000, \"val\": 67}, {\"col\": \"Enough\", \"idx\": 1521922560000, \"val\": 46}, {\"col\": \"Control\", \"idx\": 1521922560000, \"val\": 26}, {\"col\": \"March\", \"idx\": 1521922620000, \"val\": 70}, {\"col\": \"Enough\", \"idx\": 1521922620000, \"val\": 65}, {\"col\": \"Control\", \"idx\": 1521922620000, \"val\": 21}, {\"col\": \"March\", \"idx\": 1521922680000, \"val\": 71}, {\"col\": \"Enough\", \"idx\": 1521922680000, \"val\": 62}, {\"col\": \"Control\", \"idx\": 1521922680000, \"val\": 26}, {\"col\": \"March\", \"idx\": 1521922740000, \"val\": 78}, {\"col\": \"Enough\", \"idx\": 1521922740000, \"val\": 57}, {\"col\": \"Control\", \"idx\": 1521922740000, \"val\": 30}, {\"col\": \"March\", \"idx\": 1521922800000, \"val\": 69}, {\"col\": \"Enough\", \"idx\": 1521922800000, \"val\": 63}, {\"col\": \"Control\", \"idx\": 1521922800000, \"val\": 26}, {\"col\": \"March\", \"idx\": 1521922860000, \"val\": 61}, {\"col\": \"Enough\", \"idx\": 1521922860000, \"val\": 64}, {\"col\": \"Control\", \"idx\": 1521922860000, \"val\": 18}, {\"col\": \"March\", \"idx\": 1521922920000, \"val\": 80}, {\"col\": \"Enough\", \"idx\": 1521922920000, \"val\": 52}, {\"col\": \"Control\", \"idx\": 1521922920000, \"val\": 30}, {\"col\": \"March\", \"idx\": 1521922980000, \"val\": 71}, {\"col\": \"Enough\", \"idx\": 1521922980000, \"val\": 53}, {\"col\": \"Control\", \"idx\": 1521922980000, \"val\": 27}, {\"col\": \"March\", \"idx\": 1521923040000, \"val\": 81}, {\"col\": \"Enough\", \"idx\": 1521923040000, \"val\": 79}, {\"col\": \"Control\", \"idx\": 1521923040000, \"val\": 24}, {\"col\": \"March\", \"idx\": 1521923100000, \"val\": 68}, {\"col\": \"Enough\", \"idx\": 1521923100000, \"val\": 54}, {\"col\": \"Control\", \"idx\": 1521923100000, \"val\": 19}, {\"col\": \"March\", \"idx\": 1521923160000, \"val\": 60}, {\"col\": \"Enough\", \"idx\": 1521923160000, \"val\": 54}, {\"col\": \"Control\", \"idx\": 1521923160000, \"val\": 17}, {\"col\": \"March\", \"idx\": 1521923220000, \"val\": 66}, {\"col\": \"Enough\", \"idx\": 1521923220000, \"val\": 55}, {\"col\": \"Control\", \"idx\": 1521923220000, \"val\": 27}, {\"col\": \"March\", \"idx\": 1521923280000, \"val\": 76}, {\"col\": \"Enough\", \"idx\": 1521923280000, \"val\": 59}, {\"col\": \"Control\", \"idx\": 1521923280000, \"val\": 24}, {\"col\": \"March\", \"idx\": 1521923340000, \"val\": 92}, {\"col\": \"Enough\", \"idx\": 1521923340000, \"val\": 66}, {\"col\": \"Control\", \"idx\": 1521923340000, \"val\": 30}, {\"col\": \"March\", \"idx\": 1521923400000, \"val\": 80}, {\"col\": \"Enough\", \"idx\": 1521923400000, \"val\": 66}, {\"col\": \"Control\", \"idx\": 1521923400000, \"val\": 33}, {\"col\": \"March\", \"idx\": 1521923460000, \"val\": 56}, {\"col\": \"Enough\", \"idx\": 1521923460000, \"val\": 49}, {\"col\": \"Control\", \"idx\": 1521923460000, \"val\": 18}, {\"col\": \"March\", \"idx\": 1521923520000, \"val\": 87}, {\"col\": \"Enough\", \"idx\": 1521923520000, \"val\": 60}, {\"col\": \"Control\", \"idx\": 1521923520000, \"val\": 33}, {\"col\": \"March\", \"idx\": 1521923580000, \"val\": 61}, {\"col\": \"Enough\", \"idx\": 1521923580000, \"val\": 52}, {\"col\": \"Control\", \"idx\": 1521923580000, \"val\": 22}, {\"col\": \"March\", \"idx\": 1521923640000, \"val\": 78}, {\"col\": \"Enough\", \"idx\": 1521923640000, \"val\": 48}, {\"col\": \"Control\", \"idx\": 1521923640000, \"val\": 22}, {\"col\": \"March\", \"idx\": 1521923700000, \"val\": 63}, {\"col\": \"Enough\", \"idx\": 1521923700000, \"val\": 53}, {\"col\": \"Control\", \"idx\": 1521923700000, \"val\": 21}, {\"col\": \"March\", \"idx\": 1521923760000, \"val\": 89}, {\"col\": \"Enough\", \"idx\": 1521923760000, \"val\": 58}, {\"col\": \"Control\", \"idx\": 1521923760000, \"val\": 38}, {\"col\": \"March\", \"idx\": 1521923820000, \"val\": 77}, {\"col\": \"Enough\", \"idx\": 1521923820000, \"val\": 66}, {\"col\": \"Control\", \"idx\": 1521923820000, \"val\": 27}, {\"col\": \"March\", \"idx\": 1521923880000, \"val\": 69}, {\"col\": \"Enough\", \"idx\": 1521923880000, \"val\": 52}, {\"col\": \"Control\", \"idx\": 1521923880000, \"val\": 24}, {\"col\": \"March\", \"idx\": 1521923940000, \"val\": 62}, {\"col\": \"Enough\", \"idx\": 1521923940000, \"val\": 51}, {\"col\": \"Control\", \"idx\": 1521923940000, \"val\": 18}, {\"col\": \"March\", \"idx\": 1521924000000, \"val\": 78}, {\"col\": \"Enough\", \"idx\": 1521924000000, \"val\": 67}, {\"col\": \"Control\", \"idx\": 1521924000000, \"val\": 13}, {\"col\": \"March\", \"idx\": 1521924060000, \"val\": 73}, {\"col\": \"Enough\", \"idx\": 1521924060000, \"val\": 63}, {\"col\": \"Control\", \"idx\": 1521924060000, \"val\": 16}, {\"col\": \"March\", \"idx\": 1521924120000, \"val\": 0}, {\"col\": \"Enough\", \"idx\": 1521924120000, \"val\": 0}, {\"col\": \"Control\", \"idx\": 1521924120000, \"val\": 0}, {\"col\": \"March\", \"idx\": 1521924180000, \"val\": 0}, {\"col\": \"Enough\", \"idx\": 1521924180000, \"val\": 0}, {\"col\": \"Control\", \"idx\": 1521924180000, \"val\": 0}, {\"col\": \"March\", \"idx\": 1521924240000, \"val\": 46}, {\"col\": \"Enough\", \"idx\": 1521924240000, \"val\": 29}, {\"col\": \"Control\", \"idx\": 1521924240000, \"val\": 17}, {\"col\": \"March\", \"idx\": 1521924300000, \"val\": 65}, {\"col\": \"Enough\", \"idx\": 1521924300000, \"val\": 44}, {\"col\": \"Control\", \"idx\": 1521924300000, \"val\": 23}, {\"col\": \"March\", \"idx\": 1521924360000, \"val\": 63}, {\"col\": \"Enough\", \"idx\": 1521924360000, \"val\": 48}, {\"col\": \"Control\", \"idx\": 1521924360000, \"val\": 24}, {\"col\": \"March\", \"idx\": 1521924420000, \"val\": 83}, {\"col\": \"Enough\", \"idx\": 1521924420000, \"val\": 63}, {\"col\": \"Control\", \"idx\": 1521924420000, \"val\": 29}, {\"col\": \"March\", \"idx\": 1521924480000, \"val\": 80}, {\"col\": \"Enough\", \"idx\": 1521924480000, \"val\": 54}, {\"col\": \"Control\", \"idx\": 1521924480000, \"val\": 22}, {\"col\": \"March\", \"idx\": 1521924540000, \"val\": 74}, {\"col\": \"Enough\", \"idx\": 1521924540000, \"val\": 54}, {\"col\": \"Control\", \"idx\": 1521924540000, \"val\": 27}, {\"col\": \"March\", \"idx\": 1521924600000, \"val\": 102}, {\"col\": \"Enough\", \"idx\": 1521924600000, \"val\": 92}, {\"col\": \"Control\", \"idx\": 1521924600000, \"val\": 27}, {\"col\": \"March\", \"idx\": 1521924660000, \"val\": 70}, {\"col\": \"Enough\", \"idx\": 1521924660000, \"val\": 64}, {\"col\": \"Control\", \"idx\": 1521924660000, \"val\": 26}, {\"col\": \"March\", \"idx\": 1521924720000, \"val\": 92}, {\"col\": \"Enough\", \"idx\": 1521924720000, \"val\": 63}, {\"col\": \"Control\", \"idx\": 1521924720000, \"val\": 30}, {\"col\": \"March\", \"idx\": 1521924780000, \"val\": 97}, {\"col\": \"Enough\", \"idx\": 1521924780000, \"val\": 59}, {\"col\": \"Control\", \"idx\": 1521924780000, \"val\": 21}, {\"col\": \"March\", \"idx\": 1521924840000, \"val\": 88}, {\"col\": \"Enough\", \"idx\": 1521924840000, \"val\": 59}, {\"col\": \"Control\", \"idx\": 1521924840000, \"val\": 25}, {\"col\": \"March\", \"idx\": 1521924900000, \"val\": 78}, {\"col\": \"Enough\", \"idx\": 1521924900000, \"val\": 56}, {\"col\": \"Control\", \"idx\": 1521924900000, \"val\": 20}, {\"col\": \"March\", \"idx\": 1521924960000, \"val\": 80}, {\"col\": \"Enough\", \"idx\": 1521924960000, \"val\": 55}, {\"col\": \"Control\", \"idx\": 1521924960000, \"val\": 28}, {\"col\": \"March\", \"idx\": 1521925020000, \"val\": 81}, {\"col\": \"Enough\", \"idx\": 1521925020000, \"val\": 63}, {\"col\": \"Control\", \"idx\": 1521925020000, \"val\": 24}, {\"col\": \"March\", \"idx\": 1521925080000, \"val\": 70}, {\"col\": \"Enough\", \"idx\": 1521925080000, \"val\": 53}, {\"col\": \"Control\", \"idx\": 1521925080000, \"val\": 21}, {\"col\": \"March\", \"idx\": 1521925140000, \"val\": 66}, {\"col\": \"Enough\", \"idx\": 1521925140000, \"val\": 47}, {\"col\": \"Control\", \"idx\": 1521925140000, \"val\": 21}, {\"col\": \"March\", \"idx\": 1521925200000, \"val\": 71}, {\"col\": \"Enough\", \"idx\": 1521925200000, \"val\": 53}, {\"col\": \"Control\", \"idx\": 1521925200000, \"val\": 29}, {\"col\": \"March\", \"idx\": 1521925260000, \"val\": 65}, {\"col\": \"Enough\", \"idx\": 1521925260000, \"val\": 45}, {\"col\": \"Control\", \"idx\": 1521925260000, \"val\": 17}, {\"col\": \"March\", \"idx\": 1521925320000, \"val\": 68}, {\"col\": \"Enough\", \"idx\": 1521925320000, \"val\": 45}, {\"col\": \"Control\", \"idx\": 1521925320000, \"val\": 28}, {\"col\": \"March\", \"idx\": 1521925380000, \"val\": 57}, {\"col\": \"Enough\", \"idx\": 1521925380000, \"val\": 44}, {\"col\": \"Control\", \"idx\": 1521925380000, \"val\": 20}, {\"col\": \"March\", \"idx\": 1521925440000, \"val\": 60}, {\"col\": \"Enough\", \"idx\": 1521925440000, \"val\": 43}, {\"col\": \"Control\", \"idx\": 1521925440000, \"val\": 23}, {\"col\": \"March\", \"idx\": 1521925500000, \"val\": 69}, {\"col\": \"Enough\", \"idx\": 1521925500000, \"val\": 52}, {\"col\": \"Control\", \"idx\": 1521925500000, \"val\": 23}, {\"col\": \"March\", \"idx\": 1521925560000, \"val\": 85}, {\"col\": \"Enough\", \"idx\": 1521925560000, \"val\": 64}, {\"col\": \"Control\", \"idx\": 1521925560000, \"val\": 13}, {\"col\": \"March\", \"idx\": 1521925620000, \"val\": 63}, {\"col\": \"Enough\", \"idx\": 1521925620000, \"val\": 50}, {\"col\": \"Control\", \"idx\": 1521925620000, \"val\": 19}, {\"col\": \"March\", \"idx\": 1521925680000, \"val\": 59}, {\"col\": \"Enough\", \"idx\": 1521925680000, \"val\": 48}, {\"col\": \"Control\", \"idx\": 1521925680000, \"val\": 15}, {\"col\": \"March\", \"idx\": 1521925740000, \"val\": 61}, {\"col\": \"Enough\", \"idx\": 1521925740000, \"val\": 37}, {\"col\": \"Control\", \"idx\": 1521925740000, \"val\": 22}, {\"col\": \"March\", \"idx\": 1521925800000, \"val\": 58}, {\"col\": \"Enough\", \"idx\": 1521925800000, \"val\": 52}, {\"col\": \"Control\", \"idx\": 1521925800000, \"val\": 13}, {\"col\": \"March\", \"idx\": 1521925860000, \"val\": 67}, {\"col\": \"Enough\", \"idx\": 1521925860000, \"val\": 55}, {\"col\": \"Control\", \"idx\": 1521925860000, \"val\": 17}, {\"col\": \"March\", \"idx\": 1521925920000, \"val\": 70}, {\"col\": \"Enough\", \"idx\": 1521925920000, \"val\": 56}, {\"col\": \"Control\", \"idx\": 1521925920000, \"val\": 20}, {\"col\": \"March\", \"idx\": 1521925980000, \"val\": 73}, {\"col\": \"Enough\", \"idx\": 1521925980000, \"val\": 62}, {\"col\": \"Control\", \"idx\": 1521925980000, \"val\": 23}, {\"col\": \"March\", \"idx\": 1521926040000, \"val\": 66}, {\"col\": \"Enough\", \"idx\": 1521926040000, \"val\": 57}, {\"col\": \"Control\", \"idx\": 1521926040000, \"val\": 23}, {\"col\": \"March\", \"idx\": 1521926100000, \"val\": 47}, {\"col\": \"Enough\", \"idx\": 1521926100000, \"val\": 50}, {\"col\": \"Control\", \"idx\": 1521926100000, \"val\": 12}, {\"col\": \"March\", \"idx\": 1521926160000, \"val\": 68}, {\"col\": \"Enough\", \"idx\": 1521926160000, \"val\": 55}, {\"col\": \"Control\", \"idx\": 1521926160000, \"val\": 18}, {\"col\": \"March\", \"idx\": 1521926220000, \"val\": 56}, {\"col\": \"Enough\", \"idx\": 1521926220000, \"val\": 44}, {\"col\": \"Control\", \"idx\": 1521926220000, \"val\": 21}, {\"col\": \"March\", \"idx\": 1521926280000, \"val\": 68}, {\"col\": \"Enough\", \"idx\": 1521926280000, \"val\": 54}, {\"col\": \"Control\", \"idx\": 1521926280000, \"val\": 22}, {\"col\": \"March\", \"idx\": 1521926340000, \"val\": 60}, {\"col\": \"Enough\", \"idx\": 1521926340000, \"val\": 47}, {\"col\": \"Control\", \"idx\": 1521926340000, \"val\": 20}, {\"col\": \"March\", \"idx\": 1521926400000, \"val\": 73}, {\"col\": \"Enough\", \"idx\": 1521926400000, \"val\": 63}, {\"col\": \"Control\", \"idx\": 1521926400000, \"val\": 24}, {\"col\": \"March\", \"idx\": 1521926460000, \"val\": 63}, {\"col\": \"Enough\", \"idx\": 1521926460000, \"val\": 53}, {\"col\": \"Control\", \"idx\": 1521926460000, \"val\": 20}, {\"col\": \"March\", \"idx\": 1521926520000, \"val\": 81}, {\"col\": \"Enough\", \"idx\": 1521926520000, \"val\": 62}, {\"col\": \"Control\", \"idx\": 1521926520000, \"val\": 33}, {\"col\": \"March\", \"idx\": 1521926580000, \"val\": 60}, {\"col\": \"Enough\", \"idx\": 1521926580000, \"val\": 58}, {\"col\": \"Control\", \"idx\": 1521926580000, \"val\": 19}, {\"col\": \"March\", \"idx\": 1521926640000, \"val\": 69}, {\"col\": \"Enough\", \"idx\": 1521926640000, \"val\": 42}, {\"col\": \"Control\", \"idx\": 1521926640000, \"val\": 28}, {\"col\": \"March\", \"idx\": 1521926700000, \"val\": 72}, {\"col\": \"Enough\", \"idx\": 1521926700000, \"val\": 44}, {\"col\": \"Control\", \"idx\": 1521926700000, \"val\": 20}, {\"col\": \"March\", \"idx\": 1521926760000, \"val\": 76}, {\"col\": \"Enough\", \"idx\": 1521926760000, \"val\": 61}, {\"col\": \"Control\", \"idx\": 1521926760000, \"val\": 21}, {\"col\": \"March\", \"idx\": 1521926820000, \"val\": 56}, {\"col\": \"Enough\", \"idx\": 1521926820000, \"val\": 47}, {\"col\": \"Control\", \"idx\": 1521926820000, \"val\": 29}, {\"col\": \"March\", \"idx\": 1521926880000, \"val\": 72}, {\"col\": \"Enough\", \"idx\": 1521926880000, \"val\": 61}, {\"col\": \"Control\", \"idx\": 1521926880000, \"val\": 29}, {\"col\": \"March\", \"idx\": 1521926940000, \"val\": 69}, {\"col\": \"Enough\", \"idx\": 1521926940000, \"val\": 50}, {\"col\": \"Control\", \"idx\": 1521926940000, \"val\": 25}, {\"col\": \"March\", \"idx\": 1521927000000, \"val\": 73}, {\"col\": \"Enough\", \"idx\": 1521927000000, \"val\": 62}, {\"col\": \"Control\", \"idx\": 1521927000000, \"val\": 25}, {\"col\": \"March\", \"idx\": 1521927060000, \"val\": 66}, {\"col\": \"Enough\", \"idx\": 1521927060000, \"val\": 60}, {\"col\": \"Control\", \"idx\": 1521927060000, \"val\": 26}, {\"col\": \"March\", \"idx\": 1521927120000, \"val\": 45}, {\"col\": \"Enough\", \"idx\": 1521927120000, \"val\": 30}, {\"col\": \"Control\", \"idx\": 1521927120000, \"val\": 27}, {\"col\": \"March\", \"idx\": 1521927180000, \"val\": 0}, {\"col\": \"Enough\", \"idx\": 1521927180000, \"val\": 0}, {\"col\": \"Control\", \"idx\": 1521927180000, \"val\": 0}, {\"col\": \"March\", \"idx\": 1521927240000, \"val\": 0}, {\"col\": \"Enough\", \"idx\": 1521927240000, \"val\": 0}, {\"col\": \"Control\", \"idx\": 1521927240000, \"val\": 0}, {\"col\": \"March\", \"idx\": 1521927300000, \"val\": 0}, {\"col\": \"Enough\", \"idx\": 1521927300000, \"val\": 0}, {\"col\": \"Control\", \"idx\": 1521927300000, \"val\": 0}, {\"col\": \"March\", \"idx\": 1521927360000, \"val\": 0}, {\"col\": \"Enough\", \"idx\": 1521927360000, \"val\": 0}, {\"col\": \"Control\", \"idx\": 1521927360000, \"val\": 0}, {\"col\": \"March\", \"idx\": 1521927420000, \"val\": 0}, {\"col\": \"Enough\", \"idx\": 1521927420000, \"val\": 0}, {\"col\": \"Control\", \"idx\": 1521927420000, \"val\": 0}, {\"col\": \"March\", \"idx\": 1521927480000, \"val\": 0}, {\"col\": \"Enough\", \"idx\": 1521927480000, \"val\": 0}, {\"col\": \"Control\", \"idx\": 1521927480000, \"val\": 0}, {\"col\": \"March\", \"idx\": 1521927540000, \"val\": 0}, {\"col\": \"Enough\", \"idx\": 1521927540000, \"val\": 0}, {\"col\": \"Control\", \"idx\": 1521927540000, \"val\": 0}, {\"col\": \"March\", \"idx\": 1521927600000, \"val\": 0}, {\"col\": \"Enough\", \"idx\": 1521927600000, \"val\": 0}, {\"col\": \"Control\", \"idx\": 1521927600000, \"val\": 0}, {\"col\": \"March\", \"idx\": 1521927660000, \"val\": 0}, {\"col\": \"Enough\", \"idx\": 1521927660000, \"val\": 0}, {\"col\": \"Control\", \"idx\": 1521927660000, \"val\": 0}, {\"col\": \"March\", \"idx\": 1521927720000, \"val\": 43}, {\"col\": \"Enough\", \"idx\": 1521927720000, \"val\": 35}, {\"col\": \"Control\", \"idx\": 1521927720000, \"val\": 13}, {\"col\": \"March\", \"idx\": 1521927780000, \"val\": 61}, {\"col\": \"Enough\", \"idx\": 1521927780000, \"val\": 43}, {\"col\": \"Control\", \"idx\": 1521927780000, \"val\": 12}, {\"col\": \"March\", \"idx\": 1521927840000, \"val\": 68}, {\"col\": \"Enough\", \"idx\": 1521927840000, \"val\": 52}, {\"col\": \"Control\", \"idx\": 1521927840000, \"val\": 25}, {\"col\": \"March\", \"idx\": 1521927900000, \"val\": 67}, {\"col\": \"Enough\", \"idx\": 1521927900000, \"val\": 43}, {\"col\": \"Control\", \"idx\": 1521927900000, \"val\": 26}, {\"col\": \"March\", \"idx\": 1521927960000, \"val\": 71}, {\"col\": \"Enough\", \"idx\": 1521927960000, \"val\": 62}, {\"col\": \"Control\", \"idx\": 1521927960000, \"val\": 20}, {\"col\": \"March\", \"idx\": 1521928020000, \"val\": 52}, {\"col\": \"Enough\", \"idx\": 1521928020000, \"val\": 31}, {\"col\": \"Control\", \"idx\": 1521928020000, \"val\": 15}, {\"col\": \"March\", \"idx\": 1521928080000, \"val\": 76}, {\"col\": \"Enough\", \"idx\": 1521928080000, \"val\": 51}, {\"col\": \"Control\", \"idx\": 1521928080000, \"val\": 29}, {\"col\": \"March\", \"idx\": 1521928140000, \"val\": 63}, {\"col\": \"Enough\", \"idx\": 1521928140000, \"val\": 45}, {\"col\": \"Control\", \"idx\": 1521928140000, \"val\": 29}, {\"col\": \"March\", \"idx\": 1521928200000, \"val\": 65}, {\"col\": \"Enough\", \"idx\": 1521928200000, \"val\": 54}, {\"col\": \"Control\", \"idx\": 1521928200000, \"val\": 25}, {\"col\": \"March\", \"idx\": 1521928260000, \"val\": 54}, {\"col\": \"Enough\", \"idx\": 1521928260000, \"val\": 41}, {\"col\": \"Control\", \"idx\": 1521928260000, \"val\": 19}, {\"col\": \"March\", \"idx\": 1521928320000, \"val\": 68}, {\"col\": \"Enough\", \"idx\": 1521928320000, \"val\": 46}, {\"col\": \"Control\", \"idx\": 1521928320000, \"val\": 30}, {\"col\": \"March\", \"idx\": 1521928380000, \"val\": 65}, {\"col\": \"Enough\", \"idx\": 1521928380000, \"val\": 53}, {\"col\": \"Control\", \"idx\": 1521928380000, \"val\": 22}, {\"col\": \"March\", \"idx\": 1521928440000, \"val\": 56}, {\"col\": \"Enough\", \"idx\": 1521928440000, \"val\": 38}, {\"col\": \"Control\", \"idx\": 1521928440000, \"val\": 21}, {\"col\": \"March\", \"idx\": 1521928500000, \"val\": 58}, {\"col\": \"Enough\", \"idx\": 1521928500000, \"val\": 42}, {\"col\": \"Control\", \"idx\": 1521928500000, \"val\": 30}, {\"col\": \"March\", \"idx\": 1521928560000, \"val\": 53}, {\"col\": \"Enough\", \"idx\": 1521928560000, \"val\": 43}, {\"col\": \"Control\", \"idx\": 1521928560000, \"val\": 14}, {\"col\": \"March\", \"idx\": 1521928620000, \"val\": 68}, {\"col\": \"Enough\", \"idx\": 1521928620000, \"val\": 57}, {\"col\": \"Control\", \"idx\": 1521928620000, \"val\": 26}, {\"col\": \"March\", \"idx\": 1521928680000, \"val\": 63}, {\"col\": \"Enough\", \"idx\": 1521928680000, \"val\": 37}, {\"col\": \"Control\", \"idx\": 1521928680000, \"val\": 26}, {\"col\": \"March\", \"idx\": 1521928740000, \"val\": 70}, {\"col\": \"Enough\", \"idx\": 1521928740000, \"val\": 47}, {\"col\": \"Control\", \"idx\": 1521928740000, \"val\": 27}, {\"col\": \"March\", \"idx\": 1521928800000, \"val\": 58}, {\"col\": \"Enough\", \"idx\": 1521928800000, \"val\": 46}, {\"col\": \"Control\", \"idx\": 1521928800000, \"val\": 20}, {\"col\": \"March\", \"idx\": 1521928860000, \"val\": 48}, {\"col\": \"Enough\", \"idx\": 1521928860000, \"val\": 31}, {\"col\": \"Control\", \"idx\": 1521928860000, \"val\": 16}, {\"col\": \"March\", \"idx\": 1521928920000, \"val\": 72}, {\"col\": \"Enough\", \"idx\": 1521928920000, \"val\": 59}, {\"col\": \"Control\", \"idx\": 1521928920000, \"val\": 29}, {\"col\": \"March\", \"idx\": 1521928980000, \"val\": 54}, {\"col\": \"Enough\", \"idx\": 1521928980000, \"val\": 45}, {\"col\": \"Control\", \"idx\": 1521928980000, \"val\": 21}, {\"col\": \"March\", \"idx\": 1521929040000, \"val\": 64}, {\"col\": \"Enough\", \"idx\": 1521929040000, \"val\": 45}, {\"col\": \"Control\", \"idx\": 1521929040000, \"val\": 26}, {\"col\": \"March\", \"idx\": 1521929100000, \"val\": 60}, {\"col\": \"Enough\", \"idx\": 1521929100000, \"val\": 50}, {\"col\": \"Control\", \"idx\": 1521929100000, \"val\": 19}, {\"col\": \"March\", \"idx\": 1521929160000, \"val\": 63}, {\"col\": \"Enough\", \"idx\": 1521929160000, \"val\": 44}, {\"col\": \"Control\", \"idx\": 1521929160000, \"val\": 22}, {\"col\": \"March\", \"idx\": 1521929220000, \"val\": 69}, {\"col\": \"Enough\", \"idx\": 1521929220000, \"val\": 61}, {\"col\": \"Control\", \"idx\": 1521929220000, \"val\": 26}, {\"col\": \"March\", \"idx\": 1521929280000, \"val\": 76}, {\"col\": \"Enough\", \"idx\": 1521929280000, \"val\": 65}, {\"col\": \"Control\", \"idx\": 1521929280000, \"val\": 27}, {\"col\": \"March\", \"idx\": 1521929340000, \"val\": 54}, {\"col\": \"Enough\", \"idx\": 1521929340000, \"val\": 47}, {\"col\": \"Control\", \"idx\": 1521929340000, \"val\": 23}, {\"col\": \"March\", \"idx\": 1521929400000, \"val\": 53}, {\"col\": \"Enough\", \"idx\": 1521929400000, \"val\": 41}, {\"col\": \"Control\", \"idx\": 1521929400000, \"val\": 23}, {\"col\": \"March\", \"idx\": 1521929460000, \"val\": 51}, {\"col\": \"Enough\", \"idx\": 1521929460000, \"val\": 53}, {\"col\": \"Control\", \"idx\": 1521929460000, \"val\": 18}, {\"col\": \"March\", \"idx\": 1521929520000, \"val\": 73}, {\"col\": \"Enough\", \"idx\": 1521929520000, \"val\": 61}, {\"col\": \"Control\", \"idx\": 1521929520000, \"val\": 23}, {\"col\": \"March\", \"idx\": 1521929580000, \"val\": 67}, {\"col\": \"Enough\", \"idx\": 1521929580000, \"val\": 46}, {\"col\": \"Control\", \"idx\": 1521929580000, \"val\": 22}, {\"col\": \"March\", \"idx\": 1521929640000, \"val\": 66}, {\"col\": \"Enough\", \"idx\": 1521929640000, \"val\": 48}, {\"col\": \"Control\", \"idx\": 1521929640000, \"val\": 23}, {\"col\": \"March\", \"idx\": 1521929700000, \"val\": 57}, {\"col\": \"Enough\", \"idx\": 1521929700000, \"val\": 43}, {\"col\": \"Control\", \"idx\": 1521929700000, \"val\": 24}, {\"col\": \"March\", \"idx\": 1521929760000, \"val\": 66}, {\"col\": \"Enough\", \"idx\": 1521929760000, \"val\": 45}, {\"col\": \"Control\", \"idx\": 1521929760000, \"val\": 31}, {\"col\": \"March\", \"idx\": 1521929820000, \"val\": 54}, {\"col\": \"Enough\", \"idx\": 1521929820000, \"val\": 36}, {\"col\": \"Control\", \"idx\": 1521929820000, \"val\": 18}, {\"col\": \"March\", \"idx\": 1521929880000, \"val\": 75}, {\"col\": \"Enough\", \"idx\": 1521929880000, \"val\": 55}, {\"col\": \"Control\", \"idx\": 1521929880000, \"val\": 25}, {\"col\": \"March\", \"idx\": 1521929940000, \"val\": 71}, {\"col\": \"Enough\", \"idx\": 1521929940000, \"val\": 42}, {\"col\": \"Control\", \"idx\": 1521929940000, \"val\": 21}, {\"col\": \"March\", \"idx\": 1521930000000, \"val\": 81}, {\"col\": \"Enough\", \"idx\": 1521930000000, \"val\": 52}, {\"col\": \"Control\", \"idx\": 1521930000000, \"val\": 28}, {\"col\": \"March\", \"idx\": 1521930060000, \"val\": 73}, {\"col\": \"Enough\", \"idx\": 1521930060000, \"val\": 52}, {\"col\": \"Control\", \"idx\": 1521930060000, \"val\": 19}, {\"col\": \"March\", \"idx\": 1521930120000, \"val\": 86}, {\"col\": \"Enough\", \"idx\": 1521930120000, \"val\": 50}, {\"col\": \"Control\", \"idx\": 1521930120000, \"val\": 33}, {\"col\": \"March\", \"idx\": 1521930180000, \"val\": 70}, {\"col\": \"Enough\", \"idx\": 1521930180000, \"val\": 40}, {\"col\": \"Control\", \"idx\": 1521930180000, \"val\": 28}, {\"col\": \"March\", \"idx\": 1521930240000, \"val\": 70}, {\"col\": \"Enough\", \"idx\": 1521930240000, \"val\": 44}, {\"col\": \"Control\", \"idx\": 1521930240000, \"val\": 33}, {\"col\": \"March\", \"idx\": 1521930300000, \"val\": 66}, {\"col\": \"Enough\", \"idx\": 1521930300000, \"val\": 43}, {\"col\": \"Control\", \"idx\": 1521930300000, \"val\": 32}, {\"col\": \"March\", \"idx\": 1521930360000, \"val\": 87}, {\"col\": \"Enough\", \"idx\": 1521930360000, \"val\": 66}, {\"col\": \"Control\", \"idx\": 1521930360000, \"val\": 30}, {\"col\": \"March\", \"idx\": 1521930420000, \"val\": 69}, {\"col\": \"Enough\", \"idx\": 1521930420000, \"val\": 50}, {\"col\": \"Control\", \"idx\": 1521930420000, \"val\": 34}, {\"col\": \"March\", \"idx\": 1521930480000, \"val\": 65}, {\"col\": \"Enough\", \"idx\": 1521930480000, \"val\": 58}, {\"col\": \"Control\", \"idx\": 1521930480000, \"val\": 28}, {\"col\": \"March\", \"idx\": 1521930540000, \"val\": 72}, {\"col\": \"Enough\", \"idx\": 1521930540000, \"val\": 50}, {\"col\": \"Control\", \"idx\": 1521930540000, \"val\": 34}, {\"col\": \"March\", \"idx\": 1521930600000, \"val\": 73}, {\"col\": \"Enough\", \"idx\": 1521930600000, \"val\": 46}, {\"col\": \"Control\", \"idx\": 1521930600000, \"val\": 38}, {\"col\": \"March\", \"idx\": 1521930660000, \"val\": 60}, {\"col\": \"Enough\", \"idx\": 1521930660000, \"val\": 49}, {\"col\": \"Control\", \"idx\": 1521930660000, \"val\": 17}, {\"col\": \"March\", \"idx\": 1521930720000, \"val\": 82}, {\"col\": \"Enough\", \"idx\": 1521930720000, \"val\": 62}, {\"col\": \"Control\", \"idx\": 1521930720000, \"val\": 31}, {\"col\": \"March\", \"idx\": 1521930780000, \"val\": 80}, {\"col\": \"Enough\", \"idx\": 1521930780000, \"val\": 60}, {\"col\": \"Control\", \"idx\": 1521930780000, \"val\": 28}, {\"col\": \"March\", \"idx\": 1521930840000, \"val\": 74}, {\"col\": \"Enough\", \"idx\": 1521930840000, \"val\": 57}, {\"col\": \"Control\", \"idx\": 1521930840000, \"val\": 25}, {\"col\": \"March\", \"idx\": 1521930900000, \"val\": 60}, {\"col\": \"Enough\", \"idx\": 1521930900000, \"val\": 47}, {\"col\": \"Control\", \"idx\": 1521930900000, \"val\": 31}, {\"col\": \"March\", \"idx\": 1521930960000, \"val\": 70}, {\"col\": \"Enough\", \"idx\": 1521930960000, \"val\": 57}, {\"col\": \"Control\", \"idx\": 1521930960000, \"val\": 32}, {\"col\": \"March\", \"idx\": 1521931020000, \"val\": 62}, {\"col\": \"Enough\", \"idx\": 1521931020000, \"val\": 54}, {\"col\": \"Control\", \"idx\": 1521931020000, \"val\": 17}, {\"col\": \"March\", \"idx\": 1521931080000, \"val\": 71}, {\"col\": \"Enough\", \"idx\": 1521931080000, \"val\": 48}, {\"col\": \"Control\", \"idx\": 1521931080000, \"val\": 30}, {\"col\": \"March\", \"idx\": 1521931140000, \"val\": 105}, {\"col\": \"Enough\", \"idx\": 1521931140000, \"val\": 80}, {\"col\": \"Control\", \"idx\": 1521931140000, \"val\": 24}, {\"col\": \"March\", \"idx\": 1521931200000, \"val\": 82}, {\"col\": \"Enough\", \"idx\": 1521931200000, \"val\": 64}, {\"col\": \"Control\", \"idx\": 1521931200000, \"val\": 25}, {\"col\": \"March\", \"idx\": 1521931260000, \"val\": 70}, {\"col\": \"Enough\", \"idx\": 1521931260000, \"val\": 49}, {\"col\": \"Control\", \"idx\": 1521931260000, \"val\": 24}, {\"col\": \"March\", \"idx\": 1521931320000, \"val\": 71}, {\"col\": \"Enough\", \"idx\": 1521931320000, \"val\": 48}, {\"col\": \"Control\", \"idx\": 1521931320000, \"val\": 29}, {\"col\": \"March\", \"idx\": 1521931380000, \"val\": 72}, {\"col\": \"Enough\", \"idx\": 1521931380000, \"val\": 59}, {\"col\": \"Control\", \"idx\": 1521931380000, \"val\": 23}, {\"col\": \"March\", \"idx\": 1521931440000, \"val\": 75}, {\"col\": \"Enough\", \"idx\": 1521931440000, \"val\": 56}, {\"col\": \"Control\", \"idx\": 1521931440000, \"val\": 26}, {\"col\": \"March\", \"idx\": 1521931500000, \"val\": 60}, {\"col\": \"Enough\", \"idx\": 1521931500000, \"val\": 49}, {\"col\": \"Control\", \"idx\": 1521931500000, \"val\": 29}, {\"col\": \"March\", \"idx\": 1521931560000, \"val\": 72}, {\"col\": \"Enough\", \"idx\": 1521931560000, \"val\": 54}, {\"col\": \"Control\", \"idx\": 1521931560000, \"val\": 24}, {\"col\": \"March\", \"idx\": 1521931620000, \"val\": 59}, {\"col\": \"Enough\", \"idx\": 1521931620000, \"val\": 37}, {\"col\": \"Control\", \"idx\": 1521931620000, \"val\": 24}, {\"col\": \"March\", \"idx\": 1521931680000, \"val\": 61}, {\"col\": \"Enough\", \"idx\": 1521931680000, \"val\": 60}, {\"col\": \"Control\", \"idx\": 1521931680000, \"val\": 43}, {\"col\": \"March\", \"idx\": 1521931740000, \"val\": 65}, {\"col\": \"Enough\", \"idx\": 1521931740000, \"val\": 49}, {\"col\": \"Control\", \"idx\": 1521931740000, \"val\": 30}, {\"col\": \"March\", \"idx\": 1521931800000, \"val\": 67}, {\"col\": \"Enough\", \"idx\": 1521931800000, \"val\": 55}, {\"col\": \"Control\", \"idx\": 1521931800000, \"val\": 32}, {\"col\": \"March\", \"idx\": 1521931860000, \"val\": 65}, {\"col\": \"Enough\", \"idx\": 1521931860000, \"val\": 56}, {\"col\": \"Control\", \"idx\": 1521931860000, \"val\": 50}, {\"col\": \"March\", \"idx\": 1521931920000, \"val\": 54}, {\"col\": \"Enough\", \"idx\": 1521931920000, \"val\": 40}, {\"col\": \"Control\", \"idx\": 1521931920000, \"val\": 39}, {\"col\": \"March\", \"idx\": 1521931980000, \"val\": 61}, {\"col\": \"Enough\", \"idx\": 1521931980000, \"val\": 53}, {\"col\": \"Control\", \"idx\": 1521931980000, \"val\": 48}, {\"col\": \"March\", \"idx\": 1521932040000, \"val\": 15}, {\"col\": \"Enough\", \"idx\": 1521932040000, \"val\": 10}, {\"col\": \"Control\", \"idx\": 1521932040000, \"val\": 8}, {\"col\": \"March\", \"idx\": 1521932100000, \"val\": 0}, {\"col\": \"Enough\", \"idx\": 1521932100000, \"val\": 0}, {\"col\": \"Control\", \"idx\": 1521932100000, \"val\": 0}, {\"col\": \"March\", \"idx\": 1521932160000, \"val\": 0}, {\"col\": \"Enough\", \"idx\": 1521932160000, \"val\": 0}, {\"col\": \"Control\", \"idx\": 1521932160000, \"val\": 0}, {\"col\": \"March\", \"idx\": 1521932220000, \"val\": 0}, {\"col\": \"Enough\", \"idx\": 1521932220000, \"val\": 0}, {\"col\": \"Control\", \"idx\": 1521932220000, \"val\": 0}, {\"col\": \"March\", \"idx\": 1521932280000, \"val\": 0}, {\"col\": \"Enough\", \"idx\": 1521932280000, \"val\": 0}, {\"col\": \"Control\", \"idx\": 1521932280000, \"val\": 0}, {\"col\": \"March\", \"idx\": 1521932340000, \"val\": 0}, {\"col\": \"Enough\", \"idx\": 1521932340000, \"val\": 0}, {\"col\": \"Control\", \"idx\": 1521932340000, \"val\": 0}, {\"col\": \"March\", \"idx\": 1521932400000, \"val\": 0}, {\"col\": \"Enough\", \"idx\": 1521932400000, \"val\": 0}, {\"col\": \"Control\", \"idx\": 1521932400000, \"val\": 0}, {\"col\": \"March\", \"idx\": 1521932460000, \"val\": 0}, {\"col\": \"Enough\", \"idx\": 1521932460000, \"val\": 0}, {\"col\": \"Control\", \"idx\": 1521932460000, \"val\": 0}, {\"col\": \"March\", \"idx\": 1521932520000, \"val\": 0}, {\"col\": \"Enough\", \"idx\": 1521932520000, \"val\": 0}, {\"col\": \"Control\", \"idx\": 1521932520000, \"val\": 0}, {\"col\": \"March\", \"idx\": 1521932580000, \"val\": 0}, {\"col\": \"Enough\", \"idx\": 1521932580000, \"val\": 0}, {\"col\": \"Control\", \"idx\": 1521932580000, \"val\": 0}, {\"col\": \"March\", \"idx\": 1521932640000, \"val\": 0}, {\"col\": \"Enough\", \"idx\": 1521932640000, \"val\": 0}, {\"col\": \"Control\", \"idx\": 1521932640000, \"val\": 0}, {\"col\": \"March\", \"idx\": 1521932700000, \"val\": 0}, {\"col\": \"Enough\", \"idx\": 1521932700000, \"val\": 0}, {\"col\": \"Control\", \"idx\": 1521932700000, \"val\": 0}, {\"col\": \"March\", \"idx\": 1521932760000, \"val\": 0}, {\"col\": \"Enough\", \"idx\": 1521932760000, \"val\": 0}, {\"col\": \"Control\", \"idx\": 1521932760000, \"val\": 0}, {\"col\": \"March\", \"idx\": 1521932820000, \"val\": 0}, {\"col\": \"Enough\", \"idx\": 1521932820000, \"val\": 0}, {\"col\": \"Control\", \"idx\": 1521932820000, \"val\": 0}, {\"col\": \"March\", \"idx\": 1521932880000, \"val\": 0}, {\"col\": \"Enough\", \"idx\": 1521932880000, \"val\": 0}, {\"col\": \"Control\", \"idx\": 1521932880000, \"val\": 0}, {\"col\": \"March\", \"idx\": 1521932940000, \"val\": 0}, {\"col\": \"Enough\", \"idx\": 1521932940000, \"val\": 0}, {\"col\": \"Control\", \"idx\": 1521932940000, \"val\": 0}, {\"col\": \"March\", \"idx\": 1521933000000, \"val\": 0}, {\"col\": \"Enough\", \"idx\": 1521933000000, \"val\": 0}, {\"col\": \"Control\", \"idx\": 1521933000000, \"val\": 0}, {\"col\": \"March\", \"idx\": 1521933060000, \"val\": 0}, {\"col\": \"Enough\", \"idx\": 1521933060000, \"val\": 0}, {\"col\": \"Control\", \"idx\": 1521933060000, \"val\": 0}, {\"col\": \"March\", \"idx\": 1521933120000, \"val\": 0}, {\"col\": \"Enough\", \"idx\": 1521933120000, \"val\": 0}, {\"col\": \"Control\", \"idx\": 1521933120000, \"val\": 0}, {\"col\": \"March\", \"idx\": 1521933180000, \"val\": 0}, {\"col\": \"Enough\", \"idx\": 1521933180000, \"val\": 0}, {\"col\": \"Control\", \"idx\": 1521933180000, \"val\": 0}, {\"col\": \"March\", \"idx\": 1521933240000, \"val\": 0}, {\"col\": \"Enough\", \"idx\": 1521933240000, \"val\": 0}, {\"col\": \"Control\", \"idx\": 1521933240000, \"val\": 0}, {\"col\": \"March\", \"idx\": 1521933300000, \"val\": 0}, {\"col\": \"Enough\", \"idx\": 1521933300000, \"val\": 0}, {\"col\": \"Control\", \"idx\": 1521933300000, \"val\": 0}, {\"col\": \"March\", \"idx\": 1521933360000, \"val\": 0}, {\"col\": \"Enough\", \"idx\": 1521933360000, \"val\": 0}, {\"col\": \"Control\", \"idx\": 1521933360000, \"val\": 0}, {\"col\": \"March\", \"idx\": 1521933420000, \"val\": 0}, {\"col\": \"Enough\", \"idx\": 1521933420000, \"val\": 0}, {\"col\": \"Control\", \"idx\": 1521933420000, \"val\": 0}, {\"col\": \"March\", \"idx\": 1521933480000, \"val\": 0}, {\"col\": \"Enough\", \"idx\": 1521933480000, \"val\": 0}, {\"col\": \"Control\", \"idx\": 1521933480000, \"val\": 0}, {\"col\": \"March\", \"idx\": 1521933540000, \"val\": 0}, {\"col\": \"Enough\", \"idx\": 1521933540000, \"val\": 0}, {\"col\": \"Control\", \"idx\": 1521933540000, \"val\": 0}, {\"col\": \"March\", \"idx\": 1521933600000, \"val\": 46}, {\"col\": \"Enough\", \"idx\": 1521933600000, \"val\": 43}, {\"col\": \"Control\", \"idx\": 1521933600000, \"val\": 22}, {\"col\": \"March\", \"idx\": 1521933660000, \"val\": 62}, {\"col\": \"Enough\", \"idx\": 1521933660000, \"val\": 44}, {\"col\": \"Control\", \"idx\": 1521933660000, \"val\": 31}, {\"col\": \"March\", \"idx\": 1521933720000, \"val\": 52}, {\"col\": \"Enough\", \"idx\": 1521933720000, \"val\": 31}, {\"col\": \"Control\", \"idx\": 1521933720000, \"val\": 32}, {\"col\": \"March\", \"idx\": 1521933780000, \"val\": 46}, {\"col\": \"Enough\", \"idx\": 1521933780000, \"val\": 37}, {\"col\": \"Control\", \"idx\": 1521933780000, \"val\": 26}, {\"col\": \"March\", \"idx\": 1521933840000, \"val\": 75}, {\"col\": \"Enough\", \"idx\": 1521933840000, \"val\": 72}, {\"col\": \"Control\", \"idx\": 1521933840000, \"val\": 31}, {\"col\": \"March\", \"idx\": 1521933900000, \"val\": 56}, {\"col\": \"Enough\", \"idx\": 1521933900000, \"val\": 66}, {\"col\": \"Control\", \"idx\": 1521933900000, \"val\": 19}, {\"col\": \"March\", \"idx\": 1521933960000, \"val\": 69}, {\"col\": \"Enough\", \"idx\": 1521933960000, \"val\": 66}, {\"col\": \"Control\", \"idx\": 1521933960000, \"val\": 23}, {\"col\": \"March\", \"idx\": 1521934020000, \"val\": 43}, {\"col\": \"Enough\", \"idx\": 1521934020000, \"val\": 55}, {\"col\": \"Control\", \"idx\": 1521934020000, \"val\": 22}, {\"col\": \"March\", \"idx\": 1521934080000, \"val\": 75}, {\"col\": \"Enough\", \"idx\": 1521934080000, \"val\": 61}, {\"col\": \"Control\", \"idx\": 1521934080000, \"val\": 29}, {\"col\": \"March\", \"idx\": 1521934140000, \"val\": 57}, {\"col\": \"Enough\", \"idx\": 1521934140000, \"val\": 56}, {\"col\": \"Control\", \"idx\": 1521934140000, \"val\": 30}, {\"col\": \"March\", \"idx\": 1521934200000, \"val\": 48}, {\"col\": \"Enough\", \"idx\": 1521934200000, \"val\": 40}, {\"col\": \"Control\", \"idx\": 1521934200000, \"val\": 24}, {\"col\": \"March\", \"idx\": 1521934260000, \"val\": 54}, {\"col\": \"Enough\", \"idx\": 1521934260000, \"val\": 53}, {\"col\": \"Control\", \"idx\": 1521934260000, \"val\": 37}, {\"col\": \"March\", \"idx\": 1521934320000, \"val\": 46}, {\"col\": \"Enough\", \"idx\": 1521934320000, \"val\": 53}, {\"col\": \"Control\", \"idx\": 1521934320000, \"val\": 19}, {\"col\": \"March\", \"idx\": 1521934380000, \"val\": 69}, {\"col\": \"Enough\", \"idx\": 1521934380000, \"val\": 69}, {\"col\": \"Control\", \"idx\": 1521934380000, \"val\": 31}, {\"col\": \"March\", \"idx\": 1521934440000, \"val\": 56}, {\"col\": \"Enough\", \"idx\": 1521934440000, \"val\": 52}, {\"col\": \"Control\", \"idx\": 1521934440000, \"val\": 33}, {\"col\": \"March\", \"idx\": 1521934500000, \"val\": 55}, {\"col\": \"Enough\", \"idx\": 1521934500000, \"val\": 47}, {\"col\": \"Control\", \"idx\": 1521934500000, \"val\": 32}, {\"col\": \"March\", \"idx\": 1521934560000, \"val\": 66}, {\"col\": \"Enough\", \"idx\": 1521934560000, \"val\": 54}, {\"col\": \"Control\", \"idx\": 1521934560000, \"val\": 42}, {\"col\": \"March\", \"idx\": 1521934620000, \"val\": 70}, {\"col\": \"Enough\", \"idx\": 1521934620000, \"val\": 59}, {\"col\": \"Control\", \"idx\": 1521934620000, \"val\": 33}, {\"col\": \"March\", \"idx\": 1521934680000, \"val\": 60}, {\"col\": \"Enough\", \"idx\": 1521934680000, \"val\": 55}, {\"col\": \"Control\", \"idx\": 1521934680000, \"val\": 28}, {\"col\": \"March\", \"idx\": 1521934740000, \"val\": 51}, {\"col\": \"Enough\", \"idx\": 1521934740000, \"val\": 50}, {\"col\": \"Control\", \"idx\": 1521934740000, \"val\": 25}, {\"col\": \"March\", \"idx\": 1521934800000, \"val\": 60}, {\"col\": \"Enough\", \"idx\": 1521934800000, \"val\": 48}, {\"col\": \"Control\", \"idx\": 1521934800000, \"val\": 24}, {\"col\": \"March\", \"idx\": 1521934860000, \"val\": 61}, {\"col\": \"Enough\", \"idx\": 1521934860000, \"val\": 49}, {\"col\": \"Control\", \"idx\": 1521934860000, \"val\": 26}, {\"col\": \"March\", \"idx\": 1521934920000, \"val\": 70}, {\"col\": \"Enough\", \"idx\": 1521934920000, \"val\": 56}, {\"col\": \"Control\", \"idx\": 1521934920000, \"val\": 27}, {\"col\": \"March\", \"idx\": 1521934980000, \"val\": 48}, {\"col\": \"Enough\", \"idx\": 1521934980000, \"val\": 47}, {\"col\": \"Control\", \"idx\": 1521934980000, \"val\": 31}, {\"col\": \"March\", \"idx\": 1521935040000, \"val\": 67}, {\"col\": \"Enough\", \"idx\": 1521935040000, \"val\": 65}, {\"col\": \"Control\", \"idx\": 1521935040000, \"val\": 29}, {\"col\": \"March\", \"idx\": 1521935100000, \"val\": 49}, {\"col\": \"Enough\", \"idx\": 1521935100000, \"val\": 35}, {\"col\": \"Control\", \"idx\": 1521935100000, \"val\": 34}, {\"col\": \"March\", \"idx\": 1521935160000, \"val\": 50}, {\"col\": \"Enough\", \"idx\": 1521935160000, \"val\": 42}, {\"col\": \"Control\", \"idx\": 1521935160000, \"val\": 37}, {\"col\": \"March\", \"idx\": 1521935220000, \"val\": 51}, {\"col\": \"Enough\", \"idx\": 1521935220000, \"val\": 51}, {\"col\": \"Control\", \"idx\": 1521935220000, \"val\": 32}, {\"col\": \"March\", \"idx\": 1521935280000, \"val\": 44}, {\"col\": \"Enough\", \"idx\": 1521935280000, \"val\": 40}, {\"col\": \"Control\", \"idx\": 1521935280000, \"val\": 31}, {\"col\": \"March\", \"idx\": 1521935340000, \"val\": 55}, {\"col\": \"Enough\", \"idx\": 1521935340000, \"val\": 49}, {\"col\": \"Control\", \"idx\": 1521935340000, \"val\": 33}, {\"col\": \"March\", \"idx\": 1521935400000, \"val\": 62}, {\"col\": \"Enough\", \"idx\": 1521935400000, \"val\": 47}, {\"col\": \"Control\", \"idx\": 1521935400000, \"val\": 27}, {\"col\": \"March\", \"idx\": 1521935460000, \"val\": 54}, {\"col\": \"Enough\", \"idx\": 1521935460000, \"val\": 43}, {\"col\": \"Control\", \"idx\": 1521935460000, \"val\": 34}, {\"col\": \"March\", \"idx\": 1521935520000, \"val\": 58}, {\"col\": \"Enough\", \"idx\": 1521935520000, \"val\": 56}, {\"col\": \"Control\", \"idx\": 1521935520000, \"val\": 25}, {\"col\": \"March\", \"idx\": 1521935580000, \"val\": 51}, {\"col\": \"Enough\", \"idx\": 1521935580000, \"val\": 38}, {\"col\": \"Control\", \"idx\": 1521935580000, \"val\": 27}, {\"col\": \"March\", \"idx\": 1521935640000, \"val\": 72}, {\"col\": \"Enough\", \"idx\": 1521935640000, \"val\": 45}, {\"col\": \"Control\", \"idx\": 1521935640000, \"val\": 31}, {\"col\": \"March\", \"idx\": 1521935700000, \"val\": 28}, {\"col\": \"Enough\", \"idx\": 1521935700000, \"val\": 22}, {\"col\": \"Control\", \"idx\": 1521935700000, \"val\": 15}]}], \"height\": 500, \"legends\": [{\"fill\": \"color\", \"offset\": 0, \"properties\": {}, \"title\": \"Top 3 Most popular hashtags\"}], \"marks\": [{\"from\": {\"data\": \"table\", \"transform\": [{\"keys\": [\"data.col\"], \"type\": \"facet\"}]}, \"marks\": [{\"properties\": {\"enter\": {\"stroke\": {\"field\": \"data.col\", \"scale\": \"color\"}, \"strokeWidth\": {\"value\": 2}, \"x\": {\"field\": \"data.idx\", \"scale\": \"x\"}, \"y\": {\"field\": \"data.val\", \"scale\": \"y\"}}}, \"type\": \"line\"}], \"type\": \"group\"}], \"padding\": \"auto\", \"scales\": [{\"domain\": {\"data\": \"table\", \"field\": \"data.idx\"}, \"name\": \"x\", \"range\": \"width\", \"type\": \"time\"}, {\"domain\": {\"data\": \"table\", \"field\": \"data.val\"}, \"name\": \"y\", \"nice\": true, \"range\": \"height\"}, {\"domain\": {\"data\": \"table\", \"field\": \"data.col\"}, \"name\": \"color\", \"range\": \"category20\", \"type\": \"ordinal\"}], \"width\": 960}, function(chart) {\n",
       "         chart({el: \"#vis9a04fa35c24e4309b95da2e607b0ccd2\"}).update();\n",
       "       });\n",
       "     };\n",
       "     _do_plot();\n",
       "   })();\n",
       "</script>\n",
       "<style>.vega canvas {width: 100%;}</style>\n",
       "        "
      ],
      "text/plain": [
       "<IPython.core.display.HTML object>"
      ]
     },
     "metadata": {},
     "output_type": "display_data"
    }
   ],
   "source": [
    "#Visualize and comparing the frequencies of the top 3 the most popular hashtags during the data collection time\n",
    "time_chart_top3 = vincent.Line(all_matches[['March', 'Enough', 'Control']])\n",
    "time_chart_top3.axis_titles(x='Time', y='Freq')\n",
    "time_chart_top3.legend(title='Top 3 Most popular hashtags')\n",
    "time_chart_top3.display()"
   ]
  },
  {
   "cell_type": "code",
   "execution_count": 43,
   "metadata": {},
   "outputs": [
    {
     "data": {
      "text/html": [
       "<div id=\"vise219341e94844094b0fc918fa5e853a2\"></div>\n",
       "<script>\n",
       "   ( function() {\n",
       "     var _do_plot = function() {\n",
       "       if (typeof vg === 'undefined') {\n",
       "         window.addEventListener('vincent_libs_loaded', _do_plot)\n",
       "         return;\n",
       "       }\n",
       "       vg.parse.spec({\"axes\": [{\"scale\": \"x\", \"title\": \"Time\", \"type\": \"x\"}, {\"scale\": \"y\", \"title\": \"Freq\", \"type\": \"y\"}], \"data\": [{\"name\": \"table\", \"values\": [{\"col\": \"Violence\", \"idx\": 1521908580000, \"val\": 7.0}, {\"col\": \"Again\", \"idx\": 1521908580000, \"val\": 2.0}, {\"col\": \"Beach\", \"idx\": 1521908580000, \"val\": NaN}, {\"col\": \"Violence\", \"idx\": 1521908640000, \"val\": 11.0}, {\"col\": \"Again\", \"idx\": 1521908640000, \"val\": 2.0}, {\"col\": \"Beach\", \"idx\": 1521908640000, \"val\": NaN}, {\"col\": \"Violence\", \"idx\": 1521908700000, \"val\": 11.0}, {\"col\": \"Again\", \"idx\": 1521908700000, \"val\": 3.0}, {\"col\": \"Beach\", \"idx\": 1521908700000, \"val\": NaN}, {\"col\": \"Violence\", \"idx\": 1521908760000, \"val\": 16.0}, {\"col\": \"Again\", \"idx\": 1521908760000, \"val\": 7.0}, {\"col\": \"Beach\", \"idx\": 1521908760000, \"val\": NaN}, {\"col\": \"Violence\", \"idx\": 1521908820000, \"val\": 10.0}, {\"col\": \"Again\", \"idx\": 1521908820000, \"val\": 3.0}, {\"col\": \"Beach\", \"idx\": 1521908820000, \"val\": NaN}, {\"col\": \"Violence\", \"idx\": 1521908880000, \"val\": 5.0}, {\"col\": \"Again\", \"idx\": 1521908880000, \"val\": 1.0}, {\"col\": \"Beach\", \"idx\": 1521908880000, \"val\": NaN}, {\"col\": \"Violence\", \"idx\": 1521908940000, \"val\": 9.0}, {\"col\": \"Again\", \"idx\": 1521908940000, \"val\": 2.0}, {\"col\": \"Beach\", \"idx\": 1521908940000, \"val\": NaN}, {\"col\": \"Violence\", \"idx\": 1521909000000, \"val\": 10.0}, {\"col\": \"Again\", \"idx\": 1521909000000, \"val\": 4.0}, {\"col\": \"Beach\", \"idx\": 1521909000000, \"val\": NaN}, {\"col\": \"Violence\", \"idx\": 1521909060000, \"val\": 11.0}, {\"col\": \"Again\", \"idx\": 1521909060000, \"val\": 2.0}, {\"col\": \"Beach\", \"idx\": 1521909060000, \"val\": NaN}, {\"col\": \"Violence\", \"idx\": 1521909120000, \"val\": 4.0}, {\"col\": \"Again\", \"idx\": 1521909120000, \"val\": 0.0}, {\"col\": \"Beach\", \"idx\": 1521909120000, \"val\": NaN}, {\"col\": \"Violence\", \"idx\": 1521909180000, \"val\": 0.0}, {\"col\": \"Again\", \"idx\": 1521909180000, \"val\": 0.0}, {\"col\": \"Beach\", \"idx\": 1521909180000, \"val\": NaN}, {\"col\": \"Violence\", \"idx\": 1521909240000, \"val\": 11.0}, {\"col\": \"Again\", \"idx\": 1521909240000, \"val\": 4.0}, {\"col\": \"Beach\", \"idx\": 1521909240000, \"val\": NaN}, {\"col\": \"Violence\", \"idx\": 1521909300000, \"val\": 10.0}, {\"col\": \"Again\", \"idx\": 1521909300000, \"val\": 5.0}, {\"col\": \"Beach\", \"idx\": 1521909300000, \"val\": NaN}, {\"col\": \"Violence\", \"idx\": 1521909360000, \"val\": 13.0}, {\"col\": \"Again\", \"idx\": 1521909360000, \"val\": 4.0}, {\"col\": \"Beach\", \"idx\": 1521909360000, \"val\": NaN}, {\"col\": \"Violence\", \"idx\": 1521909420000, \"val\": 12.0}, {\"col\": \"Again\", \"idx\": 1521909420000, \"val\": 2.0}, {\"col\": \"Beach\", \"idx\": 1521909420000, \"val\": NaN}, {\"col\": \"Violence\", \"idx\": 1521909480000, \"val\": 12.0}, {\"col\": \"Again\", \"idx\": 1521909480000, \"val\": 5.0}, {\"col\": \"Beach\", \"idx\": 1521909480000, \"val\": NaN}, {\"col\": \"Violence\", \"idx\": 1521909540000, \"val\": 8.0}, {\"col\": \"Again\", \"idx\": 1521909540000, \"val\": 3.0}, {\"col\": \"Beach\", \"idx\": 1521909540000, \"val\": NaN}, {\"col\": \"Violence\", \"idx\": 1521909600000, \"val\": 7.0}, {\"col\": \"Again\", \"idx\": 1521909600000, \"val\": 8.0}, {\"col\": \"Beach\", \"idx\": 1521909600000, \"val\": NaN}, {\"col\": \"Violence\", \"idx\": 1521909660000, \"val\": 7.0}, {\"col\": \"Again\", \"idx\": 1521909660000, \"val\": 7.0}, {\"col\": \"Beach\", \"idx\": 1521909660000, \"val\": NaN}, {\"col\": \"Violence\", \"idx\": 1521909720000, \"val\": 11.0}, {\"col\": \"Again\", \"idx\": 1521909720000, \"val\": 5.0}, {\"col\": \"Beach\", \"idx\": 1521909720000, \"val\": NaN}, {\"col\": \"Violence\", \"idx\": 1521909780000, \"val\": 8.0}, {\"col\": \"Again\", \"idx\": 1521909780000, \"val\": 5.0}, {\"col\": \"Beach\", \"idx\": 1521909780000, \"val\": NaN}, {\"col\": \"Violence\", \"idx\": 1521909840000, \"val\": 7.0}, {\"col\": \"Again\", \"idx\": 1521909840000, \"val\": 8.0}, {\"col\": \"Beach\", \"idx\": 1521909840000, \"val\": NaN}, {\"col\": \"Violence\", \"idx\": 1521909900000, \"val\": 14.0}, {\"col\": \"Again\", \"idx\": 1521909900000, \"val\": 4.0}, {\"col\": \"Beach\", \"idx\": 1521909900000, \"val\": NaN}, {\"col\": \"Violence\", \"idx\": 1521909960000, \"val\": 8.0}, {\"col\": \"Again\", \"idx\": 1521909960000, \"val\": 3.0}, {\"col\": \"Beach\", \"idx\": 1521909960000, \"val\": NaN}, {\"col\": \"Violence\", \"idx\": 1521910020000, \"val\": 10.0}, {\"col\": \"Again\", \"idx\": 1521910020000, \"val\": 8.0}, {\"col\": \"Beach\", \"idx\": 1521910020000, \"val\": NaN}, {\"col\": \"Violence\", \"idx\": 1521910080000, \"val\": 6.0}, {\"col\": \"Again\", \"idx\": 1521910080000, \"val\": 3.0}, {\"col\": \"Beach\", \"idx\": 1521910080000, \"val\": NaN}, {\"col\": \"Violence\", \"idx\": 1521910140000, \"val\": 7.0}, {\"col\": \"Again\", \"idx\": 1521910140000, \"val\": 5.0}, {\"col\": \"Beach\", \"idx\": 1521910140000, \"val\": NaN}, {\"col\": \"Violence\", \"idx\": 1521910200000, \"val\": 8.0}, {\"col\": \"Again\", \"idx\": 1521910200000, \"val\": 3.0}, {\"col\": \"Beach\", \"idx\": 1521910200000, \"val\": NaN}, {\"col\": \"Violence\", \"idx\": 1521910260000, \"val\": 5.0}, {\"col\": \"Again\", \"idx\": 1521910260000, \"val\": 2.0}, {\"col\": \"Beach\", \"idx\": 1521910260000, \"val\": NaN}, {\"col\": \"Violence\", \"idx\": 1521910320000, \"val\": 9.0}, {\"col\": \"Again\", \"idx\": 1521910320000, \"val\": 4.0}, {\"col\": \"Beach\", \"idx\": 1521910320000, \"val\": NaN}, {\"col\": \"Violence\", \"idx\": 1521910380000, \"val\": 6.0}, {\"col\": \"Again\", \"idx\": 1521910380000, \"val\": 8.0}, {\"col\": \"Beach\", \"idx\": 1521910380000, \"val\": NaN}, {\"col\": \"Violence\", \"idx\": 1521910440000, \"val\": 9.0}, {\"col\": \"Again\", \"idx\": 1521910440000, \"val\": 5.0}, {\"col\": \"Beach\", \"idx\": 1521910440000, \"val\": NaN}, {\"col\": \"Violence\", \"idx\": 1521910500000, \"val\": 7.0}, {\"col\": \"Again\", \"idx\": 1521910500000, \"val\": 2.0}, {\"col\": \"Beach\", \"idx\": 1521910500000, \"val\": NaN}, {\"col\": \"Violence\", \"idx\": 1521910560000, \"val\": 4.0}, {\"col\": \"Again\", \"idx\": 1521910560000, \"val\": 4.0}, {\"col\": \"Beach\", \"idx\": 1521910560000, \"val\": NaN}, {\"col\": \"Violence\", \"idx\": 1521910620000, \"val\": 11.0}, {\"col\": \"Again\", \"idx\": 1521910620000, \"val\": 6.0}, {\"col\": \"Beach\", \"idx\": 1521910620000, \"val\": NaN}, {\"col\": \"Violence\", \"idx\": 1521910680000, \"val\": 9.0}, {\"col\": \"Again\", \"idx\": 1521910680000, \"val\": 7.0}, {\"col\": \"Beach\", \"idx\": 1521910680000, \"val\": NaN}, {\"col\": \"Violence\", \"idx\": 1521910740000, \"val\": 9.0}, {\"col\": \"Again\", \"idx\": 1521910740000, \"val\": 3.0}, {\"col\": \"Beach\", \"idx\": 1521910740000, \"val\": NaN}, {\"col\": \"Violence\", \"idx\": 1521910800000, \"val\": 8.0}, {\"col\": \"Again\", \"idx\": 1521910800000, \"val\": 6.0}, {\"col\": \"Beach\", \"idx\": 1521910800000, \"val\": NaN}, {\"col\": \"Violence\", \"idx\": 1521910860000, \"val\": 10.0}, {\"col\": \"Again\", \"idx\": 1521910860000, \"val\": 6.0}, {\"col\": \"Beach\", \"idx\": 1521910860000, \"val\": NaN}, {\"col\": \"Violence\", \"idx\": 1521910920000, \"val\": 9.0}, {\"col\": \"Again\", \"idx\": 1521910920000, \"val\": 5.0}, {\"col\": \"Beach\", \"idx\": 1521910920000, \"val\": NaN}, {\"col\": \"Violence\", \"idx\": 1521910980000, \"val\": 7.0}, {\"col\": \"Again\", \"idx\": 1521910980000, \"val\": 3.0}, {\"col\": \"Beach\", \"idx\": 1521910980000, \"val\": NaN}, {\"col\": \"Violence\", \"idx\": 1521911040000, \"val\": 7.0}, {\"col\": \"Again\", \"idx\": 1521911040000, \"val\": 2.0}, {\"col\": \"Beach\", \"idx\": 1521911040000, \"val\": NaN}, {\"col\": \"Violence\", \"idx\": 1521911100000, \"val\": 10.0}, {\"col\": \"Again\", \"idx\": 1521911100000, \"val\": 7.0}, {\"col\": \"Beach\", \"idx\": 1521911100000, \"val\": NaN}, {\"col\": \"Violence\", \"idx\": 1521911160000, \"val\": 3.0}, {\"col\": \"Again\", \"idx\": 1521911160000, \"val\": 0.0}, {\"col\": \"Beach\", \"idx\": 1521911160000, \"val\": NaN}, {\"col\": \"Violence\", \"idx\": 1521911220000, \"val\": 0.0}, {\"col\": \"Again\", \"idx\": 1521911220000, \"val\": 0.0}, {\"col\": \"Beach\", \"idx\": 1521911220000, \"val\": NaN}, {\"col\": \"Violence\", \"idx\": 1521911280000, \"val\": 0.0}, {\"col\": \"Again\", \"idx\": 1521911280000, \"val\": 0.0}, {\"col\": \"Beach\", \"idx\": 1521911280000, \"val\": NaN}, {\"col\": \"Violence\", \"idx\": 1521911340000, \"val\": 0.0}, {\"col\": \"Again\", \"idx\": 1521911340000, \"val\": 0.0}, {\"col\": \"Beach\", \"idx\": 1521911340000, \"val\": NaN}, {\"col\": \"Violence\", \"idx\": 1521911400000, \"val\": 0.0}, {\"col\": \"Again\", \"idx\": 1521911400000, \"val\": 0.0}, {\"col\": \"Beach\", \"idx\": 1521911400000, \"val\": NaN}, {\"col\": \"Violence\", \"idx\": 1521911460000, \"val\": 0.0}, {\"col\": \"Again\", \"idx\": 1521911460000, \"val\": 0.0}, {\"col\": \"Beach\", \"idx\": 1521911460000, \"val\": NaN}, {\"col\": \"Violence\", \"idx\": 1521911520000, \"val\": 0.0}, {\"col\": \"Again\", \"idx\": 1521911520000, \"val\": 0.0}, {\"col\": \"Beach\", \"idx\": 1521911520000, \"val\": NaN}, {\"col\": \"Violence\", \"idx\": 1521911580000, \"val\": 0.0}, {\"col\": \"Again\", \"idx\": 1521911580000, \"val\": 0.0}, {\"col\": \"Beach\", \"idx\": 1521911580000, \"val\": NaN}, {\"col\": \"Violence\", \"idx\": 1521911640000, \"val\": 0.0}, {\"col\": \"Again\", \"idx\": 1521911640000, \"val\": 0.0}, {\"col\": \"Beach\", \"idx\": 1521911640000, \"val\": NaN}, {\"col\": \"Violence\", \"idx\": 1521911700000, \"val\": 0.0}, {\"col\": \"Again\", \"idx\": 1521911700000, \"val\": 0.0}, {\"col\": \"Beach\", \"idx\": 1521911700000, \"val\": NaN}, {\"col\": \"Violence\", \"idx\": 1521911760000, \"val\": 0.0}, {\"col\": \"Again\", \"idx\": 1521911760000, \"val\": 0.0}, {\"col\": \"Beach\", \"idx\": 1521911760000, \"val\": NaN}, {\"col\": \"Violence\", \"idx\": 1521911820000, \"val\": 0.0}, {\"col\": \"Again\", \"idx\": 1521911820000, \"val\": 0.0}, {\"col\": \"Beach\", \"idx\": 1521911820000, \"val\": NaN}, {\"col\": \"Violence\", \"idx\": 1521911880000, \"val\": 0.0}, {\"col\": \"Again\", \"idx\": 1521911880000, \"val\": 0.0}, {\"col\": \"Beach\", \"idx\": 1521911880000, \"val\": NaN}, {\"col\": \"Violence\", \"idx\": 1521911940000, \"val\": 0.0}, {\"col\": \"Again\", \"idx\": 1521911940000, \"val\": 0.0}, {\"col\": \"Beach\", \"idx\": 1521911940000, \"val\": NaN}, {\"col\": \"Violence\", \"idx\": 1521912000000, \"val\": 0.0}, {\"col\": \"Again\", \"idx\": 1521912000000, \"val\": 0.0}, {\"col\": \"Beach\", \"idx\": 1521912000000, \"val\": NaN}, {\"col\": \"Violence\", \"idx\": 1521912060000, \"val\": 0.0}, {\"col\": \"Again\", \"idx\": 1521912060000, \"val\": 0.0}, {\"col\": \"Beach\", \"idx\": 1521912060000, \"val\": NaN}, {\"col\": \"Violence\", \"idx\": 1521912120000, \"val\": 0.0}, {\"col\": \"Again\", \"idx\": 1521912120000, \"val\": 0.0}, {\"col\": \"Beach\", \"idx\": 1521912120000, \"val\": NaN}, {\"col\": \"Violence\", \"idx\": 1521912180000, \"val\": 0.0}, {\"col\": \"Again\", \"idx\": 1521912180000, \"val\": 0.0}, {\"col\": \"Beach\", \"idx\": 1521912180000, \"val\": NaN}, {\"col\": \"Violence\", \"idx\": 1521912240000, \"val\": 0.0}, {\"col\": \"Again\", \"idx\": 1521912240000, \"val\": 0.0}, {\"col\": \"Beach\", \"idx\": 1521912240000, \"val\": NaN}, {\"col\": \"Violence\", \"idx\": 1521912300000, \"val\": 0.0}, {\"col\": \"Again\", \"idx\": 1521912300000, \"val\": 0.0}, {\"col\": \"Beach\", \"idx\": 1521912300000, \"val\": NaN}, {\"col\": \"Violence\", \"idx\": 1521912360000, \"val\": 0.0}, {\"col\": \"Again\", \"idx\": 1521912360000, \"val\": 0.0}, {\"col\": \"Beach\", \"idx\": 1521912360000, \"val\": NaN}, {\"col\": \"Violence\", \"idx\": 1521912420000, \"val\": 0.0}, {\"col\": \"Again\", \"idx\": 1521912420000, \"val\": 0.0}, {\"col\": \"Beach\", \"idx\": 1521912420000, \"val\": NaN}, {\"col\": \"Violence\", \"idx\": 1521912480000, \"val\": 0.0}, {\"col\": \"Again\", \"idx\": 1521912480000, \"val\": 0.0}, {\"col\": \"Beach\", \"idx\": 1521912480000, \"val\": NaN}, {\"col\": \"Violence\", \"idx\": 1521912540000, \"val\": 0.0}, {\"col\": \"Again\", \"idx\": 1521912540000, \"val\": 0.0}, {\"col\": \"Beach\", \"idx\": 1521912540000, \"val\": NaN}, {\"col\": \"Violence\", \"idx\": 1521912600000, \"val\": 0.0}, {\"col\": \"Again\", \"idx\": 1521912600000, \"val\": 0.0}, {\"col\": \"Beach\", \"idx\": 1521912600000, \"val\": NaN}, {\"col\": \"Violence\", \"idx\": 1521912660000, \"val\": 0.0}, {\"col\": \"Again\", \"idx\": 1521912660000, \"val\": 0.0}, {\"col\": \"Beach\", \"idx\": 1521912660000, \"val\": NaN}, {\"col\": \"Violence\", \"idx\": 1521912720000, \"val\": 0.0}, {\"col\": \"Again\", \"idx\": 1521912720000, \"val\": 0.0}, {\"col\": \"Beach\", \"idx\": 1521912720000, \"val\": NaN}, {\"col\": \"Violence\", \"idx\": 1521912780000, \"val\": 0.0}, {\"col\": \"Again\", \"idx\": 1521912780000, \"val\": 0.0}, {\"col\": \"Beach\", \"idx\": 1521912780000, \"val\": NaN}, {\"col\": \"Violence\", \"idx\": 1521912840000, \"val\": 0.0}, {\"col\": \"Again\", \"idx\": 1521912840000, \"val\": 0.0}, {\"col\": \"Beach\", \"idx\": 1521912840000, \"val\": NaN}, {\"col\": \"Violence\", \"idx\": 1521912900000, \"val\": 0.0}, {\"col\": \"Again\", \"idx\": 1521912900000, \"val\": 0.0}, {\"col\": \"Beach\", \"idx\": 1521912900000, \"val\": NaN}, {\"col\": \"Violence\", \"idx\": 1521912960000, \"val\": 0.0}, {\"col\": \"Again\", \"idx\": 1521912960000, \"val\": 0.0}, {\"col\": \"Beach\", \"idx\": 1521912960000, \"val\": NaN}, {\"col\": \"Violence\", \"idx\": 1521913020000, \"val\": 0.0}, {\"col\": \"Again\", \"idx\": 1521913020000, \"val\": 0.0}, {\"col\": \"Beach\", \"idx\": 1521913020000, \"val\": NaN}, {\"col\": \"Violence\", \"idx\": 1521913080000, \"val\": 0.0}, {\"col\": \"Again\", \"idx\": 1521913080000, \"val\": 0.0}, {\"col\": \"Beach\", \"idx\": 1521913080000, \"val\": NaN}, {\"col\": \"Violence\", \"idx\": 1521913140000, \"val\": 0.0}, {\"col\": \"Again\", \"idx\": 1521913140000, \"val\": 0.0}, {\"col\": \"Beach\", \"idx\": 1521913140000, \"val\": NaN}, {\"col\": \"Violence\", \"idx\": 1521913200000, \"val\": 0.0}, {\"col\": \"Again\", \"idx\": 1521913200000, \"val\": 0.0}, {\"col\": \"Beach\", \"idx\": 1521913200000, \"val\": NaN}, {\"col\": \"Violence\", \"idx\": 1521913260000, \"val\": 0.0}, {\"col\": \"Again\", \"idx\": 1521913260000, \"val\": 0.0}, {\"col\": \"Beach\", \"idx\": 1521913260000, \"val\": NaN}, {\"col\": \"Violence\", \"idx\": 1521913320000, \"val\": 0.0}, {\"col\": \"Again\", \"idx\": 1521913320000, \"val\": 0.0}, {\"col\": \"Beach\", \"idx\": 1521913320000, \"val\": NaN}, {\"col\": \"Violence\", \"idx\": 1521913380000, \"val\": 0.0}, {\"col\": \"Again\", \"idx\": 1521913380000, \"val\": 0.0}, {\"col\": \"Beach\", \"idx\": 1521913380000, \"val\": NaN}, {\"col\": \"Violence\", \"idx\": 1521913440000, \"val\": 0.0}, {\"col\": \"Again\", \"idx\": 1521913440000, \"val\": 0.0}, {\"col\": \"Beach\", \"idx\": 1521913440000, \"val\": NaN}, {\"col\": \"Violence\", \"idx\": 1521913500000, \"val\": 0.0}, {\"col\": \"Again\", \"idx\": 1521913500000, \"val\": 0.0}, {\"col\": \"Beach\", \"idx\": 1521913500000, \"val\": NaN}, {\"col\": \"Violence\", \"idx\": 1521913560000, \"val\": 0.0}, {\"col\": \"Again\", \"idx\": 1521913560000, \"val\": 0.0}, {\"col\": \"Beach\", \"idx\": 1521913560000, \"val\": NaN}, {\"col\": \"Violence\", \"idx\": 1521913620000, \"val\": 0.0}, {\"col\": \"Again\", \"idx\": 1521913620000, \"val\": 0.0}, {\"col\": \"Beach\", \"idx\": 1521913620000, \"val\": NaN}, {\"col\": \"Violence\", \"idx\": 1521913680000, \"val\": 0.0}, {\"col\": \"Again\", \"idx\": 1521913680000, \"val\": 0.0}, {\"col\": \"Beach\", \"idx\": 1521913680000, \"val\": NaN}, {\"col\": \"Violence\", \"idx\": 1521913740000, \"val\": 0.0}, {\"col\": \"Again\", \"idx\": 1521913740000, \"val\": 0.0}, {\"col\": \"Beach\", \"idx\": 1521913740000, \"val\": NaN}, {\"col\": \"Violence\", \"idx\": 1521913800000, \"val\": 0.0}, {\"col\": \"Again\", \"idx\": 1521913800000, \"val\": 0.0}, {\"col\": \"Beach\", \"idx\": 1521913800000, \"val\": NaN}, {\"col\": \"Violence\", \"idx\": 1521913860000, \"val\": 0.0}, {\"col\": \"Again\", \"idx\": 1521913860000, \"val\": 0.0}, {\"col\": \"Beach\", \"idx\": 1521913860000, \"val\": NaN}, {\"col\": \"Violence\", \"idx\": 1521913920000, \"val\": 0.0}, {\"col\": \"Again\", \"idx\": 1521913920000, \"val\": 0.0}, {\"col\": \"Beach\", \"idx\": 1521913920000, \"val\": NaN}, {\"col\": \"Violence\", \"idx\": 1521913980000, \"val\": 0.0}, {\"col\": \"Again\", \"idx\": 1521913980000, \"val\": 0.0}, {\"col\": \"Beach\", \"idx\": 1521913980000, \"val\": NaN}, {\"col\": \"Violence\", \"idx\": 1521914040000, \"val\": 0.0}, {\"col\": \"Again\", \"idx\": 1521914040000, \"val\": 0.0}, {\"col\": \"Beach\", \"idx\": 1521914040000, \"val\": NaN}, {\"col\": \"Violence\", \"idx\": 1521914100000, \"val\": 0.0}, {\"col\": \"Again\", \"idx\": 1521914100000, \"val\": 0.0}, {\"col\": \"Beach\", \"idx\": 1521914100000, \"val\": NaN}, {\"col\": \"Violence\", \"idx\": 1521914160000, \"val\": 0.0}, {\"col\": \"Again\", \"idx\": 1521914160000, \"val\": 0.0}, {\"col\": \"Beach\", \"idx\": 1521914160000, \"val\": NaN}, {\"col\": \"Violence\", \"idx\": 1521914220000, \"val\": 0.0}, {\"col\": \"Again\", \"idx\": 1521914220000, \"val\": 0.0}, {\"col\": \"Beach\", \"idx\": 1521914220000, \"val\": NaN}, {\"col\": \"Violence\", \"idx\": 1521914280000, \"val\": 0.0}, {\"col\": \"Again\", \"idx\": 1521914280000, \"val\": 0.0}, {\"col\": \"Beach\", \"idx\": 1521914280000, \"val\": NaN}, {\"col\": \"Violence\", \"idx\": 1521914340000, \"val\": 0.0}, {\"col\": \"Again\", \"idx\": 1521914340000, \"val\": 0.0}, {\"col\": \"Beach\", \"idx\": 1521914340000, \"val\": NaN}, {\"col\": \"Violence\", \"idx\": 1521914400000, \"val\": 0.0}, {\"col\": \"Again\", \"idx\": 1521914400000, \"val\": 0.0}, {\"col\": \"Beach\", \"idx\": 1521914400000, \"val\": NaN}, {\"col\": \"Violence\", \"idx\": 1521914460000, \"val\": 0.0}, {\"col\": \"Again\", \"idx\": 1521914460000, \"val\": 0.0}, {\"col\": \"Beach\", \"idx\": 1521914460000, \"val\": NaN}, {\"col\": \"Violence\", \"idx\": 1521914520000, \"val\": 0.0}, {\"col\": \"Again\", \"idx\": 1521914520000, \"val\": 0.0}, {\"col\": \"Beach\", \"idx\": 1521914520000, \"val\": NaN}, {\"col\": \"Violence\", \"idx\": 1521914580000, \"val\": 0.0}, {\"col\": \"Again\", \"idx\": 1521914580000, \"val\": 0.0}, {\"col\": \"Beach\", \"idx\": 1521914580000, \"val\": NaN}, {\"col\": \"Violence\", \"idx\": 1521914640000, \"val\": 0.0}, {\"col\": \"Again\", \"idx\": 1521914640000, \"val\": 0.0}, {\"col\": \"Beach\", \"idx\": 1521914640000, \"val\": NaN}, {\"col\": \"Violence\", \"idx\": 1521914700000, \"val\": 0.0}, {\"col\": \"Again\", \"idx\": 1521914700000, \"val\": 0.0}, {\"col\": \"Beach\", \"idx\": 1521914700000, \"val\": NaN}, {\"col\": \"Violence\", \"idx\": 1521914760000, \"val\": 0.0}, {\"col\": \"Again\", \"idx\": 1521914760000, \"val\": 0.0}, {\"col\": \"Beach\", \"idx\": 1521914760000, \"val\": NaN}, {\"col\": \"Violence\", \"idx\": 1521914820000, \"val\": 0.0}, {\"col\": \"Again\", \"idx\": 1521914820000, \"val\": 0.0}, {\"col\": \"Beach\", \"idx\": 1521914820000, \"val\": NaN}, {\"col\": \"Violence\", \"idx\": 1521914880000, \"val\": 0.0}, {\"col\": \"Again\", \"idx\": 1521914880000, \"val\": 0.0}, {\"col\": \"Beach\", \"idx\": 1521914880000, \"val\": NaN}, {\"col\": \"Violence\", \"idx\": 1521914940000, \"val\": 0.0}, {\"col\": \"Again\", \"idx\": 1521914940000, \"val\": 0.0}, {\"col\": \"Beach\", \"idx\": 1521914940000, \"val\": NaN}, {\"col\": \"Violence\", \"idx\": 1521915000000, \"val\": 0.0}, {\"col\": \"Again\", \"idx\": 1521915000000, \"val\": 0.0}, {\"col\": \"Beach\", \"idx\": 1521915000000, \"val\": NaN}, {\"col\": \"Violence\", \"idx\": 1521915060000, \"val\": 0.0}, {\"col\": \"Again\", \"idx\": 1521915060000, \"val\": 0.0}, {\"col\": \"Beach\", \"idx\": 1521915060000, \"val\": NaN}, {\"col\": \"Violence\", \"idx\": 1521915120000, \"val\": 0.0}, {\"col\": \"Again\", \"idx\": 1521915120000, \"val\": 0.0}, {\"col\": \"Beach\", \"idx\": 1521915120000, \"val\": NaN}, {\"col\": \"Violence\", \"idx\": 1521915180000, \"val\": 0.0}, {\"col\": \"Again\", \"idx\": 1521915180000, \"val\": 0.0}, {\"col\": \"Beach\", \"idx\": 1521915180000, \"val\": NaN}, {\"col\": \"Violence\", \"idx\": 1521915240000, \"val\": 0.0}, {\"col\": \"Again\", \"idx\": 1521915240000, \"val\": 0.0}, {\"col\": \"Beach\", \"idx\": 1521915240000, \"val\": NaN}, {\"col\": \"Violence\", \"idx\": 1521915300000, \"val\": 0.0}, {\"col\": \"Again\", \"idx\": 1521915300000, \"val\": 0.0}, {\"col\": \"Beach\", \"idx\": 1521915300000, \"val\": NaN}, {\"col\": \"Violence\", \"idx\": 1521915360000, \"val\": 0.0}, {\"col\": \"Again\", \"idx\": 1521915360000, \"val\": 0.0}, {\"col\": \"Beach\", \"idx\": 1521915360000, \"val\": NaN}, {\"col\": \"Violence\", \"idx\": 1521915420000, \"val\": 0.0}, {\"col\": \"Again\", \"idx\": 1521915420000, \"val\": 0.0}, {\"col\": \"Beach\", \"idx\": 1521915420000, \"val\": NaN}, {\"col\": \"Violence\", \"idx\": 1521915480000, \"val\": 0.0}, {\"col\": \"Again\", \"idx\": 1521915480000, \"val\": 0.0}, {\"col\": \"Beach\", \"idx\": 1521915480000, \"val\": NaN}, {\"col\": \"Violence\", \"idx\": 1521915540000, \"val\": 0.0}, {\"col\": \"Again\", \"idx\": 1521915540000, \"val\": 0.0}, {\"col\": \"Beach\", \"idx\": 1521915540000, \"val\": NaN}, {\"col\": \"Violence\", \"idx\": 1521915600000, \"val\": 0.0}, {\"col\": \"Again\", \"idx\": 1521915600000, \"val\": 0.0}, {\"col\": \"Beach\", \"idx\": 1521915600000, \"val\": NaN}, {\"col\": \"Violence\", \"idx\": 1521915660000, \"val\": 0.0}, {\"col\": \"Again\", \"idx\": 1521915660000, \"val\": 0.0}, {\"col\": \"Beach\", \"idx\": 1521915660000, \"val\": NaN}, {\"col\": \"Violence\", \"idx\": 1521915720000, \"val\": 0.0}, {\"col\": \"Again\", \"idx\": 1521915720000, \"val\": 0.0}, {\"col\": \"Beach\", \"idx\": 1521915720000, \"val\": NaN}, {\"col\": \"Violence\", \"idx\": 1521915780000, \"val\": 0.0}, {\"col\": \"Again\", \"idx\": 1521915780000, \"val\": 0.0}, {\"col\": \"Beach\", \"idx\": 1521915780000, \"val\": NaN}, {\"col\": \"Violence\", \"idx\": 1521915840000, \"val\": 0.0}, {\"col\": \"Again\", \"idx\": 1521915840000, \"val\": 0.0}, {\"col\": \"Beach\", \"idx\": 1521915840000, \"val\": NaN}, {\"col\": \"Violence\", \"idx\": 1521915900000, \"val\": 0.0}, {\"col\": \"Again\", \"idx\": 1521915900000, \"val\": 0.0}, {\"col\": \"Beach\", \"idx\": 1521915900000, \"val\": NaN}, {\"col\": \"Violence\", \"idx\": 1521915960000, \"val\": 0.0}, {\"col\": \"Again\", \"idx\": 1521915960000, \"val\": 0.0}, {\"col\": \"Beach\", \"idx\": 1521915960000, \"val\": NaN}, {\"col\": \"Violence\", \"idx\": 1521916020000, \"val\": 0.0}, {\"col\": \"Again\", \"idx\": 1521916020000, \"val\": 0.0}, {\"col\": \"Beach\", \"idx\": 1521916020000, \"val\": NaN}, {\"col\": \"Violence\", \"idx\": 1521916080000, \"val\": 0.0}, {\"col\": \"Again\", \"idx\": 1521916080000, \"val\": 0.0}, {\"col\": \"Beach\", \"idx\": 1521916080000, \"val\": NaN}, {\"col\": \"Violence\", \"idx\": 1521916140000, \"val\": 0.0}, {\"col\": \"Again\", \"idx\": 1521916140000, \"val\": 0.0}, {\"col\": \"Beach\", \"idx\": 1521916140000, \"val\": NaN}, {\"col\": \"Violence\", \"idx\": 1521916200000, \"val\": 0.0}, {\"col\": \"Again\", \"idx\": 1521916200000, \"val\": 0.0}, {\"col\": \"Beach\", \"idx\": 1521916200000, \"val\": NaN}, {\"col\": \"Violence\", \"idx\": 1521916260000, \"val\": 0.0}, {\"col\": \"Again\", \"idx\": 1521916260000, \"val\": 0.0}, {\"col\": \"Beach\", \"idx\": 1521916260000, \"val\": NaN}, {\"col\": \"Violence\", \"idx\": 1521916320000, \"val\": 0.0}, {\"col\": \"Again\", \"idx\": 1521916320000, \"val\": 0.0}, {\"col\": \"Beach\", \"idx\": 1521916320000, \"val\": NaN}, {\"col\": \"Violence\", \"idx\": 1521916380000, \"val\": 0.0}, {\"col\": \"Again\", \"idx\": 1521916380000, \"val\": 0.0}, {\"col\": \"Beach\", \"idx\": 1521916380000, \"val\": NaN}, {\"col\": \"Violence\", \"idx\": 1521916440000, \"val\": 0.0}, {\"col\": \"Again\", \"idx\": 1521916440000, \"val\": 0.0}, {\"col\": \"Beach\", \"idx\": 1521916440000, \"val\": NaN}, {\"col\": \"Violence\", \"idx\": 1521916500000, \"val\": 0.0}, {\"col\": \"Again\", \"idx\": 1521916500000, \"val\": 0.0}, {\"col\": \"Beach\", \"idx\": 1521916500000, \"val\": NaN}, {\"col\": \"Violence\", \"idx\": 1521916560000, \"val\": 0.0}, {\"col\": \"Again\", \"idx\": 1521916560000, \"val\": 0.0}, {\"col\": \"Beach\", \"idx\": 1521916560000, \"val\": NaN}, {\"col\": \"Violence\", \"idx\": 1521916620000, \"val\": 0.0}, {\"col\": \"Again\", \"idx\": 1521916620000, \"val\": 0.0}, {\"col\": \"Beach\", \"idx\": 1521916620000, \"val\": NaN}, {\"col\": \"Violence\", \"idx\": 1521916680000, \"val\": 0.0}, {\"col\": \"Again\", \"idx\": 1521916680000, \"val\": 0.0}, {\"col\": \"Beach\", \"idx\": 1521916680000, \"val\": NaN}, {\"col\": \"Violence\", \"idx\": 1521916740000, \"val\": 0.0}, {\"col\": \"Again\", \"idx\": 1521916740000, \"val\": 0.0}, {\"col\": \"Beach\", \"idx\": 1521916740000, \"val\": NaN}, {\"col\": \"Violence\", \"idx\": 1521916800000, \"val\": 0.0}, {\"col\": \"Again\", \"idx\": 1521916800000, \"val\": 0.0}, {\"col\": \"Beach\", \"idx\": 1521916800000, \"val\": NaN}, {\"col\": \"Violence\", \"idx\": 1521916860000, \"val\": 0.0}, {\"col\": \"Again\", \"idx\": 1521916860000, \"val\": 0.0}, {\"col\": \"Beach\", \"idx\": 1521916860000, \"val\": NaN}, {\"col\": \"Violence\", \"idx\": 1521916920000, \"val\": 0.0}, {\"col\": \"Again\", \"idx\": 1521916920000, \"val\": 0.0}, {\"col\": \"Beach\", \"idx\": 1521916920000, \"val\": NaN}, {\"col\": \"Violence\", \"idx\": 1521916980000, \"val\": 0.0}, {\"col\": \"Again\", \"idx\": 1521916980000, \"val\": 0.0}, {\"col\": \"Beach\", \"idx\": 1521916980000, \"val\": NaN}, {\"col\": \"Violence\", \"idx\": 1521917040000, \"val\": 0.0}, {\"col\": \"Again\", \"idx\": 1521917040000, \"val\": 0.0}, {\"col\": \"Beach\", \"idx\": 1521917040000, \"val\": NaN}, {\"col\": \"Violence\", \"idx\": 1521917100000, \"val\": 0.0}, {\"col\": \"Again\", \"idx\": 1521917100000, \"val\": 0.0}, {\"col\": \"Beach\", \"idx\": 1521917100000, \"val\": NaN}, {\"col\": \"Violence\", \"idx\": 1521917160000, \"val\": 0.0}, {\"col\": \"Again\", \"idx\": 1521917160000, \"val\": 0.0}, {\"col\": \"Beach\", \"idx\": 1521917160000, \"val\": NaN}, {\"col\": \"Violence\", \"idx\": 1521917220000, \"val\": 0.0}, {\"col\": \"Again\", \"idx\": 1521917220000, \"val\": 0.0}, {\"col\": \"Beach\", \"idx\": 1521917220000, \"val\": NaN}, {\"col\": \"Violence\", \"idx\": 1521917280000, \"val\": 0.0}, {\"col\": \"Again\", \"idx\": 1521917280000, \"val\": 0.0}, {\"col\": \"Beach\", \"idx\": 1521917280000, \"val\": NaN}, {\"col\": \"Violence\", \"idx\": 1521917340000, \"val\": 0.0}, {\"col\": \"Again\", \"idx\": 1521917340000, \"val\": 0.0}, {\"col\": \"Beach\", \"idx\": 1521917340000, \"val\": NaN}, {\"col\": \"Violence\", \"idx\": 1521917400000, \"val\": 0.0}, {\"col\": \"Again\", \"idx\": 1521917400000, \"val\": 0.0}, {\"col\": \"Beach\", \"idx\": 1521917400000, \"val\": NaN}, {\"col\": \"Violence\", \"idx\": 1521917460000, \"val\": 0.0}, {\"col\": \"Again\", \"idx\": 1521917460000, \"val\": 0.0}, {\"col\": \"Beach\", \"idx\": 1521917460000, \"val\": NaN}, {\"col\": \"Violence\", \"idx\": 1521917520000, \"val\": 0.0}, {\"col\": \"Again\", \"idx\": 1521917520000, \"val\": 0.0}, {\"col\": \"Beach\", \"idx\": 1521917520000, \"val\": NaN}, {\"col\": \"Violence\", \"idx\": 1521917580000, \"val\": 0.0}, {\"col\": \"Again\", \"idx\": 1521917580000, \"val\": 0.0}, {\"col\": \"Beach\", \"idx\": 1521917580000, \"val\": NaN}, {\"col\": \"Violence\", \"idx\": 1521917640000, \"val\": 0.0}, {\"col\": \"Again\", \"idx\": 1521917640000, \"val\": 0.0}, {\"col\": \"Beach\", \"idx\": 1521917640000, \"val\": NaN}, {\"col\": \"Violence\", \"idx\": 1521917700000, \"val\": 0.0}, {\"col\": \"Again\", \"idx\": 1521917700000, \"val\": 0.0}, {\"col\": \"Beach\", \"idx\": 1521917700000, \"val\": NaN}, {\"col\": \"Violence\", \"idx\": 1521917760000, \"val\": 0.0}, {\"col\": \"Again\", \"idx\": 1521917760000, \"val\": 0.0}, {\"col\": \"Beach\", \"idx\": 1521917760000, \"val\": NaN}, {\"col\": \"Violence\", \"idx\": 1521917820000, \"val\": 0.0}, {\"col\": \"Again\", \"idx\": 1521917820000, \"val\": 0.0}, {\"col\": \"Beach\", \"idx\": 1521917820000, \"val\": NaN}, {\"col\": \"Violence\", \"idx\": 1521917880000, \"val\": 0.0}, {\"col\": \"Again\", \"idx\": 1521917880000, \"val\": 0.0}, {\"col\": \"Beach\", \"idx\": 1521917880000, \"val\": NaN}, {\"col\": \"Violence\", \"idx\": 1521917940000, \"val\": 0.0}, {\"col\": \"Again\", \"idx\": 1521917940000, \"val\": 0.0}, {\"col\": \"Beach\", \"idx\": 1521917940000, \"val\": NaN}, {\"col\": \"Violence\", \"idx\": 1521918000000, \"val\": 8.0}, {\"col\": \"Again\", \"idx\": 1521918000000, \"val\": 5.0}, {\"col\": \"Beach\", \"idx\": 1521918000000, \"val\": NaN}, {\"col\": \"Violence\", \"idx\": 1521918060000, \"val\": 15.0}, {\"col\": \"Again\", \"idx\": 1521918060000, \"val\": 6.0}, {\"col\": \"Beach\", \"idx\": 1521918060000, \"val\": NaN}, {\"col\": \"Violence\", \"idx\": 1521918120000, \"val\": 10.0}, {\"col\": \"Again\", \"idx\": 1521918120000, \"val\": 7.0}, {\"col\": \"Beach\", \"idx\": 1521918120000, \"val\": NaN}, {\"col\": \"Violence\", \"idx\": 1521918180000, \"val\": 13.0}, {\"col\": \"Again\", \"idx\": 1521918180000, \"val\": 8.0}, {\"col\": \"Beach\", \"idx\": 1521918180000, \"val\": NaN}, {\"col\": \"Violence\", \"idx\": 1521918240000, \"val\": 11.0}, {\"col\": \"Again\", \"idx\": 1521918240000, \"val\": 9.0}, {\"col\": \"Beach\", \"idx\": 1521918240000, \"val\": NaN}, {\"col\": \"Violence\", \"idx\": 1521918300000, \"val\": 17.0}, {\"col\": \"Again\", \"idx\": 1521918300000, \"val\": 5.0}, {\"col\": \"Beach\", \"idx\": 1521918300000, \"val\": NaN}, {\"col\": \"Violence\", \"idx\": 1521918360000, \"val\": 14.0}, {\"col\": \"Again\", \"idx\": 1521918360000, \"val\": 7.0}, {\"col\": \"Beach\", \"idx\": 1521918360000, \"val\": NaN}, {\"col\": \"Violence\", \"idx\": 1521918420000, \"val\": 12.0}, {\"col\": \"Again\", \"idx\": 1521918420000, \"val\": 13.0}, {\"col\": \"Beach\", \"idx\": 1521918420000, \"val\": NaN}, {\"col\": \"Violence\", \"idx\": 1521918480000, \"val\": 14.0}, {\"col\": \"Again\", \"idx\": 1521918480000, \"val\": 7.0}, {\"col\": \"Beach\", \"idx\": 1521918480000, \"val\": NaN}, {\"col\": \"Violence\", \"idx\": 1521918540000, \"val\": 11.0}, {\"col\": \"Again\", \"idx\": 1521918540000, \"val\": 3.0}, {\"col\": \"Beach\", \"idx\": 1521918540000, \"val\": NaN}, {\"col\": \"Violence\", \"idx\": 1521918600000, \"val\": 11.0}, {\"col\": \"Again\", \"idx\": 1521918600000, \"val\": 7.0}, {\"col\": \"Beach\", \"idx\": 1521918600000, \"val\": NaN}, {\"col\": \"Violence\", \"idx\": 1521918660000, \"val\": 9.0}, {\"col\": \"Again\", \"idx\": 1521918660000, \"val\": 5.0}, {\"col\": \"Beach\", \"idx\": 1521918660000, \"val\": NaN}, {\"col\": \"Violence\", \"idx\": 1521918720000, \"val\": 11.0}, {\"col\": \"Again\", \"idx\": 1521918720000, \"val\": 8.0}, {\"col\": \"Beach\", \"idx\": 1521918720000, \"val\": NaN}, {\"col\": \"Violence\", \"idx\": 1521918780000, \"val\": 13.0}, {\"col\": \"Again\", \"idx\": 1521918780000, \"val\": 5.0}, {\"col\": \"Beach\", \"idx\": 1521918780000, \"val\": NaN}, {\"col\": \"Violence\", \"idx\": 1521918840000, \"val\": 7.0}, {\"col\": \"Again\", \"idx\": 1521918840000, \"val\": 5.0}, {\"col\": \"Beach\", \"idx\": 1521918840000, \"val\": NaN}, {\"col\": \"Violence\", \"idx\": 1521918900000, \"val\": 13.0}, {\"col\": \"Again\", \"idx\": 1521918900000, \"val\": 21.0}, {\"col\": \"Beach\", \"idx\": 1521918900000, \"val\": NaN}, {\"col\": \"Violence\", \"idx\": 1521918960000, \"val\": 10.0}, {\"col\": \"Again\", \"idx\": 1521918960000, \"val\": 31.0}, {\"col\": \"Beach\", \"idx\": 1521918960000, \"val\": 2.0}, {\"col\": \"Violence\", \"idx\": 1521919020000, \"val\": 54.0}, {\"col\": \"Again\", \"idx\": 1521919020000, \"val\": 30.0}, {\"col\": \"Beach\", \"idx\": 1521919020000, \"val\": 39.0}, {\"col\": \"Violence\", \"idx\": 1521919080000, \"val\": 52.0}, {\"col\": \"Again\", \"idx\": 1521919080000, \"val\": 29.0}, {\"col\": \"Beach\", \"idx\": 1521919080000, \"val\": 40.0}, {\"col\": \"Violence\", \"idx\": 1521919140000, \"val\": 44.0}, {\"col\": \"Again\", \"idx\": 1521919140000, \"val\": 20.0}, {\"col\": \"Beach\", \"idx\": 1521919140000, \"val\": 33.0}, {\"col\": \"Violence\", \"idx\": 1521919200000, \"val\": 40.0}, {\"col\": \"Again\", \"idx\": 1521919200000, \"val\": 27.0}, {\"col\": \"Beach\", \"idx\": 1521919200000, \"val\": 27.0}, {\"col\": \"Violence\", \"idx\": 1521919260000, \"val\": 54.0}, {\"col\": \"Again\", \"idx\": 1521919260000, \"val\": 33.0}, {\"col\": \"Beach\", \"idx\": 1521919260000, \"val\": 46.0}, {\"col\": \"Violence\", \"idx\": 1521919320000, \"val\": 88.0}, {\"col\": \"Again\", \"idx\": 1521919320000, \"val\": 40.0}, {\"col\": \"Beach\", \"idx\": 1521919320000, \"val\": 81.0}, {\"col\": \"Violence\", \"idx\": 1521919380000, \"val\": 82.0}, {\"col\": \"Again\", \"idx\": 1521919380000, \"val\": 25.0}, {\"col\": \"Beach\", \"idx\": 1521919380000, \"val\": 70.0}, {\"col\": \"Violence\", \"idx\": 1521919440000, \"val\": 67.0}, {\"col\": \"Again\", \"idx\": 1521919440000, \"val\": 17.0}, {\"col\": \"Beach\", \"idx\": 1521919440000, \"val\": 64.0}, {\"col\": \"Violence\", \"idx\": 1521919500000, \"val\": 77.0}, {\"col\": \"Again\", \"idx\": 1521919500000, \"val\": 26.0}, {\"col\": \"Beach\", \"idx\": 1521919500000, \"val\": 72.0}, {\"col\": \"Violence\", \"idx\": 1521919560000, \"val\": 79.0}, {\"col\": \"Again\", \"idx\": 1521919560000, \"val\": 21.0}, {\"col\": \"Beach\", \"idx\": 1521919560000, \"val\": 67.0}, {\"col\": \"Violence\", \"idx\": 1521919620000, \"val\": 45.0}, {\"col\": \"Again\", \"idx\": 1521919620000, \"val\": 32.0}, {\"col\": \"Beach\", \"idx\": 1521919620000, \"val\": 36.0}, {\"col\": \"Violence\", \"idx\": 1521919680000, \"val\": 54.0}, {\"col\": \"Again\", \"idx\": 1521919680000, \"val\": 28.0}, {\"col\": \"Beach\", \"idx\": 1521919680000, \"val\": 45.0}, {\"col\": \"Violence\", \"idx\": 1521919740000, \"val\": 52.0}, {\"col\": \"Again\", \"idx\": 1521919740000, \"val\": 30.0}, {\"col\": \"Beach\", \"idx\": 1521919740000, \"val\": 43.0}, {\"col\": \"Violence\", \"idx\": 1521919800000, \"val\": 54.0}, {\"col\": \"Again\", \"idx\": 1521919800000, \"val\": 35.0}, {\"col\": \"Beach\", \"idx\": 1521919800000, \"val\": 50.0}, {\"col\": \"Violence\", \"idx\": 1521919860000, \"val\": 61.0}, {\"col\": \"Again\", \"idx\": 1521919860000, \"val\": 43.0}, {\"col\": \"Beach\", \"idx\": 1521919860000, \"val\": 49.0}, {\"col\": \"Violence\", \"idx\": 1521919920000, \"val\": 51.0}, {\"col\": \"Again\", \"idx\": 1521919920000, \"val\": 48.0}, {\"col\": \"Beach\", \"idx\": 1521919920000, \"val\": 40.0}, {\"col\": \"Violence\", \"idx\": 1521919980000, \"val\": 2.0}, {\"col\": \"Again\", \"idx\": 1521919980000, \"val\": 3.0}, {\"col\": \"Beach\", \"idx\": 1521919980000, \"val\": 2.0}, {\"col\": \"Violence\", \"idx\": 1521920040000, \"val\": 6.0}, {\"col\": \"Again\", \"idx\": 1521920040000, \"val\": 6.0}, {\"col\": \"Beach\", \"idx\": 1521920040000, \"val\": 6.0}, {\"col\": \"Violence\", \"idx\": 1521920100000, \"val\": 49.0}, {\"col\": \"Again\", \"idx\": 1521920100000, \"val\": 36.0}, {\"col\": \"Beach\", \"idx\": 1521920100000, \"val\": 33.0}, {\"col\": \"Violence\", \"idx\": 1521920160000, \"val\": 39.0}, {\"col\": \"Again\", \"idx\": 1521920160000, \"val\": 35.0}, {\"col\": \"Beach\", \"idx\": 1521920160000, \"val\": 32.0}, {\"col\": \"Violence\", \"idx\": 1521920220000, \"val\": 36.0}, {\"col\": \"Again\", \"idx\": 1521920220000, \"val\": 35.0}, {\"col\": \"Beach\", \"idx\": 1521920220000, \"val\": 23.0}, {\"col\": \"Violence\", \"idx\": 1521920280000, \"val\": 39.0}, {\"col\": \"Again\", \"idx\": 1521920280000, \"val\": 30.0}, {\"col\": \"Beach\", \"idx\": 1521920280000, \"val\": 28.0}, {\"col\": \"Violence\", \"idx\": 1521920340000, \"val\": 34.0}, {\"col\": \"Again\", \"idx\": 1521920340000, \"val\": 32.0}, {\"col\": \"Beach\", \"idx\": 1521920340000, \"val\": 24.0}, {\"col\": \"Violence\", \"idx\": 1521920400000, \"val\": 32.0}, {\"col\": \"Again\", \"idx\": 1521920400000, \"val\": 30.0}, {\"col\": \"Beach\", \"idx\": 1521920400000, \"val\": 20.0}, {\"col\": \"Violence\", \"idx\": 1521920460000, \"val\": 29.0}, {\"col\": \"Again\", \"idx\": 1521920460000, \"val\": 24.0}, {\"col\": \"Beach\", \"idx\": 1521920460000, \"val\": 21.0}, {\"col\": \"Violence\", \"idx\": 1521920520000, \"val\": 34.0}, {\"col\": \"Again\", \"idx\": 1521920520000, \"val\": 36.0}, {\"col\": \"Beach\", \"idx\": 1521920520000, \"val\": 24.0}, {\"col\": \"Violence\", \"idx\": 1521920580000, \"val\": 20.0}, {\"col\": \"Again\", \"idx\": 1521920580000, \"val\": 28.0}, {\"col\": \"Beach\", \"idx\": 1521920580000, \"val\": 15.0}, {\"col\": \"Violence\", \"idx\": 1521920640000, \"val\": 37.0}, {\"col\": \"Again\", \"idx\": 1521920640000, \"val\": 37.0}, {\"col\": \"Beach\", \"idx\": 1521920640000, \"val\": 30.0}, {\"col\": \"Violence\", \"idx\": 1521920700000, \"val\": 26.0}, {\"col\": \"Again\", \"idx\": 1521920700000, \"val\": 26.0}, {\"col\": \"Beach\", \"idx\": 1521920700000, \"val\": 19.0}, {\"col\": \"Violence\", \"idx\": 1521920760000, \"val\": 33.0}, {\"col\": \"Again\", \"idx\": 1521920760000, \"val\": 47.0}, {\"col\": \"Beach\", \"idx\": 1521920760000, \"val\": 23.0}, {\"col\": \"Violence\", \"idx\": 1521920820000, \"val\": 28.0}, {\"col\": \"Again\", \"idx\": 1521920820000, \"val\": 37.0}, {\"col\": \"Beach\", \"idx\": 1521920820000, \"val\": 12.0}, {\"col\": \"Violence\", \"idx\": 1521920880000, \"val\": 39.0}, {\"col\": \"Again\", \"idx\": 1521920880000, \"val\": 34.0}, {\"col\": \"Beach\", \"idx\": 1521920880000, \"val\": 31.0}, {\"col\": \"Violence\", \"idx\": 1521920940000, \"val\": 27.0}, {\"col\": \"Again\", \"idx\": 1521920940000, \"val\": 19.0}, {\"col\": \"Beach\", \"idx\": 1521920940000, \"val\": 19.0}, {\"col\": \"Violence\", \"idx\": 1521921000000, \"val\": 39.0}, {\"col\": \"Again\", \"idx\": 1521921000000, \"val\": 23.0}, {\"col\": \"Beach\", \"idx\": 1521921000000, \"val\": 30.0}, {\"col\": \"Violence\", \"idx\": 1521921060000, \"val\": 26.0}, {\"col\": \"Again\", \"idx\": 1521921060000, \"val\": 26.0}, {\"col\": \"Beach\", \"idx\": 1521921060000, \"val\": 16.0}, {\"col\": \"Violence\", \"idx\": 1521921120000, \"val\": 29.0}, {\"col\": \"Again\", \"idx\": 1521921120000, \"val\": 31.0}, {\"col\": \"Beach\", \"idx\": 1521921120000, \"val\": 20.0}, {\"col\": \"Violence\", \"idx\": 1521921180000, \"val\": 36.0}, {\"col\": \"Again\", \"idx\": 1521921180000, \"val\": 22.0}, {\"col\": \"Beach\", \"idx\": 1521921180000, \"val\": 25.0}, {\"col\": \"Violence\", \"idx\": 1521921240000, \"val\": 28.0}, {\"col\": \"Again\", \"idx\": 1521921240000, \"val\": 25.0}, {\"col\": \"Beach\", \"idx\": 1521921240000, \"val\": 23.0}, {\"col\": \"Violence\", \"idx\": 1521921300000, \"val\": 19.0}, {\"col\": \"Again\", \"idx\": 1521921300000, \"val\": 26.0}, {\"col\": \"Beach\", \"idx\": 1521921300000, \"val\": 12.0}, {\"col\": \"Violence\", \"idx\": 1521921360000, \"val\": 17.0}, {\"col\": \"Again\", \"idx\": 1521921360000, \"val\": 23.0}, {\"col\": \"Beach\", \"idx\": 1521921360000, \"val\": 9.0}, {\"col\": \"Violence\", \"idx\": 1521921420000, \"val\": 26.0}, {\"col\": \"Again\", \"idx\": 1521921420000, \"val\": 22.0}, {\"col\": \"Beach\", \"idx\": 1521921420000, \"val\": 15.0}, {\"col\": \"Violence\", \"idx\": 1521921480000, \"val\": 26.0}, {\"col\": \"Again\", \"idx\": 1521921480000, \"val\": 25.0}, {\"col\": \"Beach\", \"idx\": 1521921480000, \"val\": 15.0}, {\"col\": \"Violence\", \"idx\": 1521921540000, \"val\": 29.0}, {\"col\": \"Again\", \"idx\": 1521921540000, \"val\": 29.0}, {\"col\": \"Beach\", \"idx\": 1521921540000, \"val\": 18.0}, {\"col\": \"Violence\", \"idx\": 1521921600000, \"val\": 23.0}, {\"col\": \"Again\", \"idx\": 1521921600000, \"val\": 28.0}, {\"col\": \"Beach\", \"idx\": 1521921600000, \"val\": 16.0}, {\"col\": \"Violence\", \"idx\": 1521921660000, \"val\": 17.0}, {\"col\": \"Again\", \"idx\": 1521921660000, \"val\": 16.0}, {\"col\": \"Beach\", \"idx\": 1521921660000, \"val\": 12.0}, {\"col\": \"Violence\", \"idx\": 1521921720000, \"val\": 21.0}, {\"col\": \"Again\", \"idx\": 1521921720000, \"val\": 22.0}, {\"col\": \"Beach\", \"idx\": 1521921720000, \"val\": 9.0}, {\"col\": \"Violence\", \"idx\": 1521921780000, \"val\": 9.0}, {\"col\": \"Again\", \"idx\": 1521921780000, \"val\": 9.0}, {\"col\": \"Beach\", \"idx\": 1521921780000, \"val\": 6.0}, {\"col\": \"Violence\", \"idx\": 1521921840000, \"val\": 24.0}, {\"col\": \"Again\", \"idx\": 1521921840000, \"val\": 25.0}, {\"col\": \"Beach\", \"idx\": 1521921840000, \"val\": 11.0}, {\"col\": \"Violence\", \"idx\": 1521921900000, \"val\": 23.0}, {\"col\": \"Again\", \"idx\": 1521921900000, \"val\": 24.0}, {\"col\": \"Beach\", \"idx\": 1521921900000, \"val\": 20.0}, {\"col\": \"Violence\", \"idx\": 1521921960000, \"val\": 24.0}, {\"col\": \"Again\", \"idx\": 1521921960000, \"val\": 24.0}, {\"col\": \"Beach\", \"idx\": 1521921960000, \"val\": 14.0}, {\"col\": \"Violence\", \"idx\": 1521922020000, \"val\": 17.0}, {\"col\": \"Again\", \"idx\": 1521922020000, \"val\": 7.0}, {\"col\": \"Beach\", \"idx\": 1521922020000, \"val\": 11.0}, {\"col\": \"Violence\", \"idx\": 1521922080000, \"val\": 13.0}, {\"col\": \"Again\", \"idx\": 1521922080000, \"val\": 21.0}, {\"col\": \"Beach\", \"idx\": 1521922080000, \"val\": 6.0}, {\"col\": \"Violence\", \"idx\": 1521922140000, \"val\": 20.0}, {\"col\": \"Again\", \"idx\": 1521922140000, \"val\": 27.0}, {\"col\": \"Beach\", \"idx\": 1521922140000, \"val\": 12.0}, {\"col\": \"Violence\", \"idx\": 1521922200000, \"val\": 23.0}, {\"col\": \"Again\", \"idx\": 1521922200000, \"val\": 28.0}, {\"col\": \"Beach\", \"idx\": 1521922200000, \"val\": 14.0}, {\"col\": \"Violence\", \"idx\": 1521922260000, \"val\": 16.0}, {\"col\": \"Again\", \"idx\": 1521922260000, \"val\": 20.0}, {\"col\": \"Beach\", \"idx\": 1521922260000, \"val\": 9.0}, {\"col\": \"Violence\", \"idx\": 1521922320000, \"val\": 19.0}, {\"col\": \"Again\", \"idx\": 1521922320000, \"val\": 24.0}, {\"col\": \"Beach\", \"idx\": 1521922320000, \"val\": 10.0}, {\"col\": \"Violence\", \"idx\": 1521922380000, \"val\": 17.0}, {\"col\": \"Again\", \"idx\": 1521922380000, \"val\": 19.0}, {\"col\": \"Beach\", \"idx\": 1521922380000, \"val\": 8.0}, {\"col\": \"Violence\", \"idx\": 1521922440000, \"val\": 18.0}, {\"col\": \"Again\", \"idx\": 1521922440000, \"val\": 26.0}, {\"col\": \"Beach\", \"idx\": 1521922440000, \"val\": 11.0}, {\"col\": \"Violence\", \"idx\": 1521922500000, \"val\": 22.0}, {\"col\": \"Again\", \"idx\": 1521922500000, \"val\": 22.0}, {\"col\": \"Beach\", \"idx\": 1521922500000, \"val\": 12.0}, {\"col\": \"Violence\", \"idx\": 1521922560000, \"val\": 20.0}, {\"col\": \"Again\", \"idx\": 1521922560000, \"val\": 16.0}, {\"col\": \"Beach\", \"idx\": 1521922560000, \"val\": 15.0}, {\"col\": \"Violence\", \"idx\": 1521922620000, \"val\": 15.0}, {\"col\": \"Again\", \"idx\": 1521922620000, \"val\": 29.0}, {\"col\": \"Beach\", \"idx\": 1521922620000, \"val\": 9.0}, {\"col\": \"Violence\", \"idx\": 1521922680000, \"val\": 22.0}, {\"col\": \"Again\", \"idx\": 1521922680000, \"val\": 25.0}, {\"col\": \"Beach\", \"idx\": 1521922680000, \"val\": 11.0}, {\"col\": \"Violence\", \"idx\": 1521922740000, \"val\": 24.0}, {\"col\": \"Again\", \"idx\": 1521922740000, \"val\": 28.0}, {\"col\": \"Beach\", \"idx\": 1521922740000, \"val\": 13.0}, {\"col\": \"Violence\", \"idx\": 1521922800000, \"val\": 12.0}, {\"col\": \"Again\", \"idx\": 1521922800000, \"val\": 23.0}, {\"col\": \"Beach\", \"idx\": 1521922800000, \"val\": 8.0}, {\"col\": \"Violence\", \"idx\": 1521922860000, \"val\": 18.0}, {\"col\": \"Again\", \"idx\": 1521922860000, \"val\": 30.0}, {\"col\": \"Beach\", \"idx\": 1521922860000, \"val\": 11.0}, {\"col\": \"Violence\", \"idx\": 1521922920000, \"val\": 22.0}, {\"col\": \"Again\", \"idx\": 1521922920000, \"val\": 25.0}, {\"col\": \"Beach\", \"idx\": 1521922920000, \"val\": 8.0}, {\"col\": \"Violence\", \"idx\": 1521922980000, \"val\": 23.0}, {\"col\": \"Again\", \"idx\": 1521922980000, \"val\": 20.0}, {\"col\": \"Beach\", \"idx\": 1521922980000, \"val\": 12.0}, {\"col\": \"Violence\", \"idx\": 1521923040000, \"val\": 17.0}, {\"col\": \"Again\", \"idx\": 1521923040000, \"val\": 25.0}, {\"col\": \"Beach\", \"idx\": 1521923040000, \"val\": 9.0}, {\"col\": \"Violence\", \"idx\": 1521923100000, \"val\": 12.0}, {\"col\": \"Again\", \"idx\": 1521923100000, \"val\": 24.0}, {\"col\": \"Beach\", \"idx\": 1521923100000, \"val\": 6.0}, {\"col\": \"Violence\", \"idx\": 1521923160000, \"val\": 20.0}, {\"col\": \"Again\", \"idx\": 1521923160000, \"val\": 20.0}, {\"col\": \"Beach\", \"idx\": 1521923160000, \"val\": 12.0}, {\"col\": \"Violence\", \"idx\": 1521923220000, \"val\": 18.0}, {\"col\": \"Again\", \"idx\": 1521923220000, \"val\": 24.0}, {\"col\": \"Beach\", \"idx\": 1521923220000, \"val\": 8.0}, {\"col\": \"Violence\", \"idx\": 1521923280000, \"val\": 25.0}, {\"col\": \"Again\", \"idx\": 1521923280000, \"val\": 31.0}, {\"col\": \"Beach\", \"idx\": 1521923280000, \"val\": 13.0}, {\"col\": \"Violence\", \"idx\": 1521923340000, \"val\": 25.0}, {\"col\": \"Again\", \"idx\": 1521923340000, \"val\": 30.0}, {\"col\": \"Beach\", \"idx\": 1521923340000, \"val\": 15.0}, {\"col\": \"Violence\", \"idx\": 1521923400000, \"val\": 20.0}, {\"col\": \"Again\", \"idx\": 1521923400000, \"val\": 18.0}, {\"col\": \"Beach\", \"idx\": 1521923400000, \"val\": 11.0}, {\"col\": \"Violence\", \"idx\": 1521923460000, \"val\": 13.0}, {\"col\": \"Again\", \"idx\": 1521923460000, \"val\": 21.0}, {\"col\": \"Beach\", \"idx\": 1521923460000, \"val\": 6.0}, {\"col\": \"Violence\", \"idx\": 1521923520000, \"val\": 23.0}, {\"col\": \"Again\", \"idx\": 1521923520000, \"val\": 30.0}, {\"col\": \"Beach\", \"idx\": 1521923520000, \"val\": 13.0}, {\"col\": \"Violence\", \"idx\": 1521923580000, \"val\": 18.0}, {\"col\": \"Again\", \"idx\": 1521923580000, \"val\": 16.0}, {\"col\": \"Beach\", \"idx\": 1521923580000, \"val\": 7.0}, {\"col\": \"Violence\", \"idx\": 1521923640000, \"val\": 28.0}, {\"col\": \"Again\", \"idx\": 1521923640000, \"val\": 22.0}, {\"col\": \"Beach\", \"idx\": 1521923640000, \"val\": 16.0}, {\"col\": \"Violence\", \"idx\": 1521923700000, \"val\": 9.0}, {\"col\": \"Again\", \"idx\": 1521923700000, \"val\": 18.0}, {\"col\": \"Beach\", \"idx\": 1521923700000, \"val\": 6.0}, {\"col\": \"Violence\", \"idx\": 1521923760000, \"val\": 21.0}, {\"col\": \"Again\", \"idx\": 1521923760000, \"val\": 44.0}, {\"col\": \"Beach\", \"idx\": 1521923760000, \"val\": 13.0}, {\"col\": \"Violence\", \"idx\": 1521923820000, \"val\": 11.0}, {\"col\": \"Again\", \"idx\": 1521923820000, \"val\": 31.0}, {\"col\": \"Beach\", \"idx\": 1521923820000, \"val\": 7.0}, {\"col\": \"Violence\", \"idx\": 1521923880000, \"val\": 18.0}, {\"col\": \"Again\", \"idx\": 1521923880000, \"val\": 34.0}, {\"col\": \"Beach\", \"idx\": 1521923880000, \"val\": 9.0}, {\"col\": \"Violence\", \"idx\": 1521923940000, \"val\": 10.0}, {\"col\": \"Again\", \"idx\": 1521923940000, \"val\": 25.0}, {\"col\": \"Beach\", \"idx\": 1521923940000, \"val\": 5.0}, {\"col\": \"Violence\", \"idx\": 1521924000000, \"val\": 10.0}, {\"col\": \"Again\", \"idx\": 1521924000000, \"val\": 39.0}, {\"col\": \"Beach\", \"idx\": 1521924000000, \"val\": 5.0}, {\"col\": \"Violence\", \"idx\": 1521924060000, \"val\": 21.0}, {\"col\": \"Again\", \"idx\": 1521924060000, \"val\": 34.0}, {\"col\": \"Beach\", \"idx\": 1521924060000, \"val\": 12.0}, {\"col\": \"Violence\", \"idx\": 1521924120000, \"val\": 0.0}, {\"col\": \"Again\", \"idx\": 1521924120000, \"val\": 0.0}, {\"col\": \"Beach\", \"idx\": 1521924120000, \"val\": 0.0}, {\"col\": \"Violence\", \"idx\": 1521924180000, \"val\": 0.0}, {\"col\": \"Again\", \"idx\": 1521924180000, \"val\": 0.0}, {\"col\": \"Beach\", \"idx\": 1521924180000, \"val\": 0.0}, {\"col\": \"Violence\", \"idx\": 1521924240000, \"val\": 16.0}, {\"col\": \"Again\", \"idx\": 1521924240000, \"val\": 14.0}, {\"col\": \"Beach\", \"idx\": 1521924240000, \"val\": 9.0}, {\"col\": \"Violence\", \"idx\": 1521924300000, \"val\": 19.0}, {\"col\": \"Again\", \"idx\": 1521924300000, \"val\": 24.0}, {\"col\": \"Beach\", \"idx\": 1521924300000, \"val\": 10.0}, {\"col\": \"Violence\", \"idx\": 1521924360000, \"val\": 19.0}, {\"col\": \"Again\", \"idx\": 1521924360000, \"val\": 23.0}, {\"col\": \"Beach\", \"idx\": 1521924360000, \"val\": 7.0}, {\"col\": \"Violence\", \"idx\": 1521924420000, \"val\": 24.0}, {\"col\": \"Again\", \"idx\": 1521924420000, \"val\": 36.0}, {\"col\": \"Beach\", \"idx\": 1521924420000, \"val\": 12.0}, {\"col\": \"Violence\", \"idx\": 1521924480000, \"val\": 20.0}, {\"col\": \"Again\", \"idx\": 1521924480000, \"val\": 22.0}, {\"col\": \"Beach\", \"idx\": 1521924480000, \"val\": 10.0}, {\"col\": \"Violence\", \"idx\": 1521924540000, \"val\": 17.0}, {\"col\": \"Again\", \"idx\": 1521924540000, \"val\": 31.0}, {\"col\": \"Beach\", \"idx\": 1521924540000, \"val\": 11.0}, {\"col\": \"Violence\", \"idx\": 1521924600000, \"val\": 16.0}, {\"col\": \"Again\", \"idx\": 1521924600000, \"val\": 49.0}, {\"col\": \"Beach\", \"idx\": 1521924600000, \"val\": 5.0}, {\"col\": \"Violence\", \"idx\": 1521924660000, \"val\": 14.0}, {\"col\": \"Again\", \"idx\": 1521924660000, \"val\": 33.0}, {\"col\": \"Beach\", \"idx\": 1521924660000, \"val\": 7.0}, {\"col\": \"Violence\", \"idx\": 1521924720000, \"val\": 23.0}, {\"col\": \"Again\", \"idx\": 1521924720000, \"val\": 31.0}, {\"col\": \"Beach\", \"idx\": 1521924720000, \"val\": 17.0}, {\"col\": \"Violence\", \"idx\": 1521924780000, \"val\": 30.0}, {\"col\": \"Again\", \"idx\": 1521924780000, \"val\": 32.0}, {\"col\": \"Beach\", \"idx\": 1521924780000, \"val\": 15.0}, {\"col\": \"Violence\", \"idx\": 1521924840000, \"val\": 26.0}, {\"col\": \"Again\", \"idx\": 1521924840000, \"val\": 29.0}, {\"col\": \"Beach\", \"idx\": 1521924840000, \"val\": 12.0}, {\"col\": \"Violence\", \"idx\": 1521924900000, \"val\": 22.0}, {\"col\": \"Again\", \"idx\": 1521924900000, \"val\": 26.0}, {\"col\": \"Beach\", \"idx\": 1521924900000, \"val\": 12.0}, {\"col\": \"Violence\", \"idx\": 1521924960000, \"val\": 17.0}, {\"col\": \"Again\", \"idx\": 1521924960000, \"val\": 31.0}, {\"col\": \"Beach\", \"idx\": 1521924960000, \"val\": 4.0}, {\"col\": \"Violence\", \"idx\": 1521925020000, \"val\": 15.0}, {\"col\": \"Again\", \"idx\": 1521925020000, \"val\": 29.0}, {\"col\": \"Beach\", \"idx\": 1521925020000, \"val\": 4.0}, {\"col\": \"Violence\", \"idx\": 1521925080000, \"val\": 19.0}, {\"col\": \"Again\", \"idx\": 1521925080000, \"val\": 22.0}, {\"col\": \"Beach\", \"idx\": 1521925080000, \"val\": 9.0}, {\"col\": \"Violence\", \"idx\": 1521925140000, \"val\": 22.0}, {\"col\": \"Again\", \"idx\": 1521925140000, \"val\": 22.0}, {\"col\": \"Beach\", \"idx\": 1521925140000, \"val\": 10.0}, {\"col\": \"Violence\", \"idx\": 1521925200000, \"val\": 19.0}, {\"col\": \"Again\", \"idx\": 1521925200000, \"val\": 29.0}, {\"col\": \"Beach\", \"idx\": 1521925200000, \"val\": 8.0}, {\"col\": \"Violence\", \"idx\": 1521925260000, \"val\": 20.0}, {\"col\": \"Again\", \"idx\": 1521925260000, \"val\": 15.0}, {\"col\": \"Beach\", \"idx\": 1521925260000, \"val\": 11.0}, {\"col\": \"Violence\", \"idx\": 1521925320000, \"val\": 19.0}, {\"col\": \"Again\", \"idx\": 1521925320000, \"val\": 15.0}, {\"col\": \"Beach\", \"idx\": 1521925320000, \"val\": 6.0}, {\"col\": \"Violence\", \"idx\": 1521925380000, \"val\": 14.0}, {\"col\": \"Again\", \"idx\": 1521925380000, \"val\": 22.0}, {\"col\": \"Beach\", \"idx\": 1521925380000, \"val\": 7.0}, {\"col\": \"Violence\", \"idx\": 1521925440000, \"val\": 16.0}, {\"col\": \"Again\", \"idx\": 1521925440000, \"val\": 17.0}, {\"col\": \"Beach\", \"idx\": 1521925440000, \"val\": 9.0}, {\"col\": \"Violence\", \"idx\": 1521925500000, \"val\": 19.0}, {\"col\": \"Again\", \"idx\": 1521925500000, \"val\": 26.0}, {\"col\": \"Beach\", \"idx\": 1521925500000, \"val\": 11.0}, {\"col\": \"Violence\", \"idx\": 1521925560000, \"val\": 23.0}, {\"col\": \"Again\", \"idx\": 1521925560000, \"val\": 26.0}, {\"col\": \"Beach\", \"idx\": 1521925560000, \"val\": 13.0}, {\"col\": \"Violence\", \"idx\": 1521925620000, \"val\": 8.0}, {\"col\": \"Again\", \"idx\": 1521925620000, \"val\": 28.0}, {\"col\": \"Beach\", \"idx\": 1521925620000, \"val\": 4.0}, {\"col\": \"Violence\", \"idx\": 1521925680000, \"val\": 16.0}, {\"col\": \"Again\", \"idx\": 1521925680000, \"val\": 12.0}, {\"col\": \"Beach\", \"idx\": 1521925680000, \"val\": 10.0}, {\"col\": \"Violence\", \"idx\": 1521925740000, \"val\": 20.0}, {\"col\": \"Again\", \"idx\": 1521925740000, \"val\": 19.0}, {\"col\": \"Beach\", \"idx\": 1521925740000, \"val\": 7.0}, {\"col\": \"Violence\", \"idx\": 1521925800000, \"val\": 17.0}, {\"col\": \"Again\", \"idx\": 1521925800000, \"val\": 21.0}, {\"col\": \"Beach\", \"idx\": 1521925800000, \"val\": 5.0}, {\"col\": \"Violence\", \"idx\": 1521925860000, \"val\": 15.0}, {\"col\": \"Again\", \"idx\": 1521925860000, \"val\": 25.0}, {\"col\": \"Beach\", \"idx\": 1521925860000, \"val\": 9.0}, {\"col\": \"Violence\", \"idx\": 1521925920000, \"val\": 15.0}, {\"col\": \"Again\", \"idx\": 1521925920000, \"val\": 18.0}, {\"col\": \"Beach\", \"idx\": 1521925920000, \"val\": 8.0}, {\"col\": \"Violence\", \"idx\": 1521925980000, \"val\": 15.0}, {\"col\": \"Again\", \"idx\": 1521925980000, \"val\": 21.0}, {\"col\": \"Beach\", \"idx\": 1521925980000, \"val\": 9.0}, {\"col\": \"Violence\", \"idx\": 1521926040000, \"val\": 11.0}, {\"col\": \"Again\", \"idx\": 1521926040000, \"val\": 25.0}, {\"col\": \"Beach\", \"idx\": 1521926040000, \"val\": 3.0}, {\"col\": \"Violence\", \"idx\": 1521926100000, \"val\": 11.0}, {\"col\": \"Again\", \"idx\": 1521926100000, \"val\": 20.0}, {\"col\": \"Beach\", \"idx\": 1521926100000, \"val\": 3.0}, {\"col\": \"Violence\", \"idx\": 1521926160000, \"val\": 19.0}, {\"col\": \"Again\", \"idx\": 1521926160000, \"val\": 18.0}, {\"col\": \"Beach\", \"idx\": 1521926160000, \"val\": 9.0}, {\"col\": \"Violence\", \"idx\": 1521926220000, \"val\": 12.0}, {\"col\": \"Again\", \"idx\": 1521926220000, \"val\": 17.0}, {\"col\": \"Beach\", \"idx\": 1521926220000, \"val\": 3.0}, {\"col\": \"Violence\", \"idx\": 1521926280000, \"val\": 19.0}, {\"col\": \"Again\", \"idx\": 1521926280000, \"val\": 16.0}, {\"col\": \"Beach\", \"idx\": 1521926280000, \"val\": 8.0}, {\"col\": \"Violence\", \"idx\": 1521926340000, \"val\": 15.0}, {\"col\": \"Again\", \"idx\": 1521926340000, \"val\": 20.0}, {\"col\": \"Beach\", \"idx\": 1521926340000, \"val\": 9.0}, {\"col\": \"Violence\", \"idx\": 1521926400000, \"val\": 21.0}, {\"col\": \"Again\", \"idx\": 1521926400000, \"val\": 22.0}, {\"col\": \"Beach\", \"idx\": 1521926400000, \"val\": 8.0}, {\"col\": \"Violence\", \"idx\": 1521926460000, \"val\": 13.0}, {\"col\": \"Again\", \"idx\": 1521926460000, \"val\": 12.0}, {\"col\": \"Beach\", \"idx\": 1521926460000, \"val\": 4.0}, {\"col\": \"Violence\", \"idx\": 1521926520000, \"val\": 16.0}, {\"col\": \"Again\", \"idx\": 1521926520000, \"val\": 19.0}, {\"col\": \"Beach\", \"idx\": 1521926520000, \"val\": 7.0}, {\"col\": \"Violence\", \"idx\": 1521926580000, \"val\": 8.0}, {\"col\": \"Again\", \"idx\": 1521926580000, \"val\": 24.0}, {\"col\": \"Beach\", \"idx\": 1521926580000, \"val\": 1.0}, {\"col\": \"Violence\", \"idx\": 1521926640000, \"val\": 17.0}, {\"col\": \"Again\", \"idx\": 1521926640000, \"val\": 22.0}, {\"col\": \"Beach\", \"idx\": 1521926640000, \"val\": 8.0}, {\"col\": \"Violence\", \"idx\": 1521926700000, \"val\": 21.0}, {\"col\": \"Again\", \"idx\": 1521926700000, \"val\": 25.0}, {\"col\": \"Beach\", \"idx\": 1521926700000, \"val\": 5.0}, {\"col\": \"Violence\", \"idx\": 1521926760000, \"val\": 15.0}, {\"col\": \"Again\", \"idx\": 1521926760000, \"val\": 19.0}, {\"col\": \"Beach\", \"idx\": 1521926760000, \"val\": 9.0}, {\"col\": \"Violence\", \"idx\": 1521926820000, \"val\": 10.0}, {\"col\": \"Again\", \"idx\": 1521926820000, \"val\": 20.0}, {\"col\": \"Beach\", \"idx\": 1521926820000, \"val\": 3.0}, {\"col\": \"Violence\", \"idx\": 1521926880000, \"val\": 19.0}, {\"col\": \"Again\", \"idx\": 1521926880000, \"val\": 19.0}, {\"col\": \"Beach\", \"idx\": 1521926880000, \"val\": 10.0}, {\"col\": \"Violence\", \"idx\": 1521926940000, \"val\": 24.0}, {\"col\": \"Again\", \"idx\": 1521926940000, \"val\": 22.0}, {\"col\": \"Beach\", \"idx\": 1521926940000, \"val\": 10.0}, {\"col\": \"Violence\", \"idx\": 1521927000000, \"val\": 16.0}, {\"col\": \"Again\", \"idx\": 1521927000000, \"val\": 20.0}, {\"col\": \"Beach\", \"idx\": 1521927000000, \"val\": 6.0}, {\"col\": \"Violence\", \"idx\": 1521927060000, \"val\": 14.0}, {\"col\": \"Again\", \"idx\": 1521927060000, \"val\": 17.0}, {\"col\": \"Beach\", \"idx\": 1521927060000, \"val\": 5.0}, {\"col\": \"Violence\", \"idx\": 1521927120000, \"val\": 14.0}, {\"col\": \"Again\", \"idx\": 1521927120000, \"val\": 12.0}, {\"col\": \"Beach\", \"idx\": 1521927120000, \"val\": 3.0}, {\"col\": \"Violence\", \"idx\": 1521927180000, \"val\": 0.0}, {\"col\": \"Again\", \"idx\": 1521927180000, \"val\": 0.0}, {\"col\": \"Beach\", \"idx\": 1521927180000, \"val\": 0.0}, {\"col\": \"Violence\", \"idx\": 1521927240000, \"val\": 0.0}, {\"col\": \"Again\", \"idx\": 1521927240000, \"val\": 0.0}, {\"col\": \"Beach\", \"idx\": 1521927240000, \"val\": 0.0}, {\"col\": \"Violence\", \"idx\": 1521927300000, \"val\": 0.0}, {\"col\": \"Again\", \"idx\": 1521927300000, \"val\": 0.0}, {\"col\": \"Beach\", \"idx\": 1521927300000, \"val\": 0.0}, {\"col\": \"Violence\", \"idx\": 1521927360000, \"val\": 0.0}, {\"col\": \"Again\", \"idx\": 1521927360000, \"val\": 0.0}, {\"col\": \"Beach\", \"idx\": 1521927360000, \"val\": 0.0}, {\"col\": \"Violence\", \"idx\": 1521927420000, \"val\": 0.0}, {\"col\": \"Again\", \"idx\": 1521927420000, \"val\": 0.0}, {\"col\": \"Beach\", \"idx\": 1521927420000, \"val\": 0.0}, {\"col\": \"Violence\", \"idx\": 1521927480000, \"val\": 0.0}, {\"col\": \"Again\", \"idx\": 1521927480000, \"val\": 0.0}, {\"col\": \"Beach\", \"idx\": 1521927480000, \"val\": 0.0}, {\"col\": \"Violence\", \"idx\": 1521927540000, \"val\": 0.0}, {\"col\": \"Again\", \"idx\": 1521927540000, \"val\": 0.0}, {\"col\": \"Beach\", \"idx\": 1521927540000, \"val\": 0.0}, {\"col\": \"Violence\", \"idx\": 1521927600000, \"val\": 0.0}, {\"col\": \"Again\", \"idx\": 1521927600000, \"val\": 0.0}, {\"col\": \"Beach\", \"idx\": 1521927600000, \"val\": 0.0}, {\"col\": \"Violence\", \"idx\": 1521927660000, \"val\": 0.0}, {\"col\": \"Again\", \"idx\": 1521927660000, \"val\": 0.0}, {\"col\": \"Beach\", \"idx\": 1521927660000, \"val\": 0.0}, {\"col\": \"Violence\", \"idx\": 1521927720000, \"val\": 15.0}, {\"col\": \"Again\", \"idx\": 1521927720000, \"val\": 14.0}, {\"col\": \"Beach\", \"idx\": 1521927720000, \"val\": 6.0}, {\"col\": \"Violence\", \"idx\": 1521927780000, \"val\": 12.0}, {\"col\": \"Again\", \"idx\": 1521927780000, \"val\": 15.0}, {\"col\": \"Beach\", \"idx\": 1521927780000, \"val\": 5.0}, {\"col\": \"Violence\", \"idx\": 1521927840000, \"val\": 23.0}, {\"col\": \"Again\", \"idx\": 1521927840000, \"val\": 16.0}, {\"col\": \"Beach\", \"idx\": 1521927840000, \"val\": 7.0}, {\"col\": \"Violence\", \"idx\": 1521927900000, \"val\": 25.0}, {\"col\": \"Again\", \"idx\": 1521927900000, \"val\": 16.0}, {\"col\": \"Beach\", \"idx\": 1521927900000, \"val\": 7.0}, {\"col\": \"Violence\", \"idx\": 1521927960000, \"val\": 18.0}, {\"col\": \"Again\", \"idx\": 1521927960000, \"val\": 27.0}, {\"col\": \"Beach\", \"idx\": 1521927960000, \"val\": 2.0}, {\"col\": \"Violence\", \"idx\": 1521928020000, \"val\": 17.0}, {\"col\": \"Again\", \"idx\": 1521928020000, \"val\": 9.0}, {\"col\": \"Beach\", \"idx\": 1521928020000, \"val\": 8.0}, {\"col\": \"Violence\", \"idx\": 1521928080000, \"val\": 22.0}, {\"col\": \"Again\", \"idx\": 1521928080000, \"val\": 21.0}, {\"col\": \"Beach\", \"idx\": 1521928080000, \"val\": 7.0}, {\"col\": \"Violence\", \"idx\": 1521928140000, \"val\": 24.0}, {\"col\": \"Again\", \"idx\": 1521928140000, \"val\": 22.0}, {\"col\": \"Beach\", \"idx\": 1521928140000, \"val\": 6.0}, {\"col\": \"Violence\", \"idx\": 1521928200000, \"val\": 20.0}, {\"col\": \"Again\", \"idx\": 1521928200000, \"val\": 22.0}, {\"col\": \"Beach\", \"idx\": 1521928200000, \"val\": 5.0}, {\"col\": \"Violence\", \"idx\": 1521928260000, \"val\": 24.0}, {\"col\": \"Again\", \"idx\": 1521928260000, \"val\": 13.0}, {\"col\": \"Beach\", \"idx\": 1521928260000, \"val\": 9.0}, {\"col\": \"Violence\", \"idx\": 1521928320000, \"val\": 25.0}, {\"col\": \"Again\", \"idx\": 1521928320000, \"val\": 21.0}, {\"col\": \"Beach\", \"idx\": 1521928320000, \"val\": 4.0}, {\"col\": \"Violence\", \"idx\": 1521928380000, \"val\": 19.0}, {\"col\": \"Again\", \"idx\": 1521928380000, \"val\": 16.0}, {\"col\": \"Beach\", \"idx\": 1521928380000, \"val\": 8.0}, {\"col\": \"Violence\", \"idx\": 1521928440000, \"val\": 20.0}, {\"col\": \"Again\", \"idx\": 1521928440000, \"val\": 9.0}, {\"col\": \"Beach\", \"idx\": 1521928440000, \"val\": 9.0}, {\"col\": \"Violence\", \"idx\": 1521928500000, \"val\": 19.0}, {\"col\": \"Again\", \"idx\": 1521928500000, \"val\": 24.0}, {\"col\": \"Beach\", \"idx\": 1521928500000, \"val\": 6.0}, {\"col\": \"Violence\", \"idx\": 1521928560000, \"val\": 30.0}, {\"col\": \"Again\", \"idx\": 1521928560000, \"val\": 31.0}, {\"col\": \"Beach\", \"idx\": 1521928560000, \"val\": 7.0}, {\"col\": \"Violence\", \"idx\": 1521928620000, \"val\": 20.0}, {\"col\": \"Again\", \"idx\": 1521928620000, \"val\": 33.0}, {\"col\": \"Beach\", \"idx\": 1521928620000, \"val\": 3.0}, {\"col\": \"Violence\", \"idx\": 1521928680000, \"val\": 39.0}, {\"col\": \"Again\", \"idx\": 1521928680000, \"val\": 31.0}, {\"col\": \"Beach\", \"idx\": 1521928680000, \"val\": 3.0}, {\"col\": \"Violence\", \"idx\": 1521928740000, \"val\": 26.0}, {\"col\": \"Again\", \"idx\": 1521928740000, \"val\": 23.0}, {\"col\": \"Beach\", \"idx\": 1521928740000, \"val\": 6.0}, {\"col\": \"Violence\", \"idx\": 1521928800000, \"val\": 19.0}, {\"col\": \"Again\", \"idx\": 1521928800000, \"val\": 24.0}, {\"col\": \"Beach\", \"idx\": 1521928800000, \"val\": 6.0}, {\"col\": \"Violence\", \"idx\": 1521928860000, \"val\": 25.0}, {\"col\": \"Again\", \"idx\": 1521928860000, \"val\": 15.0}, {\"col\": \"Beach\", \"idx\": 1521928860000, \"val\": 5.0}, {\"col\": \"Violence\", \"idx\": 1521928920000, \"val\": 20.0}, {\"col\": \"Again\", \"idx\": 1521928920000, \"val\": 27.0}, {\"col\": \"Beach\", \"idx\": 1521928920000, \"val\": 5.0}, {\"col\": \"Violence\", \"idx\": 1521928980000, \"val\": 21.0}, {\"col\": \"Again\", \"idx\": 1521928980000, \"val\": 15.0}, {\"col\": \"Beach\", \"idx\": 1521928980000, \"val\": 6.0}, {\"col\": \"Violence\", \"idx\": 1521929040000, \"val\": 16.0}, {\"col\": \"Again\", \"idx\": 1521929040000, \"val\": 18.0}, {\"col\": \"Beach\", \"idx\": 1521929040000, \"val\": 4.0}, {\"col\": \"Violence\", \"idx\": 1521929100000, \"val\": 26.0}, {\"col\": \"Again\", \"idx\": 1521929100000, \"val\": 22.0}, {\"col\": \"Beach\", \"idx\": 1521929100000, \"val\": 10.0}, {\"col\": \"Violence\", \"idx\": 1521929160000, \"val\": 18.0}, {\"col\": \"Again\", \"idx\": 1521929160000, \"val\": 12.0}, {\"col\": \"Beach\", \"idx\": 1521929160000, \"val\": 8.0}, {\"col\": \"Violence\", \"idx\": 1521929220000, \"val\": 16.0}, {\"col\": \"Again\", \"idx\": 1521929220000, \"val\": 23.0}, {\"col\": \"Beach\", \"idx\": 1521929220000, \"val\": 6.0}, {\"col\": \"Violence\", \"idx\": 1521929280000, \"val\": 21.0}, {\"col\": \"Again\", \"idx\": 1521929280000, \"val\": 15.0}, {\"col\": \"Beach\", \"idx\": 1521929280000, \"val\": 6.0}, {\"col\": \"Violence\", \"idx\": 1521929340000, \"val\": 9.0}, {\"col\": \"Again\", \"idx\": 1521929340000, \"val\": 13.0}, {\"col\": \"Beach\", \"idx\": 1521929340000, \"val\": 5.0}, {\"col\": \"Violence\", \"idx\": 1521929400000, \"val\": 13.0}, {\"col\": \"Again\", \"idx\": 1521929400000, \"val\": 20.0}, {\"col\": \"Beach\", \"idx\": 1521929400000, \"val\": 6.0}, {\"col\": \"Violence\", \"idx\": 1521929460000, \"val\": 16.0}, {\"col\": \"Again\", \"idx\": 1521929460000, \"val\": 18.0}, {\"col\": \"Beach\", \"idx\": 1521929460000, \"val\": 6.0}, {\"col\": \"Violence\", \"idx\": 1521929520000, \"val\": 14.0}, {\"col\": \"Again\", \"idx\": 1521929520000, \"val\": 22.0}, {\"col\": \"Beach\", \"idx\": 1521929520000, \"val\": 4.0}, {\"col\": \"Violence\", \"idx\": 1521929580000, \"val\": 21.0}, {\"col\": \"Again\", \"idx\": 1521929580000, \"val\": 13.0}, {\"col\": \"Beach\", \"idx\": 1521929580000, \"val\": 9.0}, {\"col\": \"Violence\", \"idx\": 1521929640000, \"val\": 15.0}, {\"col\": \"Again\", \"idx\": 1521929640000, \"val\": 12.0}, {\"col\": \"Beach\", \"idx\": 1521929640000, \"val\": 6.0}, {\"col\": \"Violence\", \"idx\": 1521929700000, \"val\": 12.0}, {\"col\": \"Again\", \"idx\": 1521929700000, \"val\": 15.0}, {\"col\": \"Beach\", \"idx\": 1521929700000, \"val\": 5.0}, {\"col\": \"Violence\", \"idx\": 1521929760000, \"val\": 14.0}, {\"col\": \"Again\", \"idx\": 1521929760000, \"val\": 15.0}, {\"col\": \"Beach\", \"idx\": 1521929760000, \"val\": 5.0}, {\"col\": \"Violence\", \"idx\": 1521929820000, \"val\": 13.0}, {\"col\": \"Again\", \"idx\": 1521929820000, \"val\": 10.0}, {\"col\": \"Beach\", \"idx\": 1521929820000, \"val\": 3.0}, {\"col\": \"Violence\", \"idx\": 1521929880000, \"val\": 8.0}, {\"col\": \"Again\", \"idx\": 1521929880000, \"val\": 16.0}, {\"col\": \"Beach\", \"idx\": 1521929880000, \"val\": 3.0}, {\"col\": \"Violence\", \"idx\": 1521929940000, \"val\": 25.0}, {\"col\": \"Again\", \"idx\": 1521929940000, \"val\": 16.0}, {\"col\": \"Beach\", \"idx\": 1521929940000, \"val\": 10.0}, {\"col\": \"Violence\", \"idx\": 1521930000000, \"val\": 28.0}, {\"col\": \"Again\", \"idx\": 1521930000000, \"val\": 16.0}, {\"col\": \"Beach\", \"idx\": 1521930000000, \"val\": 8.0}, {\"col\": \"Violence\", \"idx\": 1521930060000, \"val\": 19.0}, {\"col\": \"Again\", \"idx\": 1521930060000, \"val\": 18.0}, {\"col\": \"Beach\", \"idx\": 1521930060000, \"val\": 6.0}, {\"col\": \"Violence\", \"idx\": 1521930120000, \"val\": 18.0}, {\"col\": \"Again\", \"idx\": 1521930120000, \"val\": 16.0}, {\"col\": \"Beach\", \"idx\": 1521930120000, \"val\": 7.0}, {\"col\": \"Violence\", \"idx\": 1521930180000, \"val\": 17.0}, {\"col\": \"Again\", \"idx\": 1521930180000, \"val\": 12.0}, {\"col\": \"Beach\", \"idx\": 1521930180000, \"val\": 6.0}, {\"col\": \"Violence\", \"idx\": 1521930240000, \"val\": 11.0}, {\"col\": \"Again\", \"idx\": 1521930240000, \"val\": 19.0}, {\"col\": \"Beach\", \"idx\": 1521930240000, \"val\": 2.0}, {\"col\": \"Violence\", \"idx\": 1521930300000, \"val\": 22.0}, {\"col\": \"Again\", \"idx\": 1521930300000, \"val\": 11.0}, {\"col\": \"Beach\", \"idx\": 1521930300000, \"val\": 8.0}, {\"col\": \"Violence\", \"idx\": 1521930360000, \"val\": 18.0}, {\"col\": \"Again\", \"idx\": 1521930360000, \"val\": 26.0}, {\"col\": \"Beach\", \"idx\": 1521930360000, \"val\": 6.0}, {\"col\": \"Violence\", \"idx\": 1521930420000, \"val\": 9.0}, {\"col\": \"Again\", \"idx\": 1521930420000, \"val\": 24.0}, {\"col\": \"Beach\", \"idx\": 1521930420000, \"val\": 2.0}, {\"col\": \"Violence\", \"idx\": 1521930480000, \"val\": 14.0}, {\"col\": \"Again\", \"idx\": 1521930480000, \"val\": 19.0}, {\"col\": \"Beach\", \"idx\": 1521930480000, \"val\": 5.0}, {\"col\": \"Violence\", \"idx\": 1521930540000, \"val\": 15.0}, {\"col\": \"Again\", \"idx\": 1521930540000, \"val\": 17.0}, {\"col\": \"Beach\", \"idx\": 1521930540000, \"val\": 8.0}, {\"col\": \"Violence\", \"idx\": 1521930600000, \"val\": 18.0}, {\"col\": \"Again\", \"idx\": 1521930600000, \"val\": 16.0}, {\"col\": \"Beach\", \"idx\": 1521930600000, \"val\": 5.0}, {\"col\": \"Violence\", \"idx\": 1521930660000, \"val\": 10.0}, {\"col\": \"Again\", \"idx\": 1521930660000, \"val\": 15.0}, {\"col\": \"Beach\", \"idx\": 1521930660000, \"val\": 6.0}, {\"col\": \"Violence\", \"idx\": 1521930720000, \"val\": 13.0}, {\"col\": \"Again\", \"idx\": 1521930720000, \"val\": 17.0}, {\"col\": \"Beach\", \"idx\": 1521930720000, \"val\": 7.0}, {\"col\": \"Violence\", \"idx\": 1521930780000, \"val\": 13.0}, {\"col\": \"Again\", \"idx\": 1521930780000, \"val\": 19.0}, {\"col\": \"Beach\", \"idx\": 1521930780000, \"val\": 3.0}, {\"col\": \"Violence\", \"idx\": 1521930840000, \"val\": 13.0}, {\"col\": \"Again\", \"idx\": 1521930840000, \"val\": 18.0}, {\"col\": \"Beach\", \"idx\": 1521930840000, \"val\": 5.0}, {\"col\": \"Violence\", \"idx\": 1521930900000, \"val\": 12.0}, {\"col\": \"Again\", \"idx\": 1521930900000, \"val\": 20.0}, {\"col\": \"Beach\", \"idx\": 1521930900000, \"val\": 2.0}, {\"col\": \"Violence\", \"idx\": 1521930960000, \"val\": 9.0}, {\"col\": \"Again\", \"idx\": 1521930960000, \"val\": 23.0}, {\"col\": \"Beach\", \"idx\": 1521930960000, \"val\": 0.0}, {\"col\": \"Violence\", \"idx\": 1521931020000, \"val\": 16.0}, {\"col\": \"Again\", \"idx\": 1521931020000, \"val\": 19.0}, {\"col\": \"Beach\", \"idx\": 1521931020000, \"val\": 5.0}, {\"col\": \"Violence\", \"idx\": 1521931080000, \"val\": 14.0}, {\"col\": \"Again\", \"idx\": 1521931080000, \"val\": 13.0}, {\"col\": \"Beach\", \"idx\": 1521931080000, \"val\": 5.0}, {\"col\": \"Violence\", \"idx\": 1521931140000, \"val\": 21.0}, {\"col\": \"Again\", \"idx\": 1521931140000, \"val\": 27.0}, {\"col\": \"Beach\", \"idx\": 1521931140000, \"val\": 8.0}, {\"col\": \"Violence\", \"idx\": 1521931200000, \"val\": 20.0}, {\"col\": \"Again\", \"idx\": 1521931200000, \"val\": 17.0}, {\"col\": \"Beach\", \"idx\": 1521931200000, \"val\": 5.0}, {\"col\": \"Violence\", \"idx\": 1521931260000, \"val\": 19.0}, {\"col\": \"Again\", \"idx\": 1521931260000, \"val\": 22.0}, {\"col\": \"Beach\", \"idx\": 1521931260000, \"val\": 3.0}, {\"col\": \"Violence\", \"idx\": 1521931320000, \"val\": 14.0}, {\"col\": \"Again\", \"idx\": 1521931320000, \"val\": 16.0}, {\"col\": \"Beach\", \"idx\": 1521931320000, \"val\": 5.0}, {\"col\": \"Violence\", \"idx\": 1521931380000, \"val\": 16.0}, {\"col\": \"Again\", \"idx\": 1521931380000, \"val\": 23.0}, {\"col\": \"Beach\", \"idx\": 1521931380000, \"val\": 4.0}, {\"col\": \"Violence\", \"idx\": 1521931440000, \"val\": 13.0}, {\"col\": \"Again\", \"idx\": 1521931440000, \"val\": 25.0}, {\"col\": \"Beach\", \"idx\": 1521931440000, \"val\": 6.0}, {\"col\": \"Violence\", \"idx\": 1521931500000, \"val\": 9.0}, {\"col\": \"Again\", \"idx\": 1521931500000, \"val\": 19.0}, {\"col\": \"Beach\", \"idx\": 1521931500000, \"val\": 2.0}, {\"col\": \"Violence\", \"idx\": 1521931560000, \"val\": 12.0}, {\"col\": \"Again\", \"idx\": 1521931560000, \"val\": 18.0}, {\"col\": \"Beach\", \"idx\": 1521931560000, \"val\": 2.0}, {\"col\": \"Violence\", \"idx\": 1521931620000, \"val\": 15.0}, {\"col\": \"Again\", \"idx\": 1521931620000, \"val\": 13.0}, {\"col\": \"Beach\", \"idx\": 1521931620000, \"val\": 5.0}, {\"col\": \"Violence\", \"idx\": 1521931680000, \"val\": 14.0}, {\"col\": \"Again\", \"idx\": 1521931680000, \"val\": 25.0}, {\"col\": \"Beach\", \"idx\": 1521931680000, \"val\": 3.0}, {\"col\": \"Violence\", \"idx\": 1521931740000, \"val\": 11.0}, {\"col\": \"Again\", \"idx\": 1521931740000, \"val\": 23.0}, {\"col\": \"Beach\", \"idx\": 1521931740000, \"val\": 2.0}, {\"col\": \"Violence\", \"idx\": 1521931800000, \"val\": 15.0}, {\"col\": \"Again\", \"idx\": 1521931800000, \"val\": 19.0}, {\"col\": \"Beach\", \"idx\": 1521931800000, \"val\": 4.0}, {\"col\": \"Violence\", \"idx\": 1521931860000, \"val\": 10.0}, {\"col\": \"Again\", \"idx\": 1521931860000, \"val\": 26.0}, {\"col\": \"Beach\", \"idx\": 1521931860000, \"val\": 3.0}, {\"col\": \"Violence\", \"idx\": 1521931920000, \"val\": 15.0}, {\"col\": \"Again\", \"idx\": 1521931920000, \"val\": 10.0}, {\"col\": \"Beach\", \"idx\": 1521931920000, \"val\": 6.0}, {\"col\": \"Violence\", \"idx\": 1521931980000, \"val\": 9.0}, {\"col\": \"Again\", \"idx\": 1521931980000, \"val\": 13.0}, {\"col\": \"Beach\", \"idx\": 1521931980000, \"val\": 5.0}, {\"col\": \"Violence\", \"idx\": 1521932040000, \"val\": 2.0}, {\"col\": \"Again\", \"idx\": 1521932040000, \"val\": 2.0}, {\"col\": \"Beach\", \"idx\": 1521932040000, \"val\": 0.0}, {\"col\": \"Violence\", \"idx\": 1521932100000, \"val\": 0.0}, {\"col\": \"Again\", \"idx\": 1521932100000, \"val\": 0.0}, {\"col\": \"Beach\", \"idx\": 1521932100000, \"val\": 0.0}, {\"col\": \"Violence\", \"idx\": 1521932160000, \"val\": 0.0}, {\"col\": \"Again\", \"idx\": 1521932160000, \"val\": 0.0}, {\"col\": \"Beach\", \"idx\": 1521932160000, \"val\": 0.0}, {\"col\": \"Violence\", \"idx\": 1521932220000, \"val\": 0.0}, {\"col\": \"Again\", \"idx\": 1521932220000, \"val\": 0.0}, {\"col\": \"Beach\", \"idx\": 1521932220000, \"val\": 0.0}, {\"col\": \"Violence\", \"idx\": 1521932280000, \"val\": 0.0}, {\"col\": \"Again\", \"idx\": 1521932280000, \"val\": 0.0}, {\"col\": \"Beach\", \"idx\": 1521932280000, \"val\": 0.0}, {\"col\": \"Violence\", \"idx\": 1521932340000, \"val\": 0.0}, {\"col\": \"Again\", \"idx\": 1521932340000, \"val\": 0.0}, {\"col\": \"Beach\", \"idx\": 1521932340000, \"val\": 0.0}, {\"col\": \"Violence\", \"idx\": 1521932400000, \"val\": 0.0}, {\"col\": \"Again\", \"idx\": 1521932400000, \"val\": 0.0}, {\"col\": \"Beach\", \"idx\": 1521932400000, \"val\": 0.0}, {\"col\": \"Violence\", \"idx\": 1521932460000, \"val\": 0.0}, {\"col\": \"Again\", \"idx\": 1521932460000, \"val\": 0.0}, {\"col\": \"Beach\", \"idx\": 1521932460000, \"val\": 0.0}, {\"col\": \"Violence\", \"idx\": 1521932520000, \"val\": 0.0}, {\"col\": \"Again\", \"idx\": 1521932520000, \"val\": 0.0}, {\"col\": \"Beach\", \"idx\": 1521932520000, \"val\": 0.0}, {\"col\": \"Violence\", \"idx\": 1521932580000, \"val\": 0.0}, {\"col\": \"Again\", \"idx\": 1521932580000, \"val\": 0.0}, {\"col\": \"Beach\", \"idx\": 1521932580000, \"val\": 0.0}, {\"col\": \"Violence\", \"idx\": 1521932640000, \"val\": 0.0}, {\"col\": \"Again\", \"idx\": 1521932640000, \"val\": 0.0}, {\"col\": \"Beach\", \"idx\": 1521932640000, \"val\": 0.0}, {\"col\": \"Violence\", \"idx\": 1521932700000, \"val\": 0.0}, {\"col\": \"Again\", \"idx\": 1521932700000, \"val\": 0.0}, {\"col\": \"Beach\", \"idx\": 1521932700000, \"val\": 0.0}, {\"col\": \"Violence\", \"idx\": 1521932760000, \"val\": 0.0}, {\"col\": \"Again\", \"idx\": 1521932760000, \"val\": 0.0}, {\"col\": \"Beach\", \"idx\": 1521932760000, \"val\": 0.0}, {\"col\": \"Violence\", \"idx\": 1521932820000, \"val\": 0.0}, {\"col\": \"Again\", \"idx\": 1521932820000, \"val\": 0.0}, {\"col\": \"Beach\", \"idx\": 1521932820000, \"val\": 0.0}, {\"col\": \"Violence\", \"idx\": 1521932880000, \"val\": 0.0}, {\"col\": \"Again\", \"idx\": 1521932880000, \"val\": 0.0}, {\"col\": \"Beach\", \"idx\": 1521932880000, \"val\": 0.0}, {\"col\": \"Violence\", \"idx\": 1521932940000, \"val\": 0.0}, {\"col\": \"Again\", \"idx\": 1521932940000, \"val\": 0.0}, {\"col\": \"Beach\", \"idx\": 1521932940000, \"val\": 0.0}, {\"col\": \"Violence\", \"idx\": 1521933000000, \"val\": 0.0}, {\"col\": \"Again\", \"idx\": 1521933000000, \"val\": 0.0}, {\"col\": \"Beach\", \"idx\": 1521933000000, \"val\": 0.0}, {\"col\": \"Violence\", \"idx\": 1521933060000, \"val\": 0.0}, {\"col\": \"Again\", \"idx\": 1521933060000, \"val\": 0.0}, {\"col\": \"Beach\", \"idx\": 1521933060000, \"val\": 0.0}, {\"col\": \"Violence\", \"idx\": 1521933120000, \"val\": 0.0}, {\"col\": \"Again\", \"idx\": 1521933120000, \"val\": 0.0}, {\"col\": \"Beach\", \"idx\": 1521933120000, \"val\": 0.0}, {\"col\": \"Violence\", \"idx\": 1521933180000, \"val\": 0.0}, {\"col\": \"Again\", \"idx\": 1521933180000, \"val\": 0.0}, {\"col\": \"Beach\", \"idx\": 1521933180000, \"val\": 0.0}, {\"col\": \"Violence\", \"idx\": 1521933240000, \"val\": 0.0}, {\"col\": \"Again\", \"idx\": 1521933240000, \"val\": 0.0}, {\"col\": \"Beach\", \"idx\": 1521933240000, \"val\": 0.0}, {\"col\": \"Violence\", \"idx\": 1521933300000, \"val\": 0.0}, {\"col\": \"Again\", \"idx\": 1521933300000, \"val\": 0.0}, {\"col\": \"Beach\", \"idx\": 1521933300000, \"val\": 0.0}, {\"col\": \"Violence\", \"idx\": 1521933360000, \"val\": 0.0}, {\"col\": \"Again\", \"idx\": 1521933360000, \"val\": 0.0}, {\"col\": \"Beach\", \"idx\": 1521933360000, \"val\": 0.0}, {\"col\": \"Violence\", \"idx\": 1521933420000, \"val\": 0.0}, {\"col\": \"Again\", \"idx\": 1521933420000, \"val\": 0.0}, {\"col\": \"Beach\", \"idx\": 1521933420000, \"val\": 0.0}, {\"col\": \"Violence\", \"idx\": 1521933480000, \"val\": 0.0}, {\"col\": \"Again\", \"idx\": 1521933480000, \"val\": 0.0}, {\"col\": \"Beach\", \"idx\": 1521933480000, \"val\": 0.0}, {\"col\": \"Violence\", \"idx\": 1521933540000, \"val\": 0.0}, {\"col\": \"Again\", \"idx\": 1521933540000, \"val\": 0.0}, {\"col\": \"Beach\", \"idx\": 1521933540000, \"val\": 0.0}, {\"col\": \"Violence\", \"idx\": 1521933600000, \"val\": 8.0}, {\"col\": \"Again\", \"idx\": 1521933600000, \"val\": 14.0}, {\"col\": \"Beach\", \"idx\": 1521933600000, \"val\": 4.0}, {\"col\": \"Violence\", \"idx\": 1521933660000, \"val\": 20.0}, {\"col\": \"Again\", \"idx\": 1521933660000, \"val\": 25.0}, {\"col\": \"Beach\", \"idx\": 1521933660000, \"val\": 13.0}, {\"col\": \"Violence\", \"idx\": 1521933720000, \"val\": 7.0}, {\"col\": \"Again\", \"idx\": 1521933720000, \"val\": 9.0}, {\"col\": \"Beach\", \"idx\": 1521933720000, \"val\": 1.0}, {\"col\": \"Violence\", \"idx\": 1521933780000, \"val\": 7.0}, {\"col\": \"Again\", \"idx\": 1521933780000, \"val\": 15.0}, {\"col\": \"Beach\", \"idx\": 1521933780000, \"val\": 0.0}, {\"col\": \"Violence\", \"idx\": 1521933840000, \"val\": 8.0}, {\"col\": \"Again\", \"idx\": 1521933840000, \"val\": 21.0}, {\"col\": \"Beach\", \"idx\": 1521933840000, \"val\": 5.0}, {\"col\": \"Violence\", \"idx\": 1521933900000, \"val\": 11.0}, {\"col\": \"Again\", \"idx\": 1521933900000, \"val\": 20.0}, {\"col\": \"Beach\", \"idx\": 1521933900000, \"val\": 3.0}, {\"col\": \"Violence\", \"idx\": 1521933960000, \"val\": 15.0}, {\"col\": \"Again\", \"idx\": 1521933960000, \"val\": 14.0}, {\"col\": \"Beach\", \"idx\": 1521933960000, \"val\": 8.0}, {\"col\": \"Violence\", \"idx\": 1521934020000, \"val\": 7.0}, {\"col\": \"Again\", \"idx\": 1521934020000, \"val\": 15.0}, {\"col\": \"Beach\", \"idx\": 1521934020000, \"val\": 2.0}, {\"col\": \"Violence\", \"idx\": 1521934080000, \"val\": 19.0}, {\"col\": \"Again\", \"idx\": 1521934080000, \"val\": 17.0}, {\"col\": \"Beach\", \"idx\": 1521934080000, \"val\": 9.0}, {\"col\": \"Violence\", \"idx\": 1521934140000, \"val\": 13.0}, {\"col\": \"Again\", \"idx\": 1521934140000, \"val\": 23.0}, {\"col\": \"Beach\", \"idx\": 1521934140000, \"val\": 3.0}, {\"col\": \"Violence\", \"idx\": 1521934200000, \"val\": 7.0}, {\"col\": \"Again\", \"idx\": 1521934200000, \"val\": 16.0}, {\"col\": \"Beach\", \"idx\": 1521934200000, \"val\": 3.0}, {\"col\": \"Violence\", \"idx\": 1521934260000, \"val\": 4.0}, {\"col\": \"Again\", \"idx\": 1521934260000, \"val\": 11.0}, {\"col\": \"Beach\", \"idx\": 1521934260000, \"val\": 2.0}, {\"col\": \"Violence\", \"idx\": 1521934320000, \"val\": 9.0}, {\"col\": \"Again\", \"idx\": 1521934320000, \"val\": 15.0}, {\"col\": \"Beach\", \"idx\": 1521934320000, \"val\": 3.0}, {\"col\": \"Violence\", \"idx\": 1521934380000, \"val\": 12.0}, {\"col\": \"Again\", \"idx\": 1521934380000, \"val\": 29.0}, {\"col\": \"Beach\", \"idx\": 1521934380000, \"val\": 4.0}, {\"col\": \"Violence\", \"idx\": 1521934440000, \"val\": 10.0}, {\"col\": \"Again\", \"idx\": 1521934440000, \"val\": 29.0}, {\"col\": \"Beach\", \"idx\": 1521934440000, \"val\": 3.0}, {\"col\": \"Violence\", \"idx\": 1521934500000, \"val\": 9.0}, {\"col\": \"Again\", \"idx\": 1521934500000, \"val\": 15.0}, {\"col\": \"Beach\", \"idx\": 1521934500000, \"val\": 3.0}, {\"col\": \"Violence\", \"idx\": 1521934560000, \"val\": 7.0}, {\"col\": \"Again\", \"idx\": 1521934560000, \"val\": 23.0}, {\"col\": \"Beach\", \"idx\": 1521934560000, \"val\": 5.0}, {\"col\": \"Violence\", \"idx\": 1521934620000, \"val\": 15.0}, {\"col\": \"Again\", \"idx\": 1521934620000, \"val\": 27.0}, {\"col\": \"Beach\", \"idx\": 1521934620000, \"val\": 6.0}, {\"col\": \"Violence\", \"idx\": 1521934680000, \"val\": 10.0}, {\"col\": \"Again\", \"idx\": 1521934680000, \"val\": 25.0}, {\"col\": \"Beach\", \"idx\": 1521934680000, \"val\": 3.0}, {\"col\": \"Violence\", \"idx\": 1521934740000, \"val\": 8.0}, {\"col\": \"Again\", \"idx\": 1521934740000, \"val\": 24.0}, {\"col\": \"Beach\", \"idx\": 1521934740000, \"val\": 2.0}, {\"col\": \"Violence\", \"idx\": 1521934800000, \"val\": 12.0}, {\"col\": \"Again\", \"idx\": 1521934800000, \"val\": 19.0}, {\"col\": \"Beach\", \"idx\": 1521934800000, \"val\": 4.0}, {\"col\": \"Violence\", \"idx\": 1521934860000, \"val\": 17.0}, {\"col\": \"Again\", \"idx\": 1521934860000, \"val\": 17.0}, {\"col\": \"Beach\", \"idx\": 1521934860000, \"val\": 7.0}, {\"col\": \"Violence\", \"idx\": 1521934920000, \"val\": 17.0}, {\"col\": \"Again\", \"idx\": 1521934920000, \"val\": 24.0}, {\"col\": \"Beach\", \"idx\": 1521934920000, \"val\": 4.0}, {\"col\": \"Violence\", \"idx\": 1521934980000, \"val\": 8.0}, {\"col\": \"Again\", \"idx\": 1521934980000, \"val\": 18.0}, {\"col\": \"Beach\", \"idx\": 1521934980000, \"val\": 4.0}, {\"col\": \"Violence\", \"idx\": 1521935040000, \"val\": 11.0}, {\"col\": \"Again\", \"idx\": 1521935040000, \"val\": 30.0}, {\"col\": \"Beach\", \"idx\": 1521935040000, \"val\": 3.0}, {\"col\": \"Violence\", \"idx\": 1521935100000, \"val\": 16.0}, {\"col\": \"Again\", \"idx\": 1521935100000, \"val\": 12.0}, {\"col\": \"Beach\", \"idx\": 1521935100000, \"val\": 6.0}, {\"col\": \"Violence\", \"idx\": 1521935160000, \"val\": 11.0}, {\"col\": \"Again\", \"idx\": 1521935160000, \"val\": 19.0}, {\"col\": \"Beach\", \"idx\": 1521935160000, \"val\": 3.0}, {\"col\": \"Violence\", \"idx\": 1521935220000, \"val\": 13.0}, {\"col\": \"Again\", \"idx\": 1521935220000, \"val\": 20.0}, {\"col\": \"Beach\", \"idx\": 1521935220000, \"val\": 4.0}, {\"col\": \"Violence\", \"idx\": 1521935280000, \"val\": 4.0}, {\"col\": \"Again\", \"idx\": 1521935280000, \"val\": 15.0}, {\"col\": \"Beach\", \"idx\": 1521935280000, \"val\": 0.0}, {\"col\": \"Violence\", \"idx\": 1521935340000, \"val\": 9.0}, {\"col\": \"Again\", \"idx\": 1521935340000, \"val\": 17.0}, {\"col\": \"Beach\", \"idx\": 1521935340000, \"val\": 0.0}, {\"col\": \"Violence\", \"idx\": 1521935400000, \"val\": 14.0}, {\"col\": \"Again\", \"idx\": 1521935400000, \"val\": 12.0}, {\"col\": \"Beach\", \"idx\": 1521935400000, \"val\": 3.0}, {\"col\": \"Violence\", \"idx\": 1521935460000, \"val\": 9.0}, {\"col\": \"Again\", \"idx\": 1521935460000, \"val\": 18.0}, {\"col\": \"Beach\", \"idx\": 1521935460000, \"val\": 2.0}, {\"col\": \"Violence\", \"idx\": 1521935520000, \"val\": 12.0}, {\"col\": \"Again\", \"idx\": 1521935520000, \"val\": 16.0}, {\"col\": \"Beach\", \"idx\": 1521935520000, \"val\": 6.0}, {\"col\": \"Violence\", \"idx\": 1521935580000, \"val\": 11.0}, {\"col\": \"Again\", \"idx\": 1521935580000, \"val\": 14.0}, {\"col\": \"Beach\", \"idx\": 1521935580000, \"val\": 5.0}, {\"col\": \"Violence\", \"idx\": 1521935640000, \"val\": 21.0}, {\"col\": \"Again\", \"idx\": 1521935640000, \"val\": 15.0}, {\"col\": \"Beach\", \"idx\": 1521935640000, \"val\": 8.0}, {\"col\": \"Violence\", \"idx\": 1521935700000, \"val\": 11.0}, {\"col\": \"Again\", \"idx\": 1521935700000, \"val\": 10.0}, {\"col\": \"Beach\", \"idx\": 1521935700000, \"val\": 5.0}]}], \"height\": 500, \"legends\": [{\"fill\": \"color\", \"offset\": 0, \"properties\": {}, \"title\": \"Top 4 to 6 Most popular hashtags\"}], \"marks\": [{\"from\": {\"data\": \"table\", \"transform\": [{\"keys\": [\"data.col\"], \"type\": \"facet\"}]}, \"marks\": [{\"properties\": {\"enter\": {\"stroke\": {\"field\": \"data.col\", \"scale\": \"color\"}, \"strokeWidth\": {\"value\": 2}, \"x\": {\"field\": \"data.idx\", \"scale\": \"x\"}, \"y\": {\"field\": \"data.val\", \"scale\": \"y\"}}}, \"type\": \"line\"}], \"type\": \"group\"}], \"padding\": \"auto\", \"scales\": [{\"domain\": {\"data\": \"table\", \"field\": \"data.idx\"}, \"name\": \"x\", \"range\": \"width\", \"type\": \"time\"}, {\"domain\": {\"data\": \"table\", \"field\": \"data.val\"}, \"name\": \"y\", \"nice\": true, \"range\": \"height\"}, {\"domain\": {\"data\": \"table\", \"field\": \"data.col\"}, \"name\": \"color\", \"range\": \"category20\", \"type\": \"ordinal\"}], \"width\": 960}, function(chart) {\n",
       "         chart({el: \"#vise219341e94844094b0fc918fa5e853a2\"}).update();\n",
       "       });\n",
       "     };\n",
       "     _do_plot();\n",
       "   })();\n",
       "</script>\n",
       "<style>.vega canvas {width: 100%;}</style>\n",
       "        "
      ],
      "text/plain": [
       "<IPython.core.display.HTML object>"
      ]
     },
     "metadata": {},
     "output_type": "display_data"
    }
   ],
   "source": [
    "#Visualize and comparing the frequencies of the next 3 of the most popular hashtags during the data collection time\n",
    "time_chart_next3 = vincent.Line(all_matches[['Violence', 'Again', 'Beach']])\n",
    "time_chart_next3.axis_titles(x='Time', y='Freq')\n",
    "time_chart_next3.legend(title='Top 4 to 6 Most popular hashtags')\n",
    "time_chart_next3.display()"
   ]
  },
  {
   "cell_type": "code",
   "execution_count": 44,
   "metadata": {},
   "outputs": [
    {
     "name": "stderr",
     "output_type": "stream",
     "text": [
      "/Users/satokosuda/anaconda3/envs/twitter/lib/python3.6/site-packages/ipykernel/__main__.py:2: UserWarning: Boolean Series key will be reindexed to match DataFrame index.\n",
      "  from ipykernel import kernelapp as app\n"
     ]
    }
   ],
   "source": [
    "# Analyze number of tweets by geographic locations. Within USA, broken down by states\n",
    "df5 = df4[(df['time_zone']=='Pacific Time (US & Canada)')|(df['time_zone']=='Eastern Time (US & Canada)')|(df['time_zone']=='Central Time (US & Canada)')|(df['time_zone']=='Mountain Time (US & Canada)')]"
   ]
  },
  {
   "cell_type": "code",
   "execution_count": 45,
   "metadata": {},
   "outputs": [
    {
     "name": "stderr",
     "output_type": "stream",
     "text": [
      "/Users/satokosuda/anaconda3/envs/twitter/lib/python3.6/site-packages/pandas/core/indexing.py:357: SettingWithCopyWarning: \n",
      "A value is trying to be set on a copy of a slice from a DataFrame.\n",
      "Try using .loc[row_indexer,col_indexer] = value instead\n",
      "\n",
      "See the caveats in the documentation: http://pandas.pydata.org/pandas-docs/stable/indexing.html#indexing-view-versus-copy\n",
      "  self.obj[key] = _infer_fill_value(value)\n",
      "/Users/satokosuda/anaconda3/envs/twitter/lib/python3.6/site-packages/pandas/core/indexing.py:537: SettingWithCopyWarning: \n",
      "A value is trying to be set on a copy of a slice from a DataFrame.\n",
      "Try using .loc[row_indexer,col_indexer] = value instead\n",
      "\n",
      "See the caveats in the documentation: http://pandas.pydata.org/pandas-docs/stable/indexing.html#indexing-view-versus-copy\n",
      "  self.obj[item] = s\n"
     ]
    }
   ],
   "source": [
    "df5.loc[:,'processed_location'] = df5.loc[:,'location'].apply(lambda x: emoji_pattern.sub(r'', x))\n",
    "hashtag = re.compile(r'(?:\\#+[\\w_]+[\\w\\'_\\-]*[\\w_]+)')\n",
    "number = re.compile(r'(?:(?:\\d+,?)+(?:\\.?\\d+)?)')\n",
    "\n",
    "df5.loc[:,'processed_location2'] = df5.loc[:,'processed_location'].apply(lambda x: hashtag.sub(r'', x))\n",
    "df5.loc[:,'processed_location3'] = df5.loc[:, 'processed_location2'].apply(lambda x: number.sub(r'', x))\n",
    "df5 = df5.drop(['processed_location2', 'processed_location'], axis=1)"
   ]
  },
  {
   "cell_type": "code",
   "execution_count": 46,
   "metadata": {},
   "outputs": [],
   "source": [
    "def pattern(text):\n",
    "    x = re.compile(r'[\\w\\s]+[\\s]?[\\w]+, ([A-Z][A-Z]+)')\n",
    "    match = x.search(text)   #return match object\n",
    "    if match != None:\n",
    "        return match.group(1)\n",
    "    else:\n",
    "        pass"
   ]
  },
  {
   "cell_type": "code",
   "execution_count": 47,
   "metadata": {},
   "outputs": [],
   "source": [
    "df5['clean_states'] = df5['processed_location3'].apply(lambda text: pattern(text))"
   ]
  },
  {
   "cell_type": "code",
   "execution_count": 48,
   "metadata": {},
   "outputs": [],
   "source": [
    "def pattern2(text):\n",
    "    x = re.compile(r'([\\w\\s]+[\\s]?[\\w]+), US[A]?|[\\w]+,(Texas), EE.UU.|[\\w\\s]+[\\w]+,(Florida)|(NH)\\s USA|Cape\\s Cod,(Ma)|Hastings,\\s(NE)B|(NY),way|Athens,\\s(Georgia)')\n",
    "    match = x.search(text)\n",
    "    if match != None:\n",
    "        return match.group(1)\n",
    "    else:\n",
    "        pass"
   ]
  },
  {
   "cell_type": "code",
   "execution_count": 49,
   "metadata": {},
   "outputs": [],
   "source": [
    "df5['clean_states2'] = df5['processed_location3'].apply(lambda text : pattern2(text))"
   ]
  },
  {
   "cell_type": "code",
   "execution_count": 50,
   "metadata": {},
   "outputs": [],
   "source": [
    "#df5['clean_states'].to_csv('name2.csv')\n",
    "#df5['clean_states2'].to_csv('name4.csv')"
   ]
  },
  {
   "cell_type": "code",
   "execution_count": 62,
   "metadata": {},
   "outputs": [],
   "source": [
    "d = {'Alabama':'AL', 'Alaska':'AK', 'Arizona':'AZ','Arkansas':'AR', 'California':'CA', 'Colorado':'CO', 'Connecticut':'CT', 'Delaware':'DE', 'Florida':'FL', 'Georgia':'GA', 'Hawaii':'HI', 'Idaho':'ID', 'Illinois':'IL', 'Indiana':'IN', 'Iowa':'IA', 'Kansas':'KS', 'Kentucky':'KY', 'Louisiana':'LA', 'Maine':'ME', 'Maryland':'MD', 'Massachusetts':'MA', 'Michigan':'MI', 'Minnesota':'MN', 'Mississippi':'MS', 'Missouri':'MO', 'Montana':'MT', 'Nebraska':'NE', 'Nevada':'NV', 'New Hampshire':'NH', 'New Jersey':'NJ', 'New Mexico':'NM', 'New York':'NY', 'North Carolina':'NC', 'North Dakota':'ND', 'Ohio':'OH', 'Oklahoma':'OK', 'Oregon':'OR', 'Pennsylvania':'PA', 'Rhode Island':'RI', 'South Carolina':'SC', 'Tennessee':'TN', 'Texas':'TX', 'Utah':'UT', 'Vermont':'VT', 'Virginia':'VA', 'Washington':'WA', 'West Virginia':'WV', 'Wisconsin':'WI', 'Wyoming':'WY', 'American Samoa':'AS', 'District of Columbia':'DC', 'Federated States of Micronesia':'FM', 'Guam':'GU', 'Marshall Islands':'MH', 'Northern Mariana Islands':'MP', 'Palau':'PW', 'Puerto Rico':'PR', 'Virgin Islands':'VI'}\n",
    "df5['clean_states2'] = df5['clean_states2'].str.strip()\n",
    "df5['clean_states2'] = df5['clean_states2'].replace(d)     "
   ]
  },
  {
   "cell_type": "code",
   "execution_count": 63,
   "metadata": {},
   "outputs": [],
   "source": [
    "df5['clean_states2']=df5['clean_states2'].replace(to_replace=[r'[\\w]+\\sNew\\sYork', r'DC\\s[\\w\\s]+', r'[\\w]+\\sKentucky', r'[\\w]+\\sWisconsin', r'[\\w]+\\sTexas', r'[\\w]+\\sCalifornia', r'[\\w]+\\sFlorida',r'[\\w]+\\sSC',r'[\\w]+\\sMichigan',r'[\\w]+\\sIndiana',r'[\\w\\s]+\\sNew\\sJersey',r'[\\w]+\\sWashington\\sState',r'Virginia\\sand\\sFlorida',r'[\\w\\s]*Jersey\\sShore'], value=['NY','DC','KY','WI','TX','CA','FL','SC','MI','IN','NJ','WA','FL','NJ'], regex=True)\n",
    "df5['clean_states2']=df5['clean_states2'].replace(to_replace =['TEXAS','Northern Virginia','Nueva York','ARIZONA','Tenn','South Dakota'], value=['TX','VA','NY','AZ','TN','CA','SD'])\n",
    "df5['clean_states2']=df5['clean_states2'].replace(to_replace =['Boston','Albuquerque','Dallas','Seattle','Philly','Brooklyn','Phoenix'], value=['MA','NM','TX','WA','PA','NY','AZ'])\n",
    "df5['clean_states2']=df5['clean_states2'].replace(to_replace =['West Coast','Southeast','New England','Midwest','Left Coast','Canada'], value=['','','','','',''])"
   ]
  },
  {
   "cell_type": "code",
   "execution_count": 64,
   "metadata": {},
   "outputs": [],
   "source": [
    "df5['states'] = np.where(df5['clean_states'] !=\"USA\", df5['clean_states'], df5['clean_states2'])\n",
    "df5['states']=df5['states'].replace(to_replace =['CALIFORNIA','EE','GODS','NOT','NEB','OHIO','TEXAS'], value=['CA','TX','NH','NY','NE','OH','TX'])"
   ]
  },
  {
   "cell_type": "code",
   "execution_count": 65,
   "metadata": {},
   "outputs": [],
   "source": [
    "df5.to_csv('text.csv')"
   ]
  },
  {
   "cell_type": "code",
   "execution_count": null,
   "metadata": {},
   "outputs": [],
   "source": []
  },
  {
   "cell_type": "code",
   "execution_count": null,
   "metadata": {},
   "outputs": [],
   "source": []
  }
 ],
 "metadata": {
  "kernelspec": {
   "display_name": "Python [default]",
   "language": "python",
   "name": "python3"
  },
  "language_info": {
   "codemirror_mode": {
    "name": "ipython",
    "version": 3
   },
   "file_extension": ".py",
   "mimetype": "text/x-python",
   "name": "python",
   "nbconvert_exporter": "python",
   "pygments_lexer": "ipython3",
   "version": "3.6.4"
  }
 },
 "nbformat": 4,
 "nbformat_minor": 2
}
