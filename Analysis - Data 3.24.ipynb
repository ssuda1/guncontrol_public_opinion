{
 "cells": [
  {
   "cell_type": "code",
   "execution_count": 1,
   "metadata": {},
   "outputs": [],
   "source": [
    "import re\n",
    "import json\n",
    "import pandas as pd\n",
    "import matplotlib.pyplot as plt\n",
    "%matplotlib notebook\n",
    "import numpy as np\n",
    "\n",
    "#create the list of dictinary formatted strings by extracting data item\n",
    "#from twitter API scrape\n",
    "#files = ['twtgun3.24.1.txt', 'twtgun3.24.2.txt','twtgun3.24.3.txt', 'twtgun3.24.4.txt']\n",
    "\n",
    "group = []\n",
    "for i in range(1,11):\n",
    "   \n",
    "    with open('twtgun3.24.' + str(i) + '.txt') as fhand:\n",
    "        for item in fhand:\n",
    "            dic = {}\n",
    "            x = re.findall(\"^{'created_at': \\'(.*?)\\'\", item)\n",
    "            if len(x) > 0:\n",
    "                dic[\"created_at\"] = str(x[0])\n",
    "            else:\n",
    "                dic[\"created_at\"] = None\n",
    "            y = re.findall(\"{'full_text': \\'(.*?)\\'\", item)\n",
    "            if len(y) > 0:\n",
    "                dic[\"full_text\"] = str(y[0])\n",
    "            else:\n",
    "                dic[\"full_text\"] = None\n",
    "            z = re.findall(\" 'text': \\'(.*?)\\'\", item)\n",
    "            if len(z) > 0:\n",
    "                dic[\"text\"] = str(z[0])\n",
    "            else:\n",
    "                dic[\"text\"] = None\n",
    "            a = re.findall(\"\\'location\\': \\'(.*?)\\'\", item)\n",
    "            if len(a) > 0:\n",
    "                dic[\"location\"] = str(a[0])\n",
    "            else:\n",
    "                dic[\"location\"] = None\n",
    "            b = re.findall(\"\\'time_zone\\': \\'(.*?)\\'\", item)\n",
    "            if len(b) > 0:\n",
    "                dic[\"time_zone\"] = str(b[0])\n",
    "            else:\n",
    "                dic[\"time_zone\"] = None\n",
    "            group.append(dic)\n",
    "\n",
    "    fhand.close()\n",
    "\n",
    "#convert the list into json object\n",
    "\n",
    "with open('data.json', 'w') as fp:\n",
    "    json.dump(group, fp)\n",
    "\n",
    "# convert json file into pandas DataFrame\n",
    "df = pd.read_json('data.json')"
   ]
  },
  {
   "cell_type": "code",
   "execution_count": 2,
   "metadata": {},
   "outputs": [
    {
     "data": {
      "text/html": [
       "<div>\n",
       "<style scoped>\n",
       "    .dataframe tbody tr th:only-of-type {\n",
       "        vertical-align: middle;\n",
       "    }\n",
       "\n",
       "    .dataframe tbody tr th {\n",
       "        vertical-align: top;\n",
       "    }\n",
       "\n",
       "    .dataframe thead th {\n",
       "        text-align: right;\n",
       "    }\n",
       "</style>\n",
       "<table border=\"1\" class=\"dataframe\">\n",
       "  <thead>\n",
       "    <tr style=\"text-align: right;\">\n",
       "      <th></th>\n",
       "      <th>created_at</th>\n",
       "      <th>full_text</th>\n",
       "      <th>location</th>\n",
       "      <th>text</th>\n",
       "      <th>time_zone</th>\n",
       "    </tr>\n",
       "  </thead>\n",
       "  <tbody>\n",
       "    <tr>\n",
       "      <th>17675</th>\n",
       "      <td>2018-03-24 21:29:00</td>\n",
       "      <td>\"One of my best friends was killed in gun viol...</td>\n",
       "      <td>Tucson, Az.</td>\n",
       "      <td>RT @SilverAdie: \"One of my best friends was ki...</td>\n",
       "      <td>Pacific Time (US &amp; Canada)</td>\n",
       "    </tr>\n",
       "    <tr>\n",
       "      <th>7226</th>\n",
       "      <td>2018-03-24 20:34:41</td>\n",
       "      <td>Today and every day, listen to young people. #...</td>\n",
       "      <td>None</td>\n",
       "      <td>RT @ladygaga: Today and every day, listen to y...</td>\n",
       "      <td>Quito</td>\n",
       "    </tr>\n",
       "    <tr>\n",
       "      <th>3092</th>\n",
       "      <td>2018-03-24 20:12:11</td>\n",
       "      <td>None</td>\n",
       "      <td>Boston, MA</td>\n",
       "      <td>RT @DENewman: Thanks @joekennedy for leading t...</td>\n",
       "      <td>Eastern Time (US &amp; Canada)</td>\n",
       "    </tr>\n",
       "    <tr>\n",
       "      <th>16185</th>\n",
       "      <td>2018-03-24 21:19:57</td>\n",
       "      <td>None</td>\n",
       "      <td>None</td>\n",
       "      <td>RT @fritchee: #guncontrol https://t.co/iBWf7JXPWB</td>\n",
       "      <td>None</td>\n",
       "    </tr>\n",
       "    <tr>\n",
       "      <th>9249</th>\n",
       "      <td>2018-03-24 20:42:01</td>\n",
       "      <td>Today was a day of hope and inspiration to con...</td>\n",
       "      <td>La Crosse, WI</td>\n",
       "      <td>RT @kruegermt: Today was a day of hope and ins...</td>\n",
       "      <td>Central Time (US &amp; Canada)</td>\n",
       "    </tr>\n",
       "  </tbody>\n",
       "</table>\n",
       "</div>"
      ],
      "text/plain": [
       "               created_at                                          full_text  \\\n",
       "17675 2018-03-24 21:29:00  \"One of my best friends was killed in gun viol...   \n",
       "7226  2018-03-24 20:34:41  Today and every day, listen to young people. #...   \n",
       "3092  2018-03-24 20:12:11                                               None   \n",
       "16185 2018-03-24 21:19:57                                               None   \n",
       "9249  2018-03-24 20:42:01  Today was a day of hope and inspiration to con...   \n",
       "\n",
       "            location                                               text  \\\n",
       "17675    Tucson, Az.  RT @SilverAdie: \"One of my best friends was ki...   \n",
       "7226            None  RT @ladygaga: Today and every day, listen to y...   \n",
       "3092      Boston, MA  RT @DENewman: Thanks @joekennedy for leading t...   \n",
       "16185           None  RT @fritchee: #guncontrol https://t.co/iBWf7JXPWB   \n",
       "9249   La Crosse, WI  RT @kruegermt: Today was a day of hope and ins...   \n",
       "\n",
       "                        time_zone  \n",
       "17675  Pacific Time (US & Canada)  \n",
       "7226                        Quito  \n",
       "3092   Eastern Time (US & Canada)  \n",
       "16185                        None  \n",
       "9249   Central Time (US & Canada)  "
      ]
     },
     "execution_count": 2,
     "metadata": {},
     "output_type": "execute_result"
    }
   ],
   "source": [
    "df.sample(5)  # To check the data"
   ]
  },
  {
   "cell_type": "code",
   "execution_count": 3,
   "metadata": {},
   "outputs": [],
   "source": [
    "df2 = df.reindex(columns = ['created_at','location','time_zone','text','full_text'])\n",
    "pd.options.display.max_rows=10"
   ]
  },
  {
   "cell_type": "code",
   "execution_count": 4,
   "metadata": {},
   "outputs": [],
   "source": [
    "df2['text'] = df2['text'].replace(r'\\\\n', '', regex=True).str.lower()\n",
    "df2['text'] = df2['text'].str.strip()\n",
    "df2['full_text'] = df2['full_text'].replace(r'\\\\n', '', regex=True).str.lower()\n",
    "df2['full_text'] = df2['full_text'].str.strip()"
   ]
  },
  {
   "cell_type": "code",
   "execution_count": 5,
   "metadata": {},
   "outputs": [
    {
     "name": "stdout",
     "output_type": "stream",
     "text": [
      "           created_at                location                   time_zone  \\\n",
      "0                 NaT                     CNY                        None   \n",
      "1 2018-03-24 17:23:06  Bearvana, #OpFuckBaba   Pacific Time (US & Canada)   \n",
      "2 2018-03-24 17:23:06     South West, England                        None   \n",
      "3 2018-03-24 17:23:07                    None                        None   \n",
      "4 2018-03-24 17:23:08            Arizona, USA  Pacific Time (US & Canada)   \n",
      "\n",
      "                                                text  \\\n",
      "0                #guncontrol https://t.co/oc8a0uwgco   \n",
      "1       rt @redpainter1: hey @dloeschhear that? that   \n",
      "2                                                      \n",
      "3  rt @we_patriot: here it is in black and white-...   \n",
      "4  rt @madriannorman: #marchforourlives #2ndamend...   \n",
      "\n",
      "                                           full_text  \n",
      "0                                               None  \n",
      "1                        hey @dloeschhear that? that  \n",
      "2                                               None  \n",
      "3  here it is in black and white-the truth! @potu...  \n",
      "4                                               None  \n"
     ]
    }
   ],
   "source": [
    "print(df2.head())    # To check the data"
   ]
  },
  {
   "cell_type": "code",
   "execution_count": 6,
   "metadata": {},
   "outputs": [],
   "source": [
    "#df2['full_text'].str.findall('\\\\n') just to make sure no data will be found"
   ]
  },
  {
   "cell_type": "code",
   "execution_count": 7,
   "metadata": {},
   "outputs": [],
   "source": [
    "#make copy of df2 and name it df3\n",
    "df3 = df2"
   ]
  },
  {
   "cell_type": "code",
   "execution_count": 8,
   "metadata": {},
   "outputs": [],
   "source": [
    "#Take 'full_text' when available, otherwise take 'text'\n",
    "df3['tweet'] = df3['full_text'].where(pd.notna(df3['full_text']), other = df3['text'])\n",
    "#Use time_zone for proxy of location when location data is missing\n",
    "df3['location_'] = df3['location'].where(pd.notna(df3['location']), other = df3['time_zone'])"
   ]
  },
  {
   "cell_type": "code",
   "execution_count": 9,
   "metadata": {},
   "outputs": [
    {
     "data": {
      "text/plain": [
       "3546"
      ]
     },
     "execution_count": 9,
     "metadata": {},
     "output_type": "execute_result"
    }
   ],
   "source": [
    "pd.isna(df3['tweet']).sum()  # Check how many 'tweet' observations are missing"
   ]
  },
  {
   "cell_type": "code",
   "execution_count": 10,
   "metadata": {},
   "outputs": [],
   "source": [
    "#drop columns 'text' & 'full_text', 'location' & 'time_zone'\n",
    "df3 = df3.drop(['text', 'full_text', 'location', 'time_zone'], axis=1)\n",
    "#rename 'location_' column to 'location' then reindex dataframe \n",
    "df3.rename(columns = {'location_':'location'}, inplace = True)\n",
    "df3.reindex(columns = ['created_at','location','tweet'])\n",
    "\n",
    "#drop rows where all columns are NaN\n",
    "df3 = df3.dropna(how='all')"
   ]
  },
  {
   "cell_type": "code",
   "execution_count": 11,
   "metadata": {},
   "outputs": [],
   "source": [
    "#Extract hashtag from 'tweet' and create a new cloumn 'hashtag'\n",
    "df3['hashtag'] = df3['tweet'].str.findall(r'#.*?\\s')  # .findall returns list which causes issues later"
   ]
  },
  {
   "cell_type": "code",
   "execution_count": 12,
   "metadata": {},
   "outputs": [
    {
     "name": "stdout",
     "output_type": "stream",
     "text": [
      "               created_at                        location  \\\n",
      "12523 2018-03-24 20:58:10  #WhatYouDoMatters #NeverForget   \n",
      "28465 2018-03-24 22:52:15      Pacific Time (US & Canada)   \n",
      "21427 2018-03-24 21:54:28                   Corvallis, OR   \n",
      "24334 2018-03-24 22:14:08                  Burlington, VT   \n",
      "15734 2018-03-24 21:17:19                    Portland, OR   \n",
      "\n",
      "                                                   tweet  \\\n",
      "12523  #destroythenra if you’re a @nra member your co...   \n",
      "28465  rt @alfredoflores: #marchforourlives #enough h...   \n",
      "21427  fight for our lives march portland, or. #iwill...   \n",
      "24334                                               None   \n",
      "15734  three #marchforourlives signs inside of portla...   \n",
      "\n",
      "                                                 hashtag  \n",
      "12523  [#destroythenra , #gunsafety? , #marchforourli...  \n",
      "28465                     [#marchforourlives , #enough ]  \n",
      "21427  [#iwillmarch , #marchforourlivesdc , #endgunvi...  \n",
      "24334                                               None  \n",
      "15734  [#marchforourlives , #neveragain , #threebillb...  \n"
     ]
    }
   ],
   "source": [
    "df3 = df3.reindex(columns = ['created_at','location','tweet','hashtag'])\n",
    "print(df3.sample(5))"
   ]
  },
  {
   "cell_type": "code",
   "execution_count": 13,
   "metadata": {},
   "outputs": [],
   "source": [
    "# Convert 'created_at' time data into US & Canada Eastern Time and adjust for day light saving"
   ]
  },
  {
   "cell_type": "code",
   "execution_count": 14,
   "metadata": {},
   "outputs": [],
   "source": [
    "# Convert'created_at' time data rounding to nearest minute \n",
    "df3['created_at'] = df3['created_at'].apply(lambda x: x.round('min'))"
   ]
  },
  {
   "cell_type": "code",
   "execution_count": 15,
   "metadata": {},
   "outputs": [
    {
     "data": {
      "text/plain": [
       "created_at\n",
       "2018-03-24 17:23:00     32\n",
       "2018-03-24 17:24:00     59\n",
       "2018-03-24 17:25:00     65\n",
       "2018-03-24 17:26:00     82\n",
       "2018-03-24 17:27:00     56\n",
       "                      ... \n",
       "2018-03-25 00:51:00    113\n",
       "2018-03-25 00:52:00    143\n",
       "2018-03-25 00:53:00    117\n",
       "2018-03-25 00:54:00    142\n",
       "2018-03-25 00:55:00     74\n",
       "Name: tweet, Length: 303, dtype: int64"
      ]
     },
     "execution_count": 15,
     "metadata": {},
     "output_type": "execute_result"
    }
   ],
   "source": [
    "# Check how many tweets creatd every minute during the data collection period\n",
    "df3.groupby('created_at').count()['tweet']"
   ]
  },
  {
   "cell_type": "code",
   "execution_count": 16,
   "metadata": {},
   "outputs": [
    {
     "data": {
      "text/plain": [
       "<matplotlib.axes._subplots.AxesSubplot at 0x1194e4320>"
      ]
     },
     "execution_count": 16,
     "metadata": {},
     "output_type": "execute_result"
    },
    {
     "data": {
      "image/png": "[encoded data removed]",
      "text/plain": [
       "<Figure size 432x288 with 1 Axes>"
      ]
     },
     "metadata": {},
     "output_type": "display_data"
    }
   ],
   "source": [
    "df3.groupby('created_at').count()['tweet'].plot()\n",
    "#Timestamp is in Coordinated Universal Time (UTC), which is 5 hour earlier than EST.\n",
    "#Number of tweets peaked around 3:30pm (EST) in the graph below. We'll adjust time-zone later."
   ]
  },
  {
   "cell_type": "code",
   "execution_count": 17,
   "metadata": {},
   "outputs": [],
   "source": [
    "# As the next step, use regular expression to tokenize tweets\n",
    "emoticons_str = r\"\"\"\n",
    "    (?:\n",
    "        [:=;] # Eyes\n",
    "        [oO\\-]? # Nose (optional)\n",
    "        [D\\)\\]\\(\\]/\\\\OpP] # Mouth\n",
    "    )\"\"\"\n",
    " \n",
    "regex_str = [\n",
    "    emoticons_str,\n",
    "    r'<[^>]+>', # HTML tags\n",
    "    r'(?:@[\\w_]+)', # @-mentions\n",
    "    r\"(?:\\#+[\\w_]+[\\w\\'_\\-]*[\\w_]+)\", # hash-tags\n",
    "    r'http[s]?://(?:[a-z]|[0-9]|[$-_@.&amp;+]|[!*\\(\\),]|(?:%[0-9a-f][0-9a-f]))+', # URLs\n",
    "    r'(?:(?:\\d+,?)+(?:\\.?\\d+)?)', # numbers\n",
    "    r\"(?:[a-z][a-z'\\-_]+[a-z])\", # words with - and '\n",
    "    r'(?:[\\w_]+)', # other words\n",
    "    r'(?:\\S)' # anything else\n",
    "]"
   ]
  },
  {
   "cell_type": "code",
   "execution_count": 18,
   "metadata": {},
   "outputs": [],
   "source": [
    "tokens_re = re.compile(r'('+'|'.join(regex_str)+')', re.VERBOSE | re.IGNORECASE)\n",
    "emoticon_re = re.compile(r'^'+emoticons_str+'$', re.VERBOSE | re.IGNORECASE)\n",
    " \n",
    "def tokenize(s):\n",
    "    return tokens_re.findall(s)\n",
    " \n",
    "def preprocess(s, lowercase=False):\n",
    "    tokens = tokenize(s)\n",
    "    if lowercase:\n",
    "        tokens = [token if emoticon_re.search(token) else token.lower() for token in tokens]\n",
    "    return tokens"
   ]
  },
  {
   "cell_type": "code",
   "execution_count": 19,
   "metadata": {},
   "outputs": [
    {
     "name": "stdout",
     "output_type": "stream",
     "text": [
      "['rt', '@alessiacara', ':', 'https://t.co/sofihs4oru', 'please', 'click', 'and', 'read', 'up', 'on', 'why', 'this', 'is', 'so', 'important', '.', 'i', 'hope', 'you', 'sign', '.', '#marchforourlives', '#guncontr', '…']\n"
     ]
    }
   ],
   "source": [
    "# Test run using only one tweet\n",
    "tweet = df3['tweet'][10]\n",
    "print(preprocess(tweet))   #success!"
   ]
  },
  {
   "cell_type": "code",
   "execution_count": 20,
   "metadata": {},
   "outputs": [
    {
     "data": {
      "text/html": [
       "<div>\n",
       "<style scoped>\n",
       "    .dataframe tbody tr th:only-of-type {\n",
       "        vertical-align: middle;\n",
       "    }\n",
       "\n",
       "    .dataframe tbody tr th {\n",
       "        vertical-align: top;\n",
       "    }\n",
       "\n",
       "    .dataframe thead th {\n",
       "        text-align: right;\n",
       "    }\n",
       "</style>\n",
       "<table border=\"1\" class=\"dataframe\">\n",
       "  <thead>\n",
       "    <tr style=\"text-align: right;\">\n",
       "      <th></th>\n",
       "      <th>created_at</th>\n",
       "      <th>location</th>\n",
       "      <th>tweet</th>\n",
       "      <th>hashtag</th>\n",
       "    </tr>\n",
       "  </thead>\n",
       "  <tbody>\n",
       "    <tr>\n",
       "      <th>1</th>\n",
       "      <td>2018-03-24 17:23:00</td>\n",
       "      <td>Bearvana, #OpFuckBaba</td>\n",
       "      <td>hey @dloeschhear that? that</td>\n",
       "      <td>[]</td>\n",
       "    </tr>\n",
       "    <tr>\n",
       "      <th>2</th>\n",
       "      <td>2018-03-24 17:23:00</td>\n",
       "      <td>South West, England</td>\n",
       "      <td></td>\n",
       "      <td>[]</td>\n",
       "    </tr>\n",
       "    <tr>\n",
       "      <th>4</th>\n",
       "      <td>2018-03-24 17:23:00</td>\n",
       "      <td>Arizona, USA</td>\n",
       "      <td>rt @madriannorman: #marchforourlives #2ndamend...</td>\n",
       "      <td>[#marchforourlives , #2ndamendment , #nra , #n...</td>\n",
       "    </tr>\n",
       "    <tr>\n",
       "      <th>5</th>\n",
       "      <td>2018-03-24 17:23:00</td>\n",
       "      <td>Arizona, USA</td>\n",
       "      <td>rt @madriannorman: #marchforourlives #2ndamend...</td>\n",
       "      <td>[#marchforourlives , #2ndamendment , #nra , #n...</td>\n",
       "    </tr>\n",
       "    <tr>\n",
       "      <th>6</th>\n",
       "      <td>2018-03-24 17:23:00</td>\n",
       "      <td>985✈️DMV</td>\n",
       "      <td>meddling globalist george soros named as the p...</td>\n",
       "      <td>[#georgesoros , #guncontrol ]</td>\n",
       "    </tr>\n",
       "  </tbody>\n",
       "</table>\n",
       "</div>"
      ],
      "text/plain": [
       "           created_at                location  \\\n",
       "1 2018-03-24 17:23:00  Bearvana, #OpFuckBaba    \n",
       "2 2018-03-24 17:23:00     South West, England   \n",
       "4 2018-03-24 17:23:00            Arizona, USA   \n",
       "5 2018-03-24 17:23:00            Arizona, USA   \n",
       "6 2018-03-24 17:23:00               985✈️DMV    \n",
       "\n",
       "                                               tweet  \\\n",
       "1                        hey @dloeschhear that? that   \n",
       "2                                                      \n",
       "4  rt @madriannorman: #marchforourlives #2ndamend...   \n",
       "5  rt @madriannorman: #marchforourlives #2ndamend...   \n",
       "6  meddling globalist george soros named as the p...   \n",
       "\n",
       "                                             hashtag  \n",
       "1                                                 []  \n",
       "2                                                 []  \n",
       "4  [#marchforourlives , #2ndamendment , #nra , #n...  \n",
       "5  [#marchforourlives , #2ndamendment , #nra , #n...  \n",
       "6                      [#georgesoros , #guncontrol ]  "
      ]
     },
     "execution_count": 20,
     "metadata": {},
     "output_type": "execute_result"
    }
   ],
   "source": [
    "# Create a new dataframe by dropping rows with NA data\n",
    "df4 = df3.dropna(axis=0, inplace=False)\n",
    "df4.head()"
   ]
  },
  {
   "cell_type": "code",
   "execution_count": null,
   "metadata": {
    "scrolled": true
   },
   "outputs": [],
   "source": [
    "# Tokenize tweet data in the dataframe\n",
    "df4.loc[:,'preprocess_tweet'] = df4.loc[:,'tweet'].apply(lambda x : preprocess(x))\n",
    "df4.head()"
   ]
  },
  {
   "cell_type": "code",
   "execution_count": 22,
   "metadata": {},
   "outputs": [],
   "source": [
    "#from nltk download premade stopwords list\n",
    "from nltk.corpus import stopwords\n",
    "import string\n",
    "\n",
    "punc = list(string.punctuation)\n",
    "stop = stopwords.words('english') + punc + ['rt', 'via', '’', 'amp']"
   ]
  },
  {
   "cell_type": "code",
   "execution_count": 23,
   "metadata": {},
   "outputs": [],
   "source": [
    "#Test run using only one tweet\n",
    "terms_nostop = [term for term in preprocess(tweet) if term not in stop]  #success!"
   ]
  },
  {
   "cell_type": "code",
   "execution_count": 24,
   "metadata": {},
   "outputs": [
    {
     "name": "stdout",
     "output_type": "stream",
     "text": [
      "['hey', 'https://t.co/tqe7k0yvgj', 'https://t.co/tqe7k0yvgj', 'meddling', 'globalist', 'george', 'soros', 'named', 'puppet', 'master']\n"
     ]
    }
   ],
   "source": [
    "# There are 37487 rows in df4. for each item (list) in the 'preprocess_tweet' column, check if it's non-empty, then \n",
    "# remove stop words from the item and append it to the longer 'items' list. Since the data is large, \n",
    "# increase data rate by jupyter notebook --NotebookApp.iopub_data_rate_limit=1.0e10\n",
    "\n",
    "items = []\n",
    "for item in df4['preprocess_tweet']:\n",
    "    if len(item) !=0:\n",
    "        for i in item:\n",
    "            if i not in stop and not i.startswith(('#', '@')):\n",
    "                items.append(i.strip())\n",
    "            else:\n",
    "                continue  \n",
    "    else:\n",
    "        continue\n",
    "        \n",
    "print(items[:10])"
   ]
  },
  {
   "cell_type": "code",
   "execution_count": 25,
   "metadata": {},
   "outputs": [
    {
     "name": "stdout",
     "output_type": "stream",
     "text": [
      "[('today', 8636), ('pier', 5412), ('gun', 5213), ('march', 5103), ('people', 4938), ('day', 4236), ('every', 4047), ('thousands', 3496), ('common', 3483), ('sense', 3377), ('speaking', 3302), ('young', 3246), ('demand', 3228), ('guns', 3149), ('americans', 2937), ('legislation', 2841), ('south', 2734), ('prevention', 2734), ('view', 2723), ('overflowed', 2712), ('bay', 2711), ('https://t.co/aeo98ltgzf', 2704), ('lives', 2650), ('students', 2644), ('…', 2624), ('school', 2507), ('youth', 2489), ('stories', 2118), ('kids', 2069), ('️', 2030)]\n"
     ]
    }
   ],
   "source": [
    "# Listing top 30 most common words in tweets during the data collection period\n",
    "import operator\n",
    "from collections import Counter\n",
    "\n",
    "count_all = Counter()\n",
    "count_all.update(items)\n",
    "print(count_all.most_common(30))    "
   ]
  },
  {
   "cell_type": "code",
   "execution_count": 26,
   "metadata": {},
   "outputs": [
    {
     "name": "stdout",
     "output_type": "stream",
     "text": [
      "['#marchforourlives', '#2ndamendment', '#nra', '#nraboycott', '#2a', '#gunreformnow', '#gunviolence', '#marchforourlives', '#2ndamendment', '#nra']\n"
     ]
    }
   ],
   "source": [
    "# Creating the list of hashtags tweeted during the data colletion period\n",
    "hashlist = []\n",
    "for item in df4['hashtag']:\n",
    "    if len(item) !=0:\n",
    "        for i in item:\n",
    "            if i.startswith('#'):\n",
    "                hashlist.append(i.strip())\n",
    "            else:\n",
    "                continue  \n",
    "    else:\n",
    "        continue\n",
    "        \n",
    "print(hashlist[:10])"
   ]
  },
  {
   "cell_type": "code",
   "execution_count": 27,
   "metadata": {},
   "outputs": [
    {
     "name": "stdout",
     "output_type": "stream",
     "text": [
      "[('#marchforourlives', 21017), ('#enough', 15252), ('#neveragain', 6940), ('#guncontrol', 6296), ('#gunviolence', 5710), ('#hermosabeach', 2706), ('#guncontrol.', 2334), ('#gunreformnow', 1939), ('#gunreform', 1473), ('#guncontrolnow', 1416), ('#2a', 1267), ('#enoughisenough', 1249), ('#parkland', 1122), ('#march4ourlives', 1104), ('#guncontolnow', 1080), ('#notonemore', 1018), ('#nra', 969), ('#gunsense', 907), ('#resist', 876), ('#momsdemandaction', 830), ('#trump', 809), ('#nrakillskids', 709), ('#gunsensenow', 703), ('#wecallbs', 632), ('#impeachtrump', 595), ('#endgunviolence', 578), ('#theresistance', 578), ('#maga', 562), ('#blacklivesmatter', 520), ('#votethemout', 517)]\n"
     ]
    }
   ],
   "source": [
    "# Listing top 30 most popular hash tags during the data collection period\n",
    "\n",
    "count_hash = Counter()\n",
    "count_hash.update(hashlist)\n",
    "print(count_hash.most_common(30))"
   ]
  },
  {
   "cell_type": "code",
   "execution_count": 28,
   "metadata": {},
   "outputs": [],
   "source": [
    "# to remove emojis from tokens, compile emoji patterns to be removed\n",
    "\n",
    "emoji_pattern = re.compile(\"[\"\n",
    "        u\"\\U0001F600-\\U0001F64F\"  # emoticons\n",
    "        u\"\\U0001F300-\\U0001F500\"  # symbols & pictographs\n",
    "        u\"\\U0001F520-\\U0001F52F\"\n",
    "        u\"\\U0001F680-\\U0001F6FF\"  # transport & map symbols\n",
    "        u\"\\U0001F1E0-\\U0001F1FF\"  # flags (iOS)                          \n",
    "        u\"\\U0001F910-\\U0001F96B\" \n",
    "        u\"\\U0001F52B\"\n",
    "        u\"\\U0001F5E3\"             # speech\n",
    "        u\"\\U0001F5F3\"             # vote \n",
    "        u\"\\U0001F91B-\\U0001F939\"                   \n",
    "        u\"\\U0001F191-\\U0001F19A\"\n",
    "        u\"\\U0001F595\"\n",
    "                             \"]+\", flags = re.UNICODE)"
   ]
  },
  {
   "cell_type": "code",
   "execution_count": 29,
   "metadata": {},
   "outputs": [
    {
     "name": "stdout",
     "output_type": "stream",
     "text": [
      "['hey', 'https://t.co/tqe7k0yvgj', 'https://t.co/tqe7k0yvgj', 'meddling', 'globalist', 'george', 'soros', 'named', 'puppet', 'master']\n"
     ]
    }
   ],
   "source": [
    "# Remove emojis from the list of tokenized words\n",
    "items_noemoji = []\n",
    "for item in items:\n",
    "    i = emoji_pattern.sub(r'', item)\n",
    "    items_noemoji.append(i)\n",
    "    \n",
    "print(items_noemoji[:10])"
   ]
  },
  {
   "cell_type": "code",
   "execution_count": 30,
   "metadata": {},
   "outputs": [
    {
     "name": "stdout",
     "output_type": "stream",
     "text": [
      "[(('', ''), 4199), (('every', 'day'), 3512), (('common', 'sense'), 3358), (('thousands', 'americans'), 2715), (('prevention', 'legislation'), 2712), (('south', 'bay'), 2709), (('demand', 'common'), 2709), (('sense', 'prevention'), 2707), (('view', 'speaking'), 2706), (('speaking', 'south'), 2706), (('bay', 'pier'), 2706), (('pier', 'thousands'), 2706), (('americans', 'overflowed'), 2706), (('overflowed', 'pier'), 2706), (('pier', 'demand'), 2706), (('legislation', 'https://t.co/aeo98ltgzf'), 2704), (('young', 'people'), 2572), (('march', 'today'), 1880), (('today', 'every'), 1740), (('today', 'youth'), 1731), (('day', 'listen'), 1721), (('listen', 'young'), 1721), (('people', 'follow'), 1719), (('reports', 'march'), 1717), (('youth', 'stories'), 1717), (('stories', 'every'), 1717), (('follow', 'reports'), 1712), (('day', 'https://t.co/udfkgp5xs3'), 1710), (('gun', 'violence'), 1409), (('guy', 'gun'), 1346)]\n"
     ]
    }
   ],
   "source": [
    "# Listing top 30 word-pairs tweeted together during the data collection periods\n",
    "from nltk import bigrams\n",
    "\n",
    "terms_bigram = list(bigrams(items_noemoji))\n",
    "count_bigram = Counter()\n",
    "count_bigram.update(terms_bigram)\n",
    "print(count_bigram.most_common(30))"
   ]
  },
  {
   "cell_type": "code",
   "execution_count": 31,
   "metadata": {},
   "outputs": [
    {
     "data": {
      "text/html": [
       "\n",
       "           <script>\n",
       "               \n",
       "                function vct_load_lib(url, callback){\n",
       "                      if(typeof d3 !== 'undefined' &&\n",
       "                         url === 'http://d3js.org/d3.v3.min.js'){\n",
       "                        callback()\n",
       "                      }\n",
       "                      var s = document.createElement('script');\n",
       "                      s.src = url;\n",
       "                      s.async = true;\n",
       "                      s.onreadystatechange = s.onload = callback;\n",
       "                      s.onerror = function(){\n",
       "                        console.warn(\"failed to load library \" + url);\n",
       "                        };\n",
       "                      document.getElementsByTagName(\"head\")[0].appendChild(s);\n",
       "                };\n",
       "                var vincent_event = new CustomEvent(\n",
       "                  \"vincent_libs_loaded\",\n",
       "                  {bubbles: true, cancelable: true}\n",
       "                );\n",
       "                \n",
       "               function load_all_libs(){\n",
       "                  console.log('Loading Vincent libs...')\n",
       "                  vct_load_lib('http://d3js.org/d3.v3.min.js', function(){\n",
       "                  vct_load_lib('http://d3js.org/d3.geo.projection.v0.min.js', function(){\n",
       "                  vct_load_lib('http://wrobstory.github.io/d3-cloud/d3.layout.cloud.js', function(){\n",
       "                  vct_load_lib('http://wrobstory.github.io/vega/vega.v1.3.3.js', function(){\n",
       "                  window.dispatchEvent(vincent_event);\n",
       "                  });\n",
       "                  });\n",
       "                  });\n",
       "                  });\n",
       "               };\n",
       "               if(typeof define === \"function\" && define.amd){\n",
       "                    if (window['d3'] === undefined ||\n",
       "                        window['topojson'] === undefined){\n",
       "                        require.config(\n",
       "                            {paths: {\n",
       "                              d3: 'http://d3js.org/d3.v3.min',\n",
       "                              topojson: 'http://d3js.org/topojson.v1.min'\n",
       "                              }\n",
       "                            }\n",
       "                          );\n",
       "                        require([\"d3\"], function(d3){\n",
       "                            console.log('Loading Vincent from require.js...')\n",
       "                            window.d3 = d3;\n",
       "                            require([\"topojson\"], function(topojson){\n",
       "                                window.topojson = topojson;\n",
       "                                load_all_libs();\n",
       "                            });\n",
       "                        });\n",
       "                    } else {\n",
       "                        load_all_libs();\n",
       "                    };\n",
       "               }else{\n",
       "                    console.log('Require.js not found, loading manually...')\n",
       "                    load_all_libs();\n",
       "               };\n",
       "\n",
       "           </script>"
      ],
      "text/plain": [
       "<IPython.core.display.HTML object>"
      ]
     },
     "metadata": {},
     "output_type": "display_data"
    },
    {
     "data": {
      "text/html": [
       "<div id=\"vis04ff9b28a1b1489097c8f4d87bf33793\"></div>\n",
       "<script>\n",
       "   ( function() {\n",
       "     var _do_plot = function() {\n",
       "       if (typeof vg === 'undefined') {\n",
       "         window.addEventListener('vincent_libs_loaded', _do_plot)\n",
       "         return;\n",
       "       }\n",
       "       vg.parse.spec({\"axes\": [{\"scale\": \"x\", \"type\": \"x\"}, {\"scale\": \"y\", \"type\": \"y\"}], \"data\": [{\"name\": \"table\", \"values\": [{\"col\": \"data\", \"idx\": \"#marchforourlives\", \"val\": 21017}, {\"col\": \"data\", \"idx\": \"#enough\", \"val\": 15252}, {\"col\": \"data\", \"idx\": \"#neveragain\", \"val\": 6940}, {\"col\": \"data\", \"idx\": \"#guncontrol\", \"val\": 6296}, {\"col\": \"data\", \"idx\": \"#gunviolence\", \"val\": 5710}, {\"col\": \"data\", \"idx\": \"#hermosabeach\", \"val\": 2706}, {\"col\": \"data\", \"idx\": \"#guncontrol.\", \"val\": 2334}, {\"col\": \"data\", \"idx\": \"#gunreformnow\", \"val\": 1939}, {\"col\": \"data\", \"idx\": \"#gunreform\", \"val\": 1473}, {\"col\": \"data\", \"idx\": \"#guncontrolnow\", \"val\": 1416}, {\"col\": \"data\", \"idx\": \"#2a\", \"val\": 1267}, {\"col\": \"data\", \"idx\": \"#enoughisenough\", \"val\": 1249}, {\"col\": \"data\", \"idx\": \"#parkland\", \"val\": 1122}, {\"col\": \"data\", \"idx\": \"#march4ourlives\", \"val\": 1104}, {\"col\": \"data\", \"idx\": \"#guncontolnow\", \"val\": 1080}, {\"col\": \"data\", \"idx\": \"#notonemore\", \"val\": 1018}, {\"col\": \"data\", \"idx\": \"#nra\", \"val\": 969}, {\"col\": \"data\", \"idx\": \"#gunsense\", \"val\": 907}, {\"col\": \"data\", \"idx\": \"#resist\", \"val\": 876}, {\"col\": \"data\", \"idx\": \"#momsdemandaction\", \"val\": 830}, {\"col\": \"data\", \"idx\": \"#trump\", \"val\": 809}, {\"col\": \"data\", \"idx\": \"#nrakillskids\", \"val\": 709}, {\"col\": \"data\", \"idx\": \"#gunsensenow\", \"val\": 703}, {\"col\": \"data\", \"idx\": \"#wecallbs\", \"val\": 632}, {\"col\": \"data\", \"idx\": \"#impeachtrump\", \"val\": 595}, {\"col\": \"data\", \"idx\": \"#endgunviolence\", \"val\": 578}, {\"col\": \"data\", \"idx\": \"#theresistance\", \"val\": 578}, {\"col\": \"data\", \"idx\": \"#maga\", \"val\": 562}, {\"col\": \"data\", \"idx\": \"#blacklivesmatter\", \"val\": 520}, {\"col\": \"data\", \"idx\": \"#votethemout\", \"val\": 517}]}, {\"name\": \"stats\", \"source\": \"table\", \"transform\": [{\"keys\": [\"data.idx\"], \"type\": \"facet\"}, {\"type\": \"stats\", \"value\": \"data.val\"}]}], \"height\": 500, \"legends\": [], \"marks\": [{\"from\": {\"data\": \"table\", \"transform\": [{\"keys\": [\"data.col\"], \"type\": \"facet\"}, {\"height\": \"data.val\", \"point\": \"data.idx\", \"type\": \"stack\"}]}, \"marks\": [{\"properties\": {\"enter\": {\"fill\": {\"field\": \"data.col\", \"scale\": \"color\"}, \"width\": {\"band\": true, \"offset\": -1, \"scale\": \"x\"}, \"x\": {\"field\": \"data.idx\", \"scale\": \"x\"}, \"y\": {\"field\": \"y\", \"scale\": \"y\"}, \"y2\": {\"field\": \"y2\", \"scale\": \"y\"}}}, \"type\": \"rect\"}], \"type\": \"group\"}], \"padding\": \"auto\", \"scales\": [{\"domain\": {\"data\": \"table\", \"field\": \"data.idx\"}, \"name\": \"x\", \"range\": \"width\", \"type\": \"ordinal\", \"zero\": false}, {\"domain\": {\"data\": \"stats\", \"field\": \"sum\"}, \"name\": \"y\", \"nice\": true, \"range\": \"height\"}, {\"domain\": {\"data\": \"table\", \"field\": \"data.col\"}, \"name\": \"color\", \"range\": \"category20\", \"type\": \"ordinal\"}], \"width\": 960}, function(chart) {\n",
       "         chart({el: \"#vis04ff9b28a1b1489097c8f4d87bf33793\"}).update();\n",
       "       });\n",
       "     };\n",
       "     _do_plot();\n",
       "   })();\n",
       "</script>\n",
       "<style>.vega canvas {width: 100%;}</style>\n",
       "        "
      ],
      "text/plain": [
       "<IPython.core.display.HTML object>"
      ]
     },
     "metadata": {},
     "output_type": "display_data"
    }
   ],
   "source": [
    "#Visualize top 30 popular hashtags\n",
    "\n",
    "import vincent\n",
    "vincent.core.initialize_notebook()\n",
    "\n",
    "hash_freq = count_hash.most_common(30)  #create list of tuples\n",
    "labels, freq = zip(*hash_freq)  #seperate the above into 1. tuple of labels & 2. tuple of counts\n",
    "data = {'data': freq, 'x': labels} #create dictionary of tuples\n",
    "bar = vincent.Bar(data, iter_idx='x')\n",
    "bar.display()"
   ]
  },
  {
   "cell_type": "code",
   "execution_count": 32,
   "metadata": {
    "scrolled": true
   },
   "outputs": [
    {
     "name": "stdout",
     "output_type": "stream",
     "text": [
      "[Timestamp('2018-03-24 20:16:00'), Timestamp('2018-03-24 20:16:00'), Timestamp('2018-03-24 20:17:00'), Timestamp('2018-03-24 20:17:00'), Timestamp('2018-03-24 20:17:00'), Timestamp('2018-03-24 20:17:00'), Timestamp('2018-03-24 20:17:00'), Timestamp('2018-03-24 20:17:00'), Timestamp('2018-03-24 20:17:00'), Timestamp('2018-03-24 20:17:00')]\n"
     ]
    }
   ],
   "source": [
    "# Create the list of time stamps when #hermosabeach was tweeted\n",
    "beach_hash_time =[]\n",
    "\n",
    "for i in range(len(df4['tweet'])):\n",
    "    if '#hermosabeach' in df4['tweet'].iloc[i]:\n",
    "        beach_hash_time.append(df4['created_at'].iloc[i])\n",
    "        \n",
    "print(beach_hash_time[:10])"
   ]
  },
  {
   "cell_type": "code",
   "execution_count": 33,
   "metadata": {
    "scrolled": true
   },
   "outputs": [],
   "source": [
    "# Creating datetimeindex for time series data for pandas. Twitter streaming data is based on UTC time.\n",
    "# From US & Canada ETS time, it's 4 hours earlier. Adjust for daytime savings.\n",
    "\n",
    "from pandas.tseries.offsets import Hour\n",
    "one_hour = Hour(1)\n",
    "\n",
    "idx = pd.DatetimeIndex(beach_hash_time)\n",
    "idx_local = idx.tz_localize(tz='UTC')\n",
    "idx_est = idx_local.tz_convert(tz='US/Eastern')\n",
    "idx_est_ds = idx_est - one_hour    #daytime savings adjustment\n",
    "ones = [1]*len(beach_hash_time)\n",
    "#ones\n",
    "beach_hash = pd.Series(ones, index=idx_est_ds)\n",
    "per_minute = beach_hash.resample('1min').sum().fillna(0)"
   ]
  },
  {
   "cell_type": "code",
   "execution_count": 34,
   "metadata": {},
   "outputs": [
    {
     "data": {
      "text/html": [
       "<div id=\"visf723a73325354aab8b513bc0652e4da7\"></div>\n",
       "<script>\n",
       "   ( function() {\n",
       "     var _do_plot = function() {\n",
       "       if (typeof vg === 'undefined') {\n",
       "         window.addEventListener('vincent_libs_loaded', _do_plot)\n",
       "         return;\n",
       "       }\n",
       "       vg.parse.spec({\"axes\": [{\"scale\": \"x\", \"title\": \"Time\", \"type\": \"x\"}, {\"scale\": \"y\", \"title\": \"Hashtag frequencies\", \"type\": \"y\"}], \"data\": [{\"name\": \"table\", \"values\": [{\"col\": \"data\", \"idx\": 1521918960000, \"val\": 2}, {\"col\": \"data\", \"idx\": 1521919020000, \"val\": 39}, {\"col\": \"data\", \"idx\": 1521919080000, \"val\": 40}, {\"col\": \"data\", \"idx\": 1521919140000, \"val\": 33}, {\"col\": \"data\", \"idx\": 1521919200000, \"val\": 27}, {\"col\": \"data\", \"idx\": 1521919260000, \"val\": 46}, {\"col\": \"data\", \"idx\": 1521919320000, \"val\": 81}, {\"col\": \"data\", \"idx\": 1521919380000, \"val\": 70}, {\"col\": \"data\", \"idx\": 1521919440000, \"val\": 64}, {\"col\": \"data\", \"idx\": 1521919500000, \"val\": 72}, {\"col\": \"data\", \"idx\": 1521919560000, \"val\": 67}, {\"col\": \"data\", \"idx\": 1521919620000, \"val\": 36}, {\"col\": \"data\", \"idx\": 1521919680000, \"val\": 45}, {\"col\": \"data\", \"idx\": 1521919740000, \"val\": 43}, {\"col\": \"data\", \"idx\": 1521919800000, \"val\": 50}, {\"col\": \"data\", \"idx\": 1521919860000, \"val\": 49}, {\"col\": \"data\", \"idx\": 1521919920000, \"val\": 40}, {\"col\": \"data\", \"idx\": 1521919980000, \"val\": 2}, {\"col\": \"data\", \"idx\": 1521920040000, \"val\": 6}, {\"col\": \"data\", \"idx\": 1521920100000, \"val\": 33}, {\"col\": \"data\", \"idx\": 1521920160000, \"val\": 32}, {\"col\": \"data\", \"idx\": 1521920220000, \"val\": 23}, {\"col\": \"data\", \"idx\": 1521920280000, \"val\": 28}, {\"col\": \"data\", \"idx\": 1521920340000, \"val\": 24}, {\"col\": \"data\", \"idx\": 1521920400000, \"val\": 20}, {\"col\": \"data\", \"idx\": 1521920460000, \"val\": 21}, {\"col\": \"data\", \"idx\": 1521920520000, \"val\": 24}, {\"col\": \"data\", \"idx\": 1521920580000, \"val\": 15}, {\"col\": \"data\", \"idx\": 1521920640000, \"val\": 30}, {\"col\": \"data\", \"idx\": 1521920700000, \"val\": 19}, {\"col\": \"data\", \"idx\": 1521920760000, \"val\": 23}, {\"col\": \"data\", \"idx\": 1521920820000, \"val\": 12}, {\"col\": \"data\", \"idx\": 1521920880000, \"val\": 31}, {\"col\": \"data\", \"idx\": 1521920940000, \"val\": 19}, {\"col\": \"data\", \"idx\": 1521921000000, \"val\": 30}, {\"col\": \"data\", \"idx\": 1521921060000, \"val\": 16}, {\"col\": \"data\", \"idx\": 1521921120000, \"val\": 20}, {\"col\": \"data\", \"idx\": 1521921180000, \"val\": 25}, {\"col\": \"data\", \"idx\": 1521921240000, \"val\": 23}, {\"col\": \"data\", \"idx\": 1521921300000, \"val\": 12}, {\"col\": \"data\", \"idx\": 1521921360000, \"val\": 9}, {\"col\": \"data\", \"idx\": 1521921420000, \"val\": 15}, {\"col\": \"data\", \"idx\": 1521921480000, \"val\": 15}, {\"col\": \"data\", \"idx\": 1521921540000, \"val\": 18}, {\"col\": \"data\", \"idx\": 1521921600000, \"val\": 16}, {\"col\": \"data\", \"idx\": 1521921660000, \"val\": 12}, {\"col\": \"data\", \"idx\": 1521921720000, \"val\": 9}, {\"col\": \"data\", \"idx\": 1521921780000, \"val\": 6}, {\"col\": \"data\", \"idx\": 1521921840000, \"val\": 11}, {\"col\": \"data\", \"idx\": 1521921900000, \"val\": 20}, {\"col\": \"data\", \"idx\": 1521921960000, \"val\": 14}, {\"col\": \"data\", \"idx\": 1521922020000, \"val\": 11}, {\"col\": \"data\", \"idx\": 1521922080000, \"val\": 6}, {\"col\": \"data\", \"idx\": 1521922140000, \"val\": 12}, {\"col\": \"data\", \"idx\": 1521922200000, \"val\": 14}, {\"col\": \"data\", \"idx\": 1521922260000, \"val\": 9}, {\"col\": \"data\", \"idx\": 1521922320000, \"val\": 10}, {\"col\": \"data\", \"idx\": 1521922380000, \"val\": 8}, {\"col\": \"data\", \"idx\": 1521922440000, \"val\": 11}, {\"col\": \"data\", \"idx\": 1521922500000, \"val\": 12}, {\"col\": \"data\", \"idx\": 1521922560000, \"val\": 15}, {\"col\": \"data\", \"idx\": 1521922620000, \"val\": 9}, {\"col\": \"data\", \"idx\": 1521922680000, \"val\": 11}, {\"col\": \"data\", \"idx\": 1521922740000, \"val\": 13}, {\"col\": \"data\", \"idx\": 1521922800000, \"val\": 8}, {\"col\": \"data\", \"idx\": 1521922860000, \"val\": 11}, {\"col\": \"data\", \"idx\": 1521922920000, \"val\": 8}, {\"col\": \"data\", \"idx\": 1521922980000, \"val\": 12}, {\"col\": \"data\", \"idx\": 1521923040000, \"val\": 9}, {\"col\": \"data\", \"idx\": 1521923100000, \"val\": 6}, {\"col\": \"data\", \"idx\": 1521923160000, \"val\": 12}, {\"col\": \"data\", \"idx\": 1521923220000, \"val\": 8}, {\"col\": \"data\", \"idx\": 1521923280000, \"val\": 13}, {\"col\": \"data\", \"idx\": 1521923340000, \"val\": 15}, {\"col\": \"data\", \"idx\": 1521923400000, \"val\": 11}, {\"col\": \"data\", \"idx\": 1521923460000, \"val\": 6}, {\"col\": \"data\", \"idx\": 1521923520000, \"val\": 13}, {\"col\": \"data\", \"idx\": 1521923580000, \"val\": 7}, {\"col\": \"data\", \"idx\": 1521923640000, \"val\": 16}, {\"col\": \"data\", \"idx\": 1521923700000, \"val\": 6}, {\"col\": \"data\", \"idx\": 1521923760000, \"val\": 13}, {\"col\": \"data\", \"idx\": 1521923820000, \"val\": 7}, {\"col\": \"data\", \"idx\": 1521923880000, \"val\": 9}, {\"col\": \"data\", \"idx\": 1521923940000, \"val\": 5}, {\"col\": \"data\", \"idx\": 1521924000000, \"val\": 5}, {\"col\": \"data\", \"idx\": 1521924060000, \"val\": 12}, {\"col\": \"data\", \"idx\": 1521924120000, \"val\": 0}, {\"col\": \"data\", \"idx\": 1521924180000, \"val\": 0}, {\"col\": \"data\", \"idx\": 1521924240000, \"val\": 9}, {\"col\": \"data\", \"idx\": 1521924300000, \"val\": 10}, {\"col\": \"data\", \"idx\": 1521924360000, \"val\": 7}, {\"col\": \"data\", \"idx\": 1521924420000, \"val\": 12}, {\"col\": \"data\", \"idx\": 1521924480000, \"val\": 10}, {\"col\": \"data\", \"idx\": 1521924540000, \"val\": 11}, {\"col\": \"data\", \"idx\": 1521924600000, \"val\": 5}, {\"col\": \"data\", \"idx\": 1521924660000, \"val\": 7}, {\"col\": \"data\", \"idx\": 1521924720000, \"val\": 17}, {\"col\": \"data\", \"idx\": 1521924780000, \"val\": 15}, {\"col\": \"data\", \"idx\": 1521924840000, \"val\": 12}, {\"col\": \"data\", \"idx\": 1521924900000, \"val\": 12}, {\"col\": \"data\", \"idx\": 1521924960000, \"val\": 4}, {\"col\": \"data\", \"idx\": 1521925020000, \"val\": 4}, {\"col\": \"data\", \"idx\": 1521925080000, \"val\": 9}, {\"col\": \"data\", \"idx\": 1521925140000, \"val\": 10}, {\"col\": \"data\", \"idx\": 1521925200000, \"val\": 8}, {\"col\": \"data\", \"idx\": 1521925260000, \"val\": 11}, {\"col\": \"data\", \"idx\": 1521925320000, \"val\": 6}, {\"col\": \"data\", \"idx\": 1521925380000, \"val\": 7}, {\"col\": \"data\", \"idx\": 1521925440000, \"val\": 9}, {\"col\": \"data\", \"idx\": 1521925500000, \"val\": 11}, {\"col\": \"data\", \"idx\": 1521925560000, \"val\": 13}, {\"col\": \"data\", \"idx\": 1521925620000, \"val\": 4}, {\"col\": \"data\", \"idx\": 1521925680000, \"val\": 10}, {\"col\": \"data\", \"idx\": 1521925740000, \"val\": 7}, {\"col\": \"data\", \"idx\": 1521925800000, \"val\": 5}, {\"col\": \"data\", \"idx\": 1521925860000, \"val\": 9}, {\"col\": \"data\", \"idx\": 1521925920000, \"val\": 8}, {\"col\": \"data\", \"idx\": 1521925980000, \"val\": 9}, {\"col\": \"data\", \"idx\": 1521926040000, \"val\": 3}, {\"col\": \"data\", \"idx\": 1521926100000, \"val\": 3}, {\"col\": \"data\", \"idx\": 1521926160000, \"val\": 9}, {\"col\": \"data\", \"idx\": 1521926220000, \"val\": 3}, {\"col\": \"data\", \"idx\": 1521926280000, \"val\": 8}, {\"col\": \"data\", \"idx\": 1521926340000, \"val\": 9}, {\"col\": \"data\", \"idx\": 1521926400000, \"val\": 8}, {\"col\": \"data\", \"idx\": 1521926460000, \"val\": 4}, {\"col\": \"data\", \"idx\": 1521926520000, \"val\": 7}, {\"col\": \"data\", \"idx\": 1521926580000, \"val\": 1}, {\"col\": \"data\", \"idx\": 1521926640000, \"val\": 8}, {\"col\": \"data\", \"idx\": 1521926700000, \"val\": 5}, {\"col\": \"data\", \"idx\": 1521926760000, \"val\": 9}, {\"col\": \"data\", \"idx\": 1521926820000, \"val\": 3}, {\"col\": \"data\", \"idx\": 1521926880000, \"val\": 10}, {\"col\": \"data\", \"idx\": 1521926940000, \"val\": 10}, {\"col\": \"data\", \"idx\": 1521927000000, \"val\": 6}, {\"col\": \"data\", \"idx\": 1521927060000, \"val\": 5}, {\"col\": \"data\", \"idx\": 1521927120000, \"val\": 3}, {\"col\": \"data\", \"idx\": 1521927180000, \"val\": 0}, {\"col\": \"data\", \"idx\": 1521927240000, \"val\": 0}, {\"col\": \"data\", \"idx\": 1521927300000, \"val\": 0}, {\"col\": \"data\", \"idx\": 1521927360000, \"val\": 0}, {\"col\": \"data\", \"idx\": 1521927420000, \"val\": 0}, {\"col\": \"data\", \"idx\": 1521927480000, \"val\": 0}, {\"col\": \"data\", \"idx\": 1521927540000, \"val\": 0}, {\"col\": \"data\", \"idx\": 1521927600000, \"val\": 0}, {\"col\": \"data\", \"idx\": 1521927660000, \"val\": 0}, {\"col\": \"data\", \"idx\": 1521927720000, \"val\": 6}, {\"col\": \"data\", \"idx\": 1521927780000, \"val\": 5}, {\"col\": \"data\", \"idx\": 1521927840000, \"val\": 7}, {\"col\": \"data\", \"idx\": 1521927900000, \"val\": 7}, {\"col\": \"data\", \"idx\": 1521927960000, \"val\": 2}, {\"col\": \"data\", \"idx\": 1521928020000, \"val\": 8}, {\"col\": \"data\", \"idx\": 1521928080000, \"val\": 7}, {\"col\": \"data\", \"idx\": 1521928140000, \"val\": 6}, {\"col\": \"data\", \"idx\": 1521928200000, \"val\": 5}, {\"col\": \"data\", \"idx\": 1521928260000, \"val\": 9}, {\"col\": \"data\", \"idx\": 1521928320000, \"val\": 4}, {\"col\": \"data\", \"idx\": 1521928380000, \"val\": 8}, {\"col\": \"data\", \"idx\": 1521928440000, \"val\": 9}, {\"col\": \"data\", \"idx\": 1521928500000, \"val\": 6}, {\"col\": \"data\", \"idx\": 1521928560000, \"val\": 7}, {\"col\": \"data\", \"idx\": 1521928620000, \"val\": 3}, {\"col\": \"data\", \"idx\": 1521928680000, \"val\": 3}, {\"col\": \"data\", \"idx\": 1521928740000, \"val\": 6}, {\"col\": \"data\", \"idx\": 1521928800000, \"val\": 6}, {\"col\": \"data\", \"idx\": 1521928860000, \"val\": 5}, {\"col\": \"data\", \"idx\": 1521928920000, \"val\": 5}, {\"col\": \"data\", \"idx\": 1521928980000, \"val\": 6}, {\"col\": \"data\", \"idx\": 1521929040000, \"val\": 4}, {\"col\": \"data\", \"idx\": 1521929100000, \"val\": 10}, {\"col\": \"data\", \"idx\": 1521929160000, \"val\": 8}, {\"col\": \"data\", \"idx\": 1521929220000, \"val\": 6}, {\"col\": \"data\", \"idx\": 1521929280000, \"val\": 6}, {\"col\": \"data\", \"idx\": 1521929340000, \"val\": 5}, {\"col\": \"data\", \"idx\": 1521929400000, \"val\": 6}, {\"col\": \"data\", \"idx\": 1521929460000, \"val\": 6}, {\"col\": \"data\", \"idx\": 1521929520000, \"val\": 4}, {\"col\": \"data\", \"idx\": 1521929580000, \"val\": 9}, {\"col\": \"data\", \"idx\": 1521929640000, \"val\": 6}, {\"col\": \"data\", \"idx\": 1521929700000, \"val\": 5}, {\"col\": \"data\", \"idx\": 1521929760000, \"val\": 5}, {\"col\": \"data\", \"idx\": 1521929820000, \"val\": 3}, {\"col\": \"data\", \"idx\": 1521929880000, \"val\": 3}, {\"col\": \"data\", \"idx\": 1521929940000, \"val\": 10}, {\"col\": \"data\", \"idx\": 1521930000000, \"val\": 8}, {\"col\": \"data\", \"idx\": 1521930060000, \"val\": 6}, {\"col\": \"data\", \"idx\": 1521930120000, \"val\": 7}, {\"col\": \"data\", \"idx\": 1521930180000, \"val\": 6}, {\"col\": \"data\", \"idx\": 1521930240000, \"val\": 2}, {\"col\": \"data\", \"idx\": 1521930300000, \"val\": 8}, {\"col\": \"data\", \"idx\": 1521930360000, \"val\": 6}, {\"col\": \"data\", \"idx\": 1521930420000, \"val\": 2}, {\"col\": \"data\", \"idx\": 1521930480000, \"val\": 5}, {\"col\": \"data\", \"idx\": 1521930540000, \"val\": 8}, {\"col\": \"data\", \"idx\": 1521930600000, \"val\": 5}, {\"col\": \"data\", \"idx\": 1521930660000, \"val\": 6}, {\"col\": \"data\", \"idx\": 1521930720000, \"val\": 7}, {\"col\": \"data\", \"idx\": 1521930780000, \"val\": 3}, {\"col\": \"data\", \"idx\": 1521930840000, \"val\": 5}, {\"col\": \"data\", \"idx\": 1521930900000, \"val\": 2}, {\"col\": \"data\", \"idx\": 1521930960000, \"val\": 0}, {\"col\": \"data\", \"idx\": 1521931020000, \"val\": 5}, {\"col\": \"data\", \"idx\": 1521931080000, \"val\": 5}, {\"col\": \"data\", \"idx\": 1521931140000, \"val\": 8}, {\"col\": \"data\", \"idx\": 1521931200000, \"val\": 5}, {\"col\": \"data\", \"idx\": 1521931260000, \"val\": 3}, {\"col\": \"data\", \"idx\": 1521931320000, \"val\": 5}, {\"col\": \"data\", \"idx\": 1521931380000, \"val\": 4}, {\"col\": \"data\", \"idx\": 1521931440000, \"val\": 6}, {\"col\": \"data\", \"idx\": 1521931500000, \"val\": 2}, {\"col\": \"data\", \"idx\": 1521931560000, \"val\": 2}, {\"col\": \"data\", \"idx\": 1521931620000, \"val\": 5}, {\"col\": \"data\", \"idx\": 1521931680000, \"val\": 3}, {\"col\": \"data\", \"idx\": 1521931740000, \"val\": 2}, {\"col\": \"data\", \"idx\": 1521931800000, \"val\": 4}, {\"col\": \"data\", \"idx\": 1521931860000, \"val\": 3}, {\"col\": \"data\", \"idx\": 1521931920000, \"val\": 6}, {\"col\": \"data\", \"idx\": 1521931980000, \"val\": 5}, {\"col\": \"data\", \"idx\": 1521932040000, \"val\": 0}, {\"col\": \"data\", \"idx\": 1521932100000, \"val\": 0}, {\"col\": \"data\", \"idx\": 1521932160000, \"val\": 0}, {\"col\": \"data\", \"idx\": 1521932220000, \"val\": 0}, {\"col\": \"data\", \"idx\": 1521932280000, \"val\": 0}, {\"col\": \"data\", \"idx\": 1521932340000, \"val\": 0}, {\"col\": \"data\", \"idx\": 1521932400000, \"val\": 0}, {\"col\": \"data\", \"idx\": 1521932460000, \"val\": 0}, {\"col\": \"data\", \"idx\": 1521932520000, \"val\": 0}, {\"col\": \"data\", \"idx\": 1521932580000, \"val\": 0}, {\"col\": \"data\", \"idx\": 1521932640000, \"val\": 0}, {\"col\": \"data\", \"idx\": 1521932700000, \"val\": 0}, {\"col\": \"data\", \"idx\": 1521932760000, \"val\": 0}, {\"col\": \"data\", \"idx\": 1521932820000, \"val\": 0}, {\"col\": \"data\", \"idx\": 1521932880000, \"val\": 0}, {\"col\": \"data\", \"idx\": 1521932940000, \"val\": 0}, {\"col\": \"data\", \"idx\": 1521933000000, \"val\": 0}, {\"col\": \"data\", \"idx\": 1521933060000, \"val\": 0}, {\"col\": \"data\", \"idx\": 1521933120000, \"val\": 0}, {\"col\": \"data\", \"idx\": 1521933180000, \"val\": 0}, {\"col\": \"data\", \"idx\": 1521933240000, \"val\": 0}, {\"col\": \"data\", \"idx\": 1521933300000, \"val\": 0}, {\"col\": \"data\", \"idx\": 1521933360000, \"val\": 0}, {\"col\": \"data\", \"idx\": 1521933420000, \"val\": 0}, {\"col\": \"data\", \"idx\": 1521933480000, \"val\": 0}, {\"col\": \"data\", \"idx\": 1521933540000, \"val\": 0}, {\"col\": \"data\", \"idx\": 1521933600000, \"val\": 4}, {\"col\": \"data\", \"idx\": 1521933660000, \"val\": 13}, {\"col\": \"data\", \"idx\": 1521933720000, \"val\": 1}, {\"col\": \"data\", \"idx\": 1521933780000, \"val\": 0}, {\"col\": \"data\", \"idx\": 1521933840000, \"val\": 5}, {\"col\": \"data\", \"idx\": 1521933900000, \"val\": 3}, {\"col\": \"data\", \"idx\": 1521933960000, \"val\": 8}, {\"col\": \"data\", \"idx\": 1521934020000, \"val\": 2}, {\"col\": \"data\", \"idx\": 1521934080000, \"val\": 9}, {\"col\": \"data\", \"idx\": 1521934140000, \"val\": 3}, {\"col\": \"data\", \"idx\": 1521934200000, \"val\": 3}, {\"col\": \"data\", \"idx\": 1521934260000, \"val\": 2}, {\"col\": \"data\", \"idx\": 1521934320000, \"val\": 3}, {\"col\": \"data\", \"idx\": 1521934380000, \"val\": 4}, {\"col\": \"data\", \"idx\": 1521934440000, \"val\": 3}, {\"col\": \"data\", \"idx\": 1521934500000, \"val\": 3}, {\"col\": \"data\", \"idx\": 1521934560000, \"val\": 5}, {\"col\": \"data\", \"idx\": 1521934620000, \"val\": 6}, {\"col\": \"data\", \"idx\": 1521934680000, \"val\": 3}, {\"col\": \"data\", \"idx\": 1521934740000, \"val\": 2}, {\"col\": \"data\", \"idx\": 1521934800000, \"val\": 4}, {\"col\": \"data\", \"idx\": 1521934860000, \"val\": 7}, {\"col\": \"data\", \"idx\": 1521934920000, \"val\": 4}, {\"col\": \"data\", \"idx\": 1521934980000, \"val\": 4}, {\"col\": \"data\", \"idx\": 1521935040000, \"val\": 3}, {\"col\": \"data\", \"idx\": 1521935100000, \"val\": 6}, {\"col\": \"data\", \"idx\": 1521935160000, \"val\": 3}, {\"col\": \"data\", \"idx\": 1521935220000, \"val\": 4}, {\"col\": \"data\", \"idx\": 1521935280000, \"val\": 0}, {\"col\": \"data\", \"idx\": 1521935340000, \"val\": 0}, {\"col\": \"data\", \"idx\": 1521935400000, \"val\": 3}, {\"col\": \"data\", \"idx\": 1521935460000, \"val\": 2}, {\"col\": \"data\", \"idx\": 1521935520000, \"val\": 6}, {\"col\": \"data\", \"idx\": 1521935580000, \"val\": 5}, {\"col\": \"data\", \"idx\": 1521935640000, \"val\": 8}, {\"col\": \"data\", \"idx\": 1521935700000, \"val\": 5}]}], \"height\": 500, \"legends\": [], \"marks\": [{\"from\": {\"data\": \"table\", \"transform\": [{\"keys\": [\"data.col\"], \"type\": \"facet\"}]}, \"marks\": [{\"properties\": {\"enter\": {\"stroke\": {\"field\": \"data.col\", \"scale\": \"color\"}, \"strokeWidth\": {\"value\": 2}, \"x\": {\"field\": \"data.idx\", \"scale\": \"x\"}, \"y\": {\"field\": \"data.val\", \"scale\": \"y\"}}}, \"type\": \"line\"}], \"type\": \"group\"}], \"padding\": \"auto\", \"scales\": [{\"domain\": {\"data\": \"table\", \"field\": \"data.idx\"}, \"name\": \"x\", \"range\": \"width\", \"type\": \"time\"}, {\"domain\": {\"data\": \"table\", \"field\": \"data.val\"}, \"name\": \"y\", \"nice\": true, \"range\": \"height\"}, {\"domain\": {\"data\": \"table\", \"field\": \"data.col\"}, \"name\": \"color\", \"range\": \"category20\", \"type\": \"ordinal\"}], \"width\": 960}, function(chart) {\n",
       "         chart({el: \"#visf723a73325354aab8b513bc0652e4da7\"}).update();\n",
       "       });\n",
       "     };\n",
       "     _do_plot();\n",
       "   })();\n",
       "</script>\n",
       "<style>.vega canvas {width: 100%;}</style>\n",
       "        "
      ],
      "text/plain": [
       "<IPython.core.display.HTML object>"
      ]
     },
     "metadata": {},
     "output_type": "display_data"
    }
   ],
   "source": [
    "#Visualize the frequency of #hermosabeach was tweeted during the data collection period\n",
    "time_chart = vincent.Line(per_minute)\n",
    "time_chart.axis_titles(x='Time', y='Hashtag frequencies')\n",
    "time_chart.display()"
   ]
  },
  {
   "cell_type": "code",
   "execution_count": 35,
   "metadata": {},
   "outputs": [],
   "source": [
    "# Prepar hashtag #marchforourlives for the same analysis\n",
    "march_hash_time =[]\n",
    "\n",
    "for i in range(len(df4['tweet'])):\n",
    "    if '#marchforourlives' in df4['tweet'].iloc[i]:\n",
    "        march_hash_time.append(df4['created_at'].iloc[i])\n",
    "        \n",
    "idx = pd.DatetimeIndex(march_hash_time)\n",
    "idx_local = idx.tz_localize(tz='UTC')\n",
    "idx_est = idx_local.tz_convert(tz='US/Eastern')\n",
    "idx_est_ds = idx_est - one_hour    #daytime savings adjustment\n",
    "ones = [1]*len(march_hash_time)\n",
    "#ones\n",
    "march_hash = pd.Series(ones, index=idx_est_ds)\n",
    "march_per_minute = march_hash.resample('1min').sum().fillna(0)"
   ]
  },
  {
   "cell_type": "code",
   "execution_count": 36,
   "metadata": {},
   "outputs": [],
   "source": [
    "# Prepar hashtag #enough for the same analysis\n",
    "enough_hash_time =[]\n",
    "\n",
    "for i in range(len(df4['tweet'])):\n",
    "    if '#enough' in df4['tweet'].iloc[i]:\n",
    "        enough_hash_time.append(df4['created_at'].iloc[i])\n",
    "        \n",
    "idx = pd.DatetimeIndex(enough_hash_time)\n",
    "idx_local = idx.tz_localize(tz='UTC')\n",
    "idx_est = idx_local.tz_convert(tz='US/Eastern')\n",
    "idx_est_ds = idx_est - one_hour    #daytime savings adjustment\n",
    "ones = [1]*len(enough_hash_time)\n",
    "#ones\n",
    "enough_hash = pd.Series(ones, index=idx_est_ds)\n",
    "enough_per_minute = enough_hash.resample('1min').sum().fillna(0)"
   ]
  },
  {
   "cell_type": "code",
   "execution_count": 37,
   "metadata": {},
   "outputs": [],
   "source": [
    "# Prepar hashtag #neveragain for the same analysis\n",
    "again_hash_time =[]\n",
    "\n",
    "for i in range(len(df4['tweet'])):\n",
    "    if '#neveragain' in df4['tweet'].iloc[i]:\n",
    "        again_hash_time.append(df4['created_at'].iloc[i])\n",
    "        \n",
    "idx = pd.DatetimeIndex(again_hash_time)\n",
    "idx_local = idx.tz_localize(tz='UTC')\n",
    "idx_est = idx_local.tz_convert(tz='US/Eastern')\n",
    "idx_est_ds = idx_est - one_hour    #daytime savings adjustment\n",
    "ones = [1]*len(again_hash_time)\n",
    "#ones\n",
    "again_hash = pd.Series(ones, index=idx_est_ds)\n",
    "again_per_minute = again_hash.resample('1min').sum().fillna(0)"
   ]
  },
  {
   "cell_type": "code",
   "execution_count": 38,
   "metadata": {},
   "outputs": [],
   "source": [
    "# Prepar hashtag #guncontrol for the same analysis\n",
    "control_hash_time =[]\n",
    "\n",
    "for i in range(len(df4['tweet'])):\n",
    "    if '#guncontrol' in df4['tweet'].iloc[i]:\n",
    "        control_hash_time.append(df4['created_at'].iloc[i])\n",
    "        \n",
    "idx = pd.DatetimeIndex(control_hash_time)\n",
    "idx_local = idx.tz_localize(tz='UTC')\n",
    "idx_est = idx_local.tz_convert(tz='US/Eastern')\n",
    "idx_est_ds = idx_est - one_hour    #daytime savings adjustment\n",
    "ones = [1]*len(control_hash_time)\n",
    "#ones\n",
    "control_hash = pd.Series(ones, index=idx_est_ds)\n",
    "control_per_minute = control_hash.resample('1min').sum().fillna(0)"
   ]
  },
  {
   "cell_type": "code",
   "execution_count": 39,
   "metadata": {},
   "outputs": [],
   "source": [
    "# Prepar hashtag #gunviolence for the same analysis\n",
    "violence_hash_time =[]\n",
    "\n",
    "for i in range(len(df4['tweet'])):\n",
    "    if '#gunviolence' in df4['tweet'].iloc[i]:\n",
    "        violence_hash_time.append(df4['created_at'].iloc[i])\n",
    "        \n",
    "idx = pd.DatetimeIndex(violence_hash_time)\n",
    "idx_local = idx.tz_localize(tz='UTC')\n",
    "idx_est = idx_local.tz_convert(tz='US/Eastern')\n",
    "idx_est_ds = idx_est - one_hour    #daytime savings adjustment\n",
    "ones = [1]*len(violence_hash_time)\n",
    "\n",
    "violence_hash = pd.Series(ones, index=idx_est_ds)\n",
    "violence_per_minute = violence_hash.resample('1min').sum().fillna(0)"
   ]
  },
  {
   "cell_type": "code",
   "execution_count": 40,
   "metadata": {},
   "outputs": [],
   "source": [
    "# Prepar hashtag #schoolshooting for the same analysis\n",
    "school_hash_time =[]\n",
    "\n",
    "for i in range(len(df4['tweet'])):\n",
    "    if '#schoolshooting' in df4['tweet'].iloc[i]:\n",
    "        school_hash_time.append(df4['created_at'].iloc[i])\n",
    "        \n",
    "idx = pd.DatetimeIndex(school_hash_time)\n",
    "idx_local = idx.tz_localize(tz='UTC')\n",
    "idx_est = idx_local.tz_convert(tz='US/Eastern')\n",
    "idx_est_ds = idx_est - one_hour    #daytime savings adjustment\n",
    "ones = [1]*len(school_hash_time)\n",
    "#ones\n",
    "school_hash = pd.Series(ones, index=idx_est_ds)\n",
    "school_per_minute = school_hash.resample('1min').sum().fillna(0)"
   ]
  },
  {
   "cell_type": "code",
   "execution_count": 41,
   "metadata": {
    "scrolled": true
   },
   "outputs": [
    {
     "data": {
      "text/html": [
       "<div id=\"vise51c600183aa4a62b8d51ce163a9393c\"></div>\n",
       "<script>\n",
       "   ( function() {\n",
       "     var _do_plot = function() {\n",
       "       if (typeof vg === 'undefined') {\n",
       "         window.addEventListener('vincent_libs_loaded', _do_plot)\n",
       "         return;\n",
       "       }\n",
       "       vg.parse.spec({\"axes\": [{\"scale\": \"x\", \"title\": \"Time\", \"type\": \"x\"}, {\"scale\": \"y\", \"title\": \"Hashtag frequencies\", \"type\": \"y\"}], \"data\": [{\"name\": \"table\", \"values\": [{\"col\": \"data\", \"idx\": 1521908580000, \"val\": 1}, {\"col\": \"data\", \"idx\": 1521908640000, \"val\": 1}, {\"col\": \"data\", \"idx\": 1521908700000, \"val\": 1}, {\"col\": \"data\", \"idx\": 1521908760000, \"val\": 3}, {\"col\": \"data\", \"idx\": 1521908820000, \"val\": 1}, {\"col\": \"data\", \"idx\": 1521908880000, \"val\": 1}, {\"col\": \"data\", \"idx\": 1521908940000, \"val\": 3}, {\"col\": \"data\", \"idx\": 1521909000000, \"val\": 1}, {\"col\": \"data\", \"idx\": 1521909060000, \"val\": 6}, {\"col\": \"data\", \"idx\": 1521909120000, \"val\": 1}, {\"col\": \"data\", \"idx\": 1521909180000, \"val\": 0}, {\"col\": \"data\", \"idx\": 1521909240000, \"val\": 1}, {\"col\": \"data\", \"idx\": 1521909300000, \"val\": 2}, {\"col\": \"data\", \"idx\": 1521909360000, \"val\": 1}, {\"col\": \"data\", \"idx\": 1521909420000, \"val\": 2}, {\"col\": \"data\", \"idx\": 1521909480000, \"val\": 2}, {\"col\": \"data\", \"idx\": 1521909540000, \"val\": 2}, {\"col\": \"data\", \"idx\": 1521909600000, \"val\": 1}, {\"col\": \"data\", \"idx\": 1521909660000, \"val\": 2}, {\"col\": \"data\", \"idx\": 1521909720000, \"val\": 1}, {\"col\": \"data\", \"idx\": 1521909780000, \"val\": 0}, {\"col\": \"data\", \"idx\": 1521909840000, \"val\": 1}, {\"col\": \"data\", \"idx\": 1521909900000, \"val\": 1}, {\"col\": \"data\", \"idx\": 1521909960000, \"val\": 1}, {\"col\": \"data\", \"idx\": 1521910020000, \"val\": 0}, {\"col\": \"data\", \"idx\": 1521910080000, \"val\": 3}, {\"col\": \"data\", \"idx\": 1521910140000, \"val\": 0}, {\"col\": \"data\", \"idx\": 1521910200000, \"val\": 2}, {\"col\": \"data\", \"idx\": 1521910260000, \"val\": 0}, {\"col\": \"data\", \"idx\": 1521910320000, \"val\": 1}, {\"col\": \"data\", \"idx\": 1521910380000, \"val\": 1}, {\"col\": \"data\", \"idx\": 1521910440000, \"val\": 0}, {\"col\": \"data\", \"idx\": 1521910500000, \"val\": 1}, {\"col\": \"data\", \"idx\": 1521910560000, \"val\": 2}, {\"col\": \"data\", \"idx\": 1521910620000, \"val\": 1}, {\"col\": \"data\", \"idx\": 1521910680000, \"val\": 3}, {\"col\": \"data\", \"idx\": 1521910740000, \"val\": 4}, {\"col\": \"data\", \"idx\": 1521910800000, \"val\": 1}, {\"col\": \"data\", \"idx\": 1521910860000, \"val\": 1}, {\"col\": \"data\", \"idx\": 1521910920000, \"val\": 1}, {\"col\": \"data\", \"idx\": 1521910980000, \"val\": 0}, {\"col\": \"data\", \"idx\": 1521911040000, \"val\": 2}, {\"col\": \"data\", \"idx\": 1521911100000, \"val\": 3}, {\"col\": \"data\", \"idx\": 1521911160000, \"val\": 0}, {\"col\": \"data\", \"idx\": 1521911220000, \"val\": 0}, {\"col\": \"data\", \"idx\": 1521911280000, \"val\": 0}, {\"col\": \"data\", \"idx\": 1521911340000, \"val\": 0}, {\"col\": \"data\", \"idx\": 1521911400000, \"val\": 0}, {\"col\": \"data\", \"idx\": 1521911460000, \"val\": 0}, {\"col\": \"data\", \"idx\": 1521911520000, \"val\": 0}, {\"col\": \"data\", \"idx\": 1521911580000, \"val\": 0}, {\"col\": \"data\", \"idx\": 1521911640000, \"val\": 0}, {\"col\": \"data\", \"idx\": 1521911700000, \"val\": 0}, {\"col\": \"data\", \"idx\": 1521911760000, \"val\": 0}, {\"col\": \"data\", \"idx\": 1521911820000, \"val\": 0}, {\"col\": \"data\", \"idx\": 1521911880000, \"val\": 0}, {\"col\": \"data\", \"idx\": 1521911940000, \"val\": 0}, {\"col\": \"data\", \"idx\": 1521912000000, \"val\": 0}, {\"col\": \"data\", \"idx\": 1521912060000, \"val\": 0}, {\"col\": \"data\", \"idx\": 1521912120000, \"val\": 0}, {\"col\": \"data\", \"idx\": 1521912180000, \"val\": 0}, {\"col\": \"data\", \"idx\": 1521912240000, \"val\": 0}, {\"col\": \"data\", \"idx\": 1521912300000, \"val\": 0}, {\"col\": \"data\", \"idx\": 1521912360000, \"val\": 0}, {\"col\": \"data\", \"idx\": 1521912420000, \"val\": 0}, {\"col\": \"data\", \"idx\": 1521912480000, \"val\": 0}, {\"col\": \"data\", \"idx\": 1521912540000, \"val\": 0}, {\"col\": \"data\", \"idx\": 1521912600000, \"val\": 0}, {\"col\": \"data\", \"idx\": 1521912660000, \"val\": 0}, {\"col\": \"data\", \"idx\": 1521912720000, \"val\": 0}, {\"col\": \"data\", \"idx\": 1521912780000, \"val\": 0}, {\"col\": \"data\", \"idx\": 1521912840000, \"val\": 0}, {\"col\": \"data\", \"idx\": 1521912900000, \"val\": 0}, {\"col\": \"data\", \"idx\": 1521912960000, \"val\": 0}, {\"col\": \"data\", \"idx\": 1521913020000, \"val\": 0}, {\"col\": \"data\", \"idx\": 1521913080000, \"val\": 0}, {\"col\": \"data\", \"idx\": 1521913140000, \"val\": 0}, {\"col\": \"data\", \"idx\": 1521913200000, \"val\": 0}, {\"col\": \"data\", \"idx\": 1521913260000, \"val\": 0}, {\"col\": \"data\", \"idx\": 1521913320000, \"val\": 0}, {\"col\": \"data\", \"idx\": 1521913380000, \"val\": 0}, {\"col\": \"data\", \"idx\": 1521913440000, \"val\": 0}, {\"col\": \"data\", \"idx\": 1521913500000, \"val\": 0}, {\"col\": \"data\", \"idx\": 1521913560000, \"val\": 0}, {\"col\": \"data\", \"idx\": 1521913620000, \"val\": 0}, {\"col\": \"data\", \"idx\": 1521913680000, \"val\": 0}, {\"col\": \"data\", \"idx\": 1521913740000, \"val\": 0}, {\"col\": \"data\", \"idx\": 1521913800000, \"val\": 0}, {\"col\": \"data\", \"idx\": 1521913860000, \"val\": 0}, {\"col\": \"data\", \"idx\": 1521913920000, \"val\": 0}, {\"col\": \"data\", \"idx\": 1521913980000, \"val\": 0}, {\"col\": \"data\", \"idx\": 1521914040000, \"val\": 0}, {\"col\": \"data\", \"idx\": 1521914100000, \"val\": 0}, {\"col\": \"data\", \"idx\": 1521914160000, \"val\": 0}, {\"col\": \"data\", \"idx\": 1521914220000, \"val\": 0}, {\"col\": \"data\", \"idx\": 1521914280000, \"val\": 0}, {\"col\": \"data\", \"idx\": 1521914340000, \"val\": 0}, {\"col\": \"data\", \"idx\": 1521914400000, \"val\": 0}, {\"col\": \"data\", \"idx\": 1521914460000, \"val\": 0}, {\"col\": \"data\", \"idx\": 1521914520000, \"val\": 0}, {\"col\": \"data\", \"idx\": 1521914580000, \"val\": 0}, {\"col\": \"data\", \"idx\": 1521914640000, \"val\": 0}, {\"col\": \"data\", \"idx\": 1521914700000, \"val\": 0}, {\"col\": \"data\", \"idx\": 1521914760000, \"val\": 0}, {\"col\": \"data\", \"idx\": 1521914820000, \"val\": 0}, {\"col\": \"data\", \"idx\": 1521914880000, \"val\": 0}, {\"col\": \"data\", \"idx\": 1521914940000, \"val\": 0}, {\"col\": \"data\", \"idx\": 1521915000000, \"val\": 0}, {\"col\": \"data\", \"idx\": 1521915060000, \"val\": 0}, {\"col\": \"data\", \"idx\": 1521915120000, \"val\": 0}, {\"col\": \"data\", \"idx\": 1521915180000, \"val\": 0}, {\"col\": \"data\", \"idx\": 1521915240000, \"val\": 0}, {\"col\": \"data\", \"idx\": 1521915300000, \"val\": 0}, {\"col\": \"data\", \"idx\": 1521915360000, \"val\": 0}, {\"col\": \"data\", \"idx\": 1521915420000, \"val\": 0}, {\"col\": \"data\", \"idx\": 1521915480000, \"val\": 0}, {\"col\": \"data\", \"idx\": 1521915540000, \"val\": 0}, {\"col\": \"data\", \"idx\": 1521915600000, \"val\": 0}, {\"col\": \"data\", \"idx\": 1521915660000, \"val\": 0}, {\"col\": \"data\", \"idx\": 1521915720000, \"val\": 0}, {\"col\": \"data\", \"idx\": 1521915780000, \"val\": 0}, {\"col\": \"data\", \"idx\": 1521915840000, \"val\": 0}, {\"col\": \"data\", \"idx\": 1521915900000, \"val\": 0}, {\"col\": \"data\", \"idx\": 1521915960000, \"val\": 0}, {\"col\": \"data\", \"idx\": 1521916020000, \"val\": 0}, {\"col\": \"data\", \"idx\": 1521916080000, \"val\": 0}, {\"col\": \"data\", \"idx\": 1521916140000, \"val\": 0}, {\"col\": \"data\", \"idx\": 1521916200000, \"val\": 0}, {\"col\": \"data\", \"idx\": 1521916260000, \"val\": 0}, {\"col\": \"data\", \"idx\": 1521916320000, \"val\": 0}, {\"col\": \"data\", \"idx\": 1521916380000, \"val\": 0}, {\"col\": \"data\", \"idx\": 1521916440000, \"val\": 0}, {\"col\": \"data\", \"idx\": 1521916500000, \"val\": 0}, {\"col\": \"data\", \"idx\": 1521916560000, \"val\": 0}, {\"col\": \"data\", \"idx\": 1521916620000, \"val\": 0}, {\"col\": \"data\", \"idx\": 1521916680000, \"val\": 0}, {\"col\": \"data\", \"idx\": 1521916740000, \"val\": 0}, {\"col\": \"data\", \"idx\": 1521916800000, \"val\": 0}, {\"col\": \"data\", \"idx\": 1521916860000, \"val\": 0}, {\"col\": \"data\", \"idx\": 1521916920000, \"val\": 0}, {\"col\": \"data\", \"idx\": 1521916980000, \"val\": 0}, {\"col\": \"data\", \"idx\": 1521917040000, \"val\": 0}, {\"col\": \"data\", \"idx\": 1521917100000, \"val\": 0}, {\"col\": \"data\", \"idx\": 1521917160000, \"val\": 0}, {\"col\": \"data\", \"idx\": 1521917220000, \"val\": 0}, {\"col\": \"data\", \"idx\": 1521917280000, \"val\": 0}, {\"col\": \"data\", \"idx\": 1521917340000, \"val\": 0}, {\"col\": \"data\", \"idx\": 1521917400000, \"val\": 0}, {\"col\": \"data\", \"idx\": 1521917460000, \"val\": 0}, {\"col\": \"data\", \"idx\": 1521917520000, \"val\": 0}, {\"col\": \"data\", \"idx\": 1521917580000, \"val\": 0}, {\"col\": \"data\", \"idx\": 1521917640000, \"val\": 0}, {\"col\": \"data\", \"idx\": 1521917700000, \"val\": 0}, {\"col\": \"data\", \"idx\": 1521917760000, \"val\": 0}, {\"col\": \"data\", \"idx\": 1521917820000, \"val\": 0}, {\"col\": \"data\", \"idx\": 1521917880000, \"val\": 0}, {\"col\": \"data\", \"idx\": 1521917940000, \"val\": 0}, {\"col\": \"data\", \"idx\": 1521918000000, \"val\": 2}, {\"col\": \"data\", \"idx\": 1521918060000, \"val\": 1}, {\"col\": \"data\", \"idx\": 1521918120000, \"val\": 1}, {\"col\": \"data\", \"idx\": 1521918180000, \"val\": 0}, {\"col\": \"data\", \"idx\": 1521918240000, \"val\": 2}, {\"col\": \"data\", \"idx\": 1521918300000, \"val\": 6}, {\"col\": \"data\", \"idx\": 1521918360000, \"val\": 2}, {\"col\": \"data\", \"idx\": 1521918420000, \"val\": 2}, {\"col\": \"data\", \"idx\": 1521918480000, \"val\": 2}, {\"col\": \"data\", \"idx\": 1521918540000, \"val\": 2}, {\"col\": \"data\", \"idx\": 1521918600000, \"val\": 2}, {\"col\": \"data\", \"idx\": 1521918660000, \"val\": 3}, {\"col\": \"data\", \"idx\": 1521918720000, \"val\": 1}, {\"col\": \"data\", \"idx\": 1521918780000, \"val\": 0}, {\"col\": \"data\", \"idx\": 1521918840000, \"val\": 0}, {\"col\": \"data\", \"idx\": 1521918900000, \"val\": 0}, {\"col\": \"data\", \"idx\": 1521918960000, \"val\": 3}, {\"col\": \"data\", \"idx\": 1521919020000, \"val\": 1}, {\"col\": \"data\", \"idx\": 1521919080000, \"val\": 2}, {\"col\": \"data\", \"idx\": 1521919140000, \"val\": 0}, {\"col\": \"data\", \"idx\": 1521919200000, \"val\": 0}, {\"col\": \"data\", \"idx\": 1521919260000, \"val\": 0}, {\"col\": \"data\", \"idx\": 1521919320000, \"val\": 0}, {\"col\": \"data\", \"idx\": 1521919380000, \"val\": 1}, {\"col\": \"data\", \"idx\": 1521919440000, \"val\": 1}, {\"col\": \"data\", \"idx\": 1521919500000, \"val\": 0}, {\"col\": \"data\", \"idx\": 1521919560000, \"val\": 0}, {\"col\": \"data\", \"idx\": 1521919620000, \"val\": 0}, {\"col\": \"data\", \"idx\": 1521919680000, \"val\": 1}, {\"col\": \"data\", \"idx\": 1521919740000, \"val\": 0}, {\"col\": \"data\", \"idx\": 1521919800000, \"val\": 1}, {\"col\": \"data\", \"idx\": 1521919860000, \"val\": 0}, {\"col\": \"data\", \"idx\": 1521919920000, \"val\": 0}, {\"col\": \"data\", \"idx\": 1521919980000, \"val\": 0}, {\"col\": \"data\", \"idx\": 1521920040000, \"val\": 0}, {\"col\": \"data\", \"idx\": 1521920100000, \"val\": 2}, {\"col\": \"data\", \"idx\": 1521920160000, \"val\": 1}, {\"col\": \"data\", \"idx\": 1521920220000, \"val\": 0}, {\"col\": \"data\", \"idx\": 1521920280000, \"val\": 1}, {\"col\": \"data\", \"idx\": 1521920340000, \"val\": 0}, {\"col\": \"data\", \"idx\": 1521920400000, \"val\": 1}, {\"col\": \"data\", \"idx\": 1521920460000, \"val\": 1}, {\"col\": \"data\", \"idx\": 1521920520000, \"val\": 0}, {\"col\": \"data\", \"idx\": 1521920580000, \"val\": 0}, {\"col\": \"data\", \"idx\": 1521920640000, \"val\": 0}, {\"col\": \"data\", \"idx\": 1521920700000, \"val\": 1}, {\"col\": \"data\", \"idx\": 1521920760000, \"val\": 1}, {\"col\": \"data\", \"idx\": 1521920820000, \"val\": 1}, {\"col\": \"data\", \"idx\": 1521920880000, \"val\": 1}, {\"col\": \"data\", \"idx\": 1521920940000, \"val\": 1}, {\"col\": \"data\", \"idx\": 1521921000000, \"val\": 0}, {\"col\": \"data\", \"idx\": 1521921060000, \"val\": 1}, {\"col\": \"data\", \"idx\": 1521921120000, \"val\": 3}, {\"col\": \"data\", \"idx\": 1521921180000, \"val\": 0}, {\"col\": \"data\", \"idx\": 1521921240000, \"val\": 3}, {\"col\": \"data\", \"idx\": 1521921300000, \"val\": 2}, {\"col\": \"data\", \"idx\": 1521921360000, \"val\": 0}, {\"col\": \"data\", \"idx\": 1521921420000, \"val\": 0}, {\"col\": \"data\", \"idx\": 1521921480000, \"val\": 1}, {\"col\": \"data\", \"idx\": 1521921540000, \"val\": 4}, {\"col\": \"data\", \"idx\": 1521921600000, \"val\": 0}, {\"col\": \"data\", \"idx\": 1521921660000, \"val\": 1}, {\"col\": \"data\", \"idx\": 1521921720000, \"val\": 1}, {\"col\": \"data\", \"idx\": 1521921780000, \"val\": 1}, {\"col\": \"data\", \"idx\": 1521921840000, \"val\": 4}, {\"col\": \"data\", \"idx\": 1521921900000, \"val\": 2}, {\"col\": \"data\", \"idx\": 1521921960000, \"val\": 4}, {\"col\": \"data\", \"idx\": 1521922020000, \"val\": 0}, {\"col\": \"data\", \"idx\": 1521922080000, \"val\": 2}, {\"col\": \"data\", \"idx\": 1521922140000, \"val\": 3}, {\"col\": \"data\", \"idx\": 1521922200000, \"val\": 1}, {\"col\": \"data\", \"idx\": 1521922260000, \"val\": 1}, {\"col\": \"data\", \"idx\": 1521922320000, \"val\": 2}, {\"col\": \"data\", \"idx\": 1521922380000, \"val\": 3}, {\"col\": \"data\", \"idx\": 1521922440000, \"val\": 1}, {\"col\": \"data\", \"idx\": 1521922500000, \"val\": 5}, {\"col\": \"data\", \"idx\": 1521922560000, \"val\": 1}, {\"col\": \"data\", \"idx\": 1521922620000, \"val\": 1}, {\"col\": \"data\", \"idx\": 1521922680000, \"val\": 3}, {\"col\": \"data\", \"idx\": 1521922740000, \"val\": 2}, {\"col\": \"data\", \"idx\": 1521922800000, \"val\": 0}, {\"col\": \"data\", \"idx\": 1521922860000, \"val\": 2}, {\"col\": \"data\", \"idx\": 1521922920000, \"val\": 3}, {\"col\": \"data\", \"idx\": 1521922980000, \"val\": 1}, {\"col\": \"data\", \"idx\": 1521923040000, \"val\": 0}, {\"col\": \"data\", \"idx\": 1521923100000, \"val\": 1}, {\"col\": \"data\", \"idx\": 1521923160000, \"val\": 0}, {\"col\": \"data\", \"idx\": 1521923220000, \"val\": 1}, {\"col\": \"data\", \"idx\": 1521923280000, \"val\": 2}, {\"col\": \"data\", \"idx\": 1521923340000, \"val\": 2}, {\"col\": \"data\", \"idx\": 1521923400000, \"val\": 1}, {\"col\": \"data\", \"idx\": 1521923460000, \"val\": 2}, {\"col\": \"data\", \"idx\": 1521923520000, \"val\": 1}, {\"col\": \"data\", \"idx\": 1521923580000, \"val\": 2}, {\"col\": \"data\", \"idx\": 1521923640000, \"val\": 1}, {\"col\": \"data\", \"idx\": 1521923700000, \"val\": 1}, {\"col\": \"data\", \"idx\": 1521923760000, \"val\": 0}, {\"col\": \"data\", \"idx\": 1521923820000, \"val\": 2}, {\"col\": \"data\", \"idx\": 1521923880000, \"val\": 3}, {\"col\": \"data\", \"idx\": 1521923940000, \"val\": 0}, {\"col\": \"data\", \"idx\": 1521924000000, \"val\": 0}, {\"col\": \"data\", \"idx\": 1521924060000, \"val\": 0}, {\"col\": \"data\", \"idx\": 1521924120000, \"val\": 0}, {\"col\": \"data\", \"idx\": 1521924180000, \"val\": 0}, {\"col\": \"data\", \"idx\": 1521924240000, \"val\": 1}, {\"col\": \"data\", \"idx\": 1521924300000, \"val\": 0}, {\"col\": \"data\", \"idx\": 1521924360000, \"val\": 2}, {\"col\": \"data\", \"idx\": 1521924420000, \"val\": 4}, {\"col\": \"data\", \"idx\": 1521924480000, \"val\": 2}, {\"col\": \"data\", \"idx\": 1521924540000, \"val\": 0}, {\"col\": \"data\", \"idx\": 1521924600000, \"val\": 3}, {\"col\": \"data\", \"idx\": 1521924660000, \"val\": 1}, {\"col\": \"data\", \"idx\": 1521924720000, \"val\": 1}, {\"col\": \"data\", \"idx\": 1521924780000, \"val\": 2}, {\"col\": \"data\", \"idx\": 1521924840000, \"val\": 1}, {\"col\": \"data\", \"idx\": 1521924900000, \"val\": 1}, {\"col\": \"data\", \"idx\": 1521924960000, \"val\": 0}, {\"col\": \"data\", \"idx\": 1521925020000, \"val\": 3}, {\"col\": \"data\", \"idx\": 1521925080000, \"val\": 2}, {\"col\": \"data\", \"idx\": 1521925140000, \"val\": 0}, {\"col\": \"data\", \"idx\": 1521925200000, \"val\": 2}, {\"col\": \"data\", \"idx\": 1521925260000, \"val\": 2}, {\"col\": \"data\", \"idx\": 1521925320000, \"val\": 2}, {\"col\": \"data\", \"idx\": 1521925380000, \"val\": 0}, {\"col\": \"data\", \"idx\": 1521925440000, \"val\": 2}, {\"col\": \"data\", \"idx\": 1521925500000, \"val\": 2}, {\"col\": \"data\", \"idx\": 1521925560000, \"val\": 1}, {\"col\": \"data\", \"idx\": 1521925620000, \"val\": 1}, {\"col\": \"data\", \"idx\": 1521925680000, \"val\": 2}, {\"col\": \"data\", \"idx\": 1521925740000, \"val\": 3}, {\"col\": \"data\", \"idx\": 1521925800000, \"val\": 2}, {\"col\": \"data\", \"idx\": 1521925860000, \"val\": 3}, {\"col\": \"data\", \"idx\": 1521925920000, \"val\": 2}, {\"col\": \"data\", \"idx\": 1521925980000, \"val\": 1}, {\"col\": \"data\", \"idx\": 1521926040000, \"val\": 1}, {\"col\": \"data\", \"idx\": 1521926100000, \"val\": 0}, {\"col\": \"data\", \"idx\": 1521926160000, \"val\": 2}, {\"col\": \"data\", \"idx\": 1521926220000, \"val\": 2}, {\"col\": \"data\", \"idx\": 1521926280000, \"val\": 1}, {\"col\": \"data\", \"idx\": 1521926340000, \"val\": 0}, {\"col\": \"data\", \"idx\": 1521926400000, \"val\": 1}, {\"col\": \"data\", \"idx\": 1521926460000, \"val\": 1}, {\"col\": \"data\", \"idx\": 1521926520000, \"val\": 1}, {\"col\": \"data\", \"idx\": 1521926580000, \"val\": 0}, {\"col\": \"data\", \"idx\": 1521926640000, \"val\": 1}, {\"col\": \"data\", \"idx\": 1521926700000, \"val\": 3}, {\"col\": \"data\", \"idx\": 1521926760000, \"val\": 1}, {\"col\": \"data\", \"idx\": 1521926820000, \"val\": 0}, {\"col\": \"data\", \"idx\": 1521926880000, \"val\": 2}, {\"col\": \"data\", \"idx\": 1521926940000, \"val\": 0}, {\"col\": \"data\", \"idx\": 1521927000000, \"val\": 3}, {\"col\": \"data\", \"idx\": 1521927060000, \"val\": 2}, {\"col\": \"data\", \"idx\": 1521927120000, \"val\": 1}, {\"col\": \"data\", \"idx\": 1521927180000, \"val\": 0}, {\"col\": \"data\", \"idx\": 1521927240000, \"val\": 0}, {\"col\": \"data\", \"idx\": 1521927300000, \"val\": 0}, {\"col\": \"data\", \"idx\": 1521927360000, \"val\": 0}, {\"col\": \"data\", \"idx\": 1521927420000, \"val\": 0}, {\"col\": \"data\", \"idx\": 1521927480000, \"val\": 0}, {\"col\": \"data\", \"idx\": 1521927540000, \"val\": 0}, {\"col\": \"data\", \"idx\": 1521927600000, \"val\": 0}, {\"col\": \"data\", \"idx\": 1521927660000, \"val\": 0}, {\"col\": \"data\", \"idx\": 1521927720000, \"val\": 1}, {\"col\": \"data\", \"idx\": 1521927780000, \"val\": 0}, {\"col\": \"data\", \"idx\": 1521927840000, \"val\": 2}, {\"col\": \"data\", \"idx\": 1521927900000, \"val\": 0}, {\"col\": \"data\", \"idx\": 1521927960000, \"val\": 0}, {\"col\": \"data\", \"idx\": 1521928020000, \"val\": 0}, {\"col\": \"data\", \"idx\": 1521928080000, \"val\": 1}, {\"col\": \"data\", \"idx\": 1521928140000, \"val\": 4}, {\"col\": \"data\", \"idx\": 1521928200000, \"val\": 1}, {\"col\": \"data\", \"idx\": 1521928260000, \"val\": 1}, {\"col\": \"data\", \"idx\": 1521928320000, \"val\": 1}, {\"col\": \"data\", \"idx\": 1521928380000, \"val\": 1}, {\"col\": \"data\", \"idx\": 1521928440000, \"val\": 1}, {\"col\": \"data\", \"idx\": 1521928500000, \"val\": 0}, {\"col\": \"data\", \"idx\": 1521928560000, \"val\": 3}, {\"col\": \"data\", \"idx\": 1521928620000, \"val\": 0}, {\"col\": \"data\", \"idx\": 1521928680000, \"val\": 1}, {\"col\": \"data\", \"idx\": 1521928740000, \"val\": 1}, {\"col\": \"data\", \"idx\": 1521928800000, \"val\": 1}, {\"col\": \"data\", \"idx\": 1521928860000, \"val\": 2}, {\"col\": \"data\", \"idx\": 1521928920000, \"val\": 2}, {\"col\": \"data\", \"idx\": 1521928980000, \"val\": 1}, {\"col\": \"data\", \"idx\": 1521929040000, \"val\": 1}, {\"col\": \"data\", \"idx\": 1521929100000, \"val\": 2}, {\"col\": \"data\", \"idx\": 1521929160000, \"val\": 4}, {\"col\": \"data\", \"idx\": 1521929220000, \"val\": 0}, {\"col\": \"data\", \"idx\": 1521929280000, \"val\": 0}, {\"col\": \"data\", \"idx\": 1521929340000, \"val\": 1}, {\"col\": \"data\", \"idx\": 1521929400000, \"val\": 1}, {\"col\": \"data\", \"idx\": 1521929460000, \"val\": 0}, {\"col\": \"data\", \"idx\": 1521929520000, \"val\": 1}, {\"col\": \"data\", \"idx\": 1521929580000, \"val\": 2}, {\"col\": \"data\", \"idx\": 1521929640000, \"val\": 1}, {\"col\": \"data\", \"idx\": 1521929700000, \"val\": 0}, {\"col\": \"data\", \"idx\": 1521929760000, \"val\": 0}, {\"col\": \"data\", \"idx\": 1521929820000, \"val\": 0}, {\"col\": \"data\", \"idx\": 1521929880000, \"val\": 1}, {\"col\": \"data\", \"idx\": 1521929940000, \"val\": 0}, {\"col\": \"data\", \"idx\": 1521930000000, \"val\": 0}, {\"col\": \"data\", \"idx\": 1521930060000, \"val\": 0}, {\"col\": \"data\", \"idx\": 1521930120000, \"val\": 1}, {\"col\": \"data\", \"idx\": 1521930180000, \"val\": 2}, {\"col\": \"data\", \"idx\": 1521930240000, \"val\": 1}, {\"col\": \"data\", \"idx\": 1521930300000, \"val\": 0}, {\"col\": \"data\", \"idx\": 1521930360000, \"val\": 1}, {\"col\": \"data\", \"idx\": 1521930420000, \"val\": 0}, {\"col\": \"data\", \"idx\": 1521930480000, \"val\": 2}, {\"col\": \"data\", \"idx\": 1521930540000, \"val\": 1}, {\"col\": \"data\", \"idx\": 1521930600000, \"val\": 2}, {\"col\": \"data\", \"idx\": 1521930660000, \"val\": 3}, {\"col\": \"data\", \"idx\": 1521930720000, \"val\": 1}, {\"col\": \"data\", \"idx\": 1521930780000, \"val\": 3}, {\"col\": \"data\", \"idx\": 1521930840000, \"val\": 1}, {\"col\": \"data\", \"idx\": 1521930900000, \"val\": 1}, {\"col\": \"data\", \"idx\": 1521930960000, \"val\": 0}, {\"col\": \"data\", \"idx\": 1521931020000, \"val\": 1}, {\"col\": \"data\", \"idx\": 1521931080000, \"val\": 1}, {\"col\": \"data\", \"idx\": 1521931140000, \"val\": 4}, {\"col\": \"data\", \"idx\": 1521931200000, \"val\": 0}, {\"col\": \"data\", \"idx\": 1521931260000, \"val\": 1}, {\"col\": \"data\", \"idx\": 1521931320000, \"val\": 0}, {\"col\": \"data\", \"idx\": 1521931380000, \"val\": 2}, {\"col\": \"data\", \"idx\": 1521931440000, \"val\": 1}, {\"col\": \"data\", \"idx\": 1521931500000, \"val\": 0}, {\"col\": \"data\", \"idx\": 1521931560000, \"val\": 1}, {\"col\": \"data\", \"idx\": 1521931620000, \"val\": 0}, {\"col\": \"data\", \"idx\": 1521931680000, \"val\": 2}, {\"col\": \"data\", \"idx\": 1521931740000, \"val\": 0}, {\"col\": \"data\", \"idx\": 1521931800000, \"val\": 1}, {\"col\": \"data\", \"idx\": 1521931860000, \"val\": 1}, {\"col\": \"data\", \"idx\": 1521931920000, \"val\": 1}, {\"col\": \"data\", \"idx\": 1521931980000, \"val\": 1}, {\"col\": \"data\", \"idx\": 1521932040000, \"val\": 0}, {\"col\": \"data\", \"idx\": 1521932100000, \"val\": 0}, {\"col\": \"data\", \"idx\": 1521932160000, \"val\": 0}, {\"col\": \"data\", \"idx\": 1521932220000, \"val\": 0}, {\"col\": \"data\", \"idx\": 1521932280000, \"val\": 0}, {\"col\": \"data\", \"idx\": 1521932340000, \"val\": 0}, {\"col\": \"data\", \"idx\": 1521932400000, \"val\": 0}, {\"col\": \"data\", \"idx\": 1521932460000, \"val\": 0}, {\"col\": \"data\", \"idx\": 1521932520000, \"val\": 0}, {\"col\": \"data\", \"idx\": 1521932580000, \"val\": 0}, {\"col\": \"data\", \"idx\": 1521932640000, \"val\": 0}, {\"col\": \"data\", \"idx\": 1521932700000, \"val\": 0}, {\"col\": \"data\", \"idx\": 1521932760000, \"val\": 0}, {\"col\": \"data\", \"idx\": 1521932820000, \"val\": 0}, {\"col\": \"data\", \"idx\": 1521932880000, \"val\": 0}, {\"col\": \"data\", \"idx\": 1521932940000, \"val\": 0}, {\"col\": \"data\", \"idx\": 1521933000000, \"val\": 0}, {\"col\": \"data\", \"idx\": 1521933060000, \"val\": 0}, {\"col\": \"data\", \"idx\": 1521933120000, \"val\": 0}, {\"col\": \"data\", \"idx\": 1521933180000, \"val\": 0}, {\"col\": \"data\", \"idx\": 1521933240000, \"val\": 0}, {\"col\": \"data\", \"idx\": 1521933300000, \"val\": 0}, {\"col\": \"data\", \"idx\": 1521933360000, \"val\": 0}, {\"col\": \"data\", \"idx\": 1521933420000, \"val\": 0}, {\"col\": \"data\", \"idx\": 1521933480000, \"val\": 0}, {\"col\": \"data\", \"idx\": 1521933540000, \"val\": 0}, {\"col\": \"data\", \"idx\": 1521933600000, \"val\": 0}, {\"col\": \"data\", \"idx\": 1521933660000, \"val\": 2}, {\"col\": \"data\", \"idx\": 1521933720000, \"val\": 1}, {\"col\": \"data\", \"idx\": 1521933780000, \"val\": 2}, {\"col\": \"data\", \"idx\": 1521933840000, \"val\": 2}, {\"col\": \"data\", \"idx\": 1521933900000, \"val\": 3}, {\"col\": \"data\", \"idx\": 1521933960000, \"val\": 2}, {\"col\": \"data\", \"idx\": 1521934020000, \"val\": 5}, {\"col\": \"data\", \"idx\": 1521934080000, \"val\": 6}, {\"col\": \"data\", \"idx\": 1521934140000, \"val\": 2}, {\"col\": \"data\", \"idx\": 1521934200000, \"val\": 3}, {\"col\": \"data\", \"idx\": 1521934260000, \"val\": 2}, {\"col\": \"data\", \"idx\": 1521934320000, \"val\": 2}, {\"col\": \"data\", \"idx\": 1521934380000, \"val\": 3}, {\"col\": \"data\", \"idx\": 1521934440000, \"val\": 1}, {\"col\": \"data\", \"idx\": 1521934500000, \"val\": 1}, {\"col\": \"data\", \"idx\": 1521934560000, \"val\": 2}, {\"col\": \"data\", \"idx\": 1521934620000, \"val\": 2}, {\"col\": \"data\", \"idx\": 1521934680000, \"val\": 0}, {\"col\": \"data\", \"idx\": 1521934740000, \"val\": 1}, {\"col\": \"data\", \"idx\": 1521934800000, \"val\": 0}, {\"col\": \"data\", \"idx\": 1521934860000, \"val\": 0}, {\"col\": \"data\", \"idx\": 1521934920000, \"val\": 2}, {\"col\": \"data\", \"idx\": 1521934980000, \"val\": 0}, {\"col\": \"data\", \"idx\": 1521935040000, \"val\": 0}, {\"col\": \"data\", \"idx\": 1521935100000, \"val\": 0}, {\"col\": \"data\", \"idx\": 1521935160000, \"val\": 1}, {\"col\": \"data\", \"idx\": 1521935220000, \"val\": 0}, {\"col\": \"data\", \"idx\": 1521935280000, \"val\": 1}, {\"col\": \"data\", \"idx\": 1521935340000, \"val\": 0}, {\"col\": \"data\", \"idx\": 1521935400000, \"val\": 2}, {\"col\": \"data\", \"idx\": 1521935460000, \"val\": 3}, {\"col\": \"data\", \"idx\": 1521935520000, \"val\": 0}, {\"col\": \"data\", \"idx\": 1521935580000, \"val\": 1}, {\"col\": \"data\", \"idx\": 1521935640000, \"val\": 1}]}], \"height\": 500, \"legends\": [], \"marks\": [{\"from\": {\"data\": \"table\", \"transform\": [{\"keys\": [\"data.col\"], \"type\": \"facet\"}]}, \"marks\": [{\"properties\": {\"enter\": {\"stroke\": {\"field\": \"data.col\", \"scale\": \"color\"}, \"strokeWidth\": {\"value\": 2}, \"x\": {\"field\": \"data.idx\", \"scale\": \"x\"}, \"y\": {\"field\": \"data.val\", \"scale\": \"y\"}}}, \"type\": \"line\"}], \"type\": \"group\"}], \"padding\": \"auto\", \"scales\": [{\"domain\": {\"data\": \"table\", \"field\": \"data.idx\"}, \"name\": \"x\", \"range\": \"width\", \"type\": \"time\"}, {\"domain\": {\"data\": \"table\", \"field\": \"data.val\"}, \"name\": \"y\", \"nice\": true, \"range\": \"height\"}, {\"domain\": {\"data\": \"table\", \"field\": \"data.col\"}, \"name\": \"color\", \"range\": \"category20\", \"type\": \"ordinal\"}], \"width\": 960}, function(chart) {\n",
       "         chart({el: \"#vise51c600183aa4a62b8d51ce163a9393c\"}).update();\n",
       "       });\n",
       "     };\n",
       "     _do_plot();\n",
       "   })();\n",
       "</script>\n",
       "<style>.vega canvas {width: 100%;}</style>\n",
       "        "
      ],
      "text/plain": [
       "<IPython.core.display.HTML object>"
      ]
     },
     "metadata": {},
     "output_type": "display_data"
    }
   ],
   "source": [
    "#Visualize the frequency of #shoolshooting was tweeted\n",
    "time_chart = vincent.Line(school_per_minute)\n",
    "time_chart.axis_titles(x='Time', y='Hashtag frequencies')\n",
    "time_chart.display()"
   ]
  },
  {
   "cell_type": "code",
   "execution_count": 42,
   "metadata": {},
   "outputs": [
    {
     "data": {
      "text/html": [
       "<div>\n",
       "<style scoped>\n",
       "    .dataframe tbody tr th:only-of-type {\n",
       "        vertical-align: middle;\n",
       "    }\n",
       "\n",
       "    .dataframe tbody tr th {\n",
       "        vertical-align: top;\n",
       "    }\n",
       "\n",
       "    .dataframe thead th {\n",
       "        text-align: right;\n",
       "    }\n",
       "</style>\n",
       "<table border=\"1\" class=\"dataframe\">\n",
       "  <thead>\n",
       "    <tr style=\"text-align: right;\">\n",
       "      <th></th>\n",
       "      <th>Again</th>\n",
       "      <th>Beach</th>\n",
       "      <th>Control</th>\n",
       "      <th>Enough</th>\n",
       "      <th>March</th>\n",
       "      <th>Violence</th>\n",
       "    </tr>\n",
       "  </thead>\n",
       "  <tbody>\n",
       "    <tr>\n",
       "      <th>2018-03-24 12:23:00-04:00</th>\n",
       "      <td>5</td>\n",
       "      <td>NaN</td>\n",
       "      <td>12</td>\n",
       "      <td>3</td>\n",
       "      <td>16</td>\n",
       "      <td>9</td>\n",
       "    </tr>\n",
       "    <tr>\n",
       "      <th>2018-03-24 12:24:00-04:00</th>\n",
       "      <td>3</td>\n",
       "      <td>NaN</td>\n",
       "      <td>18</td>\n",
       "      <td>3</td>\n",
       "      <td>27</td>\n",
       "      <td>14</td>\n",
       "    </tr>\n",
       "    <tr>\n",
       "      <th>2018-03-24 12:25:00-04:00</th>\n",
       "      <td>5</td>\n",
       "      <td>NaN</td>\n",
       "      <td>25</td>\n",
       "      <td>4</td>\n",
       "      <td>34</td>\n",
       "      <td>13</td>\n",
       "    </tr>\n",
       "    <tr>\n",
       "      <th>2018-03-24 12:26:00-04:00</th>\n",
       "      <td>8</td>\n",
       "      <td>NaN</td>\n",
       "      <td>38</td>\n",
       "      <td>8</td>\n",
       "      <td>42</td>\n",
       "      <td>19</td>\n",
       "    </tr>\n",
       "    <tr>\n",
       "      <th>2018-03-24 12:27:00-04:00</th>\n",
       "      <td>4</td>\n",
       "      <td>NaN</td>\n",
       "      <td>27</td>\n",
       "      <td>4</td>\n",
       "      <td>29</td>\n",
       "      <td>11</td>\n",
       "    </tr>\n",
       "    <tr>\n",
       "      <th>...</th>\n",
       "      <td>...</td>\n",
       "      <td>...</td>\n",
       "      <td>...</td>\n",
       "      <td>...</td>\n",
       "      <td>...</td>\n",
       "      <td>...</td>\n",
       "    </tr>\n",
       "    <tr>\n",
       "      <th>2018-03-24 19:51:00-04:00</th>\n",
       "      <td>23</td>\n",
       "      <td>2.0</td>\n",
       "      <td>37</td>\n",
       "      <td>53</td>\n",
       "      <td>63</td>\n",
       "      <td>12</td>\n",
       "    </tr>\n",
       "    <tr>\n",
       "      <th>2018-03-24 19:52:00-04:00</th>\n",
       "      <td>26</td>\n",
       "      <td>6.0</td>\n",
       "      <td>39</td>\n",
       "      <td>78</td>\n",
       "      <td>75</td>\n",
       "      <td>14</td>\n",
       "    </tr>\n",
       "    <tr>\n",
       "      <th>2018-03-24 19:53:00-04:00</th>\n",
       "      <td>20</td>\n",
       "      <td>5.0</td>\n",
       "      <td>36</td>\n",
       "      <td>52</td>\n",
       "      <td>59</td>\n",
       "      <td>11</td>\n",
       "    </tr>\n",
       "    <tr>\n",
       "      <th>2018-03-24 19:54:00-04:00</th>\n",
       "      <td>21</td>\n",
       "      <td>8.0</td>\n",
       "      <td>46</td>\n",
       "      <td>53</td>\n",
       "      <td>80</td>\n",
       "      <td>22</td>\n",
       "    </tr>\n",
       "    <tr>\n",
       "      <th>2018-03-24 19:55:00-04:00</th>\n",
       "      <td>13</td>\n",
       "      <td>5.0</td>\n",
       "      <td>23</td>\n",
       "      <td>34</td>\n",
       "      <td>40</td>\n",
       "      <td>15</td>\n",
       "    </tr>\n",
       "  </tbody>\n",
       "</table>\n",
       "<p>453 rows × 6 columns</p>\n",
       "</div>"
      ],
      "text/plain": [
       "                           Again  Beach  Control  Enough  March  Violence\n",
       "2018-03-24 12:23:00-04:00      5    NaN       12       3     16         9\n",
       "2018-03-24 12:24:00-04:00      3    NaN       18       3     27        14\n",
       "2018-03-24 12:25:00-04:00      5    NaN       25       4     34        13\n",
       "2018-03-24 12:26:00-04:00      8    NaN       38       8     42        19\n",
       "2018-03-24 12:27:00-04:00      4    NaN       27       4     29        11\n",
       "...                          ...    ...      ...     ...    ...       ...\n",
       "2018-03-24 19:51:00-04:00     23    2.0       37      53     63        12\n",
       "2018-03-24 19:52:00-04:00     26    6.0       39      78     75        14\n",
       "2018-03-24 19:53:00-04:00     20    5.0       36      52     59        11\n",
       "2018-03-24 19:54:00-04:00     21    8.0       46      53     80        22\n",
       "2018-03-24 19:55:00-04:00     13    5.0       23      34     40        15\n",
       "\n",
       "[453 rows x 6 columns]"
      ]
     },
     "execution_count": 42,
     "metadata": {},
     "output_type": "execute_result"
    }
   ],
   "source": [
    "match_data = dict(Beach=per_minute, March=march_per_minute, Enough=enough_per_minute, Again=again_per_minute, Control=control_per_minute, Violence=violence_per_minute)\n",
    "all_matches = pd.DataFrame(data = match_data,index=march_per_minute.index)\n",
    "all_matches"
   ]
  },
  {
   "cell_type": "code",
   "execution_count": 43,
   "metadata": {},
   "outputs": [
    {
     "data": {
      "text/html": [
       "<div id=\"vis78cc974a205a491789c4dedabe98e72e\"></div>\n",
       "<script>\n",
       "   ( function() {\n",
       "     var _do_plot = function() {\n",
       "       if (typeof vg === 'undefined') {\n",
       "         window.addEventListener('vincent_libs_loaded', _do_plot)\n",
       "         return;\n",
       "       }\n",
       "       vg.parse.spec({\"axes\": [{\"scale\": \"x\", \"title\": \"Time\", \"type\": \"x\"}, {\"scale\": \"y\", \"title\": \"Freq\", \"type\": \"y\"}], \"data\": [{\"name\": \"table\", \"values\": [{\"col\": \"March\", \"idx\": 1521908580000, \"val\": 16}, {\"col\": \"Enough\", \"idx\": 1521908580000, \"val\": 3}, {\"col\": \"Again\", \"idx\": 1521908580000, \"val\": 5}, {\"col\": \"March\", \"idx\": 1521908640000, \"val\": 27}, {\"col\": \"Enough\", \"idx\": 1521908640000, \"val\": 3}, {\"col\": \"Again\", \"idx\": 1521908640000, \"val\": 3}, {\"col\": \"March\", \"idx\": 1521908700000, \"val\": 34}, {\"col\": \"Enough\", \"idx\": 1521908700000, \"val\": 4}, {\"col\": \"Again\", \"idx\": 1521908700000, \"val\": 5}, {\"col\": \"March\", \"idx\": 1521908760000, \"val\": 42}, {\"col\": \"Enough\", \"idx\": 1521908760000, \"val\": 8}, {\"col\": \"Again\", \"idx\": 1521908760000, \"val\": 8}, {\"col\": \"March\", \"idx\": 1521908820000, \"val\": 29}, {\"col\": \"Enough\", \"idx\": 1521908820000, \"val\": 4}, {\"col\": \"Again\", \"idx\": 1521908820000, \"val\": 4}, {\"col\": \"March\", \"idx\": 1521908880000, \"val\": 22}, {\"col\": \"Enough\", \"idx\": 1521908880000, \"val\": 3}, {\"col\": \"Again\", \"idx\": 1521908880000, \"val\": 6}, {\"col\": \"March\", \"idx\": 1521908940000, \"val\": 29}, {\"col\": \"Enough\", \"idx\": 1521908940000, \"val\": 5}, {\"col\": \"Again\", \"idx\": 1521908940000, \"val\": 3}, {\"col\": \"March\", \"idx\": 1521909000000, \"val\": 29}, {\"col\": \"Enough\", \"idx\": 1521909000000, \"val\": 4}, {\"col\": \"Again\", \"idx\": 1521909000000, \"val\": 5}, {\"col\": \"March\", \"idx\": 1521909060000, \"val\": 28}, {\"col\": \"Enough\", \"idx\": 1521909060000, \"val\": 4}, {\"col\": \"Again\", \"idx\": 1521909060000, \"val\": 5}, {\"col\": \"March\", \"idx\": 1521909120000, \"val\": 8}, {\"col\": \"Enough\", \"idx\": 1521909120000, \"val\": 3}, {\"col\": \"Again\", \"idx\": 1521909120000, \"val\": 0}, {\"col\": \"March\", \"idx\": 1521909180000, \"val\": 0}, {\"col\": \"Enough\", \"idx\": 1521909180000, \"val\": 0}, {\"col\": \"Again\", \"idx\": 1521909180000, \"val\": 0}, {\"col\": \"March\", \"idx\": 1521909240000, \"val\": 35}, {\"col\": \"Enough\", \"idx\": 1521909240000, \"val\": 7}, {\"col\": \"Again\", \"idx\": 1521909240000, \"val\": 6}, {\"col\": \"March\", \"idx\": 1521909300000, \"val\": 24}, {\"col\": \"Enough\", \"idx\": 1521909300000, \"val\": 1}, {\"col\": \"Again\", \"idx\": 1521909300000, \"val\": 8}, {\"col\": \"March\", \"idx\": 1521909360000, \"val\": 31}, {\"col\": \"Enough\", \"idx\": 1521909360000, \"val\": 3}, {\"col\": \"Again\", \"idx\": 1521909360000, \"val\": 8}, {\"col\": \"March\", \"idx\": 1521909420000, \"val\": 28}, {\"col\": \"Enough\", \"idx\": 1521909420000, \"val\": 3}, {\"col\": \"Again\", \"idx\": 1521909420000, \"val\": 4}, {\"col\": \"March\", \"idx\": 1521909480000, \"val\": 26}, {\"col\": \"Enough\", \"idx\": 1521909480000, \"val\": 6}, {\"col\": \"Again\", \"idx\": 1521909480000, \"val\": 7}, {\"col\": \"March\", \"idx\": 1521909540000, \"val\": 26}, {\"col\": \"Enough\", \"idx\": 1521909540000, \"val\": 5}, {\"col\": \"Again\", \"idx\": 1521909540000, \"val\": 4}, {\"col\": \"March\", \"idx\": 1521909600000, \"val\": 27}, {\"col\": \"Enough\", \"idx\": 1521909600000, \"val\": 4}, {\"col\": \"Again\", \"idx\": 1521909600000, \"val\": 12}, {\"col\": \"March\", \"idx\": 1521909660000, \"val\": 24}, {\"col\": \"Enough\", \"idx\": 1521909660000, \"val\": 0}, {\"col\": \"Again\", \"idx\": 1521909660000, \"val\": 12}, {\"col\": \"March\", \"idx\": 1521909720000, \"val\": 28}, {\"col\": \"Enough\", \"idx\": 1521909720000, \"val\": 4}, {\"col\": \"Again\", \"idx\": 1521909720000, \"val\": 5}, {\"col\": \"March\", \"idx\": 1521909780000, \"val\": 29}, {\"col\": \"Enough\", \"idx\": 1521909780000, \"val\": 3}, {\"col\": \"Again\", \"idx\": 1521909780000, \"val\": 6}, {\"col\": \"March\", \"idx\": 1521909840000, \"val\": 23}, {\"col\": \"Enough\", \"idx\": 1521909840000, \"val\": 6}, {\"col\": \"Again\", \"idx\": 1521909840000, \"val\": 14}, {\"col\": \"March\", \"idx\": 1521909900000, \"val\": 26}, {\"col\": \"Enough\", \"idx\": 1521909900000, \"val\": 3}, {\"col\": \"Again\", \"idx\": 1521909900000, \"val\": 5}, {\"col\": \"March\", \"idx\": 1521909960000, \"val\": 29}, {\"col\": \"Enough\", \"idx\": 1521909960000, \"val\": 4}, {\"col\": \"Again\", \"idx\": 1521909960000, \"val\": 4}, {\"col\": \"March\", \"idx\": 1521910020000, \"val\": 21}, {\"col\": \"Enough\", \"idx\": 1521910020000, \"val\": 3}, {\"col\": \"Again\", \"idx\": 1521910020000, \"val\": 9}, {\"col\": \"March\", \"idx\": 1521910080000, \"val\": 20}, {\"col\": \"Enough\", \"idx\": 1521910080000, \"val\": 2}, {\"col\": \"Again\", \"idx\": 1521910080000, \"val\": 5}, {\"col\": \"March\", \"idx\": 1521910140000, \"val\": 35}, {\"col\": \"Enough\", \"idx\": 1521910140000, \"val\": 2}, {\"col\": \"Again\", \"idx\": 1521910140000, \"val\": 10}, {\"col\": \"March\", \"idx\": 1521910200000, \"val\": 25}, {\"col\": \"Enough\", \"idx\": 1521910200000, \"val\": 3}, {\"col\": \"Again\", \"idx\": 1521910200000, \"val\": 5}, {\"col\": \"March\", \"idx\": 1521910260000, \"val\": 31}, {\"col\": \"Enough\", \"idx\": 1521910260000, \"val\": 1}, {\"col\": \"Again\", \"idx\": 1521910260000, \"val\": 7}, {\"col\": \"March\", \"idx\": 1521910320000, \"val\": 35}, {\"col\": \"Enough\", \"idx\": 1521910320000, \"val\": 7}, {\"col\": \"Again\", \"idx\": 1521910320000, \"val\": 11}, {\"col\": \"March\", \"idx\": 1521910380000, \"val\": 29}, {\"col\": \"Enough\", \"idx\": 1521910380000, \"val\": 4}, {\"col\": \"Again\", \"idx\": 1521910380000, \"val\": 13}, {\"col\": \"March\", \"idx\": 1521910440000, \"val\": 21}, {\"col\": \"Enough\", \"idx\": 1521910440000, \"val\": 1}, {\"col\": \"Again\", \"idx\": 1521910440000, \"val\": 6}, {\"col\": \"March\", \"idx\": 1521910500000, \"val\": 22}, {\"col\": \"Enough\", \"idx\": 1521910500000, \"val\": 4}, {\"col\": \"Again\", \"idx\": 1521910500000, \"val\": 3}, {\"col\": \"March\", \"idx\": 1521910560000, \"val\": 26}, {\"col\": \"Enough\", \"idx\": 1521910560000, \"val\": 2}, {\"col\": \"Again\", \"idx\": 1521910560000, \"val\": 9}, {\"col\": \"March\", \"idx\": 1521910620000, \"val\": 14}, {\"col\": \"Enough\", \"idx\": 1521910620000, \"val\": 1}, {\"col\": \"Again\", \"idx\": 1521910620000, \"val\": 8}, {\"col\": \"March\", \"idx\": 1521910680000, \"val\": 29}, {\"col\": \"Enough\", \"idx\": 1521910680000, \"val\": 6}, {\"col\": \"Again\", \"idx\": 1521910680000, \"val\": 11}, {\"col\": \"March\", \"idx\": 1521910740000, \"val\": 17}, {\"col\": \"Enough\", \"idx\": 1521910740000, \"val\": 2}, {\"col\": \"Again\", \"idx\": 1521910740000, \"val\": 5}, {\"col\": \"March\", \"idx\": 1521910800000, \"val\": 28}, {\"col\": \"Enough\", \"idx\": 1521910800000, \"val\": 6}, {\"col\": \"Again\", \"idx\": 1521910800000, \"val\": 7}, {\"col\": \"March\", \"idx\": 1521910860000, \"val\": 28}, {\"col\": \"Enough\", \"idx\": 1521910860000, \"val\": 3}, {\"col\": \"Again\", \"idx\": 1521910860000, \"val\": 11}, {\"col\": \"March\", \"idx\": 1521910920000, \"val\": 13}, {\"col\": \"Enough\", \"idx\": 1521910920000, \"val\": 4}, {\"col\": \"Again\", \"idx\": 1521910920000, \"val\": 7}, {\"col\": \"March\", \"idx\": 1521910980000, \"val\": 23}, {\"col\": \"Enough\", \"idx\": 1521910980000, \"val\": 4}, {\"col\": \"Again\", \"idx\": 1521910980000, \"val\": 4}, {\"col\": \"March\", \"idx\": 1521911040000, \"val\": 28}, {\"col\": \"Enough\", \"idx\": 1521911040000, \"val\": 3}, {\"col\": \"Again\", \"idx\": 1521911040000, \"val\": 3}, {\"col\": \"March\", \"idx\": 1521911100000, \"val\": 17}, {\"col\": \"Enough\", \"idx\": 1521911100000, \"val\": 1}, {\"col\": \"Again\", \"idx\": 1521911100000, \"val\": 8}, {\"col\": \"March\", \"idx\": 1521911160000, \"val\": 9}, {\"col\": \"Enough\", \"idx\": 1521911160000, \"val\": 0}, {\"col\": \"Again\", \"idx\": 1521911160000, \"val\": 2}, {\"col\": \"March\", \"idx\": 1521911220000, \"val\": 0}, {\"col\": \"Enough\", \"idx\": 1521911220000, \"val\": 0}, {\"col\": \"Again\", \"idx\": 1521911220000, \"val\": 0}, {\"col\": \"March\", \"idx\": 1521911280000, \"val\": 0}, {\"col\": \"Enough\", \"idx\": 1521911280000, \"val\": 0}, {\"col\": \"Again\", \"idx\": 1521911280000, \"val\": 0}, {\"col\": \"March\", \"idx\": 1521911340000, \"val\": 0}, {\"col\": \"Enough\", \"idx\": 1521911340000, \"val\": 0}, {\"col\": \"Again\", \"idx\": 1521911340000, \"val\": 0}, {\"col\": \"March\", \"idx\": 1521911400000, \"val\": 0}, {\"col\": \"Enough\", \"idx\": 1521911400000, \"val\": 0}, {\"col\": \"Again\", \"idx\": 1521911400000, \"val\": 0}, {\"col\": \"March\", \"idx\": 1521911460000, \"val\": 0}, {\"col\": \"Enough\", \"idx\": 1521911460000, \"val\": 0}, {\"col\": \"Again\", \"idx\": 1521911460000, \"val\": 0}, {\"col\": \"March\", \"idx\": 1521911520000, \"val\": 0}, {\"col\": \"Enough\", \"idx\": 1521911520000, \"val\": 0}, {\"col\": \"Again\", \"idx\": 1521911520000, \"val\": 0}, {\"col\": \"March\", \"idx\": 1521911580000, \"val\": 0}, {\"col\": \"Enough\", \"idx\": 1521911580000, \"val\": 0}, {\"col\": \"Again\", \"idx\": 1521911580000, \"val\": 0}, {\"col\": \"March\", \"idx\": 1521911640000, \"val\": 0}, {\"col\": \"Enough\", \"idx\": 1521911640000, \"val\": 0}, {\"col\": \"Again\", \"idx\": 1521911640000, \"val\": 0}, {\"col\": \"March\", \"idx\": 1521911700000, \"val\": 0}, {\"col\": \"Enough\", \"idx\": 1521911700000, \"val\": 0}, {\"col\": \"Again\", \"idx\": 1521911700000, \"val\": 0}, {\"col\": \"March\", \"idx\": 1521911760000, \"val\": 0}, {\"col\": \"Enough\", \"idx\": 1521911760000, \"val\": 0}, {\"col\": \"Again\", \"idx\": 1521911760000, \"val\": 0}, {\"col\": \"March\", \"idx\": 1521911820000, \"val\": 0}, {\"col\": \"Enough\", \"idx\": 1521911820000, \"val\": 0}, {\"col\": \"Again\", \"idx\": 1521911820000, \"val\": 0}, {\"col\": \"March\", \"idx\": 1521911880000, \"val\": 0}, {\"col\": \"Enough\", \"idx\": 1521911880000, \"val\": 0}, {\"col\": \"Again\", \"idx\": 1521911880000, \"val\": 0}, {\"col\": \"March\", \"idx\": 1521911940000, \"val\": 0}, {\"col\": \"Enough\", \"idx\": 1521911940000, \"val\": 0}, {\"col\": \"Again\", \"idx\": 1521911940000, \"val\": 0}, {\"col\": \"March\", \"idx\": 1521912000000, \"val\": 0}, {\"col\": \"Enough\", \"idx\": 1521912000000, \"val\": 0}, {\"col\": \"Again\", \"idx\": 1521912000000, \"val\": 0}, {\"col\": \"March\", \"idx\": 1521912060000, \"val\": 0}, {\"col\": \"Enough\", \"idx\": 1521912060000, \"val\": 0}, {\"col\": \"Again\", \"idx\": 1521912060000, \"val\": 0}, {\"col\": \"March\", \"idx\": 1521912120000, \"val\": 0}, {\"col\": \"Enough\", \"idx\": 1521912120000, \"val\": 0}, {\"col\": \"Again\", \"idx\": 1521912120000, \"val\": 0}, {\"col\": \"March\", \"idx\": 1521912180000, \"val\": 0}, {\"col\": \"Enough\", \"idx\": 1521912180000, \"val\": 0}, {\"col\": \"Again\", \"idx\": 1521912180000, \"val\": 0}, {\"col\": \"March\", \"idx\": 1521912240000, \"val\": 0}, {\"col\": \"Enough\", \"idx\": 1521912240000, \"val\": 0}, {\"col\": \"Again\", \"idx\": 1521912240000, \"val\": 0}, {\"col\": \"March\", \"idx\": 1521912300000, \"val\": 0}, {\"col\": \"Enough\", \"idx\": 1521912300000, \"val\": 0}, {\"col\": \"Again\", \"idx\": 1521912300000, \"val\": 0}, {\"col\": \"March\", \"idx\": 1521912360000, \"val\": 0}, {\"col\": \"Enough\", \"idx\": 1521912360000, \"val\": 0}, {\"col\": \"Again\", \"idx\": 1521912360000, \"val\": 0}, {\"col\": \"March\", \"idx\": 1521912420000, \"val\": 0}, {\"col\": \"Enough\", \"idx\": 1521912420000, \"val\": 0}, {\"col\": \"Again\", \"idx\": 1521912420000, \"val\": 0}, {\"col\": \"March\", \"idx\": 1521912480000, \"val\": 0}, {\"col\": \"Enough\", \"idx\": 1521912480000, \"val\": 0}, {\"col\": \"Again\", \"idx\": 1521912480000, \"val\": 0}, {\"col\": \"March\", \"idx\": 1521912540000, \"val\": 0}, {\"col\": \"Enough\", \"idx\": 1521912540000, \"val\": 0}, {\"col\": \"Again\", \"idx\": 1521912540000, \"val\": 0}, {\"col\": \"March\", \"idx\": 1521912600000, \"val\": 0}, {\"col\": \"Enough\", \"idx\": 1521912600000, \"val\": 0}, {\"col\": \"Again\", \"idx\": 1521912600000, \"val\": 0}, {\"col\": \"March\", \"idx\": 1521912660000, \"val\": 0}, {\"col\": \"Enough\", \"idx\": 1521912660000, \"val\": 0}, {\"col\": \"Again\", \"idx\": 1521912660000, \"val\": 0}, {\"col\": \"March\", \"idx\": 1521912720000, \"val\": 0}, {\"col\": \"Enough\", \"idx\": 1521912720000, \"val\": 0}, {\"col\": \"Again\", \"idx\": 1521912720000, \"val\": 0}, {\"col\": \"March\", \"idx\": 1521912780000, \"val\": 0}, {\"col\": \"Enough\", \"idx\": 1521912780000, \"val\": 0}, {\"col\": \"Again\", \"idx\": 1521912780000, \"val\": 0}, {\"col\": \"March\", \"idx\": 1521912840000, \"val\": 0}, {\"col\": \"Enough\", \"idx\": 1521912840000, \"val\": 0}, {\"col\": \"Again\", \"idx\": 1521912840000, \"val\": 0}, {\"col\": \"March\", \"idx\": 1521912900000, \"val\": 0}, {\"col\": \"Enough\", \"idx\": 1521912900000, \"val\": 0}, {\"col\": \"Again\", \"idx\": 1521912900000, \"val\": 0}, {\"col\": \"March\", \"idx\": 1521912960000, \"val\": 0}, {\"col\": \"Enough\", \"idx\": 1521912960000, \"val\": 0}, {\"col\": \"Again\", \"idx\": 1521912960000, \"val\": 0}, {\"col\": \"March\", \"idx\": 1521913020000, \"val\": 0}, {\"col\": \"Enough\", \"idx\": 1521913020000, \"val\": 0}, {\"col\": \"Again\", \"idx\": 1521913020000, \"val\": 0}, {\"col\": \"March\", \"idx\": 1521913080000, \"val\": 0}, {\"col\": \"Enough\", \"idx\": 1521913080000, \"val\": 0}, {\"col\": \"Again\", \"idx\": 1521913080000, \"val\": 0}, {\"col\": \"March\", \"idx\": 1521913140000, \"val\": 0}, {\"col\": \"Enough\", \"idx\": 1521913140000, \"val\": 0}, {\"col\": \"Again\", \"idx\": 1521913140000, \"val\": 0}, {\"col\": \"March\", \"idx\": 1521913200000, \"val\": 0}, {\"col\": \"Enough\", \"idx\": 1521913200000, \"val\": 0}, {\"col\": \"Again\", \"idx\": 1521913200000, \"val\": 0}, {\"col\": \"March\", \"idx\": 1521913260000, \"val\": 0}, {\"col\": \"Enough\", \"idx\": 1521913260000, \"val\": 0}, {\"col\": \"Again\", \"idx\": 1521913260000, \"val\": 0}, {\"col\": \"March\", \"idx\": 1521913320000, \"val\": 0}, {\"col\": \"Enough\", \"idx\": 1521913320000, \"val\": 0}, {\"col\": \"Again\", \"idx\": 1521913320000, \"val\": 0}, {\"col\": \"March\", \"idx\": 1521913380000, \"val\": 0}, {\"col\": \"Enough\", \"idx\": 1521913380000, \"val\": 0}, {\"col\": \"Again\", \"idx\": 1521913380000, \"val\": 0}, {\"col\": \"March\", \"idx\": 1521913440000, \"val\": 0}, {\"col\": \"Enough\", \"idx\": 1521913440000, \"val\": 0}, {\"col\": \"Again\", \"idx\": 1521913440000, \"val\": 0}, {\"col\": \"March\", \"idx\": 1521913500000, \"val\": 0}, {\"col\": \"Enough\", \"idx\": 1521913500000, \"val\": 0}, {\"col\": \"Again\", \"idx\": 1521913500000, \"val\": 0}, {\"col\": \"March\", \"idx\": 1521913560000, \"val\": 0}, {\"col\": \"Enough\", \"idx\": 1521913560000, \"val\": 0}, {\"col\": \"Again\", \"idx\": 1521913560000, \"val\": 0}, {\"col\": \"March\", \"idx\": 1521913620000, \"val\": 0}, {\"col\": \"Enough\", \"idx\": 1521913620000, \"val\": 0}, {\"col\": \"Again\", \"idx\": 1521913620000, \"val\": 0}, {\"col\": \"March\", \"idx\": 1521913680000, \"val\": 0}, {\"col\": \"Enough\", \"idx\": 1521913680000, \"val\": 0}, {\"col\": \"Again\", \"idx\": 1521913680000, \"val\": 0}, {\"col\": \"March\", \"idx\": 1521913740000, \"val\": 0}, {\"col\": \"Enough\", \"idx\": 1521913740000, \"val\": 0}, {\"col\": \"Again\", \"idx\": 1521913740000, \"val\": 0}, {\"col\": \"March\", \"idx\": 1521913800000, \"val\": 0}, {\"col\": \"Enough\", \"idx\": 1521913800000, \"val\": 0}, {\"col\": \"Again\", \"idx\": 1521913800000, \"val\": 0}, {\"col\": \"March\", \"idx\": 1521913860000, \"val\": 0}, {\"col\": \"Enough\", \"idx\": 1521913860000, \"val\": 0}, {\"col\": \"Again\", \"idx\": 1521913860000, \"val\": 0}, {\"col\": \"March\", \"idx\": 1521913920000, \"val\": 0}, {\"col\": \"Enough\", \"idx\": 1521913920000, \"val\": 0}, {\"col\": \"Again\", \"idx\": 1521913920000, \"val\": 0}, {\"col\": \"March\", \"idx\": 1521913980000, \"val\": 0}, {\"col\": \"Enough\", \"idx\": 1521913980000, \"val\": 0}, {\"col\": \"Again\", \"idx\": 1521913980000, \"val\": 0}, {\"col\": \"March\", \"idx\": 1521914040000, \"val\": 0}, {\"col\": \"Enough\", \"idx\": 1521914040000, \"val\": 0}, {\"col\": \"Again\", \"idx\": 1521914040000, \"val\": 0}, {\"col\": \"March\", \"idx\": 1521914100000, \"val\": 0}, {\"col\": \"Enough\", \"idx\": 1521914100000, \"val\": 0}, {\"col\": \"Again\", \"idx\": 1521914100000, \"val\": 0}, {\"col\": \"March\", \"idx\": 1521914160000, \"val\": 0}, {\"col\": \"Enough\", \"idx\": 1521914160000, \"val\": 0}, {\"col\": \"Again\", \"idx\": 1521914160000, \"val\": 0}, {\"col\": \"March\", \"idx\": 1521914220000, \"val\": 0}, {\"col\": \"Enough\", \"idx\": 1521914220000, \"val\": 0}, {\"col\": \"Again\", \"idx\": 1521914220000, \"val\": 0}, {\"col\": \"March\", \"idx\": 1521914280000, \"val\": 0}, {\"col\": \"Enough\", \"idx\": 1521914280000, \"val\": 0}, {\"col\": \"Again\", \"idx\": 1521914280000, \"val\": 0}, {\"col\": \"March\", \"idx\": 1521914340000, \"val\": 0}, {\"col\": \"Enough\", \"idx\": 1521914340000, \"val\": 0}, {\"col\": \"Again\", \"idx\": 1521914340000, \"val\": 0}, {\"col\": \"March\", \"idx\": 1521914400000, \"val\": 0}, {\"col\": \"Enough\", \"idx\": 1521914400000, \"val\": 0}, {\"col\": \"Again\", \"idx\": 1521914400000, \"val\": 0}, {\"col\": \"March\", \"idx\": 1521914460000, \"val\": 0}, {\"col\": \"Enough\", \"idx\": 1521914460000, \"val\": 0}, {\"col\": \"Again\", \"idx\": 1521914460000, \"val\": 0}, {\"col\": \"March\", \"idx\": 1521914520000, \"val\": 0}, {\"col\": \"Enough\", \"idx\": 1521914520000, \"val\": 0}, {\"col\": \"Again\", \"idx\": 1521914520000, \"val\": 0}, {\"col\": \"March\", \"idx\": 1521914580000, \"val\": 0}, {\"col\": \"Enough\", \"idx\": 1521914580000, \"val\": 0}, {\"col\": \"Again\", \"idx\": 1521914580000, \"val\": 0}, {\"col\": \"March\", \"idx\": 1521914640000, \"val\": 0}, {\"col\": \"Enough\", \"idx\": 1521914640000, \"val\": 0}, {\"col\": \"Again\", \"idx\": 1521914640000, \"val\": 0}, {\"col\": \"March\", \"idx\": 1521914700000, \"val\": 0}, {\"col\": \"Enough\", \"idx\": 1521914700000, \"val\": 0}, {\"col\": \"Again\", \"idx\": 1521914700000, \"val\": 0}, {\"col\": \"March\", \"idx\": 1521914760000, \"val\": 0}, {\"col\": \"Enough\", \"idx\": 1521914760000, \"val\": 0}, {\"col\": \"Again\", \"idx\": 1521914760000, \"val\": 0}, {\"col\": \"March\", \"idx\": 1521914820000, \"val\": 0}, {\"col\": \"Enough\", \"idx\": 1521914820000, \"val\": 0}, {\"col\": \"Again\", \"idx\": 1521914820000, \"val\": 0}, {\"col\": \"March\", \"idx\": 1521914880000, \"val\": 0}, {\"col\": \"Enough\", \"idx\": 1521914880000, \"val\": 0}, {\"col\": \"Again\", \"idx\": 1521914880000, \"val\": 0}, {\"col\": \"March\", \"idx\": 1521914940000, \"val\": 0}, {\"col\": \"Enough\", \"idx\": 1521914940000, \"val\": 0}, {\"col\": \"Again\", \"idx\": 1521914940000, \"val\": 0}, {\"col\": \"March\", \"idx\": 1521915000000, \"val\": 0}, {\"col\": \"Enough\", \"idx\": 1521915000000, \"val\": 0}, {\"col\": \"Again\", \"idx\": 1521915000000, \"val\": 0}, {\"col\": \"March\", \"idx\": 1521915060000, \"val\": 0}, {\"col\": \"Enough\", \"idx\": 1521915060000, \"val\": 0}, {\"col\": \"Again\", \"idx\": 1521915060000, \"val\": 0}, {\"col\": \"March\", \"idx\": 1521915120000, \"val\": 0}, {\"col\": \"Enough\", \"idx\": 1521915120000, \"val\": 0}, {\"col\": \"Again\", \"idx\": 1521915120000, \"val\": 0}, {\"col\": \"March\", \"idx\": 1521915180000, \"val\": 0}, {\"col\": \"Enough\", \"idx\": 1521915180000, \"val\": 0}, {\"col\": \"Again\", \"idx\": 1521915180000, \"val\": 0}, {\"col\": \"March\", \"idx\": 1521915240000, \"val\": 0}, {\"col\": \"Enough\", \"idx\": 1521915240000, \"val\": 0}, {\"col\": \"Again\", \"idx\": 1521915240000, \"val\": 0}, {\"col\": \"March\", \"idx\": 1521915300000, \"val\": 0}, {\"col\": \"Enough\", \"idx\": 1521915300000, \"val\": 0}, {\"col\": \"Again\", \"idx\": 1521915300000, \"val\": 0}, {\"col\": \"March\", \"idx\": 1521915360000, \"val\": 0}, {\"col\": \"Enough\", \"idx\": 1521915360000, \"val\": 0}, {\"col\": \"Again\", \"idx\": 1521915360000, \"val\": 0}, {\"col\": \"March\", \"idx\": 1521915420000, \"val\": 0}, {\"col\": \"Enough\", \"idx\": 1521915420000, \"val\": 0}, {\"col\": \"Again\", \"idx\": 1521915420000, \"val\": 0}, {\"col\": \"March\", \"idx\": 1521915480000, \"val\": 0}, {\"col\": \"Enough\", \"idx\": 1521915480000, \"val\": 0}, {\"col\": \"Again\", \"idx\": 1521915480000, \"val\": 0}, {\"col\": \"March\", \"idx\": 1521915540000, \"val\": 0}, {\"col\": \"Enough\", \"idx\": 1521915540000, \"val\": 0}, {\"col\": \"Again\", \"idx\": 1521915540000, \"val\": 0}, {\"col\": \"March\", \"idx\": 1521915600000, \"val\": 0}, {\"col\": \"Enough\", \"idx\": 1521915600000, \"val\": 0}, {\"col\": \"Again\", \"idx\": 1521915600000, \"val\": 0}, {\"col\": \"March\", \"idx\": 1521915660000, \"val\": 0}, {\"col\": \"Enough\", \"idx\": 1521915660000, \"val\": 0}, {\"col\": \"Again\", \"idx\": 1521915660000, \"val\": 0}, {\"col\": \"March\", \"idx\": 1521915720000, \"val\": 0}, {\"col\": \"Enough\", \"idx\": 1521915720000, \"val\": 0}, {\"col\": \"Again\", \"idx\": 1521915720000, \"val\": 0}, {\"col\": \"March\", \"idx\": 1521915780000, \"val\": 0}, {\"col\": \"Enough\", \"idx\": 1521915780000, \"val\": 0}, {\"col\": \"Again\", \"idx\": 1521915780000, \"val\": 0}, {\"col\": \"March\", \"idx\": 1521915840000, \"val\": 0}, {\"col\": \"Enough\", \"idx\": 1521915840000, \"val\": 0}, {\"col\": \"Again\", \"idx\": 1521915840000, \"val\": 0}, {\"col\": \"March\", \"idx\": 1521915900000, \"val\": 0}, {\"col\": \"Enough\", \"idx\": 1521915900000, \"val\": 0}, {\"col\": \"Again\", \"idx\": 1521915900000, \"val\": 0}, {\"col\": \"March\", \"idx\": 1521915960000, \"val\": 0}, {\"col\": \"Enough\", \"idx\": 1521915960000, \"val\": 0}, {\"col\": \"Again\", \"idx\": 1521915960000, \"val\": 0}, {\"col\": \"March\", \"idx\": 1521916020000, \"val\": 0}, {\"col\": \"Enough\", \"idx\": 1521916020000, \"val\": 0}, {\"col\": \"Again\", \"idx\": 1521916020000, \"val\": 0}, {\"col\": \"March\", \"idx\": 1521916080000, \"val\": 0}, {\"col\": \"Enough\", \"idx\": 1521916080000, \"val\": 0}, {\"col\": \"Again\", \"idx\": 1521916080000, \"val\": 0}, {\"col\": \"March\", \"idx\": 1521916140000, \"val\": 0}, {\"col\": \"Enough\", \"idx\": 1521916140000, \"val\": 0}, {\"col\": \"Again\", \"idx\": 1521916140000, \"val\": 0}, {\"col\": \"March\", \"idx\": 1521916200000, \"val\": 0}, {\"col\": \"Enough\", \"idx\": 1521916200000, \"val\": 0}, {\"col\": \"Again\", \"idx\": 1521916200000, \"val\": 0}, {\"col\": \"March\", \"idx\": 1521916260000, \"val\": 0}, {\"col\": \"Enough\", \"idx\": 1521916260000, \"val\": 0}, {\"col\": \"Again\", \"idx\": 1521916260000, \"val\": 0}, {\"col\": \"March\", \"idx\": 1521916320000, \"val\": 0}, {\"col\": \"Enough\", \"idx\": 1521916320000, \"val\": 0}, {\"col\": \"Again\", \"idx\": 1521916320000, \"val\": 0}, {\"col\": \"March\", \"idx\": 1521916380000, \"val\": 0}, {\"col\": \"Enough\", \"idx\": 1521916380000, \"val\": 0}, {\"col\": \"Again\", \"idx\": 1521916380000, \"val\": 0}, {\"col\": \"March\", \"idx\": 1521916440000, \"val\": 0}, {\"col\": \"Enough\", \"idx\": 1521916440000, \"val\": 0}, {\"col\": \"Again\", \"idx\": 1521916440000, \"val\": 0}, {\"col\": \"March\", \"idx\": 1521916500000, \"val\": 0}, {\"col\": \"Enough\", \"idx\": 1521916500000, \"val\": 0}, {\"col\": \"Again\", \"idx\": 1521916500000, \"val\": 0}, {\"col\": \"March\", \"idx\": 1521916560000, \"val\": 0}, {\"col\": \"Enough\", \"idx\": 1521916560000, \"val\": 0}, {\"col\": \"Again\", \"idx\": 1521916560000, \"val\": 0}, {\"col\": \"March\", \"idx\": 1521916620000, \"val\": 0}, {\"col\": \"Enough\", \"idx\": 1521916620000, \"val\": 0}, {\"col\": \"Again\", \"idx\": 1521916620000, \"val\": 0}, {\"col\": \"March\", \"idx\": 1521916680000, \"val\": 0}, {\"col\": \"Enough\", \"idx\": 1521916680000, \"val\": 0}, {\"col\": \"Again\", \"idx\": 1521916680000, \"val\": 0}, {\"col\": \"March\", \"idx\": 1521916740000, \"val\": 0}, {\"col\": \"Enough\", \"idx\": 1521916740000, \"val\": 0}, {\"col\": \"Again\", \"idx\": 1521916740000, \"val\": 0}, {\"col\": \"March\", \"idx\": 1521916800000, \"val\": 0}, {\"col\": \"Enough\", \"idx\": 1521916800000, \"val\": 0}, {\"col\": \"Again\", \"idx\": 1521916800000, \"val\": 0}, {\"col\": \"March\", \"idx\": 1521916860000, \"val\": 0}, {\"col\": \"Enough\", \"idx\": 1521916860000, \"val\": 0}, {\"col\": \"Again\", \"idx\": 1521916860000, \"val\": 0}, {\"col\": \"March\", \"idx\": 1521916920000, \"val\": 0}, {\"col\": \"Enough\", \"idx\": 1521916920000, \"val\": 0}, {\"col\": \"Again\", \"idx\": 1521916920000, \"val\": 0}, {\"col\": \"March\", \"idx\": 1521916980000, \"val\": 0}, {\"col\": \"Enough\", \"idx\": 1521916980000, \"val\": 0}, {\"col\": \"Again\", \"idx\": 1521916980000, \"val\": 0}, {\"col\": \"March\", \"idx\": 1521917040000, \"val\": 0}, {\"col\": \"Enough\", \"idx\": 1521917040000, \"val\": 0}, {\"col\": \"Again\", \"idx\": 1521917040000, \"val\": 0}, {\"col\": \"March\", \"idx\": 1521917100000, \"val\": 0}, {\"col\": \"Enough\", \"idx\": 1521917100000, \"val\": 0}, {\"col\": \"Again\", \"idx\": 1521917100000, \"val\": 0}, {\"col\": \"March\", \"idx\": 1521917160000, \"val\": 0}, {\"col\": \"Enough\", \"idx\": 1521917160000, \"val\": 0}, {\"col\": \"Again\", \"idx\": 1521917160000, \"val\": 0}, {\"col\": \"March\", \"idx\": 1521917220000, \"val\": 0}, {\"col\": \"Enough\", \"idx\": 1521917220000, \"val\": 0}, {\"col\": \"Again\", \"idx\": 1521917220000, \"val\": 0}, {\"col\": \"March\", \"idx\": 1521917280000, \"val\": 0}, {\"col\": \"Enough\", \"idx\": 1521917280000, \"val\": 0}, {\"col\": \"Again\", \"idx\": 1521917280000, \"val\": 0}, {\"col\": \"March\", \"idx\": 1521917340000, \"val\": 0}, {\"col\": \"Enough\", \"idx\": 1521917340000, \"val\": 0}, {\"col\": \"Again\", \"idx\": 1521917340000, \"val\": 0}, {\"col\": \"March\", \"idx\": 1521917400000, \"val\": 0}, {\"col\": \"Enough\", \"idx\": 1521917400000, \"val\": 0}, {\"col\": \"Again\", \"idx\": 1521917400000, \"val\": 0}, {\"col\": \"March\", \"idx\": 1521917460000, \"val\": 0}, {\"col\": \"Enough\", \"idx\": 1521917460000, \"val\": 0}, {\"col\": \"Again\", \"idx\": 1521917460000, \"val\": 0}, {\"col\": \"March\", \"idx\": 1521917520000, \"val\": 0}, {\"col\": \"Enough\", \"idx\": 1521917520000, \"val\": 0}, {\"col\": \"Again\", \"idx\": 1521917520000, \"val\": 0}, {\"col\": \"March\", \"idx\": 1521917580000, \"val\": 0}, {\"col\": \"Enough\", \"idx\": 1521917580000, \"val\": 0}, {\"col\": \"Again\", \"idx\": 1521917580000, \"val\": 0}, {\"col\": \"March\", \"idx\": 1521917640000, \"val\": 0}, {\"col\": \"Enough\", \"idx\": 1521917640000, \"val\": 0}, {\"col\": \"Again\", \"idx\": 1521917640000, \"val\": 0}, {\"col\": \"March\", \"idx\": 1521917700000, \"val\": 0}, {\"col\": \"Enough\", \"idx\": 1521917700000, \"val\": 0}, {\"col\": \"Again\", \"idx\": 1521917700000, \"val\": 0}, {\"col\": \"March\", \"idx\": 1521917760000, \"val\": 0}, {\"col\": \"Enough\", \"idx\": 1521917760000, \"val\": 0}, {\"col\": \"Again\", \"idx\": 1521917760000, \"val\": 0}, {\"col\": \"March\", \"idx\": 1521917820000, \"val\": 0}, {\"col\": \"Enough\", \"idx\": 1521917820000, \"val\": 0}, {\"col\": \"Again\", \"idx\": 1521917820000, \"val\": 0}, {\"col\": \"March\", \"idx\": 1521917880000, \"val\": 0}, {\"col\": \"Enough\", \"idx\": 1521917880000, \"val\": 0}, {\"col\": \"Again\", \"idx\": 1521917880000, \"val\": 0}, {\"col\": \"March\", \"idx\": 1521917940000, \"val\": 0}, {\"col\": \"Enough\", \"idx\": 1521917940000, \"val\": 0}, {\"col\": \"Again\", \"idx\": 1521917940000, \"val\": 0}, {\"col\": \"March\", \"idx\": 1521918000000, \"val\": 10}, {\"col\": \"Enough\", \"idx\": 1521918000000, \"val\": 2}, {\"col\": \"Again\", \"idx\": 1521918000000, \"val\": 7}, {\"col\": \"March\", \"idx\": 1521918060000, \"val\": 26}, {\"col\": \"Enough\", \"idx\": 1521918060000, \"val\": 4}, {\"col\": \"Again\", \"idx\": 1521918060000, \"val\": 13}, {\"col\": \"March\", \"idx\": 1521918120000, \"val\": 26}, {\"col\": \"Enough\", \"idx\": 1521918120000, \"val\": 5}, {\"col\": \"Again\", \"idx\": 1521918120000, \"val\": 14}, {\"col\": \"March\", \"idx\": 1521918180000, \"val\": 26}, {\"col\": \"Enough\", \"idx\": 1521918180000, \"val\": 7}, {\"col\": \"Again\", \"idx\": 1521918180000, \"val\": 12}, {\"col\": \"March\", \"idx\": 1521918240000, \"val\": 19}, {\"col\": \"Enough\", \"idx\": 1521918240000, \"val\": 5}, {\"col\": \"Again\", \"idx\": 1521918240000, \"val\": 19}, {\"col\": \"March\", \"idx\": 1521918300000, \"val\": 29}, {\"col\": \"Enough\", \"idx\": 1521918300000, \"val\": 5}, {\"col\": \"Again\", \"idx\": 1521918300000, \"val\": 11}, {\"col\": \"March\", \"idx\": 1521918360000, \"val\": 23}, {\"col\": \"Enough\", \"idx\": 1521918360000, \"val\": 3}, {\"col\": \"Again\", \"idx\": 1521918360000, \"val\": 10}, {\"col\": \"March\", \"idx\": 1521918420000, \"val\": 28}, {\"col\": \"Enough\", \"idx\": 1521918420000, \"val\": 3}, {\"col\": \"Again\", \"idx\": 1521918420000, \"val\": 16}, {\"col\": \"March\", \"idx\": 1521918480000, \"val\": 20}, {\"col\": \"Enough\", \"idx\": 1521918480000, \"val\": 6}, {\"col\": \"Again\", \"idx\": 1521918480000, \"val\": 16}, {\"col\": \"March\", \"idx\": 1521918540000, \"val\": 30}, {\"col\": \"Enough\", \"idx\": 1521918540000, \"val\": 5}, {\"col\": \"Again\", \"idx\": 1521918540000, \"val\": 9}, {\"col\": \"March\", \"idx\": 1521918600000, \"val\": 31}, {\"col\": \"Enough\", \"idx\": 1521918600000, \"val\": 5}, {\"col\": \"Again\", \"idx\": 1521918600000, \"val\": 15}, {\"col\": \"March\", \"idx\": 1521918660000, \"val\": 17}, {\"col\": \"Enough\", \"idx\": 1521918660000, \"val\": 1}, {\"col\": \"Again\", \"idx\": 1521918660000, \"val\": 10}, {\"col\": \"March\", \"idx\": 1521918720000, \"val\": 19}, {\"col\": \"Enough\", \"idx\": 1521918720000, \"val\": 5}, {\"col\": \"Again\", \"idx\": 1521918720000, \"val\": 10}, {\"col\": \"March\", \"idx\": 1521918780000, \"val\": 16}, {\"col\": \"Enough\", \"idx\": 1521918780000, \"val\": 2}, {\"col\": \"Again\", \"idx\": 1521918780000, \"val\": 7}, {\"col\": \"March\", \"idx\": 1521918840000, \"val\": 8}, {\"col\": \"Enough\", \"idx\": 1521918840000, \"val\": 4}, {\"col\": \"Again\", \"idx\": 1521918840000, \"val\": 6}, {\"col\": \"March\", \"idx\": 1521918900000, \"val\": 79}, {\"col\": \"Enough\", \"idx\": 1521918900000, \"val\": 72}, {\"col\": \"Again\", \"idx\": 1521918900000, \"val\": 30}, {\"col\": \"March\", \"idx\": 1521918960000, \"val\": 101}, {\"col\": \"Enough\", \"idx\": 1521918960000, \"val\": 109}, {\"col\": \"Again\", \"idx\": 1521918960000, \"val\": 47}, {\"col\": \"March\", \"idx\": 1521919020000, \"val\": 118}, {\"col\": \"Enough\", \"idx\": 1521919020000, \"val\": 74}, {\"col\": \"Again\", \"idx\": 1521919020000, \"val\": 42}, {\"col\": \"March\", \"idx\": 1521919080000, \"val\": 132}, {\"col\": \"Enough\", \"idx\": 1521919080000, \"val\": 99}, {\"col\": \"Again\", \"idx\": 1521919080000, \"val\": 41}, {\"col\": \"March\", \"idx\": 1521919140000, \"val\": 120}, {\"col\": \"Enough\", \"idx\": 1521919140000, \"val\": 87}, {\"col\": \"Again\", \"idx\": 1521919140000, \"val\": 26}, {\"col\": \"March\", \"idx\": 1521919200000, \"val\": 112}, {\"col\": \"Enough\", \"idx\": 1521919200000, \"val\": 92}, {\"col\": \"Again\", \"idx\": 1521919200000, \"val\": 35}, {\"col\": \"March\", \"idx\": 1521919260000, \"val\": 130}, {\"col\": \"Enough\", \"idx\": 1521919260000, \"val\": 93}, {\"col\": \"Again\", \"idx\": 1521919260000, \"val\": 51}, {\"col\": \"March\", \"idx\": 1521919320000, \"val\": 190}, {\"col\": \"Enough\", \"idx\": 1521919320000, \"val\": 124}, {\"col\": \"Again\", \"idx\": 1521919320000, \"val\": 51}, {\"col\": \"March\", \"idx\": 1521919380000, \"val\": 171}, {\"col\": \"Enough\", \"idx\": 1521919380000, \"val\": 99}, {\"col\": \"Again\", \"idx\": 1521919380000, \"val\": 36}, {\"col\": \"March\", \"idx\": 1521919440000, \"val\": 141}, {\"col\": \"Enough\", \"idx\": 1521919440000, \"val\": 81}, {\"col\": \"Again\", \"idx\": 1521919440000, \"val\": 30}, {\"col\": \"March\", \"idx\": 1521919500000, \"val\": 150}, {\"col\": \"Enough\", \"idx\": 1521919500000, \"val\": 86}, {\"col\": \"Again\", \"idx\": 1521919500000, \"val\": 34}, {\"col\": \"March\", \"idx\": 1521919560000, \"val\": 146}, {\"col\": \"Enough\", \"idx\": 1521919560000, \"val\": 77}, {\"col\": \"Again\", \"idx\": 1521919560000, \"val\": 32}, {\"col\": \"March\", \"idx\": 1521919620000, \"val\": 118}, {\"col\": \"Enough\", \"idx\": 1521919620000, \"val\": 93}, {\"col\": \"Again\", \"idx\": 1521919620000, \"val\": 42}, {\"col\": \"March\", \"idx\": 1521919680000, \"val\": 129}, {\"col\": \"Enough\", \"idx\": 1521919680000, \"val\": 87}, {\"col\": \"Again\", \"idx\": 1521919680000, \"val\": 34}, {\"col\": \"March\", \"idx\": 1521919740000, \"val\": 129}, {\"col\": \"Enough\", \"idx\": 1521919740000, \"val\": 86}, {\"col\": \"Again\", \"idx\": 1521919740000, \"val\": 37}, {\"col\": \"March\", \"idx\": 1521919800000, \"val\": 120}, {\"col\": \"Enough\", \"idx\": 1521919800000, \"val\": 90}, {\"col\": \"Again\", \"idx\": 1521919800000, \"val\": 45}, {\"col\": \"March\", \"idx\": 1521919860000, \"val\": 132}, {\"col\": \"Enough\", \"idx\": 1521919860000, \"val\": 96}, {\"col\": \"Again\", \"idx\": 1521919860000, \"val\": 49}, {\"col\": \"March\", \"idx\": 1521919920000, \"val\": 115}, {\"col\": \"Enough\", \"idx\": 1521919920000, \"val\": 93}, {\"col\": \"Again\", \"idx\": 1521919920000, \"val\": 56}, {\"col\": \"March\", \"idx\": 1521919980000, \"val\": 10}, {\"col\": \"Enough\", \"idx\": 1521919980000, \"val\": 12}, {\"col\": \"Again\", \"idx\": 1521919980000, \"val\": 4}, {\"col\": \"March\", \"idx\": 1521920040000, \"val\": 25}, {\"col\": \"Enough\", \"idx\": 1521920040000, \"val\": 25}, {\"col\": \"Again\", \"idx\": 1521920040000, \"val\": 7}, {\"col\": \"March\", \"idx\": 1521920100000, \"val\": 417}, {\"col\": \"Enough\", \"idx\": 1521920100000, \"val\": 86}, {\"col\": \"Again\", \"idx\": 1521920100000, \"val\": 45}, {\"col\": \"March\", \"idx\": 1521920160000, \"val\": 200}, {\"col\": \"Enough\", \"idx\": 1521920160000, \"val\": 96}, {\"col\": \"Again\", \"idx\": 1521920160000, \"val\": 45}, {\"col\": \"March\", \"idx\": 1521920220000, \"val\": 185}, {\"col\": \"Enough\", \"idx\": 1521920220000, \"val\": 105}, {\"col\": \"Again\", \"idx\": 1521920220000, \"val\": 44}, {\"col\": \"March\", \"idx\": 1521920280000, \"val\": 176}, {\"col\": \"Enough\", \"idx\": 1521920280000, \"val\": 99}, {\"col\": \"Again\", \"idx\": 1521920280000, \"val\": 44}, {\"col\": \"March\", \"idx\": 1521920340000, \"val\": 148}, {\"col\": \"Enough\", \"idx\": 1521920340000, \"val\": 94}, {\"col\": \"Again\", \"idx\": 1521920340000, \"val\": 36}, {\"col\": \"March\", \"idx\": 1521920400000, \"val\": 169}, {\"col\": \"Enough\", \"idx\": 1521920400000, \"val\": 109}, {\"col\": \"Again\", \"idx\": 1521920400000, \"val\": 36}, {\"col\": \"March\", \"idx\": 1521920460000, \"val\": 175}, {\"col\": \"Enough\", \"idx\": 1521920460000, \"val\": 110}, {\"col\": \"Again\", \"idx\": 1521920460000, \"val\": 33}, {\"col\": \"March\", \"idx\": 1521920520000, \"val\": 157}, {\"col\": \"Enough\", \"idx\": 1521920520000, \"val\": 114}, {\"col\": \"Again\", \"idx\": 1521920520000, \"val\": 43}, {\"col\": \"March\", \"idx\": 1521920580000, \"val\": 107}, {\"col\": \"Enough\", \"idx\": 1521920580000, \"val\": 73}, {\"col\": \"Again\", \"idx\": 1521920580000, \"val\": 34}, {\"col\": \"March\", \"idx\": 1521920640000, \"val\": 155}, {\"col\": \"Enough\", \"idx\": 1521920640000, \"val\": 95}, {\"col\": \"Again\", \"idx\": 1521920640000, \"val\": 48}, {\"col\": \"March\", \"idx\": 1521920700000, \"val\": 153}, {\"col\": \"Enough\", \"idx\": 1521920700000, \"val\": 105}, {\"col\": \"Again\", \"idx\": 1521920700000, \"val\": 39}, {\"col\": \"March\", \"idx\": 1521920760000, \"val\": 139}, {\"col\": \"Enough\", \"idx\": 1521920760000, \"val\": 95}, {\"col\": \"Again\", \"idx\": 1521920760000, \"val\": 56}, {\"col\": \"March\", \"idx\": 1521920820000, \"val\": 103}, {\"col\": \"Enough\", \"idx\": 1521920820000, \"val\": 97}, {\"col\": \"Again\", \"idx\": 1521920820000, \"val\": 44}, {\"col\": \"March\", \"idx\": 1521920880000, \"val\": 152}, {\"col\": \"Enough\", \"idx\": 1521920880000, \"val\": 95}, {\"col\": \"Again\", \"idx\": 1521920880000, \"val\": 40}, {\"col\": \"March\", \"idx\": 1521920940000, \"val\": 113}, {\"col\": \"Enough\", \"idx\": 1521920940000, \"val\": 87}, {\"col\": \"Again\", \"idx\": 1521920940000, \"val\": 30}, {\"col\": \"March\", \"idx\": 1521921000000, \"val\": 130}, {\"col\": \"Enough\", \"idx\": 1521921000000, \"val\": 82}, {\"col\": \"Again\", \"idx\": 1521921000000, \"val\": 34}, {\"col\": \"March\", \"idx\": 1521921060000, \"val\": 115}, {\"col\": \"Enough\", \"idx\": 1521921060000, \"val\": 87}, {\"col\": \"Again\", \"idx\": 1521921060000, \"val\": 32}, {\"col\": \"March\", \"idx\": 1521921120000, \"val\": 118}, {\"col\": \"Enough\", \"idx\": 1521921120000, \"val\": 71}, {\"col\": \"Again\", \"idx\": 1521921120000, \"val\": 41}, {\"col\": \"March\", \"idx\": 1521921180000, \"val\": 135}, {\"col\": \"Enough\", \"idx\": 1521921180000, \"val\": 84}, {\"col\": \"Again\", \"idx\": 1521921180000, \"val\": 29}, {\"col\": \"March\", \"idx\": 1521921240000, \"val\": 112}, {\"col\": \"Enough\", \"idx\": 1521921240000, \"val\": 85}, {\"col\": \"Again\", \"idx\": 1521921240000, \"val\": 33}, {\"col\": \"March\", \"idx\": 1521921300000, \"val\": 122}, {\"col\": \"Enough\", \"idx\": 1521921300000, \"val\": 88}, {\"col\": \"Again\", \"idx\": 1521921300000, \"val\": 31}, {\"col\": \"March\", \"idx\": 1521921360000, \"val\": 87}, {\"col\": \"Enough\", \"idx\": 1521921360000, \"val\": 70}, {\"col\": \"Again\", \"idx\": 1521921360000, \"val\": 32}, {\"col\": \"March\", \"idx\": 1521921420000, \"val\": 121}, {\"col\": \"Enough\", \"idx\": 1521921420000, \"val\": 92}, {\"col\": \"Again\", \"idx\": 1521921420000, \"val\": 39}, {\"col\": \"March\", \"idx\": 1521921480000, \"val\": 123}, {\"col\": \"Enough\", \"idx\": 1521921480000, \"val\": 93}, {\"col\": \"Again\", \"idx\": 1521921480000, \"val\": 34}, {\"col\": \"March\", \"idx\": 1521921540000, \"val\": 115}, {\"col\": \"Enough\", \"idx\": 1521921540000, \"val\": 81}, {\"col\": \"Again\", \"idx\": 1521921540000, \"val\": 37}, {\"col\": \"March\", \"idx\": 1521921600000, \"val\": 114}, {\"col\": \"Enough\", \"idx\": 1521921600000, \"val\": 105}, {\"col\": \"Again\", \"idx\": 1521921600000, \"val\": 41}, {\"col\": \"March\", \"idx\": 1521921660000, \"val\": 98}, {\"col\": \"Enough\", \"idx\": 1521921660000, \"val\": 76}, {\"col\": \"Again\", \"idx\": 1521921660000, \"val\": 28}, {\"col\": \"March\", \"idx\": 1521921720000, \"val\": 104}, {\"col\": \"Enough\", \"idx\": 1521921720000, \"val\": 81}, {\"col\": \"Again\", \"idx\": 1521921720000, \"val\": 30}, {\"col\": \"March\", \"idx\": 1521921780000, \"val\": 63}, {\"col\": \"Enough\", \"idx\": 1521921780000, \"val\": 39}, {\"col\": \"Again\", \"idx\": 1521921780000, \"val\": 14}, {\"col\": \"March\", \"idx\": 1521921840000, \"val\": 101}, {\"col\": \"Enough\", \"idx\": 1521921840000, \"val\": 80}, {\"col\": \"Again\", \"idx\": 1521921840000, \"val\": 32}, {\"col\": \"March\", \"idx\": 1521921900000, \"val\": 95}, {\"col\": \"Enough\", \"idx\": 1521921900000, \"val\": 67}, {\"col\": \"Again\", \"idx\": 1521921900000, \"val\": 29}, {\"col\": \"March\", \"idx\": 1521921960000, \"val\": 106}, {\"col\": \"Enough\", \"idx\": 1521921960000, \"val\": 84}, {\"col\": \"Again\", \"idx\": 1521921960000, \"val\": 34}, {\"col\": \"March\", \"idx\": 1521922020000, \"val\": 75}, {\"col\": \"Enough\", \"idx\": 1521922020000, \"val\": 47}, {\"col\": \"Again\", \"idx\": 1521922020000, \"val\": 14}, {\"col\": \"March\", \"idx\": 1521922080000, \"val\": 83}, {\"col\": \"Enough\", \"idx\": 1521922080000, \"val\": 67}, {\"col\": \"Again\", \"idx\": 1521922080000, \"val\": 26}, {\"col\": \"March\", \"idx\": 1521922140000, \"val\": 102}, {\"col\": \"Enough\", \"idx\": 1521922140000, \"val\": 68}, {\"col\": \"Again\", \"idx\": 1521922140000, \"val\": 35}, {\"col\": \"March\", \"idx\": 1521922200000, \"val\": 92}, {\"col\": \"Enough\", \"idx\": 1521922200000, \"val\": 77}, {\"col\": \"Again\", \"idx\": 1521922200000, \"val\": 35}, {\"col\": \"March\", \"idx\": 1521922260000, \"val\": 103}, {\"col\": \"Enough\", \"idx\": 1521922260000, \"val\": 81}, {\"col\": \"Again\", \"idx\": 1521922260000, \"val\": 31}, {\"col\": \"March\", \"idx\": 1521922320000, \"val\": 120}, {\"col\": \"Enough\", \"idx\": 1521922320000, \"val\": 98}, {\"col\": \"Again\", \"idx\": 1521922320000, \"val\": 39}, {\"col\": \"March\", \"idx\": 1521922380000, \"val\": 87}, {\"col\": \"Enough\", \"idx\": 1521922380000, \"val\": 68}, {\"col\": \"Again\", \"idx\": 1521922380000, \"val\": 29}, {\"col\": \"March\", \"idx\": 1521922440000, \"val\": 104}, {\"col\": \"Enough\", \"idx\": 1521922440000, \"val\": 80}, {\"col\": \"Again\", \"idx\": 1521922440000, \"val\": 35}, {\"col\": \"March\", \"idx\": 1521922500000, \"val\": 98}, {\"col\": \"Enough\", \"idx\": 1521922500000, \"val\": 75}, {\"col\": \"Again\", \"idx\": 1521922500000, \"val\": 30}, {\"col\": \"March\", \"idx\": 1521922560000, \"val\": 86}, {\"col\": \"Enough\", \"idx\": 1521922560000, \"val\": 63}, {\"col\": \"Again\", \"idx\": 1521922560000, \"val\": 23}, {\"col\": \"March\", \"idx\": 1521922620000, \"val\": 91}, {\"col\": \"Enough\", \"idx\": 1521922620000, \"val\": 86}, {\"col\": \"Again\", \"idx\": 1521922620000, \"val\": 42}, {\"col\": \"March\", \"idx\": 1521922680000, \"val\": 98}, {\"col\": \"Enough\", \"idx\": 1521922680000, \"val\": 83}, {\"col\": \"Again\", \"idx\": 1521922680000, \"val\": 33}, {\"col\": \"March\", \"idx\": 1521922740000, \"val\": 95}, {\"col\": \"Enough\", \"idx\": 1521922740000, \"val\": 68}, {\"col\": \"Again\", \"idx\": 1521922740000, \"val\": 33}, {\"col\": \"March\", \"idx\": 1521922800000, \"val\": 89}, {\"col\": \"Enough\", \"idx\": 1521922800000, \"val\": 84}, {\"col\": \"Again\", \"idx\": 1521922800000, \"val\": 28}, {\"col\": \"March\", \"idx\": 1521922860000, \"val\": 77}, {\"col\": \"Enough\", \"idx\": 1521922860000, \"val\": 83}, {\"col\": \"Again\", \"idx\": 1521922860000, \"val\": 38}, {\"col\": \"March\", \"idx\": 1521922920000, \"val\": 105}, {\"col\": \"Enough\", \"idx\": 1521922920000, \"val\": 80}, {\"col\": \"Again\", \"idx\": 1521922920000, \"val\": 37}, {\"col\": \"March\", \"idx\": 1521922980000, \"val\": 86}, {\"col\": \"Enough\", \"idx\": 1521922980000, \"val\": 69}, {\"col\": \"Again\", \"idx\": 1521922980000, \"val\": 29}, {\"col\": \"March\", \"idx\": 1521923040000, \"val\": 112}, {\"col\": \"Enough\", \"idx\": 1521923040000, \"val\": 109}, {\"col\": \"Again\", \"idx\": 1521923040000, \"val\": 38}, {\"col\": \"March\", \"idx\": 1521923100000, \"val\": 84}, {\"col\": \"Enough\", \"idx\": 1521923100000, \"val\": 67}, {\"col\": \"Again\", \"idx\": 1521923100000, \"val\": 28}, {\"col\": \"March\", \"idx\": 1521923160000, \"val\": 74}, {\"col\": \"Enough\", \"idx\": 1521923160000, \"val\": 68}, {\"col\": \"Again\", \"idx\": 1521923160000, \"val\": 22}, {\"col\": \"March\", \"idx\": 1521923220000, \"val\": 92}, {\"col\": \"Enough\", \"idx\": 1521923220000, \"val\": 86}, {\"col\": \"Again\", \"idx\": 1521923220000, \"val\": 35}, {\"col\": \"March\", \"idx\": 1521923280000, \"val\": 85}, {\"col\": \"Enough\", \"idx\": 1521923280000, \"val\": 73}, {\"col\": \"Again\", \"idx\": 1521923280000, \"val\": 37}, {\"col\": \"March\", \"idx\": 1521923340000, \"val\": 107}, {\"col\": \"Enough\", \"idx\": 1521923340000, \"val\": 78}, {\"col\": \"Again\", \"idx\": 1521923340000, \"val\": 37}, {\"col\": \"March\", \"idx\": 1521923400000, \"val\": 96}, {\"col\": \"Enough\", \"idx\": 1521923400000, \"val\": 80}, {\"col\": \"Again\", \"idx\": 1521923400000, \"val\": 23}, {\"col\": \"March\", \"idx\": 1521923460000, \"val\": 78}, {\"col\": \"Enough\", \"idx\": 1521923460000, \"val\": 73}, {\"col\": \"Again\", \"idx\": 1521923460000, \"val\": 31}, {\"col\": \"March\", \"idx\": 1521923520000, \"val\": 102}, {\"col\": \"Enough\", \"idx\": 1521923520000, \"val\": 74}, {\"col\": \"Again\", \"idx\": 1521923520000, \"val\": 39}, {\"col\": \"March\", \"idx\": 1521923580000, \"val\": 84}, {\"col\": \"Enough\", \"idx\": 1521923580000, \"val\": 69}, {\"col\": \"Again\", \"idx\": 1521923580000, \"val\": 23}, {\"col\": \"March\", \"idx\": 1521923640000, \"val\": 97}, {\"col\": \"Enough\", \"idx\": 1521923640000, \"val\": 66}, {\"col\": \"Again\", \"idx\": 1521923640000, \"val\": 27}, {\"col\": \"March\", \"idx\": 1521923700000, \"val\": 74}, {\"col\": \"Enough\", \"idx\": 1521923700000, \"val\": 68}, {\"col\": \"Again\", \"idx\": 1521923700000, \"val\": 23}, {\"col\": \"March\", \"idx\": 1521923760000, \"val\": 109}, {\"col\": \"Enough\", \"idx\": 1521923760000, \"val\": 81}, {\"col\": \"Again\", \"idx\": 1521923760000, \"val\": 55}, {\"col\": \"March\", \"idx\": 1521923820000, \"val\": 94}, {\"col\": \"Enough\", \"idx\": 1521923820000, \"val\": 86}, {\"col\": \"Again\", \"idx\": 1521923820000, \"val\": 38}, {\"col\": \"March\", \"idx\": 1521923880000, \"val\": 96}, {\"col\": \"Enough\", \"idx\": 1521923880000, \"val\": 77}, {\"col\": \"Again\", \"idx\": 1521923880000, \"val\": 49}, {\"col\": \"March\", \"idx\": 1521923940000, \"val\": 81}, {\"col\": \"Enough\", \"idx\": 1521923940000, \"val\": 68}, {\"col\": \"Again\", \"idx\": 1521923940000, \"val\": 34}, {\"col\": \"March\", \"idx\": 1521924000000, \"val\": 104}, {\"col\": \"Enough\", \"idx\": 1521924000000, \"val\": 91}, {\"col\": \"Again\", \"idx\": 1521924000000, \"val\": 52}, {\"col\": \"March\", \"idx\": 1521924060000, \"val\": 96}, {\"col\": \"Enough\", \"idx\": 1521924060000, \"val\": 89}, {\"col\": \"Again\", \"idx\": 1521924060000, \"val\": 49}, {\"col\": \"March\", \"idx\": 1521924120000, \"val\": 0}, {\"col\": \"Enough\", \"idx\": 1521924120000, \"val\": 0}, {\"col\": \"Again\", \"idx\": 1521924120000, \"val\": 0}, {\"col\": \"March\", \"idx\": 1521924180000, \"val\": 0}, {\"col\": \"Enough\", \"idx\": 1521924180000, \"val\": 0}, {\"col\": \"Again\", \"idx\": 1521924180000, \"val\": 0}, {\"col\": \"March\", \"idx\": 1521924240000, \"val\": 59}, {\"col\": \"Enough\", \"idx\": 1521924240000, \"val\": 39}, {\"col\": \"Again\", \"idx\": 1521924240000, \"val\": 18}, {\"col\": \"March\", \"idx\": 1521924300000, \"val\": 89}, {\"col\": \"Enough\", \"idx\": 1521924300000, \"val\": 67}, {\"col\": \"Again\", \"idx\": 1521924300000, \"val\": 37}, {\"col\": \"March\", \"idx\": 1521924360000, \"val\": 91}, {\"col\": \"Enough\", \"idx\": 1521924360000, \"val\": 72}, {\"col\": \"Again\", \"idx\": 1521924360000, \"val\": 35}, {\"col\": \"March\", \"idx\": 1521924420000, \"val\": 100}, {\"col\": \"Enough\", \"idx\": 1521924420000, \"val\": 78}, {\"col\": \"Again\", \"idx\": 1521924420000, \"val\": 48}, {\"col\": \"March\", \"idx\": 1521924480000, \"val\": 106}, {\"col\": \"Enough\", \"idx\": 1521924480000, \"val\": 72}, {\"col\": \"Again\", \"idx\": 1521924480000, \"val\": 32}, {\"col\": \"March\", \"idx\": 1521924540000, \"val\": 91}, {\"col\": \"Enough\", \"idx\": 1521924540000, \"val\": 79}, {\"col\": \"Again\", \"idx\": 1521924540000, \"val\": 43}, {\"col\": \"March\", \"idx\": 1521924600000, \"val\": 120}, {\"col\": \"Enough\", \"idx\": 1521924600000, \"val\": 106}, {\"col\": \"Again\", \"idx\": 1521924600000, \"val\": 62}, {\"col\": \"March\", \"idx\": 1521924660000, \"val\": 87}, {\"col\": \"Enough\", \"idx\": 1521924660000, \"val\": 84}, {\"col\": \"Again\", \"idx\": 1521924660000, \"val\": 39}, {\"col\": \"March\", \"idx\": 1521924720000, \"val\": 114}, {\"col\": \"Enough\", \"idx\": 1521924720000, \"val\": 83}, {\"col\": \"Again\", \"idx\": 1521924720000, \"val\": 36}, {\"col\": \"March\", \"idx\": 1521924780000, \"val\": 112}, {\"col\": \"Enough\", \"idx\": 1521924780000, \"val\": 76}, {\"col\": \"Again\", \"idx\": 1521924780000, \"val\": 38}, {\"col\": \"March\", \"idx\": 1521924840000, \"val\": 104}, {\"col\": \"Enough\", \"idx\": 1521924840000, \"val\": 73}, {\"col\": \"Again\", \"idx\": 1521924840000, \"val\": 33}, {\"col\": \"March\", \"idx\": 1521924900000, \"val\": 94}, {\"col\": \"Enough\", \"idx\": 1521924900000, \"val\": 72}, {\"col\": \"Again\", \"idx\": 1521924900000, \"val\": 36}, {\"col\": \"March\", \"idx\": 1521924960000, \"val\": 100}, {\"col\": \"Enough\", \"idx\": 1521924960000, \"val\": 74}, {\"col\": \"Again\", \"idx\": 1521924960000, \"val\": 42}, {\"col\": \"March\", \"idx\": 1521925020000, \"val\": 96}, {\"col\": \"Enough\", \"idx\": 1521925020000, \"val\": 81}, {\"col\": \"Again\", \"idx\": 1521925020000, \"val\": 37}, {\"col\": \"March\", \"idx\": 1521925080000, \"val\": 83}, {\"col\": \"Enough\", \"idx\": 1521925080000, \"val\": 70}, {\"col\": \"Again\", \"idx\": 1521925080000, \"val\": 30}, {\"col\": \"March\", \"idx\": 1521925140000, \"val\": 84}, {\"col\": \"Enough\", \"idx\": 1521925140000, \"val\": 67}, {\"col\": \"Again\", \"idx\": 1521925140000, \"val\": 30}, {\"col\": \"March\", \"idx\": 1521925200000, \"val\": 90}, {\"col\": \"Enough\", \"idx\": 1521925200000, \"val\": 72}, {\"col\": \"Again\", \"idx\": 1521925200000, \"val\": 41}, {\"col\": \"March\", \"idx\": 1521925260000, \"val\": 85}, {\"col\": \"Enough\", \"idx\": 1521925260000, \"val\": 58}, {\"col\": \"Again\", \"idx\": 1521925260000, \"val\": 20}, {\"col\": \"March\", \"idx\": 1521925320000, \"val\": 87}, {\"col\": \"Enough\", \"idx\": 1521925320000, \"val\": 60}, {\"col\": \"Again\", \"idx\": 1521925320000, \"val\": 24}, {\"col\": \"March\", \"idx\": 1521925380000, \"val\": 79}, {\"col\": \"Enough\", \"idx\": 1521925380000, \"val\": 70}, {\"col\": \"Again\", \"idx\": 1521925380000, \"val\": 31}, {\"col\": \"March\", \"idx\": 1521925440000, \"val\": 71}, {\"col\": \"Enough\", \"idx\": 1521925440000, \"val\": 53}, {\"col\": \"Again\", \"idx\": 1521925440000, \"val\": 20}, {\"col\": \"March\", \"idx\": 1521925500000, \"val\": 84}, {\"col\": \"Enough\", \"idx\": 1521925500000, \"val\": 69}, {\"col\": \"Again\", \"idx\": 1521925500000, \"val\": 34}, {\"col\": \"March\", \"idx\": 1521925560000, \"val\": 101}, {\"col\": \"Enough\", \"idx\": 1521925560000, \"val\": 79}, {\"col\": \"Again\", \"idx\": 1521925560000, \"val\": 36}, {\"col\": \"March\", \"idx\": 1521925620000, \"val\": 86}, {\"col\": \"Enough\", \"idx\": 1521925620000, \"val\": 71}, {\"col\": \"Again\", \"idx\": 1521925620000, \"val\": 39}, {\"col\": \"March\", \"idx\": 1521925680000, \"val\": 78}, {\"col\": \"Enough\", \"idx\": 1521925680000, \"val\": 63}, {\"col\": \"Again\", \"idx\": 1521925680000, \"val\": 19}, {\"col\": \"March\", \"idx\": 1521925740000, \"val\": 81}, {\"col\": \"Enough\", \"idx\": 1521925740000, \"val\": 56}, {\"col\": \"Again\", \"idx\": 1521925740000, \"val\": 25}, {\"col\": \"March\", \"idx\": 1521925800000, \"val\": 67}, {\"col\": \"Enough\", \"idx\": 1521925800000, \"val\": 62}, {\"col\": \"Again\", \"idx\": 1521925800000, \"val\": 28}, {\"col\": \"March\", \"idx\": 1521925860000, \"val\": 89}, {\"col\": \"Enough\", \"idx\": 1521925860000, \"val\": 76}, {\"col\": \"Again\", \"idx\": 1521925860000, \"val\": 33}, {\"col\": \"March\", \"idx\": 1521925920000, \"val\": 84}, {\"col\": \"Enough\", \"idx\": 1521925920000, \"val\": 69}, {\"col\": \"Again\", \"idx\": 1521925920000, \"val\": 25}, {\"col\": \"March\", \"idx\": 1521925980000, \"val\": 98}, {\"col\": \"Enough\", \"idx\": 1521925980000, \"val\": 93}, {\"col\": \"Again\", \"idx\": 1521925980000, \"val\": 29}, {\"col\": \"March\", \"idx\": 1521926040000, \"val\": 82}, {\"col\": \"Enough\", \"idx\": 1521926040000, \"val\": 74}, {\"col\": \"Again\", \"idx\": 1521926040000, \"val\": 28}, {\"col\": \"March\", \"idx\": 1521926100000, \"val\": 57}, {\"col\": \"Enough\", \"idx\": 1521926100000, \"val\": 68}, {\"col\": \"Again\", \"idx\": 1521926100000, \"val\": 32}, {\"col\": \"March\", \"idx\": 1521926160000, \"val\": 84}, {\"col\": \"Enough\", \"idx\": 1521926160000, \"val\": 73}, {\"col\": \"Again\", \"idx\": 1521926160000, \"val\": 23}, {\"col\": \"March\", \"idx\": 1521926220000, \"val\": 72}, {\"col\": \"Enough\", \"idx\": 1521926220000, \"val\": 59}, {\"col\": \"Again\", \"idx\": 1521926220000, \"val\": 26}, {\"col\": \"March\", \"idx\": 1521926280000, \"val\": 100}, {\"col\": \"Enough\", \"idx\": 1521926280000, \"val\": 86}, {\"col\": \"Again\", \"idx\": 1521926280000, \"val\": 27}, {\"col\": \"March\", \"idx\": 1521926340000, \"val\": 75}, {\"col\": \"Enough\", \"idx\": 1521926340000, \"val\": 62}, {\"col\": \"Again\", \"idx\": 1521926340000, \"val\": 25}, {\"col\": \"March\", \"idx\": 1521926400000, \"val\": 92}, {\"col\": \"Enough\", \"idx\": 1521926400000, \"val\": 83}, {\"col\": \"Again\", \"idx\": 1521926400000, \"val\": 28}, {\"col\": \"March\", \"idx\": 1521926460000, \"val\": 86}, {\"col\": \"Enough\", \"idx\": 1521926460000, \"val\": 78}, {\"col\": \"Again\", \"idx\": 1521926460000, \"val\": 21}, {\"col\": \"March\", \"idx\": 1521926520000, \"val\": 101}, {\"col\": \"Enough\", \"idx\": 1521926520000, \"val\": 83}, {\"col\": \"Again\", \"idx\": 1521926520000, \"val\": 28}, {\"col\": \"March\", \"idx\": 1521926580000, \"val\": 80}, {\"col\": \"Enough\", \"idx\": 1521926580000, \"val\": 79}, {\"col\": \"Again\", \"idx\": 1521926580000, \"val\": 31}, {\"col\": \"March\", \"idx\": 1521926640000, \"val\": 89}, {\"col\": \"Enough\", \"idx\": 1521926640000, \"val\": 60}, {\"col\": \"Again\", \"idx\": 1521926640000, \"val\": 33}, {\"col\": \"March\", \"idx\": 1521926700000, \"val\": 103}, {\"col\": \"Enough\", \"idx\": 1521926700000, \"val\": 66}, {\"col\": \"Again\", \"idx\": 1521926700000, \"val\": 36}, {\"col\": \"March\", \"idx\": 1521926760000, \"val\": 96}, {\"col\": \"Enough\", \"idx\": 1521926760000, \"val\": 81}, {\"col\": \"Again\", \"idx\": 1521926760000, \"val\": 27}, {\"col\": \"March\", \"idx\": 1521926820000, \"val\": 74}, {\"col\": \"Enough\", \"idx\": 1521926820000, \"val\": 62}, {\"col\": \"Again\", \"idx\": 1521926820000, \"val\": 24}, {\"col\": \"March\", \"idx\": 1521926880000, \"val\": 88}, {\"col\": \"Enough\", \"idx\": 1521926880000, \"val\": 74}, {\"col\": \"Again\", \"idx\": 1521926880000, \"val\": 25}, {\"col\": \"March\", \"idx\": 1521926940000, \"val\": 87}, {\"col\": \"Enough\", \"idx\": 1521926940000, \"val\": 69}, {\"col\": \"Again\", \"idx\": 1521926940000, \"val\": 34}, {\"col\": \"March\", \"idx\": 1521927000000, \"val\": 91}, {\"col\": \"Enough\", \"idx\": 1521927000000, \"val\": 82}, {\"col\": \"Again\", \"idx\": 1521927000000, \"val\": 29}, {\"col\": \"March\", \"idx\": 1521927060000, \"val\": 84}, {\"col\": \"Enough\", \"idx\": 1521927060000, \"val\": 78}, {\"col\": \"Again\", \"idx\": 1521927060000, \"val\": 28}, {\"col\": \"March\", \"idx\": 1521927120000, \"val\": 54}, {\"col\": \"Enough\", \"idx\": 1521927120000, \"val\": 36}, {\"col\": \"Again\", \"idx\": 1521927120000, \"val\": 15}, {\"col\": \"March\", \"idx\": 1521927180000, \"val\": 0}, {\"col\": \"Enough\", \"idx\": 1521927180000, \"val\": 0}, {\"col\": \"Again\", \"idx\": 1521927180000, \"val\": 0}, {\"col\": \"March\", \"idx\": 1521927240000, \"val\": 0}, {\"col\": \"Enough\", \"idx\": 1521927240000, \"val\": 0}, {\"col\": \"Again\", \"idx\": 1521927240000, \"val\": 0}, {\"col\": \"March\", \"idx\": 1521927300000, \"val\": 0}, {\"col\": \"Enough\", \"idx\": 1521927300000, \"val\": 0}, {\"col\": \"Again\", \"idx\": 1521927300000, \"val\": 0}, {\"col\": \"March\", \"idx\": 1521927360000, \"val\": 0}, {\"col\": \"Enough\", \"idx\": 1521927360000, \"val\": 0}, {\"col\": \"Again\", \"idx\": 1521927360000, \"val\": 0}, {\"col\": \"March\", \"idx\": 1521927420000, \"val\": 0}, {\"col\": \"Enough\", \"idx\": 1521927420000, \"val\": 0}, {\"col\": \"Again\", \"idx\": 1521927420000, \"val\": 0}, {\"col\": \"March\", \"idx\": 1521927480000, \"val\": 0}, {\"col\": \"Enough\", \"idx\": 1521927480000, \"val\": 0}, {\"col\": \"Again\", \"idx\": 1521927480000, \"val\": 0}, {\"col\": \"March\", \"idx\": 1521927540000, \"val\": 0}, {\"col\": \"Enough\", \"idx\": 1521927540000, \"val\": 0}, {\"col\": \"Again\", \"idx\": 1521927540000, \"val\": 0}, {\"col\": \"March\", \"idx\": 1521927600000, \"val\": 0}, {\"col\": \"Enough\", \"idx\": 1521927600000, \"val\": 0}, {\"col\": \"Again\", \"idx\": 1521927600000, \"val\": 0}, {\"col\": \"March\", \"idx\": 1521927660000, \"val\": 0}, {\"col\": \"Enough\", \"idx\": 1521927660000, \"val\": 0}, {\"col\": \"Again\", \"idx\": 1521927660000, \"val\": 0}, {\"col\": \"March\", \"idx\": 1521927720000, \"val\": 60}, {\"col\": \"Enough\", \"idx\": 1521927720000, \"val\": 51}, {\"col\": \"Again\", \"idx\": 1521927720000, \"val\": 18}, {\"col\": \"March\", \"idx\": 1521927780000, \"val\": 70}, {\"col\": \"Enough\", \"idx\": 1521927780000, \"val\": 52}, {\"col\": \"Again\", \"idx\": 1521927780000, \"val\": 21}, {\"col\": \"March\", \"idx\": 1521927840000, \"val\": 82}, {\"col\": \"Enough\", \"idx\": 1521927840000, \"val\": 68}, {\"col\": \"Again\", \"idx\": 1521927840000, \"val\": 25}, {\"col\": \"March\", \"idx\": 1521927900000, \"val\": 84}, {\"col\": \"Enough\", \"idx\": 1521927900000, \"val\": 63}, {\"col\": \"Again\", \"idx\": 1521927900000, \"val\": 26}, {\"col\": \"March\", \"idx\": 1521927960000, \"val\": 84}, {\"col\": \"Enough\", \"idx\": 1521927960000, \"val\": 77}, {\"col\": \"Again\", \"idx\": 1521927960000, \"val\": 32}, {\"col\": \"March\", \"idx\": 1521928020000, \"val\": 71}, {\"col\": \"Enough\", \"idx\": 1521928020000, \"val\": 56}, {\"col\": \"Again\", \"idx\": 1521928020000, \"val\": 18}, {\"col\": \"March\", \"idx\": 1521928080000, \"val\": 99}, {\"col\": \"Enough\", \"idx\": 1521928080000, \"val\": 68}, {\"col\": \"Again\", \"idx\": 1521928080000, \"val\": 30}, {\"col\": \"March\", \"idx\": 1521928140000, \"val\": 79}, {\"col\": \"Enough\", \"idx\": 1521928140000, \"val\": 68}, {\"col\": \"Again\", \"idx\": 1521928140000, \"val\": 31}, {\"col\": \"March\", \"idx\": 1521928200000, \"val\": 81}, {\"col\": \"Enough\", \"idx\": 1521928200000, \"val\": 72}, {\"col\": \"Again\", \"idx\": 1521928200000, \"val\": 29}, {\"col\": \"March\", \"idx\": 1521928260000, \"val\": 73}, {\"col\": \"Enough\", \"idx\": 1521928260000, \"val\": 52}, {\"col\": \"Again\", \"idx\": 1521928260000, \"val\": 22}, {\"col\": \"March\", \"idx\": 1521928320000, \"val\": 88}, {\"col\": \"Enough\", \"idx\": 1521928320000, \"val\": 62}, {\"col\": \"Again\", \"idx\": 1521928320000, \"val\": 30}, {\"col\": \"March\", \"idx\": 1521928380000, \"val\": 83}, {\"col\": \"Enough\", \"idx\": 1521928380000, \"val\": 70}, {\"col\": \"Again\", \"idx\": 1521928380000, \"val\": 22}, {\"col\": \"March\", \"idx\": 1521928440000, \"val\": 65}, {\"col\": \"Enough\", \"idx\": 1521928440000, \"val\": 49}, {\"col\": \"Again\", \"idx\": 1521928440000, \"val\": 15}, {\"col\": \"March\", \"idx\": 1521928500000, \"val\": 80}, {\"col\": \"Enough\", \"idx\": 1521928500000, \"val\": 66}, {\"col\": \"Again\", \"idx\": 1521928500000, \"val\": 32}, {\"col\": \"March\", \"idx\": 1521928560000, \"val\": 67}, {\"col\": \"Enough\", \"idx\": 1521928560000, \"val\": 66}, {\"col\": \"Again\", \"idx\": 1521928560000, \"val\": 45}, {\"col\": \"March\", \"idx\": 1521928620000, \"val\": 90}, {\"col\": \"Enough\", \"idx\": 1521928620000, \"val\": 80}, {\"col\": \"Again\", \"idx\": 1521928620000, \"val\": 49}, {\"col\": \"March\", \"idx\": 1521928680000, \"val\": 81}, {\"col\": \"Enough\", \"idx\": 1521928680000, \"val\": 60}, {\"col\": \"Again\", \"idx\": 1521928680000, \"val\": 41}, {\"col\": \"March\", \"idx\": 1521928740000, \"val\": 91}, {\"col\": \"Enough\", \"idx\": 1521928740000, \"val\": 70}, {\"col\": \"Again\", \"idx\": 1521928740000, \"val\": 31}, {\"col\": \"March\", \"idx\": 1521928800000, \"val\": 74}, {\"col\": \"Enough\", \"idx\": 1521928800000, \"val\": 60}, {\"col\": \"Again\", \"idx\": 1521928800000, \"val\": 31}, {\"col\": \"March\", \"idx\": 1521928860000, \"val\": 61}, {\"col\": \"Enough\", \"idx\": 1521928860000, \"val\": 49}, {\"col\": \"Again\", \"idx\": 1521928860000, \"val\": 20}, {\"col\": \"March\", \"idx\": 1521928920000, \"val\": 84}, {\"col\": \"Enough\", \"idx\": 1521928920000, \"val\": 72}, {\"col\": \"Again\", \"idx\": 1521928920000, \"val\": 33}, {\"col\": \"March\", \"idx\": 1521928980000, \"val\": 75}, {\"col\": \"Enough\", \"idx\": 1521928980000, \"val\": 69}, {\"col\": \"Again\", \"idx\": 1521928980000, \"val\": 22}, {\"col\": \"March\", \"idx\": 1521929040000, \"val\": 77}, {\"col\": \"Enough\", \"idx\": 1521929040000, \"val\": 59}, {\"col\": \"Again\", \"idx\": 1521929040000, \"val\": 26}, {\"col\": \"March\", \"idx\": 1521929100000, \"val\": 77}, {\"col\": \"Enough\", \"idx\": 1521929100000, \"val\": 68}, {\"col\": \"Again\", \"idx\": 1521929100000, \"val\": 34}, {\"col\": \"March\", \"idx\": 1521929160000, \"val\": 80}, {\"col\": \"Enough\", \"idx\": 1521929160000, \"val\": 62}, {\"col\": \"Again\", \"idx\": 1521929160000, \"val\": 24}, {\"col\": \"March\", \"idx\": 1521929220000, \"val\": 86}, {\"col\": \"Enough\", \"idx\": 1521929220000, \"val\": 79}, {\"col\": \"Again\", \"idx\": 1521929220000, \"val\": 29}, {\"col\": \"March\", \"idx\": 1521929280000, \"val\": 97}, {\"col\": \"Enough\", \"idx\": 1521929280000, \"val\": 81}, {\"col\": \"Again\", \"idx\": 1521929280000, \"val\": 23}, {\"col\": \"March\", \"idx\": 1521929340000, \"val\": 64}, {\"col\": \"Enough\", \"idx\": 1521929340000, \"val\": 59}, {\"col\": \"Again\", \"idx\": 1521929340000, \"val\": 21}, {\"col\": \"March\", \"idx\": 1521929400000, \"val\": 71}, {\"col\": \"Enough\", \"idx\": 1521929400000, \"val\": 58}, {\"col\": \"Again\", \"idx\": 1521929400000, \"val\": 32}, {\"col\": \"March\", \"idx\": 1521929460000, \"val\": 67}, {\"col\": \"Enough\", \"idx\": 1521929460000, \"val\": 71}, {\"col\": \"Again\", \"idx\": 1521929460000, \"val\": 26}, {\"col\": \"March\", \"idx\": 1521929520000, \"val\": 89}, {\"col\": \"Enough\", \"idx\": 1521929520000, \"val\": 76}, {\"col\": \"Again\", \"idx\": 1521929520000, \"val\": 30}, {\"col\": \"March\", \"idx\": 1521929580000, \"val\": 82}, {\"col\": \"Enough\", \"idx\": 1521929580000, \"val\": 64}, {\"col\": \"Again\", \"idx\": 1521929580000, \"val\": 21}, {\"col\": \"March\", \"idx\": 1521929640000, \"val\": 83}, {\"col\": \"Enough\", \"idx\": 1521929640000, \"val\": 62}, {\"col\": \"Again\", \"idx\": 1521929640000, \"val\": 21}, {\"col\": \"March\", \"idx\": 1521929700000, \"val\": 70}, {\"col\": \"Enough\", \"idx\": 1521929700000, \"val\": 58}, {\"col\": \"Again\", \"idx\": 1521929700000, \"val\": 20}, {\"col\": \"March\", \"idx\": 1521929760000, \"val\": 80}, {\"col\": \"Enough\", \"idx\": 1521929760000, \"val\": 64}, {\"col\": \"Again\", \"idx\": 1521929760000, \"val\": 25}, {\"col\": \"March\", \"idx\": 1521929820000, \"val\": 61}, {\"col\": \"Enough\", \"idx\": 1521929820000, \"val\": 45}, {\"col\": \"Again\", \"idx\": 1521929820000, \"val\": 13}, {\"col\": \"March\", \"idx\": 1521929880000, \"val\": 95}, {\"col\": \"Enough\", \"idx\": 1521929880000, \"val\": 75}, {\"col\": \"Again\", \"idx\": 1521929880000, \"val\": 28}, {\"col\": \"March\", \"idx\": 1521929940000, \"val\": 90}, {\"col\": \"Enough\", \"idx\": 1521929940000, \"val\": 66}, {\"col\": \"Again\", \"idx\": 1521929940000, \"val\": 25}, {\"col\": \"March\", \"idx\": 1521930000000, \"val\": 97}, {\"col\": \"Enough\", \"idx\": 1521930000000, \"val\": 66}, {\"col\": \"Again\", \"idx\": 1521930000000, \"val\": 25}, {\"col\": \"March\", \"idx\": 1521930060000, \"val\": 86}, {\"col\": \"Enough\", \"idx\": 1521930060000, \"val\": 69}, {\"col\": \"Again\", \"idx\": 1521930060000, \"val\": 25}, {\"col\": \"March\", \"idx\": 1521930120000, \"val\": 101}, {\"col\": \"Enough\", \"idx\": 1521930120000, \"val\": 69}, {\"col\": \"Again\", \"idx\": 1521930120000, \"val\": 24}, {\"col\": \"March\", \"idx\": 1521930180000, \"val\": 83}, {\"col\": \"Enough\", \"idx\": 1521930180000, \"val\": 54}, {\"col\": \"Again\", \"idx\": 1521930180000, \"val\": 17}, {\"col\": \"March\", \"idx\": 1521930240000, \"val\": 85}, {\"col\": \"Enough\", \"idx\": 1521930240000, \"val\": 58}, {\"col\": \"Again\", \"idx\": 1521930240000, \"val\": 33}, {\"col\": \"March\", \"idx\": 1521930300000, \"val\": 78}, {\"col\": \"Enough\", \"idx\": 1521930300000, \"val\": 54}, {\"col\": \"Again\", \"idx\": 1521930300000, \"val\": 15}, {\"col\": \"March\", \"idx\": 1521930360000, \"val\": 100}, {\"col\": \"Enough\", \"idx\": 1521930360000, \"val\": 79}, {\"col\": \"Again\", \"idx\": 1521930360000, \"val\": 32}, {\"col\": \"March\", \"idx\": 1521930420000, \"val\": 83}, {\"col\": \"Enough\", \"idx\": 1521930420000, \"val\": 66}, {\"col\": \"Again\", \"idx\": 1521930420000, \"val\": 29}, {\"col\": \"March\", \"idx\": 1521930480000, \"val\": 89}, {\"col\": \"Enough\", \"idx\": 1521930480000, \"val\": 81}, {\"col\": \"Again\", \"idx\": 1521930480000, \"val\": 27}, {\"col\": \"March\", \"idx\": 1521930540000, \"val\": 86}, {\"col\": \"Enough\", \"idx\": 1521930540000, \"val\": 65}, {\"col\": \"Again\", \"idx\": 1521930540000, \"val\": 24}, {\"col\": \"March\", \"idx\": 1521930600000, \"val\": 90}, {\"col\": \"Enough\", \"idx\": 1521930600000, \"val\": 62}, {\"col\": \"Again\", \"idx\": 1521930600000, \"val\": 22}, {\"col\": \"March\", \"idx\": 1521930660000, \"val\": 82}, {\"col\": \"Enough\", \"idx\": 1521930660000, \"val\": 69}, {\"col\": \"Again\", \"idx\": 1521930660000, \"val\": 21}, {\"col\": \"March\", \"idx\": 1521930720000, \"val\": 97}, {\"col\": \"Enough\", \"idx\": 1521930720000, \"val\": 80}, {\"col\": \"Again\", \"idx\": 1521930720000, \"val\": 26}, {\"col\": \"March\", \"idx\": 1521930780000, \"val\": 95}, {\"col\": \"Enough\", \"idx\": 1521930780000, \"val\": 73}, {\"col\": \"Again\", \"idx\": 1521930780000, \"val\": 24}, {\"col\": \"March\", \"idx\": 1521930840000, \"val\": 87}, {\"col\": \"Enough\", \"idx\": 1521930840000, \"val\": 71}, {\"col\": \"Again\", \"idx\": 1521930840000, \"val\": 24}, {\"col\": \"March\", \"idx\": 1521930900000, \"val\": 76}, {\"col\": \"Enough\", \"idx\": 1521930900000, \"val\": 61}, {\"col\": \"Again\", \"idx\": 1521930900000, \"val\": 21}, {\"col\": \"March\", \"idx\": 1521930960000, \"val\": 88}, {\"col\": \"Enough\", \"idx\": 1521930960000, \"val\": 75}, {\"col\": \"Again\", \"idx\": 1521930960000, \"val\": 36}, {\"col\": \"March\", \"idx\": 1521931020000, \"val\": 72}, {\"col\": \"Enough\", \"idx\": 1521931020000, \"val\": 69}, {\"col\": \"Again\", \"idx\": 1521931020000, \"val\": 28}, {\"col\": \"March\", \"idx\": 1521931080000, \"val\": 95}, {\"col\": \"Enough\", \"idx\": 1521931080000, \"val\": 69}, {\"col\": \"Again\", \"idx\": 1521931080000, \"val\": 23}, {\"col\": \"March\", \"idx\": 1521931140000, \"val\": 117}, {\"col\": \"Enough\", \"idx\": 1521931140000, \"val\": 93}, {\"col\": \"Again\", \"idx\": 1521931140000, \"val\": 32}, {\"col\": \"March\", \"idx\": 1521931200000, \"val\": 93}, {\"col\": \"Enough\", \"idx\": 1521931200000, \"val\": 74}, {\"col\": \"Again\", \"idx\": 1521931200000, \"val\": 23}, {\"col\": \"March\", \"idx\": 1521931260000, \"val\": 88}, {\"col\": \"Enough\", \"idx\": 1521931260000, \"val\": 66}, {\"col\": \"Again\", \"idx\": 1521931260000, \"val\": 31}, {\"col\": \"March\", \"idx\": 1521931320000, \"val\": 92}, {\"col\": \"Enough\", \"idx\": 1521931320000, \"val\": 68}, {\"col\": \"Again\", \"idx\": 1521931320000, \"val\": 25}, {\"col\": \"March\", \"idx\": 1521931380000, \"val\": 88}, {\"col\": \"Enough\", \"idx\": 1521931380000, \"val\": 78}, {\"col\": \"Again\", \"idx\": 1521931380000, \"val\": 30}, {\"col\": \"March\", \"idx\": 1521931440000, \"val\": 89}, {\"col\": \"Enough\", \"idx\": 1521931440000, \"val\": 71}, {\"col\": \"Again\", \"idx\": 1521931440000, \"val\": 34}, {\"col\": \"March\", \"idx\": 1521931500000, \"val\": 83}, {\"col\": \"Enough\", \"idx\": 1521931500000, \"val\": 76}, {\"col\": \"Again\", \"idx\": 1521931500000, \"val\": 34}, {\"col\": \"March\", \"idx\": 1521931560000, \"val\": 84}, {\"col\": \"Enough\", \"idx\": 1521931560000, \"val\": 71}, {\"col\": \"Again\", \"idx\": 1521931560000, \"val\": 25}, {\"col\": \"March\", \"idx\": 1521931620000, \"val\": 77}, {\"col\": \"Enough\", \"idx\": 1521931620000, \"val\": 50}, {\"col\": \"Again\", \"idx\": 1521931620000, \"val\": 22}, {\"col\": \"March\", \"idx\": 1521931680000, \"val\": 76}, {\"col\": \"Enough\", \"idx\": 1521931680000, \"val\": 76}, {\"col\": \"Again\", \"idx\": 1521931680000, \"val\": 36}, {\"col\": \"March\", \"idx\": 1521931740000, \"val\": 86}, {\"col\": \"Enough\", \"idx\": 1521931740000, \"val\": 66}, {\"col\": \"Again\", \"idx\": 1521931740000, \"val\": 30}, {\"col\": \"March\", \"idx\": 1521931800000, \"val\": 80}, {\"col\": \"Enough\", \"idx\": 1521931800000, \"val\": 66}, {\"col\": \"Again\", \"idx\": 1521931800000, \"val\": 27}, {\"col\": \"March\", \"idx\": 1521931860000, \"val\": 77}, {\"col\": \"Enough\", \"idx\": 1521931860000, \"val\": 67}, {\"col\": \"Again\", \"idx\": 1521931860000, \"val\": 30}, {\"col\": \"March\", \"idx\": 1521931920000, \"val\": 72}, {\"col\": \"Enough\", \"idx\": 1521931920000, \"val\": 57}, {\"col\": \"Again\", \"idx\": 1521931920000, \"val\": 18}, {\"col\": \"March\", \"idx\": 1521931980000, \"val\": 73}, {\"col\": \"Enough\", \"idx\": 1521931980000, \"val\": 63}, {\"col\": \"Again\", \"idx\": 1521931980000, \"val\": 17}, {\"col\": \"March\", \"idx\": 1521932040000, \"val\": 20}, {\"col\": \"Enough\", \"idx\": 1521932040000, \"val\": 17}, {\"col\": \"Again\", \"idx\": 1521932040000, \"val\": 4}, {\"col\": \"March\", \"idx\": 1521932100000, \"val\": 0}, {\"col\": \"Enough\", \"idx\": 1521932100000, \"val\": 0}, {\"col\": \"Again\", \"idx\": 1521932100000, \"val\": 0}, {\"col\": \"March\", \"idx\": 1521932160000, \"val\": 0}, {\"col\": \"Enough\", \"idx\": 1521932160000, \"val\": 0}, {\"col\": \"Again\", \"idx\": 1521932160000, \"val\": 0}, {\"col\": \"March\", \"idx\": 1521932220000, \"val\": 0}, {\"col\": \"Enough\", \"idx\": 1521932220000, \"val\": 0}, {\"col\": \"Again\", \"idx\": 1521932220000, \"val\": 0}, {\"col\": \"March\", \"idx\": 1521932280000, \"val\": 0}, {\"col\": \"Enough\", \"idx\": 1521932280000, \"val\": 0}, {\"col\": \"Again\", \"idx\": 1521932280000, \"val\": 0}, {\"col\": \"March\", \"idx\": 1521932340000, \"val\": 0}, {\"col\": \"Enough\", \"idx\": 1521932340000, \"val\": 0}, {\"col\": \"Again\", \"idx\": 1521932340000, \"val\": 0}, {\"col\": \"March\", \"idx\": 1521932400000, \"val\": 0}, {\"col\": \"Enough\", \"idx\": 1521932400000, \"val\": 0}, {\"col\": \"Again\", \"idx\": 1521932400000, \"val\": 0}, {\"col\": \"March\", \"idx\": 1521932460000, \"val\": 0}, {\"col\": \"Enough\", \"idx\": 1521932460000, \"val\": 0}, {\"col\": \"Again\", \"idx\": 1521932460000, \"val\": 0}, {\"col\": \"March\", \"idx\": 1521932520000, \"val\": 0}, {\"col\": \"Enough\", \"idx\": 1521932520000, \"val\": 0}, {\"col\": \"Again\", \"idx\": 1521932520000, \"val\": 0}, {\"col\": \"March\", \"idx\": 1521932580000, \"val\": 0}, {\"col\": \"Enough\", \"idx\": 1521932580000, \"val\": 0}, {\"col\": \"Again\", \"idx\": 1521932580000, \"val\": 0}, {\"col\": \"March\", \"idx\": 1521932640000, \"val\": 0}, {\"col\": \"Enough\", \"idx\": 1521932640000, \"val\": 0}, {\"col\": \"Again\", \"idx\": 1521932640000, \"val\": 0}, {\"col\": \"March\", \"idx\": 1521932700000, \"val\": 0}, {\"col\": \"Enough\", \"idx\": 1521932700000, \"val\": 0}, {\"col\": \"Again\", \"idx\": 1521932700000, \"val\": 0}, {\"col\": \"March\", \"idx\": 1521932760000, \"val\": 0}, {\"col\": \"Enough\", \"idx\": 1521932760000, \"val\": 0}, {\"col\": \"Again\", \"idx\": 1521932760000, \"val\": 0}, {\"col\": \"March\", \"idx\": 1521932820000, \"val\": 0}, {\"col\": \"Enough\", \"idx\": 1521932820000, \"val\": 0}, {\"col\": \"Again\", \"idx\": 1521932820000, \"val\": 0}, {\"col\": \"March\", \"idx\": 1521932880000, \"val\": 0}, {\"col\": \"Enough\", \"idx\": 1521932880000, \"val\": 0}, {\"col\": \"Again\", \"idx\": 1521932880000, \"val\": 0}, {\"col\": \"March\", \"idx\": 1521932940000, \"val\": 0}, {\"col\": \"Enough\", \"idx\": 1521932940000, \"val\": 0}, {\"col\": \"Again\", \"idx\": 1521932940000, \"val\": 0}, {\"col\": \"March\", \"idx\": 1521933000000, \"val\": 0}, {\"col\": \"Enough\", \"idx\": 1521933000000, \"val\": 0}, {\"col\": \"Again\", \"idx\": 1521933000000, \"val\": 0}, {\"col\": \"March\", \"idx\": 1521933060000, \"val\": 0}, {\"col\": \"Enough\", \"idx\": 1521933060000, \"val\": 0}, {\"col\": \"Again\", \"idx\": 1521933060000, \"val\": 0}, {\"col\": \"March\", \"idx\": 1521933120000, \"val\": 0}, {\"col\": \"Enough\", \"idx\": 1521933120000, \"val\": 0}, {\"col\": \"Again\", \"idx\": 1521933120000, \"val\": 0}, {\"col\": \"March\", \"idx\": 1521933180000, \"val\": 0}, {\"col\": \"Enough\", \"idx\": 1521933180000, \"val\": 0}, {\"col\": \"Again\", \"idx\": 1521933180000, \"val\": 0}, {\"col\": \"March\", \"idx\": 1521933240000, \"val\": 0}, {\"col\": \"Enough\", \"idx\": 1521933240000, \"val\": 0}, {\"col\": \"Again\", \"idx\": 1521933240000, \"val\": 0}, {\"col\": \"March\", \"idx\": 1521933300000, \"val\": 0}, {\"col\": \"Enough\", \"idx\": 1521933300000, \"val\": 0}, {\"col\": \"Again\", \"idx\": 1521933300000, \"val\": 0}, {\"col\": \"March\", \"idx\": 1521933360000, \"val\": 0}, {\"col\": \"Enough\", \"idx\": 1521933360000, \"val\": 0}, {\"col\": \"Again\", \"idx\": 1521933360000, \"val\": 0}, {\"col\": \"March\", \"idx\": 1521933420000, \"val\": 0}, {\"col\": \"Enough\", \"idx\": 1521933420000, \"val\": 0}, {\"col\": \"Again\", \"idx\": 1521933420000, \"val\": 0}, {\"col\": \"March\", \"idx\": 1521933480000, \"val\": 0}, {\"col\": \"Enough\", \"idx\": 1521933480000, \"val\": 0}, {\"col\": \"Again\", \"idx\": 1521933480000, \"val\": 0}, {\"col\": \"March\", \"idx\": 1521933540000, \"val\": 0}, {\"col\": \"Enough\", \"idx\": 1521933540000, \"val\": 0}, {\"col\": \"Again\", \"idx\": 1521933540000, \"val\": 0}, {\"col\": \"March\", \"idx\": 1521933600000, \"val\": 58}, {\"col\": \"Enough\", \"idx\": 1521933600000, \"val\": 51}, {\"col\": \"Again\", \"idx\": 1521933600000, \"val\": 17}, {\"col\": \"March\", \"idx\": 1521933660000, \"val\": 81}, {\"col\": \"Enough\", \"idx\": 1521933660000, \"val\": 60}, {\"col\": \"Again\", \"idx\": 1521933660000, \"val\": 34}, {\"col\": \"March\", \"idx\": 1521933720000, \"val\": 68}, {\"col\": \"Enough\", \"idx\": 1521933720000, \"val\": 47}, {\"col\": \"Again\", \"idx\": 1521933720000, \"val\": 19}, {\"col\": \"March\", \"idx\": 1521933780000, \"val\": 63}, {\"col\": \"Enough\", \"idx\": 1521933780000, \"val\": 54}, {\"col\": \"Again\", \"idx\": 1521933780000, \"val\": 24}, {\"col\": \"March\", \"idx\": 1521933840000, \"val\": 91}, {\"col\": \"Enough\", \"idx\": 1521933840000, \"val\": 90}, {\"col\": \"Again\", \"idx\": 1521933840000, \"val\": 27}, {\"col\": \"March\", \"idx\": 1521933900000, \"val\": 70}, {\"col\": \"Enough\", \"idx\": 1521933900000, \"val\": 89}, {\"col\": \"Again\", \"idx\": 1521933900000, \"val\": 28}, {\"col\": \"March\", \"idx\": 1521933960000, \"val\": 85}, {\"col\": \"Enough\", \"idx\": 1521933960000, \"val\": 82}, {\"col\": \"Again\", \"idx\": 1521933960000, \"val\": 19}, {\"col\": \"March\", \"idx\": 1521934020000, \"val\": 55}, {\"col\": \"Enough\", \"idx\": 1521934020000, \"val\": 68}, {\"col\": \"Again\", \"idx\": 1521934020000, \"val\": 19}, {\"col\": \"March\", \"idx\": 1521934080000, \"val\": 91}, {\"col\": \"Enough\", \"idx\": 1521934080000, \"val\": 79}, {\"col\": \"Again\", \"idx\": 1521934080000, \"val\": 30}, {\"col\": \"March\", \"idx\": 1521934140000, \"val\": 69}, {\"col\": \"Enough\", \"idx\": 1521934140000, \"val\": 71}, {\"col\": \"Again\", \"idx\": 1521934140000, \"val\": 25}, {\"col\": \"March\", \"idx\": 1521934200000, \"val\": 62}, {\"col\": \"Enough\", \"idx\": 1521934200000, \"val\": 53}, {\"col\": \"Again\", \"idx\": 1521934200000, \"val\": 22}, {\"col\": \"March\", \"idx\": 1521934260000, \"val\": 69}, {\"col\": \"Enough\", \"idx\": 1521934260000, \"val\": 67}, {\"col\": \"Again\", \"idx\": 1521934260000, \"val\": 18}, {\"col\": \"March\", \"idx\": 1521934320000, \"val\": 74}, {\"col\": \"Enough\", \"idx\": 1521934320000, \"val\": 79}, {\"col\": \"Again\", \"idx\": 1521934320000, \"val\": 29}, {\"col\": \"March\", \"idx\": 1521934380000, \"val\": 90}, {\"col\": \"Enough\", \"idx\": 1521934380000, \"val\": 84}, {\"col\": \"Again\", \"idx\": 1521934380000, \"val\": 39}, {\"col\": \"March\", \"idx\": 1521934440000, \"val\": 79}, {\"col\": \"Enough\", \"idx\": 1521934440000, \"val\": 77}, {\"col\": \"Again\", \"idx\": 1521934440000, \"val\": 45}, {\"col\": \"March\", \"idx\": 1521934500000, \"val\": 72}, {\"col\": \"Enough\", \"idx\": 1521934500000, \"val\": 70}, {\"col\": \"Again\", \"idx\": 1521934500000, \"val\": 30}, {\"col\": \"March\", \"idx\": 1521934560000, \"val\": 86}, {\"col\": \"Enough\", \"idx\": 1521934560000, \"val\": 74}, {\"col\": \"Again\", \"idx\": 1521934560000, \"val\": 34}, {\"col\": \"March\", \"idx\": 1521934620000, \"val\": 87}, {\"col\": \"Enough\", \"idx\": 1521934620000, \"val\": 77}, {\"col\": \"Again\", \"idx\": 1521934620000, \"val\": 34}, {\"col\": \"March\", \"idx\": 1521934680000, \"val\": 75}, {\"col\": \"Enough\", \"idx\": 1521934680000, \"val\": 75}, {\"col\": \"Again\", \"idx\": 1521934680000, \"val\": 30}, {\"col\": \"March\", \"idx\": 1521934740000, \"val\": 64}, {\"col\": \"Enough\", \"idx\": 1521934740000, \"val\": 62}, {\"col\": \"Again\", \"idx\": 1521934740000, \"val\": 32}, {\"col\": \"March\", \"idx\": 1521934800000, \"val\": 75}, {\"col\": \"Enough\", \"idx\": 1521934800000, \"val\": 58}, {\"col\": \"Again\", \"idx\": 1521934800000, \"val\": 26}, {\"col\": \"March\", \"idx\": 1521934860000, \"val\": 83}, {\"col\": \"Enough\", \"idx\": 1521934860000, \"val\": 66}, {\"col\": \"Again\", \"idx\": 1521934860000, \"val\": 25}, {\"col\": \"March\", \"idx\": 1521934920000, \"val\": 89}, {\"col\": \"Enough\", \"idx\": 1521934920000, \"val\": 82}, {\"col\": \"Again\", \"idx\": 1521934920000, \"val\": 35}, {\"col\": \"March\", \"idx\": 1521934980000, \"val\": 68}, {\"col\": \"Enough\", \"idx\": 1521934980000, \"val\": 71}, {\"col\": \"Again\", \"idx\": 1521934980000, \"val\": 34}, {\"col\": \"March\", \"idx\": 1521935040000, \"val\": 89}, {\"col\": \"Enough\", \"idx\": 1521935040000, \"val\": 85}, {\"col\": \"Again\", \"idx\": 1521935040000, \"val\": 36}, {\"col\": \"March\", \"idx\": 1521935100000, \"val\": 68}, {\"col\": \"Enough\", \"idx\": 1521935100000, \"val\": 50}, {\"col\": \"Again\", \"idx\": 1521935100000, \"val\": 19}, {\"col\": \"March\", \"idx\": 1521935160000, \"val\": 71}, {\"col\": \"Enough\", \"idx\": 1521935160000, \"val\": 61}, {\"col\": \"Again\", \"idx\": 1521935160000, \"val\": 23}, {\"col\": \"March\", \"idx\": 1521935220000, \"val\": 61}, {\"col\": \"Enough\", \"idx\": 1521935220000, \"val\": 60}, {\"col\": \"Again\", \"idx\": 1521935220000, \"val\": 26}, {\"col\": \"March\", \"idx\": 1521935280000, \"val\": 61}, {\"col\": \"Enough\", \"idx\": 1521935280000, \"val\": 57}, {\"col\": \"Again\", \"idx\": 1521935280000, \"val\": 26}, {\"col\": \"March\", \"idx\": 1521935340000, \"val\": 74}, {\"col\": \"Enough\", \"idx\": 1521935340000, \"val\": 62}, {\"col\": \"Again\", \"idx\": 1521935340000, \"val\": 23}, {\"col\": \"March\", \"idx\": 1521935400000, \"val\": 76}, {\"col\": \"Enough\", \"idx\": 1521935400000, \"val\": 58}, {\"col\": \"Again\", \"idx\": 1521935400000, \"val\": 18}, {\"col\": \"March\", \"idx\": 1521935460000, \"val\": 63}, {\"col\": \"Enough\", \"idx\": 1521935460000, \"val\": 53}, {\"col\": \"Again\", \"idx\": 1521935460000, \"val\": 23}, {\"col\": \"March\", \"idx\": 1521935520000, \"val\": 75}, {\"col\": \"Enough\", \"idx\": 1521935520000, \"val\": 78}, {\"col\": \"Again\", \"idx\": 1521935520000, \"val\": 26}, {\"col\": \"March\", \"idx\": 1521935580000, \"val\": 59}, {\"col\": \"Enough\", \"idx\": 1521935580000, \"val\": 52}, {\"col\": \"Again\", \"idx\": 1521935580000, \"val\": 20}, {\"col\": \"March\", \"idx\": 1521935640000, \"val\": 80}, {\"col\": \"Enough\", \"idx\": 1521935640000, \"val\": 53}, {\"col\": \"Again\", \"idx\": 1521935640000, \"val\": 21}, {\"col\": \"March\", \"idx\": 1521935700000, \"val\": 40}, {\"col\": \"Enough\", \"idx\": 1521935700000, \"val\": 34}, {\"col\": \"Again\", \"idx\": 1521935700000, \"val\": 13}]}], \"height\": 500, \"legends\": [{\"fill\": \"color\", \"offset\": 0, \"properties\": {}, \"title\": \"Top 3 Most popular hashtags\"}], \"marks\": [{\"from\": {\"data\": \"table\", \"transform\": [{\"keys\": [\"data.col\"], \"type\": \"facet\"}]}, \"marks\": [{\"properties\": {\"enter\": {\"stroke\": {\"field\": \"data.col\", \"scale\": \"color\"}, \"strokeWidth\": {\"value\": 2}, \"x\": {\"field\": \"data.idx\", \"scale\": \"x\"}, \"y\": {\"field\": \"data.val\", \"scale\": \"y\"}}}, \"type\": \"line\"}], \"type\": \"group\"}], \"padding\": \"auto\", \"scales\": [{\"domain\": {\"data\": \"table\", \"field\": \"data.idx\"}, \"name\": \"x\", \"range\": \"width\", \"type\": \"time\"}, {\"domain\": {\"data\": \"table\", \"field\": \"data.val\"}, \"name\": \"y\", \"nice\": true, \"range\": \"height\"}, {\"domain\": {\"data\": \"table\", \"field\": \"data.col\"}, \"name\": \"color\", \"range\": \"category20\", \"type\": \"ordinal\"}], \"width\": 960}, function(chart) {\n",
       "         chart({el: \"#vis78cc974a205a491789c4dedabe98e72e\"}).update();\n",
       "       });\n",
       "     };\n",
       "     _do_plot();\n",
       "   })();\n",
       "</script>\n",
       "<style>.vega canvas {width: 100%;}</style>\n",
       "        "
      ],
      "text/plain": [
       "<IPython.core.display.HTML object>"
      ]
     },
     "metadata": {},
     "output_type": "display_data"
    }
   ],
   "source": [
    "#Visualize and comparing the frequencies of the top 3 the most popular hashtags during the data collection time\n",
    "time_chart_top3 = vincent.Line(all_matches[['March', 'Enough', 'Again']])\n",
    "time_chart_top3.axis_titles(x='Time', y='Freq')\n",
    "time_chart_top3.legend(title='Top 3 Most popular hashtags')\n",
    "time_chart_top3.display()"
   ]
  },
  {
   "cell_type": "code",
   "execution_count": 44,
   "metadata": {},
   "outputs": [
    {
     "data": {
      "text/html": [
       "<div id=\"vis71e0ad973448462ebf12962d6e498ea4\"></div>\n",
       "<script>\n",
       "   ( function() {\n",
       "     var _do_plot = function() {\n",
       "       if (typeof vg === 'undefined') {\n",
       "         window.addEventListener('vincent_libs_loaded', _do_plot)\n",
       "         return;\n",
       "       }\n",
       "       vg.parse.spec({\"axes\": [{\"scale\": \"x\", \"title\": \"Time\", \"type\": \"x\"}, {\"scale\": \"y\", \"title\": \"Freq\", \"type\": \"y\"}], \"data\": [{\"name\": \"table\", \"values\": [{\"col\": \"Control\", \"idx\": 1521908580000, \"val\": 12.0}, {\"col\": \"Violence\", \"idx\": 1521908580000, \"val\": 9.0}, {\"col\": \"Beach\", \"idx\": 1521908580000, \"val\": NaN}, {\"col\": \"Control\", \"idx\": 1521908640000, \"val\": 18.0}, {\"col\": \"Violence\", \"idx\": 1521908640000, \"val\": 14.0}, {\"col\": \"Beach\", \"idx\": 1521908640000, \"val\": NaN}, {\"col\": \"Control\", \"idx\": 1521908700000, \"val\": 25.0}, {\"col\": \"Violence\", \"idx\": 1521908700000, \"val\": 13.0}, {\"col\": \"Beach\", \"idx\": 1521908700000, \"val\": NaN}, {\"col\": \"Control\", \"idx\": 1521908760000, \"val\": 38.0}, {\"col\": \"Violence\", \"idx\": 1521908760000, \"val\": 19.0}, {\"col\": \"Beach\", \"idx\": 1521908760000, \"val\": NaN}, {\"col\": \"Control\", \"idx\": 1521908820000, \"val\": 27.0}, {\"col\": \"Violence\", \"idx\": 1521908820000, \"val\": 11.0}, {\"col\": \"Beach\", \"idx\": 1521908820000, \"val\": NaN}, {\"col\": \"Control\", \"idx\": 1521908880000, \"val\": 20.0}, {\"col\": \"Violence\", \"idx\": 1521908880000, \"val\": 6.0}, {\"col\": \"Beach\", \"idx\": 1521908880000, \"val\": NaN}, {\"col\": \"Control\", \"idx\": 1521908940000, \"val\": 28.0}, {\"col\": \"Violence\", \"idx\": 1521908940000, \"val\": 11.0}, {\"col\": \"Beach\", \"idx\": 1521908940000, \"val\": NaN}, {\"col\": \"Control\", \"idx\": 1521909000000, \"val\": 27.0}, {\"col\": \"Violence\", \"idx\": 1521909000000, \"val\": 11.0}, {\"col\": \"Beach\", \"idx\": 1521909000000, \"val\": NaN}, {\"col\": \"Control\", \"idx\": 1521909060000, \"val\": 13.0}, {\"col\": \"Violence\", \"idx\": 1521909060000, \"val\": 13.0}, {\"col\": \"Beach\", \"idx\": 1521909060000, \"val\": NaN}, {\"col\": \"Control\", \"idx\": 1521909120000, \"val\": 11.0}, {\"col\": \"Violence\", \"idx\": 1521909120000, \"val\": 4.0}, {\"col\": \"Beach\", \"idx\": 1521909120000, \"val\": NaN}, {\"col\": \"Control\", \"idx\": 1521909180000, \"val\": 0.0}, {\"col\": \"Violence\", \"idx\": 1521909180000, \"val\": 0.0}, {\"col\": \"Beach\", \"idx\": 1521909180000, \"val\": NaN}, {\"col\": \"Control\", \"idx\": 1521909240000, \"val\": 33.0}, {\"col\": \"Violence\", \"idx\": 1521909240000, \"val\": 14.0}, {\"col\": \"Beach\", \"idx\": 1521909240000, \"val\": NaN}, {\"col\": \"Control\", \"idx\": 1521909300000, \"val\": 23.0}, {\"col\": \"Violence\", \"idx\": 1521909300000, \"val\": 16.0}, {\"col\": \"Beach\", \"idx\": 1521909300000, \"val\": NaN}, {\"col\": \"Control\", \"idx\": 1521909360000, \"val\": 31.0}, {\"col\": \"Violence\", \"idx\": 1521909360000, \"val\": 18.0}, {\"col\": \"Beach\", \"idx\": 1521909360000, \"val\": NaN}, {\"col\": \"Control\", \"idx\": 1521909420000, \"val\": 21.0}, {\"col\": \"Violence\", \"idx\": 1521909420000, \"val\": 15.0}, {\"col\": \"Beach\", \"idx\": 1521909420000, \"val\": NaN}, {\"col\": \"Control\", \"idx\": 1521909480000, \"val\": 25.0}, {\"col\": \"Violence\", \"idx\": 1521909480000, \"val\": 14.0}, {\"col\": \"Beach\", \"idx\": 1521909480000, \"val\": NaN}, {\"col\": \"Control\", \"idx\": 1521909540000, \"val\": 21.0}, {\"col\": \"Violence\", \"idx\": 1521909540000, \"val\": 11.0}, {\"col\": \"Beach\", \"idx\": 1521909540000, \"val\": NaN}, {\"col\": \"Control\", \"idx\": 1521909600000, \"val\": 37.0}, {\"col\": \"Violence\", \"idx\": 1521909600000, \"val\": 11.0}, {\"col\": \"Beach\", \"idx\": 1521909600000, \"val\": NaN}, {\"col\": \"Control\", \"idx\": 1521909660000, \"val\": 33.0}, {\"col\": \"Violence\", \"idx\": 1521909660000, \"val\": 9.0}, {\"col\": \"Beach\", \"idx\": 1521909660000, \"val\": NaN}, {\"col\": \"Control\", \"idx\": 1521909720000, \"val\": 29.0}, {\"col\": \"Violence\", \"idx\": 1521909720000, \"val\": 12.0}, {\"col\": \"Beach\", \"idx\": 1521909720000, \"val\": NaN}, {\"col\": \"Control\", \"idx\": 1521909780000, \"val\": 31.0}, {\"col\": \"Violence\", \"idx\": 1521909780000, \"val\": 10.0}, {\"col\": \"Beach\", \"idx\": 1521909780000, \"val\": NaN}, {\"col\": \"Control\", \"idx\": 1521909840000, \"val\": 28.0}, {\"col\": \"Violence\", \"idx\": 1521909840000, \"val\": 13.0}, {\"col\": \"Beach\", \"idx\": 1521909840000, \"val\": NaN}, {\"col\": \"Control\", \"idx\": 1521909900000, \"val\": 26.0}, {\"col\": \"Violence\", \"idx\": 1521909900000, \"val\": 15.0}, {\"col\": \"Beach\", \"idx\": 1521909900000, \"val\": NaN}, {\"col\": \"Control\", \"idx\": 1521909960000, \"val\": 39.0}, {\"col\": \"Violence\", \"idx\": 1521909960000, \"val\": 9.0}, {\"col\": \"Beach\", \"idx\": 1521909960000, \"val\": NaN}, {\"col\": \"Control\", \"idx\": 1521910020000, \"val\": 37.0}, {\"col\": \"Violence\", \"idx\": 1521910020000, \"val\": 11.0}, {\"col\": \"Beach\", \"idx\": 1521910020000, \"val\": NaN}, {\"col\": \"Control\", \"idx\": 1521910080000, \"val\": 25.0}, {\"col\": \"Violence\", \"idx\": 1521910080000, \"val\": 7.0}, {\"col\": \"Beach\", \"idx\": 1521910080000, \"val\": NaN}, {\"col\": \"Control\", \"idx\": 1521910140000, \"val\": 42.0}, {\"col\": \"Violence\", \"idx\": 1521910140000, \"val\": 8.0}, {\"col\": \"Beach\", \"idx\": 1521910140000, \"val\": NaN}, {\"col\": \"Control\", \"idx\": 1521910200000, \"val\": 27.0}, {\"col\": \"Violence\", \"idx\": 1521910200000, \"val\": 11.0}, {\"col\": \"Beach\", \"idx\": 1521910200000, \"val\": NaN}, {\"col\": \"Control\", \"idx\": 1521910260000, \"val\": 33.0}, {\"col\": \"Violence\", \"idx\": 1521910260000, \"val\": 10.0}, {\"col\": \"Beach\", \"idx\": 1521910260000, \"val\": NaN}, {\"col\": \"Control\", \"idx\": 1521910320000, \"val\": 37.0}, {\"col\": \"Violence\", \"idx\": 1521910320000, \"val\": 12.0}, {\"col\": \"Beach\", \"idx\": 1521910320000, \"val\": NaN}, {\"col\": \"Control\", \"idx\": 1521910380000, \"val\": 36.0}, {\"col\": \"Violence\", \"idx\": 1521910380000, \"val\": 11.0}, {\"col\": \"Beach\", \"idx\": 1521910380000, \"val\": NaN}, {\"col\": \"Control\", \"idx\": 1521910440000, \"val\": 29.0}, {\"col\": \"Violence\", \"idx\": 1521910440000, \"val\": 11.0}, {\"col\": \"Beach\", \"idx\": 1521910440000, \"val\": NaN}, {\"col\": \"Control\", \"idx\": 1521910500000, \"val\": 28.0}, {\"col\": \"Violence\", \"idx\": 1521910500000, \"val\": 11.0}, {\"col\": \"Beach\", \"idx\": 1521910500000, \"val\": NaN}, {\"col\": \"Control\", \"idx\": 1521910560000, \"val\": 42.0}, {\"col\": \"Violence\", \"idx\": 1521910560000, \"val\": 8.0}, {\"col\": \"Beach\", \"idx\": 1521910560000, \"val\": NaN}, {\"col\": \"Control\", \"idx\": 1521910620000, \"val\": 31.0}, {\"col\": \"Violence\", \"idx\": 1521910620000, \"val\": 14.0}, {\"col\": \"Beach\", \"idx\": 1521910620000, \"val\": NaN}, {\"col\": \"Control\", \"idx\": 1521910680000, \"val\": 35.0}, {\"col\": \"Violence\", \"idx\": 1521910680000, \"val\": 17.0}, {\"col\": \"Beach\", \"idx\": 1521910680000, \"val\": NaN}, {\"col\": \"Control\", \"idx\": 1521910740000, \"val\": 23.0}, {\"col\": \"Violence\", \"idx\": 1521910740000, \"val\": 11.0}, {\"col\": \"Beach\", \"idx\": 1521910740000, \"val\": NaN}, {\"col\": \"Control\", \"idx\": 1521910800000, \"val\": 34.0}, {\"col\": \"Violence\", \"idx\": 1521910800000, \"val\": 10.0}, {\"col\": \"Beach\", \"idx\": 1521910800000, \"val\": NaN}, {\"col\": \"Control\", \"idx\": 1521910860000, \"val\": 32.0}, {\"col\": \"Violence\", \"idx\": 1521910860000, \"val\": 16.0}, {\"col\": \"Beach\", \"idx\": 1521910860000, \"val\": NaN}, {\"col\": \"Control\", \"idx\": 1521910920000, \"val\": 37.0}, {\"col\": \"Violence\", \"idx\": 1521910920000, \"val\": 14.0}, {\"col\": \"Beach\", \"idx\": 1521910920000, \"val\": NaN}, {\"col\": \"Control\", \"idx\": 1521910980000, \"val\": 26.0}, {\"col\": \"Violence\", \"idx\": 1521910980000, \"val\": 9.0}, {\"col\": \"Beach\", \"idx\": 1521910980000, \"val\": NaN}, {\"col\": \"Control\", \"idx\": 1521911040000, \"val\": 37.0}, {\"col\": \"Violence\", \"idx\": 1521911040000, \"val\": 9.0}, {\"col\": \"Beach\", \"idx\": 1521911040000, \"val\": NaN}, {\"col\": \"Control\", \"idx\": 1521911100000, \"val\": 33.0}, {\"col\": \"Violence\", \"idx\": 1521911100000, \"val\": 12.0}, {\"col\": \"Beach\", \"idx\": 1521911100000, \"val\": NaN}, {\"col\": \"Control\", \"idx\": 1521911160000, \"val\": 10.0}, {\"col\": \"Violence\", \"idx\": 1521911160000, \"val\": 3.0}, {\"col\": \"Beach\", \"idx\": 1521911160000, \"val\": NaN}, {\"col\": \"Control\", \"idx\": 1521911220000, \"val\": 0.0}, {\"col\": \"Violence\", \"idx\": 1521911220000, \"val\": 0.0}, {\"col\": \"Beach\", \"idx\": 1521911220000, \"val\": NaN}, {\"col\": \"Control\", \"idx\": 1521911280000, \"val\": 0.0}, {\"col\": \"Violence\", \"idx\": 1521911280000, \"val\": 0.0}, {\"col\": \"Beach\", \"idx\": 1521911280000, \"val\": NaN}, {\"col\": \"Control\", \"idx\": 1521911340000, \"val\": 0.0}, {\"col\": \"Violence\", \"idx\": 1521911340000, \"val\": 0.0}, {\"col\": \"Beach\", \"idx\": 1521911340000, \"val\": NaN}, {\"col\": \"Control\", \"idx\": 1521911400000, \"val\": 0.0}, {\"col\": \"Violence\", \"idx\": 1521911400000, \"val\": 0.0}, {\"col\": \"Beach\", \"idx\": 1521911400000, \"val\": NaN}, {\"col\": \"Control\", \"idx\": 1521911460000, \"val\": 0.0}, {\"col\": \"Violence\", \"idx\": 1521911460000, \"val\": 0.0}, {\"col\": \"Beach\", \"idx\": 1521911460000, \"val\": NaN}, {\"col\": \"Control\", \"idx\": 1521911520000, \"val\": 0.0}, {\"col\": \"Violence\", \"idx\": 1521911520000, \"val\": 0.0}, {\"col\": \"Beach\", \"idx\": 1521911520000, \"val\": NaN}, {\"col\": \"Control\", \"idx\": 1521911580000, \"val\": 0.0}, {\"col\": \"Violence\", \"idx\": 1521911580000, \"val\": 0.0}, {\"col\": \"Beach\", \"idx\": 1521911580000, \"val\": NaN}, {\"col\": \"Control\", \"idx\": 1521911640000, \"val\": 0.0}, {\"col\": \"Violence\", \"idx\": 1521911640000, \"val\": 0.0}, {\"col\": \"Beach\", \"idx\": 1521911640000, \"val\": NaN}, {\"col\": \"Control\", \"idx\": 1521911700000, \"val\": 0.0}, {\"col\": \"Violence\", \"idx\": 1521911700000, \"val\": 0.0}, {\"col\": \"Beach\", \"idx\": 1521911700000, \"val\": NaN}, {\"col\": \"Control\", \"idx\": 1521911760000, \"val\": 0.0}, {\"col\": \"Violence\", \"idx\": 1521911760000, \"val\": 0.0}, {\"col\": \"Beach\", \"idx\": 1521911760000, \"val\": NaN}, {\"col\": \"Control\", \"idx\": 1521911820000, \"val\": 0.0}, {\"col\": \"Violence\", \"idx\": 1521911820000, \"val\": 0.0}, {\"col\": \"Beach\", \"idx\": 1521911820000, \"val\": NaN}, {\"col\": \"Control\", \"idx\": 1521911880000, \"val\": 0.0}, {\"col\": \"Violence\", \"idx\": 1521911880000, \"val\": 0.0}, {\"col\": \"Beach\", \"idx\": 1521911880000, \"val\": NaN}, {\"col\": \"Control\", \"idx\": 1521911940000, \"val\": 0.0}, {\"col\": \"Violence\", \"idx\": 1521911940000, \"val\": 0.0}, {\"col\": \"Beach\", \"idx\": 1521911940000, \"val\": NaN}, {\"col\": \"Control\", \"idx\": 1521912000000, \"val\": 0.0}, {\"col\": \"Violence\", \"idx\": 1521912000000, \"val\": 0.0}, {\"col\": \"Beach\", \"idx\": 1521912000000, \"val\": NaN}, {\"col\": \"Control\", \"idx\": 1521912060000, \"val\": 0.0}, {\"col\": \"Violence\", \"idx\": 1521912060000, \"val\": 0.0}, {\"col\": \"Beach\", \"idx\": 1521912060000, \"val\": NaN}, {\"col\": \"Control\", \"idx\": 1521912120000, \"val\": 0.0}, {\"col\": \"Violence\", \"idx\": 1521912120000, \"val\": 0.0}, {\"col\": \"Beach\", \"idx\": 1521912120000, \"val\": NaN}, {\"col\": \"Control\", \"idx\": 1521912180000, \"val\": 0.0}, {\"col\": \"Violence\", \"idx\": 1521912180000, \"val\": 0.0}, {\"col\": \"Beach\", \"idx\": 1521912180000, \"val\": NaN}, {\"col\": \"Control\", \"idx\": 1521912240000, \"val\": 0.0}, {\"col\": \"Violence\", \"idx\": 1521912240000, \"val\": 0.0}, {\"col\": \"Beach\", \"idx\": 1521912240000, \"val\": NaN}, {\"col\": \"Control\", \"idx\": 1521912300000, \"val\": 0.0}, {\"col\": \"Violence\", \"idx\": 1521912300000, \"val\": 0.0}, {\"col\": \"Beach\", \"idx\": 1521912300000, \"val\": NaN}, {\"col\": \"Control\", \"idx\": 1521912360000, \"val\": 0.0}, {\"col\": \"Violence\", \"idx\": 1521912360000, \"val\": 0.0}, {\"col\": \"Beach\", \"idx\": 1521912360000, \"val\": NaN}, {\"col\": \"Control\", \"idx\": 1521912420000, \"val\": 0.0}, {\"col\": \"Violence\", \"idx\": 1521912420000, \"val\": 0.0}, {\"col\": \"Beach\", \"idx\": 1521912420000, \"val\": NaN}, {\"col\": \"Control\", \"idx\": 1521912480000, \"val\": 0.0}, {\"col\": \"Violence\", \"idx\": 1521912480000, \"val\": 0.0}, {\"col\": \"Beach\", \"idx\": 1521912480000, \"val\": NaN}, {\"col\": \"Control\", \"idx\": 1521912540000, \"val\": 0.0}, {\"col\": \"Violence\", \"idx\": 1521912540000, \"val\": 0.0}, {\"col\": \"Beach\", \"idx\": 1521912540000, \"val\": NaN}, {\"col\": \"Control\", \"idx\": 1521912600000, \"val\": 0.0}, {\"col\": \"Violence\", \"idx\": 1521912600000, \"val\": 0.0}, {\"col\": \"Beach\", \"idx\": 1521912600000, \"val\": NaN}, {\"col\": \"Control\", \"idx\": 1521912660000, \"val\": 0.0}, {\"col\": \"Violence\", \"idx\": 1521912660000, \"val\": 0.0}, {\"col\": \"Beach\", \"idx\": 1521912660000, \"val\": NaN}, {\"col\": \"Control\", \"idx\": 1521912720000, \"val\": 0.0}, {\"col\": \"Violence\", \"idx\": 1521912720000, \"val\": 0.0}, {\"col\": \"Beach\", \"idx\": 1521912720000, \"val\": NaN}, {\"col\": \"Control\", \"idx\": 1521912780000, \"val\": 0.0}, {\"col\": \"Violence\", \"idx\": 1521912780000, \"val\": 0.0}, {\"col\": \"Beach\", \"idx\": 1521912780000, \"val\": NaN}, {\"col\": \"Control\", \"idx\": 1521912840000, \"val\": 0.0}, {\"col\": \"Violence\", \"idx\": 1521912840000, \"val\": 0.0}, {\"col\": \"Beach\", \"idx\": 1521912840000, \"val\": NaN}, {\"col\": \"Control\", \"idx\": 1521912900000, \"val\": 0.0}, {\"col\": \"Violence\", \"idx\": 1521912900000, \"val\": 0.0}, {\"col\": \"Beach\", \"idx\": 1521912900000, \"val\": NaN}, {\"col\": \"Control\", \"idx\": 1521912960000, \"val\": 0.0}, {\"col\": \"Violence\", \"idx\": 1521912960000, \"val\": 0.0}, {\"col\": \"Beach\", \"idx\": 1521912960000, \"val\": NaN}, {\"col\": \"Control\", \"idx\": 1521913020000, \"val\": 0.0}, {\"col\": \"Violence\", \"idx\": 1521913020000, \"val\": 0.0}, {\"col\": \"Beach\", \"idx\": 1521913020000, \"val\": NaN}, {\"col\": \"Control\", \"idx\": 1521913080000, \"val\": 0.0}, {\"col\": \"Violence\", \"idx\": 1521913080000, \"val\": 0.0}, {\"col\": \"Beach\", \"idx\": 1521913080000, \"val\": NaN}, {\"col\": \"Control\", \"idx\": 1521913140000, \"val\": 0.0}, {\"col\": \"Violence\", \"idx\": 1521913140000, \"val\": 0.0}, {\"col\": \"Beach\", \"idx\": 1521913140000, \"val\": NaN}, {\"col\": \"Control\", \"idx\": 1521913200000, \"val\": 0.0}, {\"col\": \"Violence\", \"idx\": 1521913200000, \"val\": 0.0}, {\"col\": \"Beach\", \"idx\": 1521913200000, \"val\": NaN}, {\"col\": \"Control\", \"idx\": 1521913260000, \"val\": 0.0}, {\"col\": \"Violence\", \"idx\": 1521913260000, \"val\": 0.0}, {\"col\": \"Beach\", \"idx\": 1521913260000, \"val\": NaN}, {\"col\": \"Control\", \"idx\": 1521913320000, \"val\": 0.0}, {\"col\": \"Violence\", \"idx\": 1521913320000, \"val\": 0.0}, {\"col\": \"Beach\", \"idx\": 1521913320000, \"val\": NaN}, {\"col\": \"Control\", \"idx\": 1521913380000, \"val\": 0.0}, {\"col\": \"Violence\", \"idx\": 1521913380000, \"val\": 0.0}, {\"col\": \"Beach\", \"idx\": 1521913380000, \"val\": NaN}, {\"col\": \"Control\", \"idx\": 1521913440000, \"val\": 0.0}, {\"col\": \"Violence\", \"idx\": 1521913440000, \"val\": 0.0}, {\"col\": \"Beach\", \"idx\": 1521913440000, \"val\": NaN}, {\"col\": \"Control\", \"idx\": 1521913500000, \"val\": 0.0}, {\"col\": \"Violence\", \"idx\": 1521913500000, \"val\": 0.0}, {\"col\": \"Beach\", \"idx\": 1521913500000, \"val\": NaN}, {\"col\": \"Control\", \"idx\": 1521913560000, \"val\": 0.0}, {\"col\": \"Violence\", \"idx\": 1521913560000, \"val\": 0.0}, {\"col\": \"Beach\", \"idx\": 1521913560000, \"val\": NaN}, {\"col\": \"Control\", \"idx\": 1521913620000, \"val\": 0.0}, {\"col\": \"Violence\", \"idx\": 1521913620000, \"val\": 0.0}, {\"col\": \"Beach\", \"idx\": 1521913620000, \"val\": NaN}, {\"col\": \"Control\", \"idx\": 1521913680000, \"val\": 0.0}, {\"col\": \"Violence\", \"idx\": 1521913680000, \"val\": 0.0}, {\"col\": \"Beach\", \"idx\": 1521913680000, \"val\": NaN}, {\"col\": \"Control\", \"idx\": 1521913740000, \"val\": 0.0}, {\"col\": \"Violence\", \"idx\": 1521913740000, \"val\": 0.0}, {\"col\": \"Beach\", \"idx\": 1521913740000, \"val\": NaN}, {\"col\": \"Control\", \"idx\": 1521913800000, \"val\": 0.0}, {\"col\": \"Violence\", \"idx\": 1521913800000, \"val\": 0.0}, {\"col\": \"Beach\", \"idx\": 1521913800000, \"val\": NaN}, {\"col\": \"Control\", \"idx\": 1521913860000, \"val\": 0.0}, {\"col\": \"Violence\", \"idx\": 1521913860000, \"val\": 0.0}, {\"col\": \"Beach\", \"idx\": 1521913860000, \"val\": NaN}, {\"col\": \"Control\", \"idx\": 1521913920000, \"val\": 0.0}, {\"col\": \"Violence\", \"idx\": 1521913920000, \"val\": 0.0}, {\"col\": \"Beach\", \"idx\": 1521913920000, \"val\": NaN}, {\"col\": \"Control\", \"idx\": 1521913980000, \"val\": 0.0}, {\"col\": \"Violence\", \"idx\": 1521913980000, \"val\": 0.0}, {\"col\": \"Beach\", \"idx\": 1521913980000, \"val\": NaN}, {\"col\": \"Control\", \"idx\": 1521914040000, \"val\": 0.0}, {\"col\": \"Violence\", \"idx\": 1521914040000, \"val\": 0.0}, {\"col\": \"Beach\", \"idx\": 1521914040000, \"val\": NaN}, {\"col\": \"Control\", \"idx\": 1521914100000, \"val\": 0.0}, {\"col\": \"Violence\", \"idx\": 1521914100000, \"val\": 0.0}, {\"col\": \"Beach\", \"idx\": 1521914100000, \"val\": NaN}, {\"col\": \"Control\", \"idx\": 1521914160000, \"val\": 0.0}, {\"col\": \"Violence\", \"idx\": 1521914160000, \"val\": 0.0}, {\"col\": \"Beach\", \"idx\": 1521914160000, \"val\": NaN}, {\"col\": \"Control\", \"idx\": 1521914220000, \"val\": 0.0}, {\"col\": \"Violence\", \"idx\": 1521914220000, \"val\": 0.0}, {\"col\": \"Beach\", \"idx\": 1521914220000, \"val\": NaN}, {\"col\": \"Control\", \"idx\": 1521914280000, \"val\": 0.0}, {\"col\": \"Violence\", \"idx\": 1521914280000, \"val\": 0.0}, {\"col\": \"Beach\", \"idx\": 1521914280000, \"val\": NaN}, {\"col\": \"Control\", \"idx\": 1521914340000, \"val\": 0.0}, {\"col\": \"Violence\", \"idx\": 1521914340000, \"val\": 0.0}, {\"col\": \"Beach\", \"idx\": 1521914340000, \"val\": NaN}, {\"col\": \"Control\", \"idx\": 1521914400000, \"val\": 0.0}, {\"col\": \"Violence\", \"idx\": 1521914400000, \"val\": 0.0}, {\"col\": \"Beach\", \"idx\": 1521914400000, \"val\": NaN}, {\"col\": \"Control\", \"idx\": 1521914460000, \"val\": 0.0}, {\"col\": \"Violence\", \"idx\": 1521914460000, \"val\": 0.0}, {\"col\": \"Beach\", \"idx\": 1521914460000, \"val\": NaN}, {\"col\": \"Control\", \"idx\": 1521914520000, \"val\": 0.0}, {\"col\": \"Violence\", \"idx\": 1521914520000, \"val\": 0.0}, {\"col\": \"Beach\", \"idx\": 1521914520000, \"val\": NaN}, {\"col\": \"Control\", \"idx\": 1521914580000, \"val\": 0.0}, {\"col\": \"Violence\", \"idx\": 1521914580000, \"val\": 0.0}, {\"col\": \"Beach\", \"idx\": 1521914580000, \"val\": NaN}, {\"col\": \"Control\", \"idx\": 1521914640000, \"val\": 0.0}, {\"col\": \"Violence\", \"idx\": 1521914640000, \"val\": 0.0}, {\"col\": \"Beach\", \"idx\": 1521914640000, \"val\": NaN}, {\"col\": \"Control\", \"idx\": 1521914700000, \"val\": 0.0}, {\"col\": \"Violence\", \"idx\": 1521914700000, \"val\": 0.0}, {\"col\": \"Beach\", \"idx\": 1521914700000, \"val\": NaN}, {\"col\": \"Control\", \"idx\": 1521914760000, \"val\": 0.0}, {\"col\": \"Violence\", \"idx\": 1521914760000, \"val\": 0.0}, {\"col\": \"Beach\", \"idx\": 1521914760000, \"val\": NaN}, {\"col\": \"Control\", \"idx\": 1521914820000, \"val\": 0.0}, {\"col\": \"Violence\", \"idx\": 1521914820000, \"val\": 0.0}, {\"col\": \"Beach\", \"idx\": 1521914820000, \"val\": NaN}, {\"col\": \"Control\", \"idx\": 1521914880000, \"val\": 0.0}, {\"col\": \"Violence\", \"idx\": 1521914880000, \"val\": 0.0}, {\"col\": \"Beach\", \"idx\": 1521914880000, \"val\": NaN}, {\"col\": \"Control\", \"idx\": 1521914940000, \"val\": 0.0}, {\"col\": \"Violence\", \"idx\": 1521914940000, \"val\": 0.0}, {\"col\": \"Beach\", \"idx\": 1521914940000, \"val\": NaN}, {\"col\": \"Control\", \"idx\": 1521915000000, \"val\": 0.0}, {\"col\": \"Violence\", \"idx\": 1521915000000, \"val\": 0.0}, {\"col\": \"Beach\", \"idx\": 1521915000000, \"val\": NaN}, {\"col\": \"Control\", \"idx\": 1521915060000, \"val\": 0.0}, {\"col\": \"Violence\", \"idx\": 1521915060000, \"val\": 0.0}, {\"col\": \"Beach\", \"idx\": 1521915060000, \"val\": NaN}, {\"col\": \"Control\", \"idx\": 1521915120000, \"val\": 0.0}, {\"col\": \"Violence\", \"idx\": 1521915120000, \"val\": 0.0}, {\"col\": \"Beach\", \"idx\": 1521915120000, \"val\": NaN}, {\"col\": \"Control\", \"idx\": 1521915180000, \"val\": 0.0}, {\"col\": \"Violence\", \"idx\": 1521915180000, \"val\": 0.0}, {\"col\": \"Beach\", \"idx\": 1521915180000, \"val\": NaN}, {\"col\": \"Control\", \"idx\": 1521915240000, \"val\": 0.0}, {\"col\": \"Violence\", \"idx\": 1521915240000, \"val\": 0.0}, {\"col\": \"Beach\", \"idx\": 1521915240000, \"val\": NaN}, {\"col\": \"Control\", \"idx\": 1521915300000, \"val\": 0.0}, {\"col\": \"Violence\", \"idx\": 1521915300000, \"val\": 0.0}, {\"col\": \"Beach\", \"idx\": 1521915300000, \"val\": NaN}, {\"col\": \"Control\", \"idx\": 1521915360000, \"val\": 0.0}, {\"col\": \"Violence\", \"idx\": 1521915360000, \"val\": 0.0}, {\"col\": \"Beach\", \"idx\": 1521915360000, \"val\": NaN}, {\"col\": \"Control\", \"idx\": 1521915420000, \"val\": 0.0}, {\"col\": \"Violence\", \"idx\": 1521915420000, \"val\": 0.0}, {\"col\": \"Beach\", \"idx\": 1521915420000, \"val\": NaN}, {\"col\": \"Control\", \"idx\": 1521915480000, \"val\": 0.0}, {\"col\": \"Violence\", \"idx\": 1521915480000, \"val\": 0.0}, {\"col\": \"Beach\", \"idx\": 1521915480000, \"val\": NaN}, {\"col\": \"Control\", \"idx\": 1521915540000, \"val\": 0.0}, {\"col\": \"Violence\", \"idx\": 1521915540000, \"val\": 0.0}, {\"col\": \"Beach\", \"idx\": 1521915540000, \"val\": NaN}, {\"col\": \"Control\", \"idx\": 1521915600000, \"val\": 0.0}, {\"col\": \"Violence\", \"idx\": 1521915600000, \"val\": 0.0}, {\"col\": \"Beach\", \"idx\": 1521915600000, \"val\": NaN}, {\"col\": \"Control\", \"idx\": 1521915660000, \"val\": 0.0}, {\"col\": \"Violence\", \"idx\": 1521915660000, \"val\": 0.0}, {\"col\": \"Beach\", \"idx\": 1521915660000, \"val\": NaN}, {\"col\": \"Control\", \"idx\": 1521915720000, \"val\": 0.0}, {\"col\": \"Violence\", \"idx\": 1521915720000, \"val\": 0.0}, {\"col\": \"Beach\", \"idx\": 1521915720000, \"val\": NaN}, {\"col\": \"Control\", \"idx\": 1521915780000, \"val\": 0.0}, {\"col\": \"Violence\", \"idx\": 1521915780000, \"val\": 0.0}, {\"col\": \"Beach\", \"idx\": 1521915780000, \"val\": NaN}, {\"col\": \"Control\", \"idx\": 1521915840000, \"val\": 0.0}, {\"col\": \"Violence\", \"idx\": 1521915840000, \"val\": 0.0}, {\"col\": \"Beach\", \"idx\": 1521915840000, \"val\": NaN}, {\"col\": \"Control\", \"idx\": 1521915900000, \"val\": 0.0}, {\"col\": \"Violence\", \"idx\": 1521915900000, \"val\": 0.0}, {\"col\": \"Beach\", \"idx\": 1521915900000, \"val\": NaN}, {\"col\": \"Control\", \"idx\": 1521915960000, \"val\": 0.0}, {\"col\": \"Violence\", \"idx\": 1521915960000, \"val\": 0.0}, {\"col\": \"Beach\", \"idx\": 1521915960000, \"val\": NaN}, {\"col\": \"Control\", \"idx\": 1521916020000, \"val\": 0.0}, {\"col\": \"Violence\", \"idx\": 1521916020000, \"val\": 0.0}, {\"col\": \"Beach\", \"idx\": 1521916020000, \"val\": NaN}, {\"col\": \"Control\", \"idx\": 1521916080000, \"val\": 0.0}, {\"col\": \"Violence\", \"idx\": 1521916080000, \"val\": 0.0}, {\"col\": \"Beach\", \"idx\": 1521916080000, \"val\": NaN}, {\"col\": \"Control\", \"idx\": 1521916140000, \"val\": 0.0}, {\"col\": \"Violence\", \"idx\": 1521916140000, \"val\": 0.0}, {\"col\": \"Beach\", \"idx\": 1521916140000, \"val\": NaN}, {\"col\": \"Control\", \"idx\": 1521916200000, \"val\": 0.0}, {\"col\": \"Violence\", \"idx\": 1521916200000, \"val\": 0.0}, {\"col\": \"Beach\", \"idx\": 1521916200000, \"val\": NaN}, {\"col\": \"Control\", \"idx\": 1521916260000, \"val\": 0.0}, {\"col\": \"Violence\", \"idx\": 1521916260000, \"val\": 0.0}, {\"col\": \"Beach\", \"idx\": 1521916260000, \"val\": NaN}, {\"col\": \"Control\", \"idx\": 1521916320000, \"val\": 0.0}, {\"col\": \"Violence\", \"idx\": 1521916320000, \"val\": 0.0}, {\"col\": \"Beach\", \"idx\": 1521916320000, \"val\": NaN}, {\"col\": \"Control\", \"idx\": 1521916380000, \"val\": 0.0}, {\"col\": \"Violence\", \"idx\": 1521916380000, \"val\": 0.0}, {\"col\": \"Beach\", \"idx\": 1521916380000, \"val\": NaN}, {\"col\": \"Control\", \"idx\": 1521916440000, \"val\": 0.0}, {\"col\": \"Violence\", \"idx\": 1521916440000, \"val\": 0.0}, {\"col\": \"Beach\", \"idx\": 1521916440000, \"val\": NaN}, {\"col\": \"Control\", \"idx\": 1521916500000, \"val\": 0.0}, {\"col\": \"Violence\", \"idx\": 1521916500000, \"val\": 0.0}, {\"col\": \"Beach\", \"idx\": 1521916500000, \"val\": NaN}, {\"col\": \"Control\", \"idx\": 1521916560000, \"val\": 0.0}, {\"col\": \"Violence\", \"idx\": 1521916560000, \"val\": 0.0}, {\"col\": \"Beach\", \"idx\": 1521916560000, \"val\": NaN}, {\"col\": \"Control\", \"idx\": 1521916620000, \"val\": 0.0}, {\"col\": \"Violence\", \"idx\": 1521916620000, \"val\": 0.0}, {\"col\": \"Beach\", \"idx\": 1521916620000, \"val\": NaN}, {\"col\": \"Control\", \"idx\": 1521916680000, \"val\": 0.0}, {\"col\": \"Violence\", \"idx\": 1521916680000, \"val\": 0.0}, {\"col\": \"Beach\", \"idx\": 1521916680000, \"val\": NaN}, {\"col\": \"Control\", \"idx\": 1521916740000, \"val\": 0.0}, {\"col\": \"Violence\", \"idx\": 1521916740000, \"val\": 0.0}, {\"col\": \"Beach\", \"idx\": 1521916740000, \"val\": NaN}, {\"col\": \"Control\", \"idx\": 1521916800000, \"val\": 0.0}, {\"col\": \"Violence\", \"idx\": 1521916800000, \"val\": 0.0}, {\"col\": \"Beach\", \"idx\": 1521916800000, \"val\": NaN}, {\"col\": \"Control\", \"idx\": 1521916860000, \"val\": 0.0}, {\"col\": \"Violence\", \"idx\": 1521916860000, \"val\": 0.0}, {\"col\": \"Beach\", \"idx\": 1521916860000, \"val\": NaN}, {\"col\": \"Control\", \"idx\": 1521916920000, \"val\": 0.0}, {\"col\": \"Violence\", \"idx\": 1521916920000, \"val\": 0.0}, {\"col\": \"Beach\", \"idx\": 1521916920000, \"val\": NaN}, {\"col\": \"Control\", \"idx\": 1521916980000, \"val\": 0.0}, {\"col\": \"Violence\", \"idx\": 1521916980000, \"val\": 0.0}, {\"col\": \"Beach\", \"idx\": 1521916980000, \"val\": NaN}, {\"col\": \"Control\", \"idx\": 1521917040000, \"val\": 0.0}, {\"col\": \"Violence\", \"idx\": 1521917040000, \"val\": 0.0}, {\"col\": \"Beach\", \"idx\": 1521917040000, \"val\": NaN}, {\"col\": \"Control\", \"idx\": 1521917100000, \"val\": 0.0}, {\"col\": \"Violence\", \"idx\": 1521917100000, \"val\": 0.0}, {\"col\": \"Beach\", \"idx\": 1521917100000, \"val\": NaN}, {\"col\": \"Control\", \"idx\": 1521917160000, \"val\": 0.0}, {\"col\": \"Violence\", \"idx\": 1521917160000, \"val\": 0.0}, {\"col\": \"Beach\", \"idx\": 1521917160000, \"val\": NaN}, {\"col\": \"Control\", \"idx\": 1521917220000, \"val\": 0.0}, {\"col\": \"Violence\", \"idx\": 1521917220000, \"val\": 0.0}, {\"col\": \"Beach\", \"idx\": 1521917220000, \"val\": NaN}, {\"col\": \"Control\", \"idx\": 1521917280000, \"val\": 0.0}, {\"col\": \"Violence\", \"idx\": 1521917280000, \"val\": 0.0}, {\"col\": \"Beach\", \"idx\": 1521917280000, \"val\": NaN}, {\"col\": \"Control\", \"idx\": 1521917340000, \"val\": 0.0}, {\"col\": \"Violence\", \"idx\": 1521917340000, \"val\": 0.0}, {\"col\": \"Beach\", \"idx\": 1521917340000, \"val\": NaN}, {\"col\": \"Control\", \"idx\": 1521917400000, \"val\": 0.0}, {\"col\": \"Violence\", \"idx\": 1521917400000, \"val\": 0.0}, {\"col\": \"Beach\", \"idx\": 1521917400000, \"val\": NaN}, {\"col\": \"Control\", \"idx\": 1521917460000, \"val\": 0.0}, {\"col\": \"Violence\", \"idx\": 1521917460000, \"val\": 0.0}, {\"col\": \"Beach\", \"idx\": 1521917460000, \"val\": NaN}, {\"col\": \"Control\", \"idx\": 1521917520000, \"val\": 0.0}, {\"col\": \"Violence\", \"idx\": 1521917520000, \"val\": 0.0}, {\"col\": \"Beach\", \"idx\": 1521917520000, \"val\": NaN}, {\"col\": \"Control\", \"idx\": 1521917580000, \"val\": 0.0}, {\"col\": \"Violence\", \"idx\": 1521917580000, \"val\": 0.0}, {\"col\": \"Beach\", \"idx\": 1521917580000, \"val\": NaN}, {\"col\": \"Control\", \"idx\": 1521917640000, \"val\": 0.0}, {\"col\": \"Violence\", \"idx\": 1521917640000, \"val\": 0.0}, {\"col\": \"Beach\", \"idx\": 1521917640000, \"val\": NaN}, {\"col\": \"Control\", \"idx\": 1521917700000, \"val\": 0.0}, {\"col\": \"Violence\", \"idx\": 1521917700000, \"val\": 0.0}, {\"col\": \"Beach\", \"idx\": 1521917700000, \"val\": NaN}, {\"col\": \"Control\", \"idx\": 1521917760000, \"val\": 0.0}, {\"col\": \"Violence\", \"idx\": 1521917760000, \"val\": 0.0}, {\"col\": \"Beach\", \"idx\": 1521917760000, \"val\": NaN}, {\"col\": \"Control\", \"idx\": 1521917820000, \"val\": 0.0}, {\"col\": \"Violence\", \"idx\": 1521917820000, \"val\": 0.0}, {\"col\": \"Beach\", \"idx\": 1521917820000, \"val\": NaN}, {\"col\": \"Control\", \"idx\": 1521917880000, \"val\": 0.0}, {\"col\": \"Violence\", \"idx\": 1521917880000, \"val\": 0.0}, {\"col\": \"Beach\", \"idx\": 1521917880000, \"val\": NaN}, {\"col\": \"Control\", \"idx\": 1521917940000, \"val\": 0.0}, {\"col\": \"Violence\", \"idx\": 1521917940000, \"val\": 0.0}, {\"col\": \"Beach\", \"idx\": 1521917940000, \"val\": NaN}, {\"col\": \"Control\", \"idx\": 1521918000000, \"val\": 14.0}, {\"col\": \"Violence\", \"idx\": 1521918000000, \"val\": 11.0}, {\"col\": \"Beach\", \"idx\": 1521918000000, \"val\": NaN}, {\"col\": \"Control\", \"idx\": 1521918060000, \"val\": 33.0}, {\"col\": \"Violence\", \"idx\": 1521918060000, \"val\": 25.0}, {\"col\": \"Beach\", \"idx\": 1521918060000, \"val\": NaN}, {\"col\": \"Control\", \"idx\": 1521918120000, \"val\": 31.0}, {\"col\": \"Violence\", \"idx\": 1521918120000, \"val\": 20.0}, {\"col\": \"Beach\", \"idx\": 1521918120000, \"val\": NaN}, {\"col\": \"Control\", \"idx\": 1521918180000, \"val\": 39.0}, {\"col\": \"Violence\", \"idx\": 1521918180000, \"val\": 23.0}, {\"col\": \"Beach\", \"idx\": 1521918180000, \"val\": NaN}, {\"col\": \"Control\", \"idx\": 1521918240000, \"val\": 32.0}, {\"col\": \"Violence\", \"idx\": 1521918240000, \"val\": 22.0}, {\"col\": \"Beach\", \"idx\": 1521918240000, \"val\": NaN}, {\"col\": \"Control\", \"idx\": 1521918300000, \"val\": 30.0}, {\"col\": \"Violence\", \"idx\": 1521918300000, \"val\": 25.0}, {\"col\": \"Beach\", \"idx\": 1521918300000, \"val\": NaN}, {\"col\": \"Control\", \"idx\": 1521918360000, \"val\": 26.0}, {\"col\": \"Violence\", \"idx\": 1521918360000, \"val\": 19.0}, {\"col\": \"Beach\", \"idx\": 1521918360000, \"val\": NaN}, {\"col\": \"Control\", \"idx\": 1521918420000, \"val\": 39.0}, {\"col\": \"Violence\", \"idx\": 1521918420000, \"val\": 15.0}, {\"col\": \"Beach\", \"idx\": 1521918420000, \"val\": NaN}, {\"col\": \"Control\", \"idx\": 1521918480000, \"val\": 40.0}, {\"col\": \"Violence\", \"idx\": 1521918480000, \"val\": 23.0}, {\"col\": \"Beach\", \"idx\": 1521918480000, \"val\": NaN}, {\"col\": \"Control\", \"idx\": 1521918540000, \"val\": 41.0}, {\"col\": \"Violence\", \"idx\": 1521918540000, \"val\": 20.0}, {\"col\": \"Beach\", \"idx\": 1521918540000, \"val\": NaN}, {\"col\": \"Control\", \"idx\": 1521918600000, \"val\": 41.0}, {\"col\": \"Violence\", \"idx\": 1521918600000, \"val\": 20.0}, {\"col\": \"Beach\", \"idx\": 1521918600000, \"val\": NaN}, {\"col\": \"Control\", \"idx\": 1521918660000, \"val\": 29.0}, {\"col\": \"Violence\", \"idx\": 1521918660000, \"val\": 17.0}, {\"col\": \"Beach\", \"idx\": 1521918660000, \"val\": NaN}, {\"col\": \"Control\", \"idx\": 1521918720000, \"val\": 24.0}, {\"col\": \"Violence\", \"idx\": 1521918720000, \"val\": 13.0}, {\"col\": \"Beach\", \"idx\": 1521918720000, \"val\": NaN}, {\"col\": \"Control\", \"idx\": 1521918780000, \"val\": 30.0}, {\"col\": \"Violence\", \"idx\": 1521918780000, \"val\": 19.0}, {\"col\": \"Beach\", \"idx\": 1521918780000, \"val\": NaN}, {\"col\": \"Control\", \"idx\": 1521918840000, \"val\": 9.0}, {\"col\": \"Violence\", \"idx\": 1521918840000, \"val\": 9.0}, {\"col\": \"Beach\", \"idx\": 1521918840000, \"val\": NaN}, {\"col\": \"Control\", \"idx\": 1521918900000, \"val\": 27.0}, {\"col\": \"Violence\", \"idx\": 1521918900000, \"val\": 19.0}, {\"col\": \"Beach\", \"idx\": 1521918900000, \"val\": NaN}, {\"col\": \"Control\", \"idx\": 1521918960000, \"val\": 27.0}, {\"col\": \"Violence\", \"idx\": 1521918960000, \"val\": 16.0}, {\"col\": \"Beach\", \"idx\": 1521918960000, \"val\": 2.0}, {\"col\": \"Control\", \"idx\": 1521919020000, \"val\": 36.0}, {\"col\": \"Violence\", \"idx\": 1521919020000, \"val\": 62.0}, {\"col\": \"Beach\", \"idx\": 1521919020000, \"val\": 39.0}, {\"col\": \"Control\", \"idx\": 1521919080000, \"val\": 34.0}, {\"col\": \"Violence\", \"idx\": 1521919080000, \"val\": 56.0}, {\"col\": \"Beach\", \"idx\": 1521919080000, \"val\": 40.0}, {\"col\": \"Control\", \"idx\": 1521919140000, \"val\": 34.0}, {\"col\": \"Violence\", \"idx\": 1521919140000, \"val\": 49.0}, {\"col\": \"Beach\", \"idx\": 1521919140000, \"val\": 33.0}, {\"col\": \"Control\", \"idx\": 1521919200000, \"val\": 36.0}, {\"col\": \"Violence\", \"idx\": 1521919200000, \"val\": 41.0}, {\"col\": \"Beach\", \"idx\": 1521919200000, \"val\": 27.0}, {\"col\": \"Control\", \"idx\": 1521919260000, \"val\": 35.0}, {\"col\": \"Violence\", \"idx\": 1521919260000, \"val\": 61.0}, {\"col\": \"Beach\", \"idx\": 1521919260000, \"val\": 46.0}, {\"col\": \"Control\", \"idx\": 1521919320000, \"val\": 33.0}, {\"col\": \"Violence\", \"idx\": 1521919320000, \"val\": 90.0}, {\"col\": \"Beach\", \"idx\": 1521919320000, \"val\": 81.0}, {\"col\": \"Control\", \"idx\": 1521919380000, \"val\": 32.0}, {\"col\": \"Violence\", \"idx\": 1521919380000, \"val\": 85.0}, {\"col\": \"Beach\", \"idx\": 1521919380000, \"val\": 70.0}, {\"col\": \"Control\", \"idx\": 1521919440000, \"val\": 26.0}, {\"col\": \"Violence\", \"idx\": 1521919440000, \"val\": 71.0}, {\"col\": \"Beach\", \"idx\": 1521919440000, \"val\": 64.0}, {\"col\": \"Control\", \"idx\": 1521919500000, \"val\": 31.0}, {\"col\": \"Violence\", \"idx\": 1521919500000, \"val\": 83.0}, {\"col\": \"Beach\", \"idx\": 1521919500000, \"val\": 72.0}, {\"col\": \"Control\", \"idx\": 1521919560000, \"val\": 25.0}, {\"col\": \"Violence\", \"idx\": 1521919560000, \"val\": 81.0}, {\"col\": \"Beach\", \"idx\": 1521919560000, \"val\": 67.0}, {\"col\": \"Control\", \"idx\": 1521919620000, \"val\": 19.0}, {\"col\": \"Violence\", \"idx\": 1521919620000, \"val\": 49.0}, {\"col\": \"Beach\", \"idx\": 1521919620000, \"val\": 36.0}, {\"col\": \"Control\", \"idx\": 1521919680000, \"val\": 31.0}, {\"col\": \"Violence\", \"idx\": 1521919680000, \"val\": 57.0}, {\"col\": \"Beach\", \"idx\": 1521919680000, \"val\": 45.0}, {\"col\": \"Control\", \"idx\": 1521919740000, \"val\": 37.0}, {\"col\": \"Violence\", \"idx\": 1521919740000, \"val\": 55.0}, {\"col\": \"Beach\", \"idx\": 1521919740000, \"val\": 43.0}, {\"col\": \"Control\", \"idx\": 1521919800000, \"val\": 27.0}, {\"col\": \"Violence\", \"idx\": 1521919800000, \"val\": 57.0}, {\"col\": \"Beach\", \"idx\": 1521919800000, \"val\": 50.0}, {\"col\": \"Control\", \"idx\": 1521919860000, \"val\": 31.0}, {\"col\": \"Violence\", \"idx\": 1521919860000, \"val\": 64.0}, {\"col\": \"Beach\", \"idx\": 1521919860000, \"val\": 49.0}, {\"col\": \"Control\", \"idx\": 1521919920000, \"val\": 34.0}, {\"col\": \"Violence\", \"idx\": 1521919920000, \"val\": 55.0}, {\"col\": \"Beach\", \"idx\": 1521919920000, \"val\": 40.0}, {\"col\": \"Control\", \"idx\": 1521919980000, \"val\": 1.0}, {\"col\": \"Violence\", \"idx\": 1521919980000, \"val\": 2.0}, {\"col\": \"Beach\", \"idx\": 1521919980000, \"val\": 2.0}, {\"col\": \"Control\", \"idx\": 1521920040000, \"val\": 4.0}, {\"col\": \"Violence\", \"idx\": 1521920040000, \"val\": 7.0}, {\"col\": \"Beach\", \"idx\": 1521920040000, \"val\": 6.0}, {\"col\": \"Control\", \"idx\": 1521920100000, \"val\": 339.0}, {\"col\": \"Violence\", \"idx\": 1521920100000, \"val\": 54.0}, {\"col\": \"Beach\", \"idx\": 1521920100000, \"val\": 33.0}, {\"col\": \"Control\", \"idx\": 1521920160000, \"val\": 110.0}, {\"col\": \"Violence\", \"idx\": 1521920160000, \"val\": 41.0}, {\"col\": \"Beach\", \"idx\": 1521920160000, \"val\": 32.0}, {\"col\": \"Control\", \"idx\": 1521920220000, \"val\": 108.0}, {\"col\": \"Violence\", \"idx\": 1521920220000, \"val\": 42.0}, {\"col\": \"Beach\", \"idx\": 1521920220000, \"val\": 23.0}, {\"col\": \"Control\", \"idx\": 1521920280000, \"val\": 78.0}, {\"col\": \"Violence\", \"idx\": 1521920280000, \"val\": 42.0}, {\"col\": \"Beach\", \"idx\": 1521920280000, \"val\": 28.0}, {\"col\": \"Control\", \"idx\": 1521920340000, \"val\": 69.0}, {\"col\": \"Violence\", \"idx\": 1521920340000, \"val\": 37.0}, {\"col\": \"Beach\", \"idx\": 1521920340000, \"val\": 24.0}, {\"col\": \"Control\", \"idx\": 1521920400000, \"val\": 71.0}, {\"col\": \"Violence\", \"idx\": 1521920400000, \"val\": 39.0}, {\"col\": \"Beach\", \"idx\": 1521920400000, \"val\": 20.0}, {\"col\": \"Control\", \"idx\": 1521920460000, \"val\": 82.0}, {\"col\": \"Violence\", \"idx\": 1521920460000, \"val\": 31.0}, {\"col\": \"Beach\", \"idx\": 1521920460000, \"val\": 21.0}, {\"col\": \"Control\", \"idx\": 1521920520000, \"val\": 76.0}, {\"col\": \"Violence\", \"idx\": 1521920520000, \"val\": 36.0}, {\"col\": \"Beach\", \"idx\": 1521920520000, \"val\": 24.0}, {\"col\": \"Control\", \"idx\": 1521920580000, \"val\": 49.0}, {\"col\": \"Violence\", \"idx\": 1521920580000, \"val\": 24.0}, {\"col\": \"Beach\", \"idx\": 1521920580000, \"val\": 15.0}, {\"col\": \"Control\", \"idx\": 1521920640000, \"val\": 65.0}, {\"col\": \"Violence\", \"idx\": 1521920640000, \"val\": 42.0}, {\"col\": \"Beach\", \"idx\": 1521920640000, \"val\": 30.0}, {\"col\": \"Control\", \"idx\": 1521920700000, \"val\": 53.0}, {\"col\": \"Violence\", \"idx\": 1521920700000, \"val\": 30.0}, {\"col\": \"Beach\", \"idx\": 1521920700000, \"val\": 19.0}, {\"col\": \"Control\", \"idx\": 1521920760000, \"val\": 51.0}, {\"col\": \"Violence\", \"idx\": 1521920760000, \"val\": 38.0}, {\"col\": \"Beach\", \"idx\": 1521920760000, \"val\": 23.0}, {\"col\": \"Control\", \"idx\": 1521920820000, \"val\": 42.0}, {\"col\": \"Violence\", \"idx\": 1521920820000, \"val\": 33.0}, {\"col\": \"Beach\", \"idx\": 1521920820000, \"val\": 12.0}, {\"col\": \"Control\", \"idx\": 1521920880000, \"val\": 56.0}, {\"col\": \"Violence\", \"idx\": 1521920880000, \"val\": 44.0}, {\"col\": \"Beach\", \"idx\": 1521920880000, \"val\": 31.0}, {\"col\": \"Control\", \"idx\": 1521920940000, \"val\": 50.0}, {\"col\": \"Violence\", \"idx\": 1521920940000, \"val\": 31.0}, {\"col\": \"Beach\", \"idx\": 1521920940000, \"val\": 19.0}, {\"col\": \"Control\", \"idx\": 1521921000000, \"val\": 47.0}, {\"col\": \"Violence\", \"idx\": 1521921000000, \"val\": 43.0}, {\"col\": \"Beach\", \"idx\": 1521921000000, \"val\": 30.0}, {\"col\": \"Control\", \"idx\": 1521921060000, \"val\": 41.0}, {\"col\": \"Violence\", \"idx\": 1521921060000, \"val\": 30.0}, {\"col\": \"Beach\", \"idx\": 1521921060000, \"val\": 16.0}, {\"col\": \"Control\", \"idx\": 1521921120000, \"val\": 50.0}, {\"col\": \"Violence\", \"idx\": 1521921120000, \"val\": 36.0}, {\"col\": \"Beach\", \"idx\": 1521921120000, \"val\": 20.0}, {\"col\": \"Control\", \"idx\": 1521921180000, \"val\": 60.0}, {\"col\": \"Violence\", \"idx\": 1521921180000, \"val\": 39.0}, {\"col\": \"Beach\", \"idx\": 1521921180000, \"val\": 25.0}, {\"col\": \"Control\", \"idx\": 1521921240000, \"val\": 42.0}, {\"col\": \"Violence\", \"idx\": 1521921240000, \"val\": 33.0}, {\"col\": \"Beach\", \"idx\": 1521921240000, \"val\": 23.0}, {\"col\": \"Control\", \"idx\": 1521921300000, \"val\": 43.0}, {\"col\": \"Violence\", \"idx\": 1521921300000, \"val\": 25.0}, {\"col\": \"Beach\", \"idx\": 1521921300000, \"val\": 12.0}, {\"col\": \"Control\", \"idx\": 1521921360000, \"val\": 34.0}, {\"col\": \"Violence\", \"idx\": 1521921360000, \"val\": 20.0}, {\"col\": \"Beach\", \"idx\": 1521921360000, \"val\": 9.0}, {\"col\": \"Control\", \"idx\": 1521921420000, \"val\": 41.0}, {\"col\": \"Violence\", \"idx\": 1521921420000, \"val\": 30.0}, {\"col\": \"Beach\", \"idx\": 1521921420000, \"val\": 15.0}, {\"col\": \"Control\", \"idx\": 1521921480000, \"val\": 48.0}, {\"col\": \"Violence\", \"idx\": 1521921480000, \"val\": 30.0}, {\"col\": \"Beach\", \"idx\": 1521921480000, \"val\": 15.0}, {\"col\": \"Control\", \"idx\": 1521921540000, \"val\": 40.0}, {\"col\": \"Violence\", \"idx\": 1521921540000, \"val\": 32.0}, {\"col\": \"Beach\", \"idx\": 1521921540000, \"val\": 18.0}, {\"col\": \"Control\", \"idx\": 1521921600000, \"val\": 42.0}, {\"col\": \"Violence\", \"idx\": 1521921600000, \"val\": 30.0}, {\"col\": \"Beach\", \"idx\": 1521921600000, \"val\": 16.0}, {\"col\": \"Control\", \"idx\": 1521921660000, \"val\": 43.0}, {\"col\": \"Violence\", \"idx\": 1521921660000, \"val\": 22.0}, {\"col\": \"Beach\", \"idx\": 1521921660000, \"val\": 12.0}, {\"col\": \"Control\", \"idx\": 1521921720000, \"val\": 46.0}, {\"col\": \"Violence\", \"idx\": 1521921720000, \"val\": 25.0}, {\"col\": \"Beach\", \"idx\": 1521921720000, \"val\": 9.0}, {\"col\": \"Control\", \"idx\": 1521921780000, \"val\": 30.0}, {\"col\": \"Violence\", \"idx\": 1521921780000, \"val\": 10.0}, {\"col\": \"Beach\", \"idx\": 1521921780000, \"val\": 6.0}, {\"col\": \"Control\", \"idx\": 1521921840000, \"val\": 33.0}, {\"col\": \"Violence\", \"idx\": 1521921840000, \"val\": 28.0}, {\"col\": \"Beach\", \"idx\": 1521921840000, \"val\": 11.0}, {\"col\": \"Control\", \"idx\": 1521921900000, \"val\": 39.0}, {\"col\": \"Violence\", \"idx\": 1521921900000, \"val\": 26.0}, {\"col\": \"Beach\", \"idx\": 1521921900000, \"val\": 20.0}, {\"col\": \"Control\", \"idx\": 1521921960000, \"val\": 47.0}, {\"col\": \"Violence\", \"idx\": 1521921960000, \"val\": 28.0}, {\"col\": \"Beach\", \"idx\": 1521921960000, \"val\": 14.0}, {\"col\": \"Control\", \"idx\": 1521922020000, \"val\": 32.0}, {\"col\": \"Violence\", \"idx\": 1521922020000, \"val\": 21.0}, {\"col\": \"Beach\", \"idx\": 1521922020000, \"val\": 11.0}, {\"col\": \"Control\", \"idx\": 1521922080000, \"val\": 32.0}, {\"col\": \"Violence\", \"idx\": 1521922080000, \"val\": 15.0}, {\"col\": \"Beach\", \"idx\": 1521922080000, \"val\": 6.0}, {\"col\": \"Control\", \"idx\": 1521922140000, \"val\": 65.0}, {\"col\": \"Violence\", \"idx\": 1521922140000, \"val\": 22.0}, {\"col\": \"Beach\", \"idx\": 1521922140000, \"val\": 12.0}, {\"col\": \"Control\", \"idx\": 1521922200000, \"val\": 39.0}, {\"col\": \"Violence\", \"idx\": 1521922200000, \"val\": 25.0}, {\"col\": \"Beach\", \"idx\": 1521922200000, \"val\": 14.0}, {\"col\": \"Control\", \"idx\": 1521922260000, \"val\": 39.0}, {\"col\": \"Violence\", \"idx\": 1521922260000, \"val\": 20.0}, {\"col\": \"Beach\", \"idx\": 1521922260000, \"val\": 9.0}, {\"col\": \"Control\", \"idx\": 1521922320000, \"val\": 51.0}, {\"col\": \"Violence\", \"idx\": 1521922320000, \"val\": 22.0}, {\"col\": \"Beach\", \"idx\": 1521922320000, \"val\": 10.0}, {\"col\": \"Control\", \"idx\": 1521922380000, \"val\": 42.0}, {\"col\": \"Violence\", \"idx\": 1521922380000, \"val\": 21.0}, {\"col\": \"Beach\", \"idx\": 1521922380000, \"val\": 8.0}, {\"col\": \"Control\", \"idx\": 1521922440000, \"val\": 43.0}, {\"col\": \"Violence\", \"idx\": 1521922440000, \"val\": 22.0}, {\"col\": \"Beach\", \"idx\": 1521922440000, \"val\": 11.0}, {\"col\": \"Control\", \"idx\": 1521922500000, \"val\": 42.0}, {\"col\": \"Violence\", \"idx\": 1521922500000, \"val\": 27.0}, {\"col\": \"Beach\", \"idx\": 1521922500000, \"val\": 12.0}, {\"col\": \"Control\", \"idx\": 1521922560000, \"val\": 32.0}, {\"col\": \"Violence\", \"idx\": 1521922560000, \"val\": 23.0}, {\"col\": \"Beach\", \"idx\": 1521922560000, \"val\": 15.0}, {\"col\": \"Control\", \"idx\": 1521922620000, \"val\": 31.0}, {\"col\": \"Violence\", \"idx\": 1521922620000, \"val\": 22.0}, {\"col\": \"Beach\", \"idx\": 1521922620000, \"val\": 9.0}, {\"col\": \"Control\", \"idx\": 1521922680000, \"val\": 36.0}, {\"col\": \"Violence\", \"idx\": 1521922680000, \"val\": 28.0}, {\"col\": \"Beach\", \"idx\": 1521922680000, \"val\": 11.0}, {\"col\": \"Control\", \"idx\": 1521922740000, \"val\": 37.0}, {\"col\": \"Violence\", \"idx\": 1521922740000, \"val\": 28.0}, {\"col\": \"Beach\", \"idx\": 1521922740000, \"val\": 13.0}, {\"col\": \"Control\", \"idx\": 1521922800000, \"val\": 34.0}, {\"col\": \"Violence\", \"idx\": 1521922800000, \"val\": 17.0}, {\"col\": \"Beach\", \"idx\": 1521922800000, \"val\": 8.0}, {\"col\": \"Control\", \"idx\": 1521922860000, \"val\": 23.0}, {\"col\": \"Violence\", \"idx\": 1521922860000, \"val\": 21.0}, {\"col\": \"Beach\", \"idx\": 1521922860000, \"val\": 11.0}, {\"col\": \"Control\", \"idx\": 1521922920000, \"val\": 36.0}, {\"col\": \"Violence\", \"idx\": 1521922920000, \"val\": 30.0}, {\"col\": \"Beach\", \"idx\": 1521922920000, \"val\": 8.0}, {\"col\": \"Control\", \"idx\": 1521922980000, \"val\": 33.0}, {\"col\": \"Violence\", \"idx\": 1521922980000, \"val\": 27.0}, {\"col\": \"Beach\", \"idx\": 1521922980000, \"val\": 12.0}, {\"col\": \"Control\", \"idx\": 1521923040000, \"val\": 32.0}, {\"col\": \"Violence\", \"idx\": 1521923040000, \"val\": 22.0}, {\"col\": \"Beach\", \"idx\": 1521923040000, \"val\": 9.0}, {\"col\": \"Control\", \"idx\": 1521923100000, \"val\": 29.0}, {\"col\": \"Violence\", \"idx\": 1521923100000, \"val\": 15.0}, {\"col\": \"Beach\", \"idx\": 1521923100000, \"val\": 6.0}, {\"col\": \"Control\", \"idx\": 1521923160000, \"val\": 23.0}, {\"col\": \"Violence\", \"idx\": 1521923160000, \"val\": 22.0}, {\"col\": \"Beach\", \"idx\": 1521923160000, \"val\": 12.0}, {\"col\": \"Control\", \"idx\": 1521923220000, \"val\": 39.0}, {\"col\": \"Violence\", \"idx\": 1521923220000, \"val\": 20.0}, {\"col\": \"Beach\", \"idx\": 1521923220000, \"val\": 8.0}, {\"col\": \"Control\", \"idx\": 1521923280000, \"val\": 39.0}, {\"col\": \"Violence\", \"idx\": 1521923280000, \"val\": 31.0}, {\"col\": \"Beach\", \"idx\": 1521923280000, \"val\": 13.0}, {\"col\": \"Control\", \"idx\": 1521923340000, \"val\": 36.0}, {\"col\": \"Violence\", \"idx\": 1521923340000, \"val\": 28.0}, {\"col\": \"Beach\", \"idx\": 1521923340000, \"val\": 15.0}, {\"col\": \"Control\", \"idx\": 1521923400000, \"val\": 43.0}, {\"col\": \"Violence\", \"idx\": 1521923400000, \"val\": 24.0}, {\"col\": \"Beach\", \"idx\": 1521923400000, \"val\": 11.0}, {\"col\": \"Control\", \"idx\": 1521923460000, \"val\": 25.0}, {\"col\": \"Violence\", \"idx\": 1521923460000, \"val\": 17.0}, {\"col\": \"Beach\", \"idx\": 1521923460000, \"val\": 6.0}, {\"col\": \"Control\", \"idx\": 1521923520000, \"val\": 45.0}, {\"col\": \"Violence\", \"idx\": 1521923520000, \"val\": 29.0}, {\"col\": \"Beach\", \"idx\": 1521923520000, \"val\": 13.0}, {\"col\": \"Control\", \"idx\": 1521923580000, \"val\": 41.0}, {\"col\": \"Violence\", \"idx\": 1521923580000, \"val\": 22.0}, {\"col\": \"Beach\", \"idx\": 1521923580000, \"val\": 7.0}, {\"col\": \"Control\", \"idx\": 1521923640000, \"val\": 34.0}, {\"col\": \"Violence\", \"idx\": 1521923640000, \"val\": 29.0}, {\"col\": \"Beach\", \"idx\": 1521923640000, \"val\": 16.0}, {\"col\": \"Control\", \"idx\": 1521923700000, \"val\": 26.0}, {\"col\": \"Violence\", \"idx\": 1521923700000, \"val\": 11.0}, {\"col\": \"Beach\", \"idx\": 1521923700000, \"val\": 6.0}, {\"col\": \"Control\", \"idx\": 1521923760000, \"val\": 49.0}, {\"col\": \"Violence\", \"idx\": 1521923760000, \"val\": 24.0}, {\"col\": \"Beach\", \"idx\": 1521923760000, \"val\": 13.0}, {\"col\": \"Control\", \"idx\": 1521923820000, \"val\": 32.0}, {\"col\": \"Violence\", \"idx\": 1521923820000, \"val\": 14.0}, {\"col\": \"Beach\", \"idx\": 1521923820000, \"val\": 7.0}, {\"col\": \"Control\", \"idx\": 1521923880000, \"val\": 35.0}, {\"col\": \"Violence\", \"idx\": 1521923880000, \"val\": 20.0}, {\"col\": \"Beach\", \"idx\": 1521923880000, \"val\": 9.0}, {\"col\": \"Control\", \"idx\": 1521923940000, \"val\": 26.0}, {\"col\": \"Violence\", \"idx\": 1521923940000, \"val\": 14.0}, {\"col\": \"Beach\", \"idx\": 1521923940000, \"val\": 5.0}, {\"col\": \"Control\", \"idx\": 1521924000000, \"val\": 22.0}, {\"col\": \"Violence\", \"idx\": 1521924000000, \"val\": 13.0}, {\"col\": \"Beach\", \"idx\": 1521924000000, \"val\": 5.0}, {\"col\": \"Control\", \"idx\": 1521924060000, \"val\": 23.0}, {\"col\": \"Violence\", \"idx\": 1521924060000, \"val\": 21.0}, {\"col\": \"Beach\", \"idx\": 1521924060000, \"val\": 12.0}, {\"col\": \"Control\", \"idx\": 1521924120000, \"val\": 0.0}, {\"col\": \"Violence\", \"idx\": 1521924120000, \"val\": 0.0}, {\"col\": \"Beach\", \"idx\": 1521924120000, \"val\": 0.0}, {\"col\": \"Control\", \"idx\": 1521924180000, \"val\": 0.0}, {\"col\": \"Violence\", \"idx\": 1521924180000, \"val\": 0.0}, {\"col\": \"Beach\", \"idx\": 1521924180000, \"val\": 0.0}, {\"col\": \"Control\", \"idx\": 1521924240000, \"val\": 20.0}, {\"col\": \"Violence\", \"idx\": 1521924240000, \"val\": 17.0}, {\"col\": \"Beach\", \"idx\": 1521924240000, \"val\": 9.0}, {\"col\": \"Control\", \"idx\": 1521924300000, \"val\": 29.0}, {\"col\": \"Violence\", \"idx\": 1521924300000, \"val\": 22.0}, {\"col\": \"Beach\", \"idx\": 1521924300000, \"val\": 10.0}, {\"col\": \"Control\", \"idx\": 1521924360000, \"val\": 31.0}, {\"col\": \"Violence\", \"idx\": 1521924360000, \"val\": 25.0}, {\"col\": \"Beach\", \"idx\": 1521924360000, \"val\": 7.0}, {\"col\": \"Control\", \"idx\": 1521924420000, \"val\": 38.0}, {\"col\": \"Violence\", \"idx\": 1521924420000, \"val\": 25.0}, {\"col\": \"Beach\", \"idx\": 1521924420000, \"val\": 12.0}, {\"col\": \"Control\", \"idx\": 1521924480000, \"val\": 34.0}, {\"col\": \"Violence\", \"idx\": 1521924480000, \"val\": 24.0}, {\"col\": \"Beach\", \"idx\": 1521924480000, \"val\": 10.0}, {\"col\": \"Control\", \"idx\": 1521924540000, \"val\": 36.0}, {\"col\": \"Violence\", \"idx\": 1521924540000, \"val\": 21.0}, {\"col\": \"Beach\", \"idx\": 1521924540000, \"val\": 11.0}, {\"col\": \"Control\", \"idx\": 1521924600000, \"val\": 38.0}, {\"col\": \"Violence\", \"idx\": 1521924600000, \"val\": 18.0}, {\"col\": \"Beach\", \"idx\": 1521924600000, \"val\": 5.0}, {\"col\": \"Control\", \"idx\": 1521924660000, \"val\": 29.0}, {\"col\": \"Violence\", \"idx\": 1521924660000, \"val\": 15.0}, {\"col\": \"Beach\", \"idx\": 1521924660000, \"val\": 7.0}, {\"col\": \"Control\", \"idx\": 1521924720000, \"val\": 37.0}, {\"col\": \"Violence\", \"idx\": 1521924720000, \"val\": 28.0}, {\"col\": \"Beach\", \"idx\": 1521924720000, \"val\": 17.0}, {\"col\": \"Control\", \"idx\": 1521924780000, \"val\": 25.0}, {\"col\": \"Violence\", \"idx\": 1521924780000, \"val\": 31.0}, {\"col\": \"Beach\", \"idx\": 1521924780000, \"val\": 15.0}, {\"col\": \"Control\", \"idx\": 1521924840000, \"val\": 28.0}, {\"col\": \"Violence\", \"idx\": 1521924840000, \"val\": 31.0}, {\"col\": \"Beach\", \"idx\": 1521924840000, \"val\": 12.0}, {\"col\": \"Control\", \"idx\": 1521924900000, \"val\": 26.0}, {\"col\": \"Violence\", \"idx\": 1521924900000, \"val\": 26.0}, {\"col\": \"Beach\", \"idx\": 1521924900000, \"val\": 12.0}, {\"col\": \"Control\", \"idx\": 1521924960000, \"val\": 37.0}, {\"col\": \"Violence\", \"idx\": 1521924960000, \"val\": 22.0}, {\"col\": \"Beach\", \"idx\": 1521924960000, \"val\": 4.0}, {\"col\": \"Control\", \"idx\": 1521925020000, \"val\": 31.0}, {\"col\": \"Violence\", \"idx\": 1521925020000, \"val\": 15.0}, {\"col\": \"Beach\", \"idx\": 1521925020000, \"val\": 4.0}, {\"col\": \"Control\", \"idx\": 1521925080000, \"val\": 26.0}, {\"col\": \"Violence\", \"idx\": 1521925080000, \"val\": 21.0}, {\"col\": \"Beach\", \"idx\": 1521925080000, \"val\": 9.0}, {\"col\": \"Control\", \"idx\": 1521925140000, \"val\": 25.0}, {\"col\": \"Violence\", \"idx\": 1521925140000, \"val\": 23.0}, {\"col\": \"Beach\", \"idx\": 1521925140000, \"val\": 10.0}, {\"col\": \"Control\", \"idx\": 1521925200000, \"val\": 38.0}, {\"col\": \"Violence\", \"idx\": 1521925200000, \"val\": 24.0}, {\"col\": \"Beach\", \"idx\": 1521925200000, \"val\": 8.0}, {\"col\": \"Control\", \"idx\": 1521925260000, \"val\": 26.0}, {\"col\": \"Violence\", \"idx\": 1521925260000, \"val\": 22.0}, {\"col\": \"Beach\", \"idx\": 1521925260000, \"val\": 11.0}, {\"col\": \"Control\", \"idx\": 1521925320000, \"val\": 41.0}, {\"col\": \"Violence\", \"idx\": 1521925320000, \"val\": 25.0}, {\"col\": \"Beach\", \"idx\": 1521925320000, \"val\": 6.0}, {\"col\": \"Control\", \"idx\": 1521925380000, \"val\": 26.0}, {\"col\": \"Violence\", \"idx\": 1521925380000, \"val\": 16.0}, {\"col\": \"Beach\", \"idx\": 1521925380000, \"val\": 7.0}, {\"col\": \"Control\", \"idx\": 1521925440000, \"val\": 32.0}, {\"col\": \"Violence\", \"idx\": 1521925440000, \"val\": 16.0}, {\"col\": \"Beach\", \"idx\": 1521925440000, \"val\": 9.0}, {\"col\": \"Control\", \"idx\": 1521925500000, \"val\": 28.0}, {\"col\": \"Violence\", \"idx\": 1521925500000, \"val\": 20.0}, {\"col\": \"Beach\", \"idx\": 1521925500000, \"val\": 11.0}, {\"col\": \"Control\", \"idx\": 1521925560000, \"val\": 27.0}, {\"col\": \"Violence\", \"idx\": 1521925560000, \"val\": 27.0}, {\"col\": \"Beach\", \"idx\": 1521925560000, \"val\": 13.0}, {\"col\": \"Control\", \"idx\": 1521925620000, \"val\": 29.0}, {\"col\": \"Violence\", \"idx\": 1521925620000, \"val\": 11.0}, {\"col\": \"Beach\", \"idx\": 1521925620000, \"val\": 4.0}, {\"col\": \"Control\", \"idx\": 1521925680000, \"val\": 25.0}, {\"col\": \"Violence\", \"idx\": 1521925680000, \"val\": 18.0}, {\"col\": \"Beach\", \"idx\": 1521925680000, \"val\": 10.0}, {\"col\": \"Control\", \"idx\": 1521925740000, \"val\": 29.0}, {\"col\": \"Violence\", \"idx\": 1521925740000, \"val\": 23.0}, {\"col\": \"Beach\", \"idx\": 1521925740000, \"val\": 7.0}, {\"col\": \"Control\", \"idx\": 1521925800000, \"val\": 20.0}, {\"col\": \"Violence\", \"idx\": 1521925800000, \"val\": 19.0}, {\"col\": \"Beach\", \"idx\": 1521925800000, \"val\": 5.0}, {\"col\": \"Control\", \"idx\": 1521925860000, \"val\": 26.0}, {\"col\": \"Violence\", \"idx\": 1521925860000, \"val\": 17.0}, {\"col\": \"Beach\", \"idx\": 1521925860000, \"val\": 9.0}, {\"col\": \"Control\", \"idx\": 1521925920000, \"val\": 25.0}, {\"col\": \"Violence\", \"idx\": 1521925920000, \"val\": 17.0}, {\"col\": \"Beach\", \"idx\": 1521925920000, \"val\": 8.0}, {\"col\": \"Control\", \"idx\": 1521925980000, \"val\": 30.0}, {\"col\": \"Violence\", \"idx\": 1521925980000, \"val\": 18.0}, {\"col\": \"Beach\", \"idx\": 1521925980000, \"val\": 9.0}, {\"col\": \"Control\", \"idx\": 1521926040000, \"val\": 27.0}, {\"col\": \"Violence\", \"idx\": 1521926040000, \"val\": 14.0}, {\"col\": \"Beach\", \"idx\": 1521926040000, \"val\": 3.0}, {\"col\": \"Control\", \"idx\": 1521926100000, \"val\": 21.0}, {\"col\": \"Violence\", \"idx\": 1521926100000, \"val\": 13.0}, {\"col\": \"Beach\", \"idx\": 1521926100000, \"val\": 3.0}, {\"col\": \"Control\", \"idx\": 1521926160000, \"val\": 24.0}, {\"col\": \"Violence\", \"idx\": 1521926160000, \"val\": 20.0}, {\"col\": \"Beach\", \"idx\": 1521926160000, \"val\": 9.0}, {\"col\": \"Control\", \"idx\": 1521926220000, \"val\": 27.0}, {\"col\": \"Violence\", \"idx\": 1521926220000, \"val\": 15.0}, {\"col\": \"Beach\", \"idx\": 1521926220000, \"val\": 3.0}, {\"col\": \"Control\", \"idx\": 1521926280000, \"val\": 30.0}, {\"col\": \"Violence\", \"idx\": 1521926280000, \"val\": 20.0}, {\"col\": \"Beach\", \"idx\": 1521926280000, \"val\": 8.0}, {\"col\": \"Control\", \"idx\": 1521926340000, \"val\": 25.0}, {\"col\": \"Violence\", \"idx\": 1521926340000, \"val\": 17.0}, {\"col\": \"Beach\", \"idx\": 1521926340000, \"val\": 9.0}, {\"col\": \"Control\", \"idx\": 1521926400000, \"val\": 30.0}, {\"col\": \"Violence\", \"idx\": 1521926400000, \"val\": 24.0}, {\"col\": \"Beach\", \"idx\": 1521926400000, \"val\": 8.0}, {\"col\": \"Control\", \"idx\": 1521926460000, \"val\": 25.0}, {\"col\": \"Violence\", \"idx\": 1521926460000, \"val\": 15.0}, {\"col\": \"Beach\", \"idx\": 1521926460000, \"val\": 4.0}, {\"col\": \"Control\", \"idx\": 1521926520000, \"val\": 41.0}, {\"col\": \"Violence\", \"idx\": 1521926520000, \"val\": 21.0}, {\"col\": \"Beach\", \"idx\": 1521926520000, \"val\": 7.0}, {\"col\": \"Control\", \"idx\": 1521926580000, \"val\": 25.0}, {\"col\": \"Violence\", \"idx\": 1521926580000, \"val\": 9.0}, {\"col\": \"Beach\", \"idx\": 1521926580000, \"val\": 1.0}, {\"col\": \"Control\", \"idx\": 1521926640000, \"val\": 33.0}, {\"col\": \"Violence\", \"idx\": 1521926640000, \"val\": 21.0}, {\"col\": \"Beach\", \"idx\": 1521926640000, \"val\": 8.0}, {\"col\": \"Control\", \"idx\": 1521926700000, \"val\": 32.0}, {\"col\": \"Violence\", \"idx\": 1521926700000, \"val\": 27.0}, {\"col\": \"Beach\", \"idx\": 1521926700000, \"val\": 5.0}, {\"col\": \"Control\", \"idx\": 1521926760000, \"val\": 26.0}, {\"col\": \"Violence\", \"idx\": 1521926760000, \"val\": 17.0}, {\"col\": \"Beach\", \"idx\": 1521926760000, \"val\": 9.0}, {\"col\": \"Control\", \"idx\": 1521926820000, \"val\": 37.0}, {\"col\": \"Violence\", \"idx\": 1521926820000, \"val\": 12.0}, {\"col\": \"Beach\", \"idx\": 1521926820000, \"val\": 3.0}, {\"col\": \"Control\", \"idx\": 1521926880000, \"val\": 40.0}, {\"col\": \"Violence\", \"idx\": 1521926880000, \"val\": 22.0}, {\"col\": \"Beach\", \"idx\": 1521926880000, \"val\": 10.0}, {\"col\": \"Control\", \"idx\": 1521926940000, \"val\": 41.0}, {\"col\": \"Violence\", \"idx\": 1521926940000, \"val\": 27.0}, {\"col\": \"Beach\", \"idx\": 1521926940000, \"val\": 10.0}, {\"col\": \"Control\", \"idx\": 1521927000000, \"val\": 30.0}, {\"col\": \"Violence\", \"idx\": 1521927000000, \"val\": 17.0}, {\"col\": \"Beach\", \"idx\": 1521927000000, \"val\": 6.0}, {\"col\": \"Control\", \"idx\": 1521927060000, \"val\": 38.0}, {\"col\": \"Violence\", \"idx\": 1521927060000, \"val\": 18.0}, {\"col\": \"Beach\", \"idx\": 1521927060000, \"val\": 5.0}, {\"col\": \"Control\", \"idx\": 1521927120000, \"val\": 31.0}, {\"col\": \"Violence\", \"idx\": 1521927120000, \"val\": 15.0}, {\"col\": \"Beach\", \"idx\": 1521927120000, \"val\": 3.0}, {\"col\": \"Control\", \"idx\": 1521927180000, \"val\": 0.0}, {\"col\": \"Violence\", \"idx\": 1521927180000, \"val\": 0.0}, {\"col\": \"Beach\", \"idx\": 1521927180000, \"val\": 0.0}, {\"col\": \"Control\", \"idx\": 1521927240000, \"val\": 0.0}, {\"col\": \"Violence\", \"idx\": 1521927240000, \"val\": 0.0}, {\"col\": \"Beach\", \"idx\": 1521927240000, \"val\": 0.0}, {\"col\": \"Control\", \"idx\": 1521927300000, \"val\": 0.0}, {\"col\": \"Violence\", \"idx\": 1521927300000, \"val\": 0.0}, {\"col\": \"Beach\", \"idx\": 1521927300000, \"val\": 0.0}, {\"col\": \"Control\", \"idx\": 1521927360000, \"val\": 0.0}, {\"col\": \"Violence\", \"idx\": 1521927360000, \"val\": 0.0}, {\"col\": \"Beach\", \"idx\": 1521927360000, \"val\": 0.0}, {\"col\": \"Control\", \"idx\": 1521927420000, \"val\": 0.0}, {\"col\": \"Violence\", \"idx\": 1521927420000, \"val\": 0.0}, {\"col\": \"Beach\", \"idx\": 1521927420000, \"val\": 0.0}, {\"col\": \"Control\", \"idx\": 1521927480000, \"val\": 0.0}, {\"col\": \"Violence\", \"idx\": 1521927480000, \"val\": 0.0}, {\"col\": \"Beach\", \"idx\": 1521927480000, \"val\": 0.0}, {\"col\": \"Control\", \"idx\": 1521927540000, \"val\": 0.0}, {\"col\": \"Violence\", \"idx\": 1521927540000, \"val\": 0.0}, {\"col\": \"Beach\", \"idx\": 1521927540000, \"val\": 0.0}, {\"col\": \"Control\", \"idx\": 1521927600000, \"val\": 0.0}, {\"col\": \"Violence\", \"idx\": 1521927600000, \"val\": 0.0}, {\"col\": \"Beach\", \"idx\": 1521927600000, \"val\": 0.0}, {\"col\": \"Control\", \"idx\": 1521927660000, \"val\": 0.0}, {\"col\": \"Violence\", \"idx\": 1521927660000, \"val\": 0.0}, {\"col\": \"Beach\", \"idx\": 1521927660000, \"val\": 0.0}, {\"col\": \"Control\", \"idx\": 1521927720000, \"val\": 15.0}, {\"col\": \"Violence\", \"idx\": 1521927720000, \"val\": 20.0}, {\"col\": \"Beach\", \"idx\": 1521927720000, \"val\": 6.0}, {\"col\": \"Control\", \"idx\": 1521927780000, \"val\": 20.0}, {\"col\": \"Violence\", \"idx\": 1521927780000, \"val\": 17.0}, {\"col\": \"Beach\", \"idx\": 1521927780000, \"val\": 5.0}, {\"col\": \"Control\", \"idx\": 1521927840000, \"val\": 34.0}, {\"col\": \"Violence\", \"idx\": 1521927840000, \"val\": 28.0}, {\"col\": \"Beach\", \"idx\": 1521927840000, \"val\": 7.0}, {\"col\": \"Control\", \"idx\": 1521927900000, \"val\": 34.0}, {\"col\": \"Violence\", \"idx\": 1521927900000, \"val\": 30.0}, {\"col\": \"Beach\", \"idx\": 1521927900000, \"val\": 7.0}, {\"col\": \"Control\", \"idx\": 1521927960000, \"val\": 27.0}, {\"col\": \"Violence\", \"idx\": 1521927960000, \"val\": 18.0}, {\"col\": \"Beach\", \"idx\": 1521927960000, \"val\": 2.0}, {\"col\": \"Control\", \"idx\": 1521928020000, \"val\": 24.0}, {\"col\": \"Violence\", \"idx\": 1521928020000, \"val\": 18.0}, {\"col\": \"Beach\", \"idx\": 1521928020000, \"val\": 8.0}, {\"col\": \"Control\", \"idx\": 1521928080000, \"val\": 35.0}, {\"col\": \"Violence\", \"idx\": 1521928080000, \"val\": 29.0}, {\"col\": \"Beach\", \"idx\": 1521928080000, \"val\": 7.0}, {\"col\": \"Control\", \"idx\": 1521928140000, \"val\": 37.0}, {\"col\": \"Violence\", \"idx\": 1521928140000, \"val\": 25.0}, {\"col\": \"Beach\", \"idx\": 1521928140000, \"val\": 6.0}, {\"col\": \"Control\", \"idx\": 1521928200000, \"val\": 33.0}, {\"col\": \"Violence\", \"idx\": 1521928200000, \"val\": 21.0}, {\"col\": \"Beach\", \"idx\": 1521928200000, \"val\": 5.0}, {\"col\": \"Control\", \"idx\": 1521928260000, \"val\": 31.0}, {\"col\": \"Violence\", \"idx\": 1521928260000, \"val\": 28.0}, {\"col\": \"Beach\", \"idx\": 1521928260000, \"val\": 9.0}, {\"col\": \"Control\", \"idx\": 1521928320000, \"val\": 39.0}, {\"col\": \"Violence\", \"idx\": 1521928320000, \"val\": 30.0}, {\"col\": \"Beach\", \"idx\": 1521928320000, \"val\": 4.0}, {\"col\": \"Control\", \"idx\": 1521928380000, \"val\": 31.0}, {\"col\": \"Violence\", \"idx\": 1521928380000, \"val\": 22.0}, {\"col\": \"Beach\", \"idx\": 1521928380000, \"val\": 8.0}, {\"col\": \"Control\", \"idx\": 1521928440000, \"val\": 26.0}, {\"col\": \"Violence\", \"idx\": 1521928440000, \"val\": 24.0}, {\"col\": \"Beach\", \"idx\": 1521928440000, \"val\": 9.0}, {\"col\": \"Control\", \"idx\": 1521928500000, \"val\": 39.0}, {\"col\": \"Violence\", \"idx\": 1521928500000, \"val\": 21.0}, {\"col\": \"Beach\", \"idx\": 1521928500000, \"val\": 6.0}, {\"col\": \"Control\", \"idx\": 1521928560000, \"val\": 18.0}, {\"col\": \"Violence\", \"idx\": 1521928560000, \"val\": 30.0}, {\"col\": \"Beach\", \"idx\": 1521928560000, \"val\": 7.0}, {\"col\": \"Control\", \"idx\": 1521928620000, \"val\": 36.0}, {\"col\": \"Violence\", \"idx\": 1521928620000, \"val\": 24.0}, {\"col\": \"Beach\", \"idx\": 1521928620000, \"val\": 3.0}, {\"col\": \"Control\", \"idx\": 1521928680000, \"val\": 31.0}, {\"col\": \"Violence\", \"idx\": 1521928680000, \"val\": 42.0}, {\"col\": \"Beach\", \"idx\": 1521928680000, \"val\": 3.0}, {\"col\": \"Control\", \"idx\": 1521928740000, \"val\": 33.0}, {\"col\": \"Violence\", \"idx\": 1521928740000, \"val\": 26.0}, {\"col\": \"Beach\", \"idx\": 1521928740000, \"val\": 6.0}, {\"col\": \"Control\", \"idx\": 1521928800000, \"val\": 27.0}, {\"col\": \"Violence\", \"idx\": 1521928800000, \"val\": 22.0}, {\"col\": \"Beach\", \"idx\": 1521928800000, \"val\": 6.0}, {\"col\": \"Control\", \"idx\": 1521928860000, \"val\": 23.0}, {\"col\": \"Violence\", \"idx\": 1521928860000, \"val\": 26.0}, {\"col\": \"Beach\", \"idx\": 1521928860000, \"val\": 5.0}, {\"col\": \"Control\", \"idx\": 1521928920000, \"val\": 34.0}, {\"col\": \"Violence\", \"idx\": 1521928920000, \"val\": 23.0}, {\"col\": \"Beach\", \"idx\": 1521928920000, \"val\": 5.0}, {\"col\": \"Control\", \"idx\": 1521928980000, \"val\": 31.0}, {\"col\": \"Violence\", \"idx\": 1521928980000, \"val\": 22.0}, {\"col\": \"Beach\", \"idx\": 1521928980000, \"val\": 6.0}, {\"col\": \"Control\", \"idx\": 1521929040000, \"val\": 33.0}, {\"col\": \"Violence\", \"idx\": 1521929040000, \"val\": 17.0}, {\"col\": \"Beach\", \"idx\": 1521929040000, \"val\": 4.0}, {\"col\": \"Control\", \"idx\": 1521929100000, \"val\": 27.0}, {\"col\": \"Violence\", \"idx\": 1521929100000, \"val\": 27.0}, {\"col\": \"Beach\", \"idx\": 1521929100000, \"val\": 10.0}, {\"col\": \"Control\", \"idx\": 1521929160000, \"val\": 36.0}, {\"col\": \"Violence\", \"idx\": 1521929160000, \"val\": 23.0}, {\"col\": \"Beach\", \"idx\": 1521929160000, \"val\": 8.0}, {\"col\": \"Control\", \"idx\": 1521929220000, \"val\": 35.0}, {\"col\": \"Violence\", \"idx\": 1521929220000, \"val\": 17.0}, {\"col\": \"Beach\", \"idx\": 1521929220000, \"val\": 6.0}, {\"col\": \"Control\", \"idx\": 1521929280000, \"val\": 37.0}, {\"col\": \"Violence\", \"idx\": 1521929280000, \"val\": 23.0}, {\"col\": \"Beach\", \"idx\": 1521929280000, \"val\": 6.0}, {\"col\": \"Control\", \"idx\": 1521929340000, \"val\": 33.0}, {\"col\": \"Violence\", \"idx\": 1521929340000, \"val\": 11.0}, {\"col\": \"Beach\", \"idx\": 1521929340000, \"val\": 5.0}, {\"col\": \"Control\", \"idx\": 1521929400000, \"val\": 36.0}, {\"col\": \"Violence\", \"idx\": 1521929400000, \"val\": 17.0}, {\"col\": \"Beach\", \"idx\": 1521929400000, \"val\": 6.0}, {\"col\": \"Control\", \"idx\": 1521929460000, \"val\": 23.0}, {\"col\": \"Violence\", \"idx\": 1521929460000, \"val\": 19.0}, {\"col\": \"Beach\", \"idx\": 1521929460000, \"val\": 6.0}, {\"col\": \"Control\", \"idx\": 1521929520000, \"val\": 33.0}, {\"col\": \"Violence\", \"idx\": 1521929520000, \"val\": 17.0}, {\"col\": \"Beach\", \"idx\": 1521929520000, \"val\": 4.0}, {\"col\": \"Control\", \"idx\": 1521929580000, \"val\": 28.0}, {\"col\": \"Violence\", \"idx\": 1521929580000, \"val\": 22.0}, {\"col\": \"Beach\", \"idx\": 1521929580000, \"val\": 9.0}, {\"col\": \"Control\", \"idx\": 1521929640000, \"val\": 32.0}, {\"col\": \"Violence\", \"idx\": 1521929640000, \"val\": 18.0}, {\"col\": \"Beach\", \"idx\": 1521929640000, \"val\": 6.0}, {\"col\": \"Control\", \"idx\": 1521929700000, \"val\": 29.0}, {\"col\": \"Violence\", \"idx\": 1521929700000, \"val\": 14.0}, {\"col\": \"Beach\", \"idx\": 1521929700000, \"val\": 5.0}, {\"col\": \"Control\", \"idx\": 1521929760000, \"val\": 38.0}, {\"col\": \"Violence\", \"idx\": 1521929760000, \"val\": 17.0}, {\"col\": \"Beach\", \"idx\": 1521929760000, \"val\": 5.0}, {\"col\": \"Control\", \"idx\": 1521929820000, \"val\": 21.0}, {\"col\": \"Violence\", \"idx\": 1521929820000, \"val\": 15.0}, {\"col\": \"Beach\", \"idx\": 1521929820000, \"val\": 3.0}, {\"col\": \"Control\", \"idx\": 1521929880000, \"val\": 35.0}, {\"col\": \"Violence\", \"idx\": 1521929880000, \"val\": 12.0}, {\"col\": \"Beach\", \"idx\": 1521929880000, \"val\": 3.0}, {\"col\": \"Control\", \"idx\": 1521929940000, \"val\": 28.0}, {\"col\": \"Violence\", \"idx\": 1521929940000, \"val\": 26.0}, {\"col\": \"Beach\", \"idx\": 1521929940000, \"val\": 10.0}, {\"col\": \"Control\", \"idx\": 1521930000000, \"val\": 37.0}, {\"col\": \"Violence\", \"idx\": 1521930000000, \"val\": 30.0}, {\"col\": \"Beach\", \"idx\": 1521930000000, \"val\": 8.0}, {\"col\": \"Control\", \"idx\": 1521930060000, \"val\": 26.0}, {\"col\": \"Violence\", \"idx\": 1521930060000, \"val\": 19.0}, {\"col\": \"Beach\", \"idx\": 1521930060000, \"val\": 6.0}, {\"col\": \"Control\", \"idx\": 1521930120000, \"val\": 41.0}, {\"col\": \"Violence\", \"idx\": 1521930120000, \"val\": 20.0}, {\"col\": \"Beach\", \"idx\": 1521930120000, \"val\": 7.0}, {\"col\": \"Control\", \"idx\": 1521930180000, \"val\": 33.0}, {\"col\": \"Violence\", \"idx\": 1521930180000, \"val\": 18.0}, {\"col\": \"Beach\", \"idx\": 1521930180000, \"val\": 6.0}, {\"col\": \"Control\", \"idx\": 1521930240000, \"val\": 46.0}, {\"col\": \"Violence\", \"idx\": 1521930240000, \"val\": 13.0}, {\"col\": \"Beach\", \"idx\": 1521930240000, \"val\": 2.0}, {\"col\": \"Control\", \"idx\": 1521930300000, \"val\": 40.0}, {\"col\": \"Violence\", \"idx\": 1521930300000, \"val\": 22.0}, {\"col\": \"Beach\", \"idx\": 1521930300000, \"val\": 8.0}, {\"col\": \"Control\", \"idx\": 1521930360000, \"val\": 37.0}, {\"col\": \"Violence\", \"idx\": 1521930360000, \"val\": 21.0}, {\"col\": \"Beach\", \"idx\": 1521930360000, \"val\": 6.0}, {\"col\": \"Control\", \"idx\": 1521930420000, \"val\": 36.0}, {\"col\": \"Violence\", \"idx\": 1521930420000, \"val\": 10.0}, {\"col\": \"Beach\", \"idx\": 1521930420000, \"val\": 2.0}, {\"col\": \"Control\", \"idx\": 1521930480000, \"val\": 35.0}, {\"col\": \"Violence\", \"idx\": 1521930480000, \"val\": 15.0}, {\"col\": \"Beach\", \"idx\": 1521930480000, \"val\": 5.0}, {\"col\": \"Control\", \"idx\": 1521930540000, \"val\": 38.0}, {\"col\": \"Violence\", \"idx\": 1521930540000, \"val\": 17.0}, {\"col\": \"Beach\", \"idx\": 1521930540000, \"val\": 8.0}, {\"col\": \"Control\", \"idx\": 1521930600000, \"val\": 49.0}, {\"col\": \"Violence\", \"idx\": 1521930600000, \"val\": 24.0}, {\"col\": \"Beach\", \"idx\": 1521930600000, \"val\": 5.0}, {\"col\": \"Control\", \"idx\": 1521930660000, \"val\": 30.0}, {\"col\": \"Violence\", \"idx\": 1521930660000, \"val\": 11.0}, {\"col\": \"Beach\", \"idx\": 1521930660000, \"val\": 6.0}, {\"col\": \"Control\", \"idx\": 1521930720000, \"val\": 41.0}, {\"col\": \"Violence\", \"idx\": 1521930720000, \"val\": 16.0}, {\"col\": \"Beach\", \"idx\": 1521930720000, \"val\": 7.0}, {\"col\": \"Control\", \"idx\": 1521930780000, \"val\": 38.0}, {\"col\": \"Violence\", \"idx\": 1521930780000, \"val\": 17.0}, {\"col\": \"Beach\", \"idx\": 1521930780000, \"val\": 3.0}, {\"col\": \"Control\", \"idx\": 1521930840000, \"val\": 32.0}, {\"col\": \"Violence\", \"idx\": 1521930840000, \"val\": 18.0}, {\"col\": \"Beach\", \"idx\": 1521930840000, \"val\": 5.0}, {\"col\": \"Control\", \"idx\": 1521930900000, \"val\": 40.0}, {\"col\": \"Violence\", \"idx\": 1521930900000, \"val\": 14.0}, {\"col\": \"Beach\", \"idx\": 1521930900000, \"val\": 2.0}, {\"col\": \"Control\", \"idx\": 1521930960000, \"val\": 43.0}, {\"col\": \"Violence\", \"idx\": 1521930960000, \"val\": 16.0}, {\"col\": \"Beach\", \"idx\": 1521930960000, \"val\": 0.0}, {\"col\": \"Control\", \"idx\": 1521931020000, \"val\": 25.0}, {\"col\": \"Violence\", \"idx\": 1521931020000, \"val\": 21.0}, {\"col\": \"Beach\", \"idx\": 1521931020000, \"val\": 5.0}, {\"col\": \"Control\", \"idx\": 1521931080000, \"val\": 38.0}, {\"col\": \"Violence\", \"idx\": 1521931080000, \"val\": 17.0}, {\"col\": \"Beach\", \"idx\": 1521931080000, \"val\": 5.0}, {\"col\": \"Control\", \"idx\": 1521931140000, \"val\": 30.0}, {\"col\": \"Violence\", \"idx\": 1521931140000, \"val\": 23.0}, {\"col\": \"Beach\", \"idx\": 1521931140000, \"val\": 8.0}, {\"col\": \"Control\", \"idx\": 1521931200000, \"val\": 32.0}, {\"col\": \"Violence\", \"idx\": 1521931200000, \"val\": 22.0}, {\"col\": \"Beach\", \"idx\": 1521931200000, \"val\": 5.0}, {\"col\": \"Control\", \"idx\": 1521931260000, \"val\": 32.0}, {\"col\": \"Violence\", \"idx\": 1521931260000, \"val\": 23.0}, {\"col\": \"Beach\", \"idx\": 1521931260000, \"val\": 3.0}, {\"col\": \"Control\", \"idx\": 1521931320000, \"val\": 35.0}, {\"col\": \"Violence\", \"idx\": 1521931320000, \"val\": 20.0}, {\"col\": \"Beach\", \"idx\": 1521931320000, \"val\": 5.0}, {\"col\": \"Control\", \"idx\": 1521931380000, \"val\": 30.0}, {\"col\": \"Violence\", \"idx\": 1521931380000, \"val\": 18.0}, {\"col\": \"Beach\", \"idx\": 1521931380000, \"val\": 4.0}, {\"col\": \"Control\", \"idx\": 1521931440000, \"val\": 29.0}, {\"col\": \"Violence\", \"idx\": 1521931440000, \"val\": 13.0}, {\"col\": \"Beach\", \"idx\": 1521931440000, \"val\": 6.0}, {\"col\": \"Control\", \"idx\": 1521931500000, \"val\": 35.0}, {\"col\": \"Violence\", \"idx\": 1521931500000, \"val\": 10.0}, {\"col\": \"Beach\", \"idx\": 1521931500000, \"val\": 2.0}, {\"col\": \"Control\", \"idx\": 1521931560000, \"val\": 29.0}, {\"col\": \"Violence\", \"idx\": 1521931560000, \"val\": 13.0}, {\"col\": \"Beach\", \"idx\": 1521931560000, \"val\": 2.0}, {\"col\": \"Control\", \"idx\": 1521931620000, \"val\": 35.0}, {\"col\": \"Violence\", \"idx\": 1521931620000, \"val\": 16.0}, {\"col\": \"Beach\", \"idx\": 1521931620000, \"val\": 5.0}, {\"col\": \"Control\", \"idx\": 1521931680000, \"val\": 58.0}, {\"col\": \"Violence\", \"idx\": 1521931680000, \"val\": 17.0}, {\"col\": \"Beach\", \"idx\": 1521931680000, \"val\": 3.0}, {\"col\": \"Control\", \"idx\": 1521931740000, \"val\": 48.0}, {\"col\": \"Violence\", \"idx\": 1521931740000, \"val\": 15.0}, {\"col\": \"Beach\", \"idx\": 1521931740000, \"val\": 2.0}, {\"col\": \"Control\", \"idx\": 1521931800000, \"val\": 53.0}, {\"col\": \"Violence\", \"idx\": 1521931800000, \"val\": 19.0}, {\"col\": \"Beach\", \"idx\": 1521931800000, \"val\": 4.0}, {\"col\": \"Control\", \"idx\": 1521931860000, \"val\": 66.0}, {\"col\": \"Violence\", \"idx\": 1521931860000, \"val\": 13.0}, {\"col\": \"Beach\", \"idx\": 1521931860000, \"val\": 3.0}, {\"col\": \"Control\", \"idx\": 1521931920000, \"val\": 74.0}, {\"col\": \"Violence\", \"idx\": 1521931920000, \"val\": 17.0}, {\"col\": \"Beach\", \"idx\": 1521931920000, \"val\": 6.0}, {\"col\": \"Control\", \"idx\": 1521931980000, \"val\": 88.0}, {\"col\": \"Violence\", \"idx\": 1521931980000, \"val\": 9.0}, {\"col\": \"Beach\", \"idx\": 1521931980000, \"val\": 5.0}, {\"col\": \"Control\", \"idx\": 1521932040000, \"val\": 14.0}, {\"col\": \"Violence\", \"idx\": 1521932040000, \"val\": 2.0}, {\"col\": \"Beach\", \"idx\": 1521932040000, \"val\": 0.0}, {\"col\": \"Control\", \"idx\": 1521932100000, \"val\": 0.0}, {\"col\": \"Violence\", \"idx\": 1521932100000, \"val\": 0.0}, {\"col\": \"Beach\", \"idx\": 1521932100000, \"val\": 0.0}, {\"col\": \"Control\", \"idx\": 1521932160000, \"val\": 0.0}, {\"col\": \"Violence\", \"idx\": 1521932160000, \"val\": 0.0}, {\"col\": \"Beach\", \"idx\": 1521932160000, \"val\": 0.0}, {\"col\": \"Control\", \"idx\": 1521932220000, \"val\": 0.0}, {\"col\": \"Violence\", \"idx\": 1521932220000, \"val\": 0.0}, {\"col\": \"Beach\", \"idx\": 1521932220000, \"val\": 0.0}, {\"col\": \"Control\", \"idx\": 1521932280000, \"val\": 0.0}, {\"col\": \"Violence\", \"idx\": 1521932280000, \"val\": 0.0}, {\"col\": \"Beach\", \"idx\": 1521932280000, \"val\": 0.0}, {\"col\": \"Control\", \"idx\": 1521932340000, \"val\": 0.0}, {\"col\": \"Violence\", \"idx\": 1521932340000, \"val\": 0.0}, {\"col\": \"Beach\", \"idx\": 1521932340000, \"val\": 0.0}, {\"col\": \"Control\", \"idx\": 1521932400000, \"val\": 0.0}, {\"col\": \"Violence\", \"idx\": 1521932400000, \"val\": 0.0}, {\"col\": \"Beach\", \"idx\": 1521932400000, \"val\": 0.0}, {\"col\": \"Control\", \"idx\": 1521932460000, \"val\": 0.0}, {\"col\": \"Violence\", \"idx\": 1521932460000, \"val\": 0.0}, {\"col\": \"Beach\", \"idx\": 1521932460000, \"val\": 0.0}, {\"col\": \"Control\", \"idx\": 1521932520000, \"val\": 0.0}, {\"col\": \"Violence\", \"idx\": 1521932520000, \"val\": 0.0}, {\"col\": \"Beach\", \"idx\": 1521932520000, \"val\": 0.0}, {\"col\": \"Control\", \"idx\": 1521932580000, \"val\": 0.0}, {\"col\": \"Violence\", \"idx\": 1521932580000, \"val\": 0.0}, {\"col\": \"Beach\", \"idx\": 1521932580000, \"val\": 0.0}, {\"col\": \"Control\", \"idx\": 1521932640000, \"val\": 0.0}, {\"col\": \"Violence\", \"idx\": 1521932640000, \"val\": 0.0}, {\"col\": \"Beach\", \"idx\": 1521932640000, \"val\": 0.0}, {\"col\": \"Control\", \"idx\": 1521932700000, \"val\": 0.0}, {\"col\": \"Violence\", \"idx\": 1521932700000, \"val\": 0.0}, {\"col\": \"Beach\", \"idx\": 1521932700000, \"val\": 0.0}, {\"col\": \"Control\", \"idx\": 1521932760000, \"val\": 0.0}, {\"col\": \"Violence\", \"idx\": 1521932760000, \"val\": 0.0}, {\"col\": \"Beach\", \"idx\": 1521932760000, \"val\": 0.0}, {\"col\": \"Control\", \"idx\": 1521932820000, \"val\": 0.0}, {\"col\": \"Violence\", \"idx\": 1521932820000, \"val\": 0.0}, {\"col\": \"Beach\", \"idx\": 1521932820000, \"val\": 0.0}, {\"col\": \"Control\", \"idx\": 1521932880000, \"val\": 0.0}, {\"col\": \"Violence\", \"idx\": 1521932880000, \"val\": 0.0}, {\"col\": \"Beach\", \"idx\": 1521932880000, \"val\": 0.0}, {\"col\": \"Control\", \"idx\": 1521932940000, \"val\": 0.0}, {\"col\": \"Violence\", \"idx\": 1521932940000, \"val\": 0.0}, {\"col\": \"Beach\", \"idx\": 1521932940000, \"val\": 0.0}, {\"col\": \"Control\", \"idx\": 1521933000000, \"val\": 0.0}, {\"col\": \"Violence\", \"idx\": 1521933000000, \"val\": 0.0}, {\"col\": \"Beach\", \"idx\": 1521933000000, \"val\": 0.0}, {\"col\": \"Control\", \"idx\": 1521933060000, \"val\": 0.0}, {\"col\": \"Violence\", \"idx\": 1521933060000, \"val\": 0.0}, {\"col\": \"Beach\", \"idx\": 1521933060000, \"val\": 0.0}, {\"col\": \"Control\", \"idx\": 1521933120000, \"val\": 0.0}, {\"col\": \"Violence\", \"idx\": 1521933120000, \"val\": 0.0}, {\"col\": \"Beach\", \"idx\": 1521933120000, \"val\": 0.0}, {\"col\": \"Control\", \"idx\": 1521933180000, \"val\": 0.0}, {\"col\": \"Violence\", \"idx\": 1521933180000, \"val\": 0.0}, {\"col\": \"Beach\", \"idx\": 1521933180000, \"val\": 0.0}, {\"col\": \"Control\", \"idx\": 1521933240000, \"val\": 0.0}, {\"col\": \"Violence\", \"idx\": 1521933240000, \"val\": 0.0}, {\"col\": \"Beach\", \"idx\": 1521933240000, \"val\": 0.0}, {\"col\": \"Control\", \"idx\": 1521933300000, \"val\": 0.0}, {\"col\": \"Violence\", \"idx\": 1521933300000, \"val\": 0.0}, {\"col\": \"Beach\", \"idx\": 1521933300000, \"val\": 0.0}, {\"col\": \"Control\", \"idx\": 1521933360000, \"val\": 0.0}, {\"col\": \"Violence\", \"idx\": 1521933360000, \"val\": 0.0}, {\"col\": \"Beach\", \"idx\": 1521933360000, \"val\": 0.0}, {\"col\": \"Control\", \"idx\": 1521933420000, \"val\": 0.0}, {\"col\": \"Violence\", \"idx\": 1521933420000, \"val\": 0.0}, {\"col\": \"Beach\", \"idx\": 1521933420000, \"val\": 0.0}, {\"col\": \"Control\", \"idx\": 1521933480000, \"val\": 0.0}, {\"col\": \"Violence\", \"idx\": 1521933480000, \"val\": 0.0}, {\"col\": \"Beach\", \"idx\": 1521933480000, \"val\": 0.0}, {\"col\": \"Control\", \"idx\": 1521933540000, \"val\": 0.0}, {\"col\": \"Violence\", \"idx\": 1521933540000, \"val\": 0.0}, {\"col\": \"Beach\", \"idx\": 1521933540000, \"val\": 0.0}, {\"col\": \"Control\", \"idx\": 1521933600000, \"val\": 38.0}, {\"col\": \"Violence\", \"idx\": 1521933600000, \"val\": 8.0}, {\"col\": \"Beach\", \"idx\": 1521933600000, \"val\": 4.0}, {\"col\": \"Control\", \"idx\": 1521933660000, \"val\": 41.0}, {\"col\": \"Violence\", \"idx\": 1521933660000, \"val\": 22.0}, {\"col\": \"Beach\", \"idx\": 1521933660000, \"val\": 13.0}, {\"col\": \"Control\", \"idx\": 1521933720000, \"val\": 47.0}, {\"col\": \"Violence\", \"idx\": 1521933720000, \"val\": 8.0}, {\"col\": \"Beach\", \"idx\": 1521933720000, \"val\": 1.0}, {\"col\": \"Control\", \"idx\": 1521933780000, \"val\": 40.0}, {\"col\": \"Violence\", \"idx\": 1521933780000, \"val\": 9.0}, {\"col\": \"Beach\", \"idx\": 1521933780000, \"val\": 0.0}, {\"col\": \"Control\", \"idx\": 1521933840000, \"val\": 49.0}, {\"col\": \"Violence\", \"idx\": 1521933840000, \"val\": 9.0}, {\"col\": \"Beach\", \"idx\": 1521933840000, \"val\": 5.0}, {\"col\": \"Control\", \"idx\": 1521933900000, \"val\": 33.0}, {\"col\": \"Violence\", \"idx\": 1521933900000, \"val\": 11.0}, {\"col\": \"Beach\", \"idx\": 1521933900000, \"val\": 3.0}, {\"col\": \"Control\", \"idx\": 1521933960000, \"val\": 40.0}, {\"col\": \"Violence\", \"idx\": 1521933960000, \"val\": 17.0}, {\"col\": \"Beach\", \"idx\": 1521933960000, \"val\": 8.0}, {\"col\": \"Control\", \"idx\": 1521934020000, \"val\": 35.0}, {\"col\": \"Violence\", \"idx\": 1521934020000, \"val\": 8.0}, {\"col\": \"Beach\", \"idx\": 1521934020000, \"val\": 2.0}, {\"col\": \"Control\", \"idx\": 1521934080000, \"val\": 45.0}, {\"col\": \"Violence\", \"idx\": 1521934080000, \"val\": 21.0}, {\"col\": \"Beach\", \"idx\": 1521934080000, \"val\": 9.0}, {\"col\": \"Control\", \"idx\": 1521934140000, \"val\": 44.0}, {\"col\": \"Violence\", \"idx\": 1521934140000, \"val\": 14.0}, {\"col\": \"Beach\", \"idx\": 1521934140000, \"val\": 3.0}, {\"col\": \"Control\", \"idx\": 1521934200000, \"val\": 40.0}, {\"col\": \"Violence\", \"idx\": 1521934200000, \"val\": 8.0}, {\"col\": \"Beach\", \"idx\": 1521934200000, \"val\": 3.0}, {\"col\": \"Control\", \"idx\": 1521934260000, \"val\": 47.0}, {\"col\": \"Violence\", \"idx\": 1521934260000, \"val\": 7.0}, {\"col\": \"Beach\", \"idx\": 1521934260000, \"val\": 2.0}, {\"col\": \"Control\", \"idx\": 1521934320000, \"val\": 38.0}, {\"col\": \"Violence\", \"idx\": 1521934320000, \"val\": 14.0}, {\"col\": \"Beach\", \"idx\": 1521934320000, \"val\": 3.0}, {\"col\": \"Control\", \"idx\": 1521934380000, \"val\": 52.0}, {\"col\": \"Violence\", \"idx\": 1521934380000, \"val\": 16.0}, {\"col\": \"Beach\", \"idx\": 1521934380000, \"val\": 4.0}, {\"col\": \"Control\", \"idx\": 1521934440000, \"val\": 45.0}, {\"col\": \"Violence\", \"idx\": 1521934440000, \"val\": 15.0}, {\"col\": \"Beach\", \"idx\": 1521934440000, \"val\": 3.0}, {\"col\": \"Control\", \"idx\": 1521934500000, \"val\": 43.0}, {\"col\": \"Violence\", \"idx\": 1521934500000, \"val\": 10.0}, {\"col\": \"Beach\", \"idx\": 1521934500000, \"val\": 3.0}, {\"col\": \"Control\", \"idx\": 1521934560000, \"val\": 61.0}, {\"col\": \"Violence\", \"idx\": 1521934560000, \"val\": 9.0}, {\"col\": \"Beach\", \"idx\": 1521934560000, \"val\": 5.0}, {\"col\": \"Control\", \"idx\": 1521934620000, \"val\": 50.0}, {\"col\": \"Violence\", \"idx\": 1521934620000, \"val\": 18.0}, {\"col\": \"Beach\", \"idx\": 1521934620000, \"val\": 6.0}, {\"col\": \"Control\", \"idx\": 1521934680000, \"val\": 41.0}, {\"col\": \"Violence\", \"idx\": 1521934680000, \"val\": 13.0}, {\"col\": \"Beach\", \"idx\": 1521934680000, \"val\": 3.0}, {\"col\": \"Control\", \"idx\": 1521934740000, \"val\": 36.0}, {\"col\": \"Violence\", \"idx\": 1521934740000, \"val\": 10.0}, {\"col\": \"Beach\", \"idx\": 1521934740000, \"val\": 2.0}, {\"col\": \"Control\", \"idx\": 1521934800000, \"val\": 36.0}, {\"col\": \"Violence\", \"idx\": 1521934800000, \"val\": 17.0}, {\"col\": \"Beach\", \"idx\": 1521934800000, \"val\": 4.0}, {\"col\": \"Control\", \"idx\": 1521934860000, \"val\": 48.0}, {\"col\": \"Violence\", \"idx\": 1521934860000, \"val\": 21.0}, {\"col\": \"Beach\", \"idx\": 1521934860000, \"val\": 7.0}, {\"col\": \"Control\", \"idx\": 1521934920000, \"val\": 46.0}, {\"col\": \"Violence\", \"idx\": 1521934920000, \"val\": 18.0}, {\"col\": \"Beach\", \"idx\": 1521934920000, \"val\": 4.0}, {\"col\": \"Control\", \"idx\": 1521934980000, \"val\": 54.0}, {\"col\": \"Violence\", \"idx\": 1521934980000, \"val\": 9.0}, {\"col\": \"Beach\", \"idx\": 1521934980000, \"val\": 4.0}, {\"col\": \"Control\", \"idx\": 1521935040000, \"val\": 53.0}, {\"col\": \"Violence\", \"idx\": 1521935040000, \"val\": 18.0}, {\"col\": \"Beach\", \"idx\": 1521935040000, \"val\": 3.0}, {\"col\": \"Control\", \"idx\": 1521935100000, \"val\": 43.0}, {\"col\": \"Violence\", \"idx\": 1521935100000, \"val\": 21.0}, {\"col\": \"Beach\", \"idx\": 1521935100000, \"val\": 6.0}, {\"col\": \"Control\", \"idx\": 1521935160000, \"val\": 54.0}, {\"col\": \"Violence\", \"idx\": 1521935160000, \"val\": 12.0}, {\"col\": \"Beach\", \"idx\": 1521935160000, \"val\": 3.0}, {\"col\": \"Control\", \"idx\": 1521935220000, \"val\": 39.0}, {\"col\": \"Violence\", \"idx\": 1521935220000, \"val\": 15.0}, {\"col\": \"Beach\", \"idx\": 1521935220000, \"val\": 4.0}, {\"col\": \"Control\", \"idx\": 1521935280000, \"val\": 40.0}, {\"col\": \"Violence\", \"idx\": 1521935280000, \"val\": 6.0}, {\"col\": \"Beach\", \"idx\": 1521935280000, \"val\": 0.0}, {\"col\": \"Control\", \"idx\": 1521935340000, \"val\": 50.0}, {\"col\": \"Violence\", \"idx\": 1521935340000, \"val\": 10.0}, {\"col\": \"Beach\", \"idx\": 1521935340000, \"val\": 0.0}, {\"col\": \"Control\", \"idx\": 1521935400000, \"val\": 38.0}, {\"col\": \"Violence\", \"idx\": 1521935400000, \"val\": 15.0}, {\"col\": \"Beach\", \"idx\": 1521935400000, \"val\": 3.0}, {\"col\": \"Control\", \"idx\": 1521935460000, \"val\": 37.0}, {\"col\": \"Violence\", \"idx\": 1521935460000, \"val\": 12.0}, {\"col\": \"Beach\", \"idx\": 1521935460000, \"val\": 2.0}, {\"col\": \"Control\", \"idx\": 1521935520000, \"val\": 39.0}, {\"col\": \"Violence\", \"idx\": 1521935520000, \"val\": 14.0}, {\"col\": \"Beach\", \"idx\": 1521935520000, \"val\": 6.0}, {\"col\": \"Control\", \"idx\": 1521935580000, \"val\": 36.0}, {\"col\": \"Violence\", \"idx\": 1521935580000, \"val\": 11.0}, {\"col\": \"Beach\", \"idx\": 1521935580000, \"val\": 5.0}, {\"col\": \"Control\", \"idx\": 1521935640000, \"val\": 46.0}, {\"col\": \"Violence\", \"idx\": 1521935640000, \"val\": 22.0}, {\"col\": \"Beach\", \"idx\": 1521935640000, \"val\": 8.0}, {\"col\": \"Control\", \"idx\": 1521935700000, \"val\": 23.0}, {\"col\": \"Violence\", \"idx\": 1521935700000, \"val\": 15.0}, {\"col\": \"Beach\", \"idx\": 1521935700000, \"val\": 5.0}]}], \"height\": 500, \"legends\": [{\"fill\": \"color\", \"offset\": 0, \"properties\": {}, \"title\": \"Top 4 to 6 Most popular hashtags\"}], \"marks\": [{\"from\": {\"data\": \"table\", \"transform\": [{\"keys\": [\"data.col\"], \"type\": \"facet\"}]}, \"marks\": [{\"properties\": {\"enter\": {\"stroke\": {\"field\": \"data.col\", \"scale\": \"color\"}, \"strokeWidth\": {\"value\": 2}, \"x\": {\"field\": \"data.idx\", \"scale\": \"x\"}, \"y\": {\"field\": \"data.val\", \"scale\": \"y\"}}}, \"type\": \"line\"}], \"type\": \"group\"}], \"padding\": \"auto\", \"scales\": [{\"domain\": {\"data\": \"table\", \"field\": \"data.idx\"}, \"name\": \"x\", \"range\": \"width\", \"type\": \"time\"}, {\"domain\": {\"data\": \"table\", \"field\": \"data.val\"}, \"name\": \"y\", \"nice\": true, \"range\": \"height\"}, {\"domain\": {\"data\": \"table\", \"field\": \"data.col\"}, \"name\": \"color\", \"range\": \"category20\", \"type\": \"ordinal\"}], \"width\": 960}, function(chart) {\n",
       "         chart({el: \"#vis71e0ad973448462ebf12962d6e498ea4\"}).update();\n",
       "       });\n",
       "     };\n",
       "     _do_plot();\n",
       "   })();\n",
       "</script>\n",
       "<style>.vega canvas {width: 100%;}</style>\n",
       "        "
      ],
      "text/plain": [
       "<IPython.core.display.HTML object>"
      ]
     },
     "metadata": {},
     "output_type": "display_data"
    }
   ],
   "source": [
    "#Visualize and comparing the frequencies of the next 3 of the most popular hashtags during the data collection time\n",
    "time_chart_next3 = vincent.Line(all_matches[['Control', 'Violence', 'Beach']])\n",
    "time_chart_next3.axis_titles(x='Time', y='Freq')\n",
    "time_chart_next3.legend(title='Top 4 to 6 Most popular hashtags')\n",
    "time_chart_next3.display()"
   ]
  },
  {
   "cell_type": "code",
   "execution_count": null,
   "metadata": {},
   "outputs": [],
   "source": [
    "df4.loc[:,'processed_location'] = df4.loc[:,'location'].apply(lambda x: emoji_pattern.sub(r'', x))\n",
    "hashtag = re.compile(r'(?:\\#+[\\w_]+[\\w\\'_\\-]*[\\w_]+)')\n",
    "number = re.compile(r'(?:(?:\\d+,?)+(?:\\.?\\d+)?)')\n",
    "\n",
    "df4.loc[:,'processed_location2'] = df4.loc[:,'processed_location'].apply(lambda x: hashtag.sub(r'', x))\n",
    "df4.loc[:,'processed_location3'] = df4.loc[:, 'processed_location2'].apply(lambda x: number.sub(r'', x))\n",
    "df4 = df4.drop(['processed_location2', 'processed_location'], axis=1)"
   ]
  },
  {
   "cell_type": "code",
   "execution_count": 46,
   "metadata": {},
   "outputs": [],
   "source": [
    "df4['clean_states'] = df4['processed_location3'].apply(lambda x: re.findall(r'[\\w+],\\s(\\w+[\\s|\\.]*\\w+)', x))"
   ]
  },
  {
   "cell_type": "code",
   "execution_count": 47,
   "metadata": {},
   "outputs": [],
   "source": [
    "df4['clean_states2'] = df4['processed_location3'].apply(lambda x : re.findall(r'(\\w+[\\s]*[\\w+]+), USA', x))"
   ]
  },
  {
   "cell_type": "code",
   "execution_count": 48,
   "metadata": {},
   "outputs": [],
   "source": [
    "df4.to_csv('location.csv')"
   ]
  },
  {
   "cell_type": "code",
   "execution_count": 49,
   "metadata": {},
   "outputs": [],
   "source": [
    "#rename locations taken from time_zone ex) Eastern Time (US & Canada) -> US & Canada EastCoast etc "
   ]
  },
  {
   "cell_type": "code",
   "execution_count": null,
   "metadata": {},
   "outputs": [],
   "source": []
  },
  {
   "cell_type": "code",
   "execution_count": null,
   "metadata": {},
   "outputs": [],
   "source": []
  },
  {
   "cell_type": "code",
   "execution_count": null,
   "metadata": {},
   "outputs": [],
   "source": []
  },
  {
   "cell_type": "code",
   "execution_count": null,
   "metadata": {},
   "outputs": [],
   "source": []
  }
 ],
 "metadata": {
  "kernelspec": {
   "display_name": "Python [conda env:twitter]",
   "language": "python",
   "name": "conda-env-twitter-py"
  },
  "language_info": {
   "codemirror_mode": {
    "name": "ipython",
    "version": 3
   },
   "file_extension": ".py",
   "mimetype": "text/x-python",
   "name": "python",
   "nbconvert_exporter": "python",
   "pygments_lexer": "ipython3",
   "version": "3.6.4"
  }
 },
 "nbformat": 4,
 "nbformat_minor": 2
}
